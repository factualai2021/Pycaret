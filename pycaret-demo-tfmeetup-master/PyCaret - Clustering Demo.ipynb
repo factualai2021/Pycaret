{
 "cells": [
  {
   "cell_type": "markdown",
   "metadata": {},
   "source": [
    "# Installation"
   ]
  },
  {
   "cell_type": "code",
   "execution_count": null,
   "metadata": {},
   "outputs": [],
   "source": [
    "# run this cell to install pycaret in Google Colab\n",
    "# !pip install pycaret"
   ]
  },
  {
   "cell_type": "code",
   "execution_count": null,
   "metadata": {},
   "outputs": [],
   "source": [
    "# If you are using Jupyter notebook, you can pip install pycaret using jupyter notebook or command line\n",
    "# pip install pycaret"
   ]
  },
  {
   "cell_type": "code",
   "execution_count": 1,
   "metadata": {},
   "outputs": [
    {
     "name": "stdout",
     "output_type": "stream",
     "text": [
      "1.0.0\n"
     ]
    }
   ],
   "source": [
    "from pycaret.utils import version\n",
    "version()"
   ]
  },
  {
   "cell_type": "code",
   "execution_count": null,
   "metadata": {},
   "outputs": [],
   "source": [
    "# only run this cell if you are using google colab\n",
    "# from pycaret.utils import enable_colab\n",
    "# enable_colab()"
   ]
  },
  {
   "cell_type": "markdown",
   "metadata": {},
   "source": [
    "# 1. Importing Dataset"
   ]
  },
  {
   "cell_type": "code",
   "execution_count": 2,
   "metadata": {},
   "outputs": [
    {
     "data": {
      "text/html": [
       "<div>\n",
       "<style scoped>\n",
       "    .dataframe tbody tr th:only-of-type {\n",
       "        vertical-align: middle;\n",
       "    }\n",
       "\n",
       "    .dataframe tbody tr th {\n",
       "        vertical-align: top;\n",
       "    }\n",
       "\n",
       "    .dataframe thead th {\n",
       "        text-align: right;\n",
       "    }\n",
       "</style>\n",
       "<table border=\"1\" class=\"dataframe\">\n",
       "  <thead>\n",
       "    <tr style=\"text-align: right;\">\n",
       "      <th></th>\n",
       "      <th>country</th>\n",
       "      <th>child_mort</th>\n",
       "      <th>exports</th>\n",
       "      <th>health</th>\n",
       "      <th>imports</th>\n",
       "      <th>income</th>\n",
       "      <th>inflation</th>\n",
       "      <th>life_expec</th>\n",
       "      <th>total_fer</th>\n",
       "      <th>gdpp</th>\n",
       "    </tr>\n",
       "  </thead>\n",
       "  <tbody>\n",
       "    <tr>\n",
       "      <th>0</th>\n",
       "      <td>Afghanistan</td>\n",
       "      <td>90.2</td>\n",
       "      <td>10.0</td>\n",
       "      <td>7.58</td>\n",
       "      <td>44.9</td>\n",
       "      <td>1610</td>\n",
       "      <td>9.44</td>\n",
       "      <td>56.2</td>\n",
       "      <td>5.82</td>\n",
       "      <td>553</td>\n",
       "    </tr>\n",
       "    <tr>\n",
       "      <th>1</th>\n",
       "      <td>Albania</td>\n",
       "      <td>16.6</td>\n",
       "      <td>28.0</td>\n",
       "      <td>6.55</td>\n",
       "      <td>48.6</td>\n",
       "      <td>9930</td>\n",
       "      <td>4.49</td>\n",
       "      <td>76.3</td>\n",
       "      <td>1.65</td>\n",
       "      <td>4090</td>\n",
       "    </tr>\n",
       "    <tr>\n",
       "      <th>2</th>\n",
       "      <td>Algeria</td>\n",
       "      <td>27.3</td>\n",
       "      <td>38.4</td>\n",
       "      <td>4.17</td>\n",
       "      <td>31.4</td>\n",
       "      <td>12900</td>\n",
       "      <td>16.10</td>\n",
       "      <td>76.5</td>\n",
       "      <td>2.89</td>\n",
       "      <td>4460</td>\n",
       "    </tr>\n",
       "    <tr>\n",
       "      <th>3</th>\n",
       "      <td>Angola</td>\n",
       "      <td>119.0</td>\n",
       "      <td>62.3</td>\n",
       "      <td>2.85</td>\n",
       "      <td>42.9</td>\n",
       "      <td>5900</td>\n",
       "      <td>22.40</td>\n",
       "      <td>60.1</td>\n",
       "      <td>6.16</td>\n",
       "      <td>3530</td>\n",
       "    </tr>\n",
       "    <tr>\n",
       "      <th>4</th>\n",
       "      <td>Antigua and Barbuda</td>\n",
       "      <td>10.3</td>\n",
       "      <td>45.5</td>\n",
       "      <td>6.03</td>\n",
       "      <td>58.9</td>\n",
       "      <td>19100</td>\n",
       "      <td>1.44</td>\n",
       "      <td>76.8</td>\n",
       "      <td>2.13</td>\n",
       "      <td>12200</td>\n",
       "    </tr>\n",
       "  </tbody>\n",
       "</table>\n",
       "</div>"
      ],
      "text/plain": [
       "               country  child_mort  exports  health  imports  income  \\\n",
       "0          Afghanistan        90.2     10.0    7.58     44.9    1610   \n",
       "1              Albania        16.6     28.0    6.55     48.6    9930   \n",
       "2              Algeria        27.3     38.4    4.17     31.4   12900   \n",
       "3               Angola       119.0     62.3    2.85     42.9    5900   \n",
       "4  Antigua and Barbuda        10.3     45.5    6.03     58.9   19100   \n",
       "\n",
       "   inflation  life_expec  total_fer   gdpp  \n",
       "0       9.44        56.2       5.82    553  \n",
       "1       4.49        76.3       1.65   4090  \n",
       "2      16.10        76.5       2.89   4460  \n",
       "3      22.40        60.1       6.16   3530  \n",
       "4       1.44        76.8       2.13  12200  "
      ]
     },
     "metadata": {},
     "output_type": "display_data"
    }
   ],
   "source": [
    "from pycaret.datasets import get_data\n",
    "data = get_data('country-data')"
   ]
  },
  {
   "cell_type": "markdown",
   "metadata": {},
   "source": [
    "# 2. Setting up Environment"
   ]
  },
  {
   "cell_type": "code",
   "execution_count": 4,
   "metadata": {},
   "outputs": [
    {
     "name": "stdout",
     "output_type": "stream",
     "text": [
      "\n",
      "Setup Succesfully Completed!\n"
     ]
    },
    {
     "data": {
      "text/html": [
       "<style  type=\"text/css\" >\n",
       "    #T_d19f0c64_aff1_11ea_b3a0_482ae32b83darow10_col1 {\n",
       "            background-color:  lightgreen;\n",
       "        }</style><table id=\"T_d19f0c64_aff1_11ea_b3a0_482ae32b83da\" ><thead>    <tr>        <th class=\"blank level0\" ></th>        <th class=\"col_heading level0 col0\" >Description</th>        <th class=\"col_heading level0 col1\" >Value</th>    </tr></thead><tbody>\n",
       "                <tr>\n",
       "                        <th id=\"T_d19f0c64_aff1_11ea_b3a0_482ae32b83dalevel0_row0\" class=\"row_heading level0 row0\" >0</th>\n",
       "                        <td id=\"T_d19f0c64_aff1_11ea_b3a0_482ae32b83darow0_col0\" class=\"data row0 col0\" >session_id </td>\n",
       "                        <td id=\"T_d19f0c64_aff1_11ea_b3a0_482ae32b83darow0_col1\" class=\"data row0 col1\" >786</td>\n",
       "            </tr>\n",
       "            <tr>\n",
       "                        <th id=\"T_d19f0c64_aff1_11ea_b3a0_482ae32b83dalevel0_row1\" class=\"row_heading level0 row1\" >1</th>\n",
       "                        <td id=\"T_d19f0c64_aff1_11ea_b3a0_482ae32b83darow1_col0\" class=\"data row1 col0\" >Original Data </td>\n",
       "                        <td id=\"T_d19f0c64_aff1_11ea_b3a0_482ae32b83darow1_col1\" class=\"data row1 col1\" >(167, 10)</td>\n",
       "            </tr>\n",
       "            <tr>\n",
       "                        <th id=\"T_d19f0c64_aff1_11ea_b3a0_482ae32b83dalevel0_row2\" class=\"row_heading level0 row2\" >2</th>\n",
       "                        <td id=\"T_d19f0c64_aff1_11ea_b3a0_482ae32b83darow2_col0\" class=\"data row2 col0\" >Missing Values </td>\n",
       "                        <td id=\"T_d19f0c64_aff1_11ea_b3a0_482ae32b83darow2_col1\" class=\"data row2 col1\" >False</td>\n",
       "            </tr>\n",
       "            <tr>\n",
       "                        <th id=\"T_d19f0c64_aff1_11ea_b3a0_482ae32b83dalevel0_row3\" class=\"row_heading level0 row3\" >3</th>\n",
       "                        <td id=\"T_d19f0c64_aff1_11ea_b3a0_482ae32b83darow3_col0\" class=\"data row3 col0\" >Numeric Features </td>\n",
       "                        <td id=\"T_d19f0c64_aff1_11ea_b3a0_482ae32b83darow3_col1\" class=\"data row3 col1\" >9</td>\n",
       "            </tr>\n",
       "            <tr>\n",
       "                        <th id=\"T_d19f0c64_aff1_11ea_b3a0_482ae32b83dalevel0_row4\" class=\"row_heading level0 row4\" >4</th>\n",
       "                        <td id=\"T_d19f0c64_aff1_11ea_b3a0_482ae32b83darow4_col0\" class=\"data row4 col0\" >Categorical Features </td>\n",
       "                        <td id=\"T_d19f0c64_aff1_11ea_b3a0_482ae32b83darow4_col1\" class=\"data row4 col1\" >1</td>\n",
       "            </tr>\n",
       "            <tr>\n",
       "                        <th id=\"T_d19f0c64_aff1_11ea_b3a0_482ae32b83dalevel0_row5\" class=\"row_heading level0 row5\" >5</th>\n",
       "                        <td id=\"T_d19f0c64_aff1_11ea_b3a0_482ae32b83darow5_col0\" class=\"data row5 col0\" >Ordinal Features </td>\n",
       "                        <td id=\"T_d19f0c64_aff1_11ea_b3a0_482ae32b83darow5_col1\" class=\"data row5 col1\" >False</td>\n",
       "            </tr>\n",
       "            <tr>\n",
       "                        <th id=\"T_d19f0c64_aff1_11ea_b3a0_482ae32b83dalevel0_row6\" class=\"row_heading level0 row6\" >6</th>\n",
       "                        <td id=\"T_d19f0c64_aff1_11ea_b3a0_482ae32b83darow6_col0\" class=\"data row6 col0\" >High Cardinality Features </td>\n",
       "                        <td id=\"T_d19f0c64_aff1_11ea_b3a0_482ae32b83darow6_col1\" class=\"data row6 col1\" >False</td>\n",
       "            </tr>\n",
       "            <tr>\n",
       "                        <th id=\"T_d19f0c64_aff1_11ea_b3a0_482ae32b83dalevel0_row7\" class=\"row_heading level0 row7\" >7</th>\n",
       "                        <td id=\"T_d19f0c64_aff1_11ea_b3a0_482ae32b83darow7_col0\" class=\"data row7 col0\" >Transformed Data </td>\n",
       "                        <td id=\"T_d19f0c64_aff1_11ea_b3a0_482ae32b83darow7_col1\" class=\"data row7 col1\" >(167, 9)</td>\n",
       "            </tr>\n",
       "            <tr>\n",
       "                        <th id=\"T_d19f0c64_aff1_11ea_b3a0_482ae32b83dalevel0_row8\" class=\"row_heading level0 row8\" >8</th>\n",
       "                        <td id=\"T_d19f0c64_aff1_11ea_b3a0_482ae32b83darow8_col0\" class=\"data row8 col0\" >Numeric Imputer </td>\n",
       "                        <td id=\"T_d19f0c64_aff1_11ea_b3a0_482ae32b83darow8_col1\" class=\"data row8 col1\" >mean</td>\n",
       "            </tr>\n",
       "            <tr>\n",
       "                        <th id=\"T_d19f0c64_aff1_11ea_b3a0_482ae32b83dalevel0_row9\" class=\"row_heading level0 row9\" >9</th>\n",
       "                        <td id=\"T_d19f0c64_aff1_11ea_b3a0_482ae32b83darow9_col0\" class=\"data row9 col0\" >Categorical Imputer </td>\n",
       "                        <td id=\"T_d19f0c64_aff1_11ea_b3a0_482ae32b83darow9_col1\" class=\"data row9 col1\" >constant</td>\n",
       "            </tr>\n",
       "            <tr>\n",
       "                        <th id=\"T_d19f0c64_aff1_11ea_b3a0_482ae32b83dalevel0_row10\" class=\"row_heading level0 row10\" >10</th>\n",
       "                        <td id=\"T_d19f0c64_aff1_11ea_b3a0_482ae32b83darow10_col0\" class=\"data row10 col0\" >Normalize </td>\n",
       "                        <td id=\"T_d19f0c64_aff1_11ea_b3a0_482ae32b83darow10_col1\" class=\"data row10 col1\" >True</td>\n",
       "            </tr>\n",
       "            <tr>\n",
       "                        <th id=\"T_d19f0c64_aff1_11ea_b3a0_482ae32b83dalevel0_row11\" class=\"row_heading level0 row11\" >11</th>\n",
       "                        <td id=\"T_d19f0c64_aff1_11ea_b3a0_482ae32b83darow11_col0\" class=\"data row11 col0\" >Normalize Method </td>\n",
       "                        <td id=\"T_d19f0c64_aff1_11ea_b3a0_482ae32b83darow11_col1\" class=\"data row11 col1\" >zscore</td>\n",
       "            </tr>\n",
       "            <tr>\n",
       "                        <th id=\"T_d19f0c64_aff1_11ea_b3a0_482ae32b83dalevel0_row12\" class=\"row_heading level0 row12\" >12</th>\n",
       "                        <td id=\"T_d19f0c64_aff1_11ea_b3a0_482ae32b83darow12_col0\" class=\"data row12 col0\" >Transformation </td>\n",
       "                        <td id=\"T_d19f0c64_aff1_11ea_b3a0_482ae32b83darow12_col1\" class=\"data row12 col1\" >False</td>\n",
       "            </tr>\n",
       "            <tr>\n",
       "                        <th id=\"T_d19f0c64_aff1_11ea_b3a0_482ae32b83dalevel0_row13\" class=\"row_heading level0 row13\" >13</th>\n",
       "                        <td id=\"T_d19f0c64_aff1_11ea_b3a0_482ae32b83darow13_col0\" class=\"data row13 col0\" >Transformation Method </td>\n",
       "                        <td id=\"T_d19f0c64_aff1_11ea_b3a0_482ae32b83darow13_col1\" class=\"data row13 col1\" >None</td>\n",
       "            </tr>\n",
       "            <tr>\n",
       "                        <th id=\"T_d19f0c64_aff1_11ea_b3a0_482ae32b83dalevel0_row14\" class=\"row_heading level0 row14\" >14</th>\n",
       "                        <td id=\"T_d19f0c64_aff1_11ea_b3a0_482ae32b83darow14_col0\" class=\"data row14 col0\" >PCA </td>\n",
       "                        <td id=\"T_d19f0c64_aff1_11ea_b3a0_482ae32b83darow14_col1\" class=\"data row14 col1\" >False</td>\n",
       "            </tr>\n",
       "            <tr>\n",
       "                        <th id=\"T_d19f0c64_aff1_11ea_b3a0_482ae32b83dalevel0_row15\" class=\"row_heading level0 row15\" >15</th>\n",
       "                        <td id=\"T_d19f0c64_aff1_11ea_b3a0_482ae32b83darow15_col0\" class=\"data row15 col0\" >PCA Method </td>\n",
       "                        <td id=\"T_d19f0c64_aff1_11ea_b3a0_482ae32b83darow15_col1\" class=\"data row15 col1\" >None</td>\n",
       "            </tr>\n",
       "            <tr>\n",
       "                        <th id=\"T_d19f0c64_aff1_11ea_b3a0_482ae32b83dalevel0_row16\" class=\"row_heading level0 row16\" >16</th>\n",
       "                        <td id=\"T_d19f0c64_aff1_11ea_b3a0_482ae32b83darow16_col0\" class=\"data row16 col0\" >PCA components </td>\n",
       "                        <td id=\"T_d19f0c64_aff1_11ea_b3a0_482ae32b83darow16_col1\" class=\"data row16 col1\" >None</td>\n",
       "            </tr>\n",
       "            <tr>\n",
       "                        <th id=\"T_d19f0c64_aff1_11ea_b3a0_482ae32b83dalevel0_row17\" class=\"row_heading level0 row17\" >17</th>\n",
       "                        <td id=\"T_d19f0c64_aff1_11ea_b3a0_482ae32b83darow17_col0\" class=\"data row17 col0\" >Ignore Low Variance </td>\n",
       "                        <td id=\"T_d19f0c64_aff1_11ea_b3a0_482ae32b83darow17_col1\" class=\"data row17 col1\" >False</td>\n",
       "            </tr>\n",
       "            <tr>\n",
       "                        <th id=\"T_d19f0c64_aff1_11ea_b3a0_482ae32b83dalevel0_row18\" class=\"row_heading level0 row18\" >18</th>\n",
       "                        <td id=\"T_d19f0c64_aff1_11ea_b3a0_482ae32b83darow18_col0\" class=\"data row18 col0\" >Combine Rare Levels </td>\n",
       "                        <td id=\"T_d19f0c64_aff1_11ea_b3a0_482ae32b83darow18_col1\" class=\"data row18 col1\" >False</td>\n",
       "            </tr>\n",
       "            <tr>\n",
       "                        <th id=\"T_d19f0c64_aff1_11ea_b3a0_482ae32b83dalevel0_row19\" class=\"row_heading level0 row19\" >19</th>\n",
       "                        <td id=\"T_d19f0c64_aff1_11ea_b3a0_482ae32b83darow19_col0\" class=\"data row19 col0\" >Rare Level Threshold </td>\n",
       "                        <td id=\"T_d19f0c64_aff1_11ea_b3a0_482ae32b83darow19_col1\" class=\"data row19 col1\" >None</td>\n",
       "            </tr>\n",
       "            <tr>\n",
       "                        <th id=\"T_d19f0c64_aff1_11ea_b3a0_482ae32b83dalevel0_row20\" class=\"row_heading level0 row20\" >20</th>\n",
       "                        <td id=\"T_d19f0c64_aff1_11ea_b3a0_482ae32b83darow20_col0\" class=\"data row20 col0\" >Numeric Binning </td>\n",
       "                        <td id=\"T_d19f0c64_aff1_11ea_b3a0_482ae32b83darow20_col1\" class=\"data row20 col1\" >False</td>\n",
       "            </tr>\n",
       "            <tr>\n",
       "                        <th id=\"T_d19f0c64_aff1_11ea_b3a0_482ae32b83dalevel0_row21\" class=\"row_heading level0 row21\" >21</th>\n",
       "                        <td id=\"T_d19f0c64_aff1_11ea_b3a0_482ae32b83darow21_col0\" class=\"data row21 col0\" >Remove Multicollinearity </td>\n",
       "                        <td id=\"T_d19f0c64_aff1_11ea_b3a0_482ae32b83darow21_col1\" class=\"data row21 col1\" >False</td>\n",
       "            </tr>\n",
       "            <tr>\n",
       "                        <th id=\"T_d19f0c64_aff1_11ea_b3a0_482ae32b83dalevel0_row22\" class=\"row_heading level0 row22\" >22</th>\n",
       "                        <td id=\"T_d19f0c64_aff1_11ea_b3a0_482ae32b83darow22_col0\" class=\"data row22 col0\" >Multicollinearity Threshold </td>\n",
       "                        <td id=\"T_d19f0c64_aff1_11ea_b3a0_482ae32b83darow22_col1\" class=\"data row22 col1\" >None</td>\n",
       "            </tr>\n",
       "            <tr>\n",
       "                        <th id=\"T_d19f0c64_aff1_11ea_b3a0_482ae32b83dalevel0_row23\" class=\"row_heading level0 row23\" >23</th>\n",
       "                        <td id=\"T_d19f0c64_aff1_11ea_b3a0_482ae32b83darow23_col0\" class=\"data row23 col0\" >Group Features </td>\n",
       "                        <td id=\"T_d19f0c64_aff1_11ea_b3a0_482ae32b83darow23_col1\" class=\"data row23 col1\" >False</td>\n",
       "            </tr>\n",
       "    </tbody></table>"
      ],
      "text/plain": [
       "<pandas.io.formats.style.Styler at 0x1970a3cda88>"
      ]
     },
     "metadata": {},
     "output_type": "display_data"
    }
   ],
   "source": [
    "from pycaret.clustering import *\n",
    "clu1 = setup(data, normalize=True, session_id=786,\n",
    "             ignore_features = ['country'])"
   ]
  },
  {
   "cell_type": "markdown",
   "metadata": {},
   "source": [
    "# 3. Train Clustering Model"
   ]
  },
  {
   "cell_type": "code",
   "execution_count": 5,
   "metadata": {},
   "outputs": [],
   "source": [
    "kmeans = create_model('kmeans')"
   ]
  },
  {
   "cell_type": "code",
   "execution_count": 6,
   "metadata": {},
   "outputs": [
    {
     "name": "stdout",
     "output_type": "stream",
     "text": [
      "KMeans(algorithm='auto', copy_x=True, init='k-means++', max_iter=300,\n",
      "       n_clusters=4, n_init=10, n_jobs=None, precompute_distances='auto',\n",
      "       random_state=786, tol=0.0001, verbose=0)\n"
     ]
    }
   ],
   "source": [
    "print(kmeans)"
   ]
  },
  {
   "cell_type": "code",
   "execution_count": 7,
   "metadata": {},
   "outputs": [],
   "source": [
    "hclust = create_model('hclust')"
   ]
  },
  {
   "cell_type": "code",
   "execution_count": 8,
   "metadata": {},
   "outputs": [
    {
     "name": "stdout",
     "output_type": "stream",
     "text": [
      "AgglomerativeClustering(affinity='euclidean', compute_full_tree='auto',\n",
      "                        connectivity=None, distance_threshold=None,\n",
      "                        linkage='ward', memory=None, n_clusters=4)\n"
     ]
    }
   ],
   "source": [
    "print(hclust)"
   ]
  },
  {
   "cell_type": "markdown",
   "metadata": {},
   "source": [
    "# 4. Analyze Trained Model"
   ]
  },
  {
   "cell_type": "code",
   "execution_count": 9,
   "metadata": {},
   "outputs": [
    {
     "data": {
      "text/html": [
       "        <script type=\"text/javascript\">\n",
       "        window.PlotlyConfig = {MathJaxConfig: 'local'};\n",
       "        if (window.MathJax) {MathJax.Hub.Config({SVG: {font: \"STIX-Web\"}});}\n",
       "        if (typeof require !== 'undefined') {\n",
       "        require.undef(\"plotly\");\n",
       "        requirejs.config({\n",
       "            paths: {\n",
       "                'plotly': ['https://cdn.plot.ly/plotly-latest.min']\n",
       "            }\n",
       "        });\n",
       "        require(['plotly'], function(Plotly) {\n",
       "            window._Plotly = Plotly;\n",
       "        });\n",
       "        }\n",
       "        </script>\n",
       "        "
      ]
     },
     "metadata": {},
     "output_type": "display_data"
    },
    {
     "data": {
      "application/vnd.plotly.v1+json": {
       "config": {
        "plotlyServerURL": "https://plot.ly"
       },
       "data": [
        {
         "hoverlabel": {
          "namelength": 0
         },
         "hovertemplate": "Cluster=Cluster 0<br>PCA1=%{x}<br>PCA2=%{y}<br>Label=%{text}",
         "legendgroup": "Cluster=Cluster 0",
         "marker": {
          "color": "#636efa",
          "opacity": 0.5,
          "symbol": "circle"
         },
         "mode": "markers+text",
         "name": "Cluster=Cluster 0",
         "showlegend": true,
         "text": [
          "Afghanistan",
          "Albania",
          "Algeria",
          "Angola",
          "Antigua and Barbuda",
          "Argentina",
          "Armenia",
          "Australia",
          "Austria",
          "Azerbaijan",
          "Bahamas",
          "Bahrain",
          "Bangladesh",
          "Barbados",
          "Belarus",
          "Belgium",
          "Belize",
          "Benin",
          "Bhutan",
          "Bolivia",
          "Bosnia and Herzegovina",
          "Botswana",
          "Brazil",
          "Brunei",
          "Bulgaria",
          "Burkina Faso",
          "Burundi",
          "Cambodia",
          "Cameroon",
          "Canada",
          "Cape Verde",
          "Central African Republic",
          "Chad",
          "Chile",
          "China",
          "Colombia",
          "Comoros",
          "Congo, Dem. Rep.",
          "Congo, Rep.",
          "Costa Rica",
          "Cote d'Ivoire",
          "Croatia",
          "Cyprus",
          "Czech Republic",
          "Denmark",
          "Dominican Republic",
          "Ecuador",
          "Egypt",
          "El Salvador",
          "Equatorial Guinea",
          "Eritrea",
          "Estonia",
          "Fiji",
          "Finland",
          "France",
          "Gabon",
          "Gambia",
          "Georgia",
          "Germany",
          "Ghana",
          "Greece",
          "Grenada",
          "Guatemala",
          "Guinea",
          "Guinea-Bissau",
          "Guyana",
          "Haiti",
          "Hungary",
          "Iceland",
          "India",
          "Indonesia",
          "Iran",
          "Iraq",
          "Ireland",
          "Israel",
          "Italy",
          "Jamaica",
          "Japan",
          "Jordan",
          "Kazakhstan",
          "Kenya",
          "Kiribati",
          "Kuwait",
          "Kyrgyz Republic",
          "Lao",
          "Latvia",
          "Lebanon",
          "Lesotho"
         ],
         "textposition": "top center",
         "type": "scatter",
         "x": [
          -0.3399698801948993,
          -0.5755721548711337,
          1.171990760541203,
          1.1888398448812418,
          0.02662346516613189,
          0.17167473056172186,
          -0.29334649971036963,
          0.16014264327314792,
          0.018609300222763116,
          -0.001064611925200803,
          -0.9547501236855874,
          -1.3428257947703703,
          1.8391601264895336,
          -1.244464364009328,
          -0.32278146485573145,
          0.9260927074506524,
          0.5727927042682205,
          0.1455047992657893,
          0.3219422066451598,
          -0.7550085380741277,
          -0.18882840907251355,
          1.6590833964277023,
          0.8189430506398393,
          0.6022316119482033,
          1.4097881234543064,
          -0.8062091357080174,
          1.217827536013885,
          -0.7827458706662406,
          -0.020635451875820377,
          0.11784622431902914,
          1.1637842932406421,
          -0.5628976320853271,
          1.1273866523714133,
          0.8559358125570679,
          -1.3070898468495729,
          0.8324201868879204,
          -1.8371977355130829,
          1.602597745633243,
          -0.23287015644280773,
          1.0266838915521097,
          -0.944975537562179,
          0.5095394527308884,
          -0.38092879543955716,
          0.8997750553071066,
          2.029723699572791,
          1.108601006988447,
          1.2308284212408382,
          0.733210319106411,
          0.4014377045807761,
          -0.6635031249243214,
          -0.8481866985512942,
          -0.5824118671980266,
          0.08186784453623219,
          -0.8206311312965877,
          0.9065945150342405,
          0.1407813609176004,
          -0.8820876389925559,
          0.9958671428099967,
          -0.793851561020161,
          -0.15657096223455305,
          -0.5510355640952435,
          0.21125544693609874,
          0.5800251522399532,
          1.0813741969947284,
          -1.1238509345045717,
          1.6709963959114889,
          1.268743863986824,
          -0.18148699731199275,
          -0.1015837365810729,
          0.02240726157374621,
          1.0335758664708334,
          0.4985243854930948,
          -0.28522507737005326,
          0.4299113299319389,
          0.6173125975107294,
          -0.1558014521239179,
          -0.8535289439327005,
          0.16376154366827628,
          -0.4639361653924429,
          1.148863435944322,
          0.3022997997848785,
          2.053263286834169,
          0.12114611965107099,
          0.9378266149945549,
          0.057481980327568225,
          0.951656055427364,
          0.00961833240432753,
          -0.2311029227744661
         ],
         "xaxis": "x",
         "y": [
          1.2981964120287264,
          -0.9975514782350962,
          -0.25629511214232165,
          0.16204003453331536,
          -0.016064081509923053,
          -0.09480764089342592,
          -0.23752543410728416,
          0.5410651720875428,
          -0.23896130429128068,
          -1.3343495948884088,
          -0.7323617864118174,
          -0.535138945752703,
          1.2729649266968381,
          -0.028917431631789368,
          1.3613413588025725,
          0.8282306552663831,
          -0.6373848425228662,
          -0.4313363663231741,
          -0.5182552248417757,
          -0.08789385675038972,
          1.0717645827004325,
          1.0215644729461155,
          0.3898416599453671,
          0.17343570796484542,
          0.7298331976042444,
          1.3034905887085464,
          -0.659168961071624,
          -0.09649809045121073,
          -1.086617411797167,
          0.3610311400908263,
          1.1152762035505939,
          -0.022104395997464905,
          0.4916111359957953,
          -0.18344075868103996,
          -0.7890486310126494,
          -0.8693259964626711,
          -1.613668994607807,
          2.939120570125811,
          -0.2810277686782183,
          -0.2576415663057134,
          0.5297995619111003,
          0.16165834016735117,
          0.10177362904942448,
          0.41647978070974107,
          1.0504074455853802,
          1.0093142609302501,
          1.6017486351199042,
          -0.09486743144697693,
          -1.4119897338384424,
          -0.6139108370318458,
          -0.819818901756354,
          0.8948203322738479,
          -0.5678039433428753,
          0.6395700721266827,
          0.03027760544523807,
          -2.1510773058294324,
          0.4573681803256275,
          -0.9718884391705779,
          -0.12026108495343933,
          0.7773956172959955,
          -1.2338861818339932,
          0.699242662341721,
          0.5353268339800478,
          -0.4819695301363476,
          -0.9613974045352933,
          0.5611624925384949,
          -0.6565883632526895,
          -0.4028658734836361,
          -0.5682517238414153,
          -1.7791865758294862,
          0.13665870884235118,
          1.3907443156342507,
          -0.45517441333976777,
          -0.5881556664216978,
          -1.4304772329442974,
          0.3512354576145572,
          -0.6544851120419423,
          -1.0666784817397426,
          1.2918734692462936,
          -0.8448120464284743,
          -0.09757106690803855,
          0.42319827997206116,
          -1.7689091360987814,
          -1.3504723760959645,
          -1.189996519829345,
          -1.076428270163769,
          -1.0452209670773596,
          -0.880641302076654
         ],
         "yaxis": "y"
        },
        {
         "hoverlabel": {
          "namelength": 0
         },
         "hovertemplate": "Cluster=Cluster 1<br>PCA1=%{x}<br>PCA2=%{y}<br>Label=%{text}",
         "legendgroup": "Cluster=Cluster 1",
         "marker": {
          "color": "#EF553B",
          "opacity": 0.5,
          "symbol": "circle"
         },
         "mode": "markers+text",
         "name": "Cluster=Cluster 1",
         "showlegend": true,
         "text": [
          "Liberia",
          "Libya",
          "Lithuania",
          "Luxembourg",
          "Macedonia, FYR",
          "Madagascar",
          "Malawi",
          "Malaysia",
          "Maldives",
          "Mali",
          "Malta",
          "Mauritania",
          "Mauritius",
          "Micronesia, Fed. Sts.",
          "Moldova",
          "Mongolia",
          "Montenegro",
          "Morocco",
          "Mozambique",
          "Myanmar",
          "Namibia",
          "Nepal",
          "Netherlands",
          "New Zealand",
          "Niger",
          "Nigeria",
          "Norway",
          "Oman",
          "Pakistan",
          "Panama"
         ],
         "textposition": "top center",
         "type": "scatter",
         "x": [
          4.242296344683006,
          3.1437859612631383,
          1.814067483266305,
          2.174454920098878,
          1.7794929410031541,
          2.342164609685883,
          3.379157271709732,
          2.458960191794522,
          2.254270795309829,
          1.8157466593464637,
          2.973763664204306,
          3.7211951316445857,
          3.0104918213767777,
          2.671421951847693,
          2.2658819868534477,
          3.6686280445150437,
          2.2794917064380376,
          2.480923956777537,
          2.4271412529402845,
          2.0679899333170906,
          2.6412058310387425,
          2.4600860882799944,
          1.918062451534532,
          2.0191972111273926,
          2.818322857017713,
          4.088544125700128,
          2.165809950508855,
          1.4853166588896076,
          2.465658703483717,
          2.543630550006371
         ],
         "xaxis": "x",
         "y": [
          -0.19560367370630094,
          0.6635479207509861,
          -1.4508865366121553,
          -0.0045104473671029495,
          -1.7653969323374863,
          -1.9884591539619902,
          0.115702441684146,
          -1.0761429369309725,
          -1.866638129167074,
          -1.5847236873694526,
          -0.7346886586078276,
          -1.4472549790076832,
          -0.8655487291060772,
          -1.2736099005828199,
          -2.4355938335820544,
          1.7294931689378248,
          0.1952752262626325,
          -0.634701925905401,
          1.1518130739301609,
          -1.5353134941962436,
          -2.9973644598194515,
          0.01645404364593368,
          -0.4274682447256092,
          -1.7843824558891739,
          -0.9144809676023478,
          -0.4294619088701969,
          -1.7724854795157468,
          -1.0492243637123568,
          0.0880497784574002,
          -1.7270946979437054
         ],
         "yaxis": "y"
        },
        {
         "hoverlabel": {
          "namelength": 0
         },
         "hovertemplate": "Cluster=Cluster 2<br>PCA1=%{x}<br>PCA2=%{y}<br>Label=%{text}",
         "legendgroup": "Cluster=Cluster 2",
         "marker": {
          "color": "#00cc96",
          "opacity": 0.5,
          "symbol": "circle"
         },
         "mode": "markers+text",
         "name": "Cluster=Cluster 2",
         "showlegend": true,
         "text": [
          "Paraguay",
          "Peru",
          "Philippines",
          "Poland",
          "Portugal",
          "Qatar",
          "Romania",
          "Russia",
          "Rwanda",
          "Samoa",
          "Saudi Arabia",
          "Senegal",
          "Serbia",
          "Seychelles",
          "Sierra Leone",
          "Singapore",
          "Slovak Republic",
          "Slovenia",
          "Solomon Islands",
          "South Africa",
          "South Korea",
          "Spain",
          "Sri Lanka",
          "St. Vincent and the Grenadines",
          "Sudan",
          "Suriname",
          "Sweden",
          "Switzerland",
          "Tajikistan",
          "Tanzania",
          "Thailand",
          "Timor-Leste",
          "Togo",
          "Tonga",
          "Tunisia",
          "Turkey",
          "Turkmenistan",
          "Uganda",
          "Ukraine",
          "United Arab Emirates",
          "United Kingdom",
          "United States",
          "Uruguay",
          "Uzbekistan",
          "Vanuatu",
          "Venezuela"
         ],
         "textposition": "top center",
         "type": "scatter",
         "x": [
          -2.854836240303581,
          -1.9976422478014084,
          -3.3816247855884827,
          -1.9121703067898725,
          -1.191837355829425,
          -2.371970474867685,
          -2.3194238672962326,
          -2.5540491881613616,
          -2.9130245873965888,
          -2.3603471819217536,
          -2.0541669295167906,
          -2.2136695827033828,
          -1.4217145532419795,
          -2.4746958976218343,
          -1.2934228376741725,
          -2.58170623295787,
          -1.7256764076372655,
          -2.9695294733720448,
          -3.1733701154043716,
          -3.557555202700282,
          -3.964964019489447,
          -2.8079085749024117,
          -2.898970679302678,
          -3.122053436409147,
          -2.6723138793579473,
          -2.932422654229278,
          -2.093556430840305,
          -2.8336164728613293,
          -4.409717274974035,
          -1.0292281606558096,
          -4.91206614526868,
          -3.450167737011518,
          -1.0433747144410417,
          -2.9205405089267256,
          -1.953927471398987,
          -3.412255127439317,
          -1.6797035613689026,
          -2.979885252790293,
          -1.773580231717664,
          -1.803151398791089,
          -1.5277699460302712,
          -1.8874510567821317,
          -1.239216862244632,
          -1.8747024727806498,
          -2.136008673805889,
          -2.8640639181248817
         ],
         "xaxis": "x",
         "y": [
          -0.35208238218245963,
          0.9583615863528241,
          -0.23630151587372858,
          0.09155993466113878,
          -0.5567571642158557,
          -1.1775129456893183,
          -0.7694073280346784,
          -0.21502795550979983,
          0.0956205755055118,
          -0.47939964609917163,
          0.38003439318869636,
          0.2234958962445174,
          0.3197233583730007,
          -0.6180252364945528,
          2.36369455172076,
          1.2078734222116312,
          2.1763489504338613,
          0.7285337855948658,
          1.050381633237966,
          1.2891280920966868,
          0.38661931942067007,
          0.07864889686740519,
          -0.4226633278788112,
          0.0387749687918412,
          0.4181721245790091,
          1.6955550705215456,
          0.3436009878116031,
          -0.09112819501299728,
          1.7422304851976342,
          -0.2832693229424986,
          -0.09449868457583364,
          0.969922452257615,
          1.0028411182968004,
          0.8932702935199461,
          1.3833845233477755,
          0.5614685136080777,
          -1.0016286214160535,
          0.21662241913399258,
          1.0533986657263892,
          2.037850979263368,
          0.5457868911492437,
          -0.10945301487766587,
          0.3691384109440443,
          -0.17102996726554331,
          0.3427330416914547,
          0.48599798549964424
         ],
         "yaxis": "y"
        },
        {
         "hoverlabel": {
          "namelength": 0
         },
         "hovertemplate": "Cluster=Cluster 3<br>PCA1=%{x}<br>PCA2=%{y}<br>Label=%{text}",
         "legendgroup": "Cluster=Cluster 3",
         "marker": {
          "color": "#ab63fa",
          "opacity": 0.5,
          "symbol": "circle"
         },
         "mode": "markers+text",
         "name": "Cluster=Cluster 3",
         "showlegend": true,
         "text": [
          "Vietnam",
          "Yemen",
          "Zambia"
         ],
         "textposition": "top center",
         "type": "scatter",
         "x": [
          6.917754960193374,
          3.679542597256499,
          5.783376296512419
         ],
         "xaxis": "x",
         "y": [
          4.849843686160691,
          4.765486050245479,
          6.682090283921616
         ],
         "yaxis": "y"
        }
       ],
       "layout": {
        "height": 600,
        "legend": {
         "tracegroupgap": 0
        },
        "margin": {
         "t": 60
        },
        "plot_bgcolor": "rgb(240,240,240)",
        "template": {
         "data": {
          "bar": [
           {
            "error_x": {
             "color": "#2a3f5f"
            },
            "error_y": {
             "color": "#2a3f5f"
            },
            "marker": {
             "line": {
              "color": "#E5ECF6",
              "width": 0.5
             }
            },
            "type": "bar"
           }
          ],
          "barpolar": [
           {
            "marker": {
             "line": {
              "color": "#E5ECF6",
              "width": 0.5
             }
            },
            "type": "barpolar"
           }
          ],
          "carpet": [
           {
            "aaxis": {
             "endlinecolor": "#2a3f5f",
             "gridcolor": "white",
             "linecolor": "white",
             "minorgridcolor": "white",
             "startlinecolor": "#2a3f5f"
            },
            "baxis": {
             "endlinecolor": "#2a3f5f",
             "gridcolor": "white",
             "linecolor": "white",
             "minorgridcolor": "white",
             "startlinecolor": "#2a3f5f"
            },
            "type": "carpet"
           }
          ],
          "choropleth": [
           {
            "colorbar": {
             "outlinewidth": 0,
             "ticks": ""
            },
            "type": "choropleth"
           }
          ],
          "contour": [
           {
            "colorbar": {
             "outlinewidth": 0,
             "ticks": ""
            },
            "colorscale": [
             [
              0,
              "#0d0887"
             ],
             [
              0.1111111111111111,
              "#46039f"
             ],
             [
              0.2222222222222222,
              "#7201a8"
             ],
             [
              0.3333333333333333,
              "#9c179e"
             ],
             [
              0.4444444444444444,
              "#bd3786"
             ],
             [
              0.5555555555555556,
              "#d8576b"
             ],
             [
              0.6666666666666666,
              "#ed7953"
             ],
             [
              0.7777777777777778,
              "#fb9f3a"
             ],
             [
              0.8888888888888888,
              "#fdca26"
             ],
             [
              1,
              "#f0f921"
             ]
            ],
            "type": "contour"
           }
          ],
          "contourcarpet": [
           {
            "colorbar": {
             "outlinewidth": 0,
             "ticks": ""
            },
            "type": "contourcarpet"
           }
          ],
          "heatmap": [
           {
            "colorbar": {
             "outlinewidth": 0,
             "ticks": ""
            },
            "colorscale": [
             [
              0,
              "#0d0887"
             ],
             [
              0.1111111111111111,
              "#46039f"
             ],
             [
              0.2222222222222222,
              "#7201a8"
             ],
             [
              0.3333333333333333,
              "#9c179e"
             ],
             [
              0.4444444444444444,
              "#bd3786"
             ],
             [
              0.5555555555555556,
              "#d8576b"
             ],
             [
              0.6666666666666666,
              "#ed7953"
             ],
             [
              0.7777777777777778,
              "#fb9f3a"
             ],
             [
              0.8888888888888888,
              "#fdca26"
             ],
             [
              1,
              "#f0f921"
             ]
            ],
            "type": "heatmap"
           }
          ],
          "heatmapgl": [
           {
            "colorbar": {
             "outlinewidth": 0,
             "ticks": ""
            },
            "colorscale": [
             [
              0,
              "#0d0887"
             ],
             [
              0.1111111111111111,
              "#46039f"
             ],
             [
              0.2222222222222222,
              "#7201a8"
             ],
             [
              0.3333333333333333,
              "#9c179e"
             ],
             [
              0.4444444444444444,
              "#bd3786"
             ],
             [
              0.5555555555555556,
              "#d8576b"
             ],
             [
              0.6666666666666666,
              "#ed7953"
             ],
             [
              0.7777777777777778,
              "#fb9f3a"
             ],
             [
              0.8888888888888888,
              "#fdca26"
             ],
             [
              1,
              "#f0f921"
             ]
            ],
            "type": "heatmapgl"
           }
          ],
          "histogram": [
           {
            "marker": {
             "colorbar": {
              "outlinewidth": 0,
              "ticks": ""
             }
            },
            "type": "histogram"
           }
          ],
          "histogram2d": [
           {
            "colorbar": {
             "outlinewidth": 0,
             "ticks": ""
            },
            "colorscale": [
             [
              0,
              "#0d0887"
             ],
             [
              0.1111111111111111,
              "#46039f"
             ],
             [
              0.2222222222222222,
              "#7201a8"
             ],
             [
              0.3333333333333333,
              "#9c179e"
             ],
             [
              0.4444444444444444,
              "#bd3786"
             ],
             [
              0.5555555555555556,
              "#d8576b"
             ],
             [
              0.6666666666666666,
              "#ed7953"
             ],
             [
              0.7777777777777778,
              "#fb9f3a"
             ],
             [
              0.8888888888888888,
              "#fdca26"
             ],
             [
              1,
              "#f0f921"
             ]
            ],
            "type": "histogram2d"
           }
          ],
          "histogram2dcontour": [
           {
            "colorbar": {
             "outlinewidth": 0,
             "ticks": ""
            },
            "colorscale": [
             [
              0,
              "#0d0887"
             ],
             [
              0.1111111111111111,
              "#46039f"
             ],
             [
              0.2222222222222222,
              "#7201a8"
             ],
             [
              0.3333333333333333,
              "#9c179e"
             ],
             [
              0.4444444444444444,
              "#bd3786"
             ],
             [
              0.5555555555555556,
              "#d8576b"
             ],
             [
              0.6666666666666666,
              "#ed7953"
             ],
             [
              0.7777777777777778,
              "#fb9f3a"
             ],
             [
              0.8888888888888888,
              "#fdca26"
             ],
             [
              1,
              "#f0f921"
             ]
            ],
            "type": "histogram2dcontour"
           }
          ],
          "mesh3d": [
           {
            "colorbar": {
             "outlinewidth": 0,
             "ticks": ""
            },
            "type": "mesh3d"
           }
          ],
          "parcoords": [
           {
            "line": {
             "colorbar": {
              "outlinewidth": 0,
              "ticks": ""
             }
            },
            "type": "parcoords"
           }
          ],
          "pie": [
           {
            "automargin": true,
            "type": "pie"
           }
          ],
          "scatter": [
           {
            "marker": {
             "colorbar": {
              "outlinewidth": 0,
              "ticks": ""
             }
            },
            "type": "scatter"
           }
          ],
          "scatter3d": [
           {
            "line": {
             "colorbar": {
              "outlinewidth": 0,
              "ticks": ""
             }
            },
            "marker": {
             "colorbar": {
              "outlinewidth": 0,
              "ticks": ""
             }
            },
            "type": "scatter3d"
           }
          ],
          "scattercarpet": [
           {
            "marker": {
             "colorbar": {
              "outlinewidth": 0,
              "ticks": ""
             }
            },
            "type": "scattercarpet"
           }
          ],
          "scattergeo": [
           {
            "marker": {
             "colorbar": {
              "outlinewidth": 0,
              "ticks": ""
             }
            },
            "type": "scattergeo"
           }
          ],
          "scattergl": [
           {
            "marker": {
             "colorbar": {
              "outlinewidth": 0,
              "ticks": ""
             }
            },
            "type": "scattergl"
           }
          ],
          "scattermapbox": [
           {
            "marker": {
             "colorbar": {
              "outlinewidth": 0,
              "ticks": ""
             }
            },
            "type": "scattermapbox"
           }
          ],
          "scatterpolar": [
           {
            "marker": {
             "colorbar": {
              "outlinewidth": 0,
              "ticks": ""
             }
            },
            "type": "scatterpolar"
           }
          ],
          "scatterpolargl": [
           {
            "marker": {
             "colorbar": {
              "outlinewidth": 0,
              "ticks": ""
             }
            },
            "type": "scatterpolargl"
           }
          ],
          "scatterternary": [
           {
            "marker": {
             "colorbar": {
              "outlinewidth": 0,
              "ticks": ""
             }
            },
            "type": "scatterternary"
           }
          ],
          "surface": [
           {
            "colorbar": {
             "outlinewidth": 0,
             "ticks": ""
            },
            "colorscale": [
             [
              0,
              "#0d0887"
             ],
             [
              0.1111111111111111,
              "#46039f"
             ],
             [
              0.2222222222222222,
              "#7201a8"
             ],
             [
              0.3333333333333333,
              "#9c179e"
             ],
             [
              0.4444444444444444,
              "#bd3786"
             ],
             [
              0.5555555555555556,
              "#d8576b"
             ],
             [
              0.6666666666666666,
              "#ed7953"
             ],
             [
              0.7777777777777778,
              "#fb9f3a"
             ],
             [
              0.8888888888888888,
              "#fdca26"
             ],
             [
              1,
              "#f0f921"
             ]
            ],
            "type": "surface"
           }
          ],
          "table": [
           {
            "cells": {
             "fill": {
              "color": "#EBF0F8"
             },
             "line": {
              "color": "white"
             }
            },
            "header": {
             "fill": {
              "color": "#C8D4E3"
             },
             "line": {
              "color": "white"
             }
            },
            "type": "table"
           }
          ]
         },
         "layout": {
          "annotationdefaults": {
           "arrowcolor": "#2a3f5f",
           "arrowhead": 0,
           "arrowwidth": 1
          },
          "coloraxis": {
           "colorbar": {
            "outlinewidth": 0,
            "ticks": ""
           }
          },
          "colorscale": {
           "diverging": [
            [
             0,
             "#8e0152"
            ],
            [
             0.1,
             "#c51b7d"
            ],
            [
             0.2,
             "#de77ae"
            ],
            [
             0.3,
             "#f1b6da"
            ],
            [
             0.4,
             "#fde0ef"
            ],
            [
             0.5,
             "#f7f7f7"
            ],
            [
             0.6,
             "#e6f5d0"
            ],
            [
             0.7,
             "#b8e186"
            ],
            [
             0.8,
             "#7fbc41"
            ],
            [
             0.9,
             "#4d9221"
            ],
            [
             1,
             "#276419"
            ]
           ],
           "sequential": [
            [
             0,
             "#0d0887"
            ],
            [
             0.1111111111111111,
             "#46039f"
            ],
            [
             0.2222222222222222,
             "#7201a8"
            ],
            [
             0.3333333333333333,
             "#9c179e"
            ],
            [
             0.4444444444444444,
             "#bd3786"
            ],
            [
             0.5555555555555556,
             "#d8576b"
            ],
            [
             0.6666666666666666,
             "#ed7953"
            ],
            [
             0.7777777777777778,
             "#fb9f3a"
            ],
            [
             0.8888888888888888,
             "#fdca26"
            ],
            [
             1,
             "#f0f921"
            ]
           ],
           "sequentialminus": [
            [
             0,
             "#0d0887"
            ],
            [
             0.1111111111111111,
             "#46039f"
            ],
            [
             0.2222222222222222,
             "#7201a8"
            ],
            [
             0.3333333333333333,
             "#9c179e"
            ],
            [
             0.4444444444444444,
             "#bd3786"
            ],
            [
             0.5555555555555556,
             "#d8576b"
            ],
            [
             0.6666666666666666,
             "#ed7953"
            ],
            [
             0.7777777777777778,
             "#fb9f3a"
            ],
            [
             0.8888888888888888,
             "#fdca26"
            ],
            [
             1,
             "#f0f921"
            ]
           ]
          },
          "colorway": [
           "#636efa",
           "#EF553B",
           "#00cc96",
           "#ab63fa",
           "#FFA15A",
           "#19d3f3",
           "#FF6692",
           "#B6E880",
           "#FF97FF",
           "#FECB52"
          ],
          "font": {
           "color": "#2a3f5f"
          },
          "geo": {
           "bgcolor": "white",
           "lakecolor": "white",
           "landcolor": "#E5ECF6",
           "showlakes": true,
           "showland": true,
           "subunitcolor": "white"
          },
          "hoverlabel": {
           "align": "left"
          },
          "hovermode": "closest",
          "mapbox": {
           "style": "light"
          },
          "paper_bgcolor": "white",
          "plot_bgcolor": "#E5ECF6",
          "polar": {
           "angularaxis": {
            "gridcolor": "white",
            "linecolor": "white",
            "ticks": ""
           },
           "bgcolor": "#E5ECF6",
           "radialaxis": {
            "gridcolor": "white",
            "linecolor": "white",
            "ticks": ""
           }
          },
          "scene": {
           "xaxis": {
            "backgroundcolor": "#E5ECF6",
            "gridcolor": "white",
            "gridwidth": 2,
            "linecolor": "white",
            "showbackground": true,
            "ticks": "",
            "zerolinecolor": "white"
           },
           "yaxis": {
            "backgroundcolor": "#E5ECF6",
            "gridcolor": "white",
            "gridwidth": 2,
            "linecolor": "white",
            "showbackground": true,
            "ticks": "",
            "zerolinecolor": "white"
           },
           "zaxis": {
            "backgroundcolor": "#E5ECF6",
            "gridcolor": "white",
            "gridwidth": 2,
            "linecolor": "white",
            "showbackground": true,
            "ticks": "",
            "zerolinecolor": "white"
           }
          },
          "shapedefaults": {
           "line": {
            "color": "#2a3f5f"
           }
          },
          "ternary": {
           "aaxis": {
            "gridcolor": "white",
            "linecolor": "white",
            "ticks": ""
           },
           "baxis": {
            "gridcolor": "white",
            "linecolor": "white",
            "ticks": ""
           },
           "bgcolor": "#E5ECF6",
           "caxis": {
            "gridcolor": "white",
            "linecolor": "white",
            "ticks": ""
           }
          },
          "title": {
           "x": 0.05
          },
          "xaxis": {
           "automargin": true,
           "gridcolor": "white",
           "linecolor": "white",
           "ticks": "",
           "title": {
            "standoff": 15
           },
           "zerolinecolor": "white",
           "zerolinewidth": 2
          },
          "yaxis": {
           "automargin": true,
           "gridcolor": "white",
           "linecolor": "white",
           "ticks": "",
           "title": {
            "standoff": 15
           },
           "zerolinecolor": "white",
           "zerolinewidth": 2
          }
         }
        },
        "title": {
         "text": "2D Cluster PCA Plot"
        },
        "xaxis": {
         "anchor": "y",
         "domain": [
          0,
          1
         ],
         "title": {
          "text": "PCA1"
         }
        },
        "yaxis": {
         "anchor": "x",
         "domain": [
          0,
          1
         ],
         "title": {
          "text": "PCA2"
         }
        }
       }
      },
      "text/html": [
       "<div>\n",
       "        \n",
       "        \n",
       "            <div id=\"6fc3fd99-404b-456b-9409-2f5dcda48bcf\" class=\"plotly-graph-div\" style=\"height:600px; width:100%;\"></div>\n",
       "            <script type=\"text/javascript\">\n",
       "                require([\"plotly\"], function(Plotly) {\n",
       "                    window.PLOTLYENV=window.PLOTLYENV || {};\n",
       "                    \n",
       "                if (document.getElementById(\"6fc3fd99-404b-456b-9409-2f5dcda48bcf\")) {\n",
       "                    Plotly.newPlot(\n",
       "                        '6fc3fd99-404b-456b-9409-2f5dcda48bcf',\n",
       "                        [{\"hoverlabel\": {\"namelength\": 0}, \"hovertemplate\": \"Cluster=Cluster 0<br>PCA1=%{x}<br>PCA2=%{y}<br>Label=%{text}\", \"legendgroup\": \"Cluster=Cluster 0\", \"marker\": {\"color\": \"#636efa\", \"opacity\": 0.5, \"symbol\": \"circle\"}, \"mode\": \"markers+text\", \"name\": \"Cluster=Cluster 0\", \"showlegend\": true, \"text\": [\"Afghanistan\", \"Albania\", \"Algeria\", \"Angola\", \"Antigua and Barbuda\", \"Argentina\", \"Armenia\", \"Australia\", \"Austria\", \"Azerbaijan\", \"Bahamas\", \"Bahrain\", \"Bangladesh\", \"Barbados\", \"Belarus\", \"Belgium\", \"Belize\", \"Benin\", \"Bhutan\", \"Bolivia\", \"Bosnia and Herzegovina\", \"Botswana\", \"Brazil\", \"Brunei\", \"Bulgaria\", \"Burkina Faso\", \"Burundi\", \"Cambodia\", \"Cameroon\", \"Canada\", \"Cape Verde\", \"Central African Republic\", \"Chad\", \"Chile\", \"China\", \"Colombia\", \"Comoros\", \"Congo, Dem. Rep.\", \"Congo, Rep.\", \"Costa Rica\", \"Cote d'Ivoire\", \"Croatia\", \"Cyprus\", \"Czech Republic\", \"Denmark\", \"Dominican Republic\", \"Ecuador\", \"Egypt\", \"El Salvador\", \"Equatorial Guinea\", \"Eritrea\", \"Estonia\", \"Fiji\", \"Finland\", \"France\", \"Gabon\", \"Gambia\", \"Georgia\", \"Germany\", \"Ghana\", \"Greece\", \"Grenada\", \"Guatemala\", \"Guinea\", \"Guinea-Bissau\", \"Guyana\", \"Haiti\", \"Hungary\", \"Iceland\", \"India\", \"Indonesia\", \"Iran\", \"Iraq\", \"Ireland\", \"Israel\", \"Italy\", \"Jamaica\", \"Japan\", \"Jordan\", \"Kazakhstan\", \"Kenya\", \"Kiribati\", \"Kuwait\", \"Kyrgyz Republic\", \"Lao\", \"Latvia\", \"Lebanon\", \"Lesotho\"], \"textposition\": \"top center\", \"type\": \"scatter\", \"x\": [-0.3399698801948993, -0.5755721548711337, 1.171990760541203, 1.1888398448812418, 0.02662346516613189, 0.17167473056172186, -0.29334649971036963, 0.16014264327314792, 0.018609300222763116, -0.001064611925200803, -0.9547501236855874, -1.3428257947703703, 1.8391601264895336, -1.244464364009328, -0.32278146485573145, 0.9260927074506524, 0.5727927042682205, 0.1455047992657893, 0.3219422066451598, -0.7550085380741277, -0.18882840907251355, 1.6590833964277023, 0.8189430506398393, 0.6022316119482033, 1.4097881234543064, -0.8062091357080174, 1.217827536013885, -0.7827458706662406, -0.020635451875820377, 0.11784622431902914, 1.1637842932406421, -0.5628976320853271, 1.1273866523714133, 0.8559358125570679, -1.3070898468495729, 0.8324201868879204, -1.8371977355130829, 1.602597745633243, -0.23287015644280773, 1.0266838915521097, -0.944975537562179, 0.5095394527308884, -0.38092879543955716, 0.8997750553071066, 2.029723699572791, 1.108601006988447, 1.2308284212408382, 0.733210319106411, 0.4014377045807761, -0.6635031249243214, -0.8481866985512942, -0.5824118671980266, 0.08186784453623219, -0.8206311312965877, 0.9065945150342405, 0.1407813609176004, -0.8820876389925559, 0.9958671428099967, -0.793851561020161, -0.15657096223455305, -0.5510355640952435, 0.21125544693609874, 0.5800251522399532, 1.0813741969947284, -1.1238509345045717, 1.6709963959114889, 1.268743863986824, -0.18148699731199275, -0.1015837365810729, 0.02240726157374621, 1.0335758664708334, 0.4985243854930948, -0.28522507737005326, 0.4299113299319389, 0.6173125975107294, -0.1558014521239179, -0.8535289439327005, 0.16376154366827628, -0.4639361653924429, 1.148863435944322, 0.3022997997848785, 2.053263286834169, 0.12114611965107099, 0.9378266149945549, 0.057481980327568225, 0.951656055427364, 0.00961833240432753, -0.2311029227744661], \"xaxis\": \"x\", \"y\": [1.2981964120287264, -0.9975514782350962, -0.25629511214232165, 0.16204003453331536, -0.016064081509923053, -0.09480764089342592, -0.23752543410728416, 0.5410651720875428, -0.23896130429128068, -1.3343495948884088, -0.7323617864118174, -0.535138945752703, 1.2729649266968381, -0.028917431631789368, 1.3613413588025725, 0.8282306552663831, -0.6373848425228662, -0.4313363663231741, -0.5182552248417757, -0.08789385675038972, 1.0717645827004325, 1.0215644729461155, 0.3898416599453671, 0.17343570796484542, 0.7298331976042444, 1.3034905887085464, -0.659168961071624, -0.09649809045121073, -1.086617411797167, 0.3610311400908263, 1.1152762035505939, -0.022104395997464905, 0.4916111359957953, -0.18344075868103996, -0.7890486310126494, -0.8693259964626711, -1.613668994607807, 2.939120570125811, -0.2810277686782183, -0.2576415663057134, 0.5297995619111003, 0.16165834016735117, 0.10177362904942448, 0.41647978070974107, 1.0504074455853802, 1.0093142609302501, 1.6017486351199042, -0.09486743144697693, -1.4119897338384424, -0.6139108370318458, -0.819818901756354, 0.8948203322738479, -0.5678039433428753, 0.6395700721266827, 0.03027760544523807, -2.1510773058294324, 0.4573681803256275, -0.9718884391705779, -0.12026108495343933, 0.7773956172959955, -1.2338861818339932, 0.699242662341721, 0.5353268339800478, -0.4819695301363476, -0.9613974045352933, 0.5611624925384949, -0.6565883632526895, -0.4028658734836361, -0.5682517238414153, -1.7791865758294862, 0.13665870884235118, 1.3907443156342507, -0.45517441333976777, -0.5881556664216978, -1.4304772329442974, 0.3512354576145572, -0.6544851120419423, -1.0666784817397426, 1.2918734692462936, -0.8448120464284743, -0.09757106690803855, 0.42319827997206116, -1.7689091360987814, -1.3504723760959645, -1.189996519829345, -1.076428270163769, -1.0452209670773596, -0.880641302076654], \"yaxis\": \"y\"}, {\"hoverlabel\": {\"namelength\": 0}, \"hovertemplate\": \"Cluster=Cluster 1<br>PCA1=%{x}<br>PCA2=%{y}<br>Label=%{text}\", \"legendgroup\": \"Cluster=Cluster 1\", \"marker\": {\"color\": \"#EF553B\", \"opacity\": 0.5, \"symbol\": \"circle\"}, \"mode\": \"markers+text\", \"name\": \"Cluster=Cluster 1\", \"showlegend\": true, \"text\": [\"Liberia\", \"Libya\", \"Lithuania\", \"Luxembourg\", \"Macedonia, FYR\", \"Madagascar\", \"Malawi\", \"Malaysia\", \"Maldives\", \"Mali\", \"Malta\", \"Mauritania\", \"Mauritius\", \"Micronesia, Fed. Sts.\", \"Moldova\", \"Mongolia\", \"Montenegro\", \"Morocco\", \"Mozambique\", \"Myanmar\", \"Namibia\", \"Nepal\", \"Netherlands\", \"New Zealand\", \"Niger\", \"Nigeria\", \"Norway\", \"Oman\", \"Pakistan\", \"Panama\"], \"textposition\": \"top center\", \"type\": \"scatter\", \"x\": [4.242296344683006, 3.1437859612631383, 1.814067483266305, 2.174454920098878, 1.7794929410031541, 2.342164609685883, 3.379157271709732, 2.458960191794522, 2.254270795309829, 1.8157466593464637, 2.973763664204306, 3.7211951316445857, 3.0104918213767777, 2.671421951847693, 2.2658819868534477, 3.6686280445150437, 2.2794917064380376, 2.480923956777537, 2.4271412529402845, 2.0679899333170906, 2.6412058310387425, 2.4600860882799944, 1.918062451534532, 2.0191972111273926, 2.818322857017713, 4.088544125700128, 2.165809950508855, 1.4853166588896076, 2.465658703483717, 2.543630550006371], \"xaxis\": \"x\", \"y\": [-0.19560367370630094, 0.6635479207509861, -1.4508865366121553, -0.0045104473671029495, -1.7653969323374863, -1.9884591539619902, 0.115702441684146, -1.0761429369309725, -1.866638129167074, -1.5847236873694526, -0.7346886586078276, -1.4472549790076832, -0.8655487291060772, -1.2736099005828199, -2.4355938335820544, 1.7294931689378248, 0.1952752262626325, -0.634701925905401, 1.1518130739301609, -1.5353134941962436, -2.9973644598194515, 0.01645404364593368, -0.4274682447256092, -1.7843824558891739, -0.9144809676023478, -0.4294619088701969, -1.7724854795157468, -1.0492243637123568, 0.0880497784574002, -1.7270946979437054], \"yaxis\": \"y\"}, {\"hoverlabel\": {\"namelength\": 0}, \"hovertemplate\": \"Cluster=Cluster 2<br>PCA1=%{x}<br>PCA2=%{y}<br>Label=%{text}\", \"legendgroup\": \"Cluster=Cluster 2\", \"marker\": {\"color\": \"#00cc96\", \"opacity\": 0.5, \"symbol\": \"circle\"}, \"mode\": \"markers+text\", \"name\": \"Cluster=Cluster 2\", \"showlegend\": true, \"text\": [\"Paraguay\", \"Peru\", \"Philippines\", \"Poland\", \"Portugal\", \"Qatar\", \"Romania\", \"Russia\", \"Rwanda\", \"Samoa\", \"Saudi Arabia\", \"Senegal\", \"Serbia\", \"Seychelles\", \"Sierra Leone\", \"Singapore\", \"Slovak Republic\", \"Slovenia\", \"Solomon Islands\", \"South Africa\", \"South Korea\", \"Spain\", \"Sri Lanka\", \"St. Vincent and the Grenadines\", \"Sudan\", \"Suriname\", \"Sweden\", \"Switzerland\", \"Tajikistan\", \"Tanzania\", \"Thailand\", \"Timor-Leste\", \"Togo\", \"Tonga\", \"Tunisia\", \"Turkey\", \"Turkmenistan\", \"Uganda\", \"Ukraine\", \"United Arab Emirates\", \"United Kingdom\", \"United States\", \"Uruguay\", \"Uzbekistan\", \"Vanuatu\", \"Venezuela\"], \"textposition\": \"top center\", \"type\": \"scatter\", \"x\": [-2.854836240303581, -1.9976422478014084, -3.3816247855884827, -1.9121703067898725, -1.191837355829425, -2.371970474867685, -2.3194238672962326, -2.5540491881613616, -2.9130245873965888, -2.3603471819217536, -2.0541669295167906, -2.2136695827033828, -1.4217145532419795, -2.4746958976218343, -1.2934228376741725, -2.58170623295787, -1.7256764076372655, -2.9695294733720448, -3.1733701154043716, -3.557555202700282, -3.964964019489447, -2.8079085749024117, -2.898970679302678, -3.122053436409147, -2.6723138793579473, -2.932422654229278, -2.093556430840305, -2.8336164728613293, -4.409717274974035, -1.0292281606558096, -4.91206614526868, -3.450167737011518, -1.0433747144410417, -2.9205405089267256, -1.953927471398987, -3.412255127439317, -1.6797035613689026, -2.979885252790293, -1.773580231717664, -1.803151398791089, -1.5277699460302712, -1.8874510567821317, -1.239216862244632, -1.8747024727806498, -2.136008673805889, -2.8640639181248817], \"xaxis\": \"x\", \"y\": [-0.35208238218245963, 0.9583615863528241, -0.23630151587372858, 0.09155993466113878, -0.5567571642158557, -1.1775129456893183, -0.7694073280346784, -0.21502795550979983, 0.0956205755055118, -0.47939964609917163, 0.38003439318869636, 0.2234958962445174, 0.3197233583730007, -0.6180252364945528, 2.36369455172076, 1.2078734222116312, 2.1763489504338613, 0.7285337855948658, 1.050381633237966, 1.2891280920966868, 0.38661931942067007, 0.07864889686740519, -0.4226633278788112, 0.0387749687918412, 0.4181721245790091, 1.6955550705215456, 0.3436009878116031, -0.09112819501299728, 1.7422304851976342, -0.2832693229424986, -0.09449868457583364, 0.969922452257615, 1.0028411182968004, 0.8932702935199461, 1.3833845233477755, 0.5614685136080777, -1.0016286214160535, 0.21662241913399258, 1.0533986657263892, 2.037850979263368, 0.5457868911492437, -0.10945301487766587, 0.3691384109440443, -0.17102996726554331, 0.3427330416914547, 0.48599798549964424], \"yaxis\": \"y\"}, {\"hoverlabel\": {\"namelength\": 0}, \"hovertemplate\": \"Cluster=Cluster 3<br>PCA1=%{x}<br>PCA2=%{y}<br>Label=%{text}\", \"legendgroup\": \"Cluster=Cluster 3\", \"marker\": {\"color\": \"#ab63fa\", \"opacity\": 0.5, \"symbol\": \"circle\"}, \"mode\": \"markers+text\", \"name\": \"Cluster=Cluster 3\", \"showlegend\": true, \"text\": [\"Vietnam\", \"Yemen\", \"Zambia\"], \"textposition\": \"top center\", \"type\": \"scatter\", \"x\": [6.917754960193374, 3.679542597256499, 5.783376296512419], \"xaxis\": \"x\", \"y\": [4.849843686160691, 4.765486050245479, 6.682090283921616], \"yaxis\": \"y\"}],\n",
       "                        {\"height\": 600, \"legend\": {\"tracegroupgap\": 0}, \"margin\": {\"t\": 60}, \"plot_bgcolor\": \"rgb(240,240,240)\", \"template\": {\"data\": {\"bar\": [{\"error_x\": {\"color\": \"#2a3f5f\"}, \"error_y\": {\"color\": \"#2a3f5f\"}, \"marker\": {\"line\": {\"color\": \"#E5ECF6\", \"width\": 0.5}}, \"type\": \"bar\"}], \"barpolar\": [{\"marker\": {\"line\": {\"color\": \"#E5ECF6\", \"width\": 0.5}}, \"type\": \"barpolar\"}], \"carpet\": [{\"aaxis\": {\"endlinecolor\": \"#2a3f5f\", \"gridcolor\": \"white\", \"linecolor\": \"white\", \"minorgridcolor\": \"white\", \"startlinecolor\": \"#2a3f5f\"}, \"baxis\": {\"endlinecolor\": \"#2a3f5f\", \"gridcolor\": \"white\", \"linecolor\": \"white\", \"minorgridcolor\": \"white\", \"startlinecolor\": \"#2a3f5f\"}, \"type\": \"carpet\"}], \"choropleth\": [{\"colorbar\": {\"outlinewidth\": 0, \"ticks\": \"\"}, \"type\": \"choropleth\"}], \"contour\": [{\"colorbar\": {\"outlinewidth\": 0, \"ticks\": \"\"}, \"colorscale\": [[0.0, \"#0d0887\"], [0.1111111111111111, \"#46039f\"], [0.2222222222222222, \"#7201a8\"], [0.3333333333333333, \"#9c179e\"], [0.4444444444444444, \"#bd3786\"], [0.5555555555555556, \"#d8576b\"], [0.6666666666666666, \"#ed7953\"], [0.7777777777777778, \"#fb9f3a\"], [0.8888888888888888, \"#fdca26\"], [1.0, \"#f0f921\"]], \"type\": \"contour\"}], \"contourcarpet\": [{\"colorbar\": {\"outlinewidth\": 0, \"ticks\": \"\"}, \"type\": \"contourcarpet\"}], \"heatmap\": [{\"colorbar\": {\"outlinewidth\": 0, \"ticks\": \"\"}, \"colorscale\": [[0.0, \"#0d0887\"], [0.1111111111111111, \"#46039f\"], [0.2222222222222222, \"#7201a8\"], [0.3333333333333333, \"#9c179e\"], [0.4444444444444444, \"#bd3786\"], [0.5555555555555556, \"#d8576b\"], [0.6666666666666666, \"#ed7953\"], [0.7777777777777778, \"#fb9f3a\"], [0.8888888888888888, \"#fdca26\"], [1.0, \"#f0f921\"]], \"type\": \"heatmap\"}], \"heatmapgl\": [{\"colorbar\": {\"outlinewidth\": 0, \"ticks\": \"\"}, \"colorscale\": [[0.0, \"#0d0887\"], [0.1111111111111111, \"#46039f\"], [0.2222222222222222, \"#7201a8\"], [0.3333333333333333, \"#9c179e\"], [0.4444444444444444, \"#bd3786\"], [0.5555555555555556, \"#d8576b\"], [0.6666666666666666, \"#ed7953\"], [0.7777777777777778, \"#fb9f3a\"], [0.8888888888888888, \"#fdca26\"], [1.0, \"#f0f921\"]], \"type\": \"heatmapgl\"}], \"histogram\": [{\"marker\": {\"colorbar\": {\"outlinewidth\": 0, \"ticks\": \"\"}}, \"type\": \"histogram\"}], \"histogram2d\": [{\"colorbar\": {\"outlinewidth\": 0, \"ticks\": \"\"}, \"colorscale\": [[0.0, \"#0d0887\"], [0.1111111111111111, \"#46039f\"], [0.2222222222222222, \"#7201a8\"], [0.3333333333333333, \"#9c179e\"], [0.4444444444444444, \"#bd3786\"], [0.5555555555555556, \"#d8576b\"], [0.6666666666666666, \"#ed7953\"], [0.7777777777777778, \"#fb9f3a\"], [0.8888888888888888, \"#fdca26\"], [1.0, \"#f0f921\"]], \"type\": \"histogram2d\"}], \"histogram2dcontour\": [{\"colorbar\": {\"outlinewidth\": 0, \"ticks\": \"\"}, \"colorscale\": [[0.0, \"#0d0887\"], [0.1111111111111111, \"#46039f\"], [0.2222222222222222, \"#7201a8\"], [0.3333333333333333, \"#9c179e\"], [0.4444444444444444, \"#bd3786\"], [0.5555555555555556, \"#d8576b\"], [0.6666666666666666, \"#ed7953\"], [0.7777777777777778, \"#fb9f3a\"], [0.8888888888888888, \"#fdca26\"], [1.0, \"#f0f921\"]], \"type\": \"histogram2dcontour\"}], \"mesh3d\": [{\"colorbar\": {\"outlinewidth\": 0, \"ticks\": \"\"}, \"type\": \"mesh3d\"}], \"parcoords\": [{\"line\": {\"colorbar\": {\"outlinewidth\": 0, \"ticks\": \"\"}}, \"type\": \"parcoords\"}], \"pie\": [{\"automargin\": true, \"type\": \"pie\"}], \"scatter\": [{\"marker\": {\"colorbar\": {\"outlinewidth\": 0, \"ticks\": \"\"}}, \"type\": \"scatter\"}], \"scatter3d\": [{\"line\": {\"colorbar\": {\"outlinewidth\": 0, \"ticks\": \"\"}}, \"marker\": {\"colorbar\": {\"outlinewidth\": 0, \"ticks\": \"\"}}, \"type\": \"scatter3d\"}], \"scattercarpet\": [{\"marker\": {\"colorbar\": {\"outlinewidth\": 0, \"ticks\": \"\"}}, \"type\": \"scattercarpet\"}], \"scattergeo\": [{\"marker\": {\"colorbar\": {\"outlinewidth\": 0, \"ticks\": \"\"}}, \"type\": \"scattergeo\"}], \"scattergl\": [{\"marker\": {\"colorbar\": {\"outlinewidth\": 0, \"ticks\": \"\"}}, \"type\": \"scattergl\"}], \"scattermapbox\": [{\"marker\": {\"colorbar\": {\"outlinewidth\": 0, \"ticks\": \"\"}}, \"type\": \"scattermapbox\"}], \"scatterpolar\": [{\"marker\": {\"colorbar\": {\"outlinewidth\": 0, \"ticks\": \"\"}}, \"type\": \"scatterpolar\"}], \"scatterpolargl\": [{\"marker\": {\"colorbar\": {\"outlinewidth\": 0, \"ticks\": \"\"}}, \"type\": \"scatterpolargl\"}], \"scatterternary\": [{\"marker\": {\"colorbar\": {\"outlinewidth\": 0, \"ticks\": \"\"}}, \"type\": \"scatterternary\"}], \"surface\": [{\"colorbar\": {\"outlinewidth\": 0, \"ticks\": \"\"}, \"colorscale\": [[0.0, \"#0d0887\"], [0.1111111111111111, \"#46039f\"], [0.2222222222222222, \"#7201a8\"], [0.3333333333333333, \"#9c179e\"], [0.4444444444444444, \"#bd3786\"], [0.5555555555555556, \"#d8576b\"], [0.6666666666666666, \"#ed7953\"], [0.7777777777777778, \"#fb9f3a\"], [0.8888888888888888, \"#fdca26\"], [1.0, \"#f0f921\"]], \"type\": \"surface\"}], \"table\": [{\"cells\": {\"fill\": {\"color\": \"#EBF0F8\"}, \"line\": {\"color\": \"white\"}}, \"header\": {\"fill\": {\"color\": \"#C8D4E3\"}, \"line\": {\"color\": \"white\"}}, \"type\": \"table\"}]}, \"layout\": {\"annotationdefaults\": {\"arrowcolor\": \"#2a3f5f\", \"arrowhead\": 0, \"arrowwidth\": 1}, \"coloraxis\": {\"colorbar\": {\"outlinewidth\": 0, \"ticks\": \"\"}}, \"colorscale\": {\"diverging\": [[0, \"#8e0152\"], [0.1, \"#c51b7d\"], [0.2, \"#de77ae\"], [0.3, \"#f1b6da\"], [0.4, \"#fde0ef\"], [0.5, \"#f7f7f7\"], [0.6, \"#e6f5d0\"], [0.7, \"#b8e186\"], [0.8, \"#7fbc41\"], [0.9, \"#4d9221\"], [1, \"#276419\"]], \"sequential\": [[0.0, \"#0d0887\"], [0.1111111111111111, \"#46039f\"], [0.2222222222222222, \"#7201a8\"], [0.3333333333333333, \"#9c179e\"], [0.4444444444444444, \"#bd3786\"], [0.5555555555555556, \"#d8576b\"], [0.6666666666666666, \"#ed7953\"], [0.7777777777777778, \"#fb9f3a\"], [0.8888888888888888, \"#fdca26\"], [1.0, \"#f0f921\"]], \"sequentialminus\": [[0.0, \"#0d0887\"], [0.1111111111111111, \"#46039f\"], [0.2222222222222222, \"#7201a8\"], [0.3333333333333333, \"#9c179e\"], [0.4444444444444444, \"#bd3786\"], [0.5555555555555556, \"#d8576b\"], [0.6666666666666666, \"#ed7953\"], [0.7777777777777778, \"#fb9f3a\"], [0.8888888888888888, \"#fdca26\"], [1.0, \"#f0f921\"]]}, \"colorway\": [\"#636efa\", \"#EF553B\", \"#00cc96\", \"#ab63fa\", \"#FFA15A\", \"#19d3f3\", \"#FF6692\", \"#B6E880\", \"#FF97FF\", \"#FECB52\"], \"font\": {\"color\": \"#2a3f5f\"}, \"geo\": {\"bgcolor\": \"white\", \"lakecolor\": \"white\", \"landcolor\": \"#E5ECF6\", \"showlakes\": true, \"showland\": true, \"subunitcolor\": \"white\"}, \"hoverlabel\": {\"align\": \"left\"}, \"hovermode\": \"closest\", \"mapbox\": {\"style\": \"light\"}, \"paper_bgcolor\": \"white\", \"plot_bgcolor\": \"#E5ECF6\", \"polar\": {\"angularaxis\": {\"gridcolor\": \"white\", \"linecolor\": \"white\", \"ticks\": \"\"}, \"bgcolor\": \"#E5ECF6\", \"radialaxis\": {\"gridcolor\": \"white\", \"linecolor\": \"white\", \"ticks\": \"\"}}, \"scene\": {\"xaxis\": {\"backgroundcolor\": \"#E5ECF6\", \"gridcolor\": \"white\", \"gridwidth\": 2, \"linecolor\": \"white\", \"showbackground\": true, \"ticks\": \"\", \"zerolinecolor\": \"white\"}, \"yaxis\": {\"backgroundcolor\": \"#E5ECF6\", \"gridcolor\": \"white\", \"gridwidth\": 2, \"linecolor\": \"white\", \"showbackground\": true, \"ticks\": \"\", \"zerolinecolor\": \"white\"}, \"zaxis\": {\"backgroundcolor\": \"#E5ECF6\", \"gridcolor\": \"white\", \"gridwidth\": 2, \"linecolor\": \"white\", \"showbackground\": true, \"ticks\": \"\", \"zerolinecolor\": \"white\"}}, \"shapedefaults\": {\"line\": {\"color\": \"#2a3f5f\"}}, \"ternary\": {\"aaxis\": {\"gridcolor\": \"white\", \"linecolor\": \"white\", \"ticks\": \"\"}, \"baxis\": {\"gridcolor\": \"white\", \"linecolor\": \"white\", \"ticks\": \"\"}, \"bgcolor\": \"#E5ECF6\", \"caxis\": {\"gridcolor\": \"white\", \"linecolor\": \"white\", \"ticks\": \"\"}}, \"title\": {\"x\": 0.05}, \"xaxis\": {\"automargin\": true, \"gridcolor\": \"white\", \"linecolor\": \"white\", \"ticks\": \"\", \"title\": {\"standoff\": 15}, \"zerolinecolor\": \"white\", \"zerolinewidth\": 2}, \"yaxis\": {\"automargin\": true, \"gridcolor\": \"white\", \"linecolor\": \"white\", \"ticks\": \"\", \"title\": {\"standoff\": 15}, \"zerolinecolor\": \"white\", \"zerolinewidth\": 2}}}, \"title\": {\"text\": \"2D Cluster PCA Plot\"}, \"xaxis\": {\"anchor\": \"y\", \"domain\": [0.0, 1.0], \"title\": {\"text\": \"PCA1\"}}, \"yaxis\": {\"anchor\": \"x\", \"domain\": [0.0, 1.0], \"title\": {\"text\": \"PCA2\"}}},\n",
       "                        {\"responsive\": true}\n",
       "                    ).then(function(){\n",
       "                            \n",
       "var gd = document.getElementById('6fc3fd99-404b-456b-9409-2f5dcda48bcf');\n",
       "var x = new MutationObserver(function (mutations, observer) {{\n",
       "        var display = window.getComputedStyle(gd).display;\n",
       "        if (!display || display === 'none') {{\n",
       "            console.log([gd, 'removed!']);\n",
       "            Plotly.purge(gd);\n",
       "            observer.disconnect();\n",
       "        }}\n",
       "}});\n",
       "\n",
       "// Listen for the removal of the full notebook cells\n",
       "var notebookContainer = gd.closest('#notebook-container');\n",
       "if (notebookContainer) {{\n",
       "    x.observe(notebookContainer, {childList: true});\n",
       "}}\n",
       "\n",
       "// Listen for the clearing of the current output cell\n",
       "var outputEl = gd.closest('.output');\n",
       "if (outputEl) {{\n",
       "    x.observe(outputEl, {childList: true});\n",
       "}}\n",
       "\n",
       "                        })\n",
       "                };\n",
       "                });\n",
       "            </script>\n",
       "        </div>"
      ]
     },
     "metadata": {},
     "output_type": "display_data"
    }
   ],
   "source": [
    "plot_model(kmeans, label=True)"
   ]
  },
  {
   "cell_type": "code",
   "execution_count": 10,
   "metadata": {},
   "outputs": [
    {
     "data": {
      "text/html": [
       "        <script type=\"text/javascript\">\n",
       "        window.PlotlyConfig = {MathJaxConfig: 'local'};\n",
       "        if (window.MathJax) {MathJax.Hub.Config({SVG: {font: \"STIX-Web\"}});}\n",
       "        if (typeof require !== 'undefined') {\n",
       "        require.undef(\"plotly\");\n",
       "        requirejs.config({\n",
       "            paths: {\n",
       "                'plotly': ['https://cdn.plot.ly/plotly-latest.min']\n",
       "            }\n",
       "        });\n",
       "        require(['plotly'], function(Plotly) {\n",
       "            window._Plotly = Plotly;\n",
       "        });\n",
       "        }\n",
       "        </script>\n",
       "        "
      ]
     },
     "metadata": {},
     "output_type": "display_data"
    },
    {
     "data": {
      "application/vnd.plotly.v1+json": {
       "config": {
        "plotlyServerURL": "https://plot.ly"
       },
       "data": [
        {
         "hoverlabel": {
          "namelength": 0
         },
         "hovertemplate": "Cluster=Cluster 0<br>PCA1=%{x}<br>PCA2=%{y}<br>Label=%{text}",
         "legendgroup": "Cluster=Cluster 0",
         "marker": {
          "color": "#636efa",
          "opacity": 0.5,
          "symbol": "circle"
         },
         "mode": "markers+text",
         "name": "Cluster=Cluster 0",
         "showlegend": true,
         "text": [
          "Afghanistan",
          "Albania",
          "Algeria",
          "Angola",
          "Antigua and Barbuda",
          "Argentina",
          "Armenia",
          "Australia",
          "Austria",
          "Azerbaijan",
          "Bahamas",
          "Bahrain",
          "Bangladesh",
          "Barbados",
          "Belarus",
          "Belgium",
          "Belize",
          "Benin",
          "Bhutan",
          "Bolivia",
          "Bosnia and Herzegovina",
          "Botswana",
          "Brazil",
          "Brunei",
          "Bulgaria",
          "Burkina Faso",
          "Burundi",
          "Cambodia",
          "Cameroon",
          "Canada",
          "Cape Verde",
          "Central African Republic",
          "Chad",
          "Chile",
          "China",
          "Colombia",
          "Comoros",
          "Congo, Dem. Rep.",
          "Congo, Rep.",
          "Costa Rica",
          "Cote d'Ivoire",
          "Croatia",
          "Cyprus",
          "Czech Republic",
          "Denmark",
          "Dominican Republic",
          "Ecuador",
          "Egypt",
          "El Salvador",
          "Equatorial Guinea",
          "Eritrea",
          "Estonia",
          "Fiji",
          "Finland",
          "France",
          "Gabon",
          "Gambia",
          "Georgia",
          "Germany",
          "Ghana",
          "Greece",
          "Grenada",
          "Guatemala",
          "Guinea",
          "Guinea-Bissau",
          "Guyana",
          "Haiti",
          "Hungary",
          "Iceland",
          "India",
          "Indonesia",
          "Iran",
          "Iraq",
          "Ireland",
          "Israel",
          "Italy",
          "Jamaica",
          "Japan",
          "Jordan",
          "Kazakhstan",
          "Kenya",
          "Kiribati",
          "Kuwait",
          "Kyrgyz Republic",
          "Lao",
          "Latvia",
          "Lebanon",
          "Lesotho",
          "Liberia",
          "Libya",
          "Lithuania",
          "Luxembourg",
          "Macedonia, FYR",
          "Madagascar",
          "Malawi",
          "Malaysia",
          "Maldives",
          "Mali",
          "Malta",
          "Mauritania",
          "Mauritius",
          "Micronesia, Fed. Sts.",
          "Moldova",
          "Mongolia",
          "Montenegro",
          "Morocco"
         ],
         "textposition": "top center",
         "type": "scatter",
         "x": [
          -0.3399698801948983,
          1.1086010069884509,
          1.2308284212408394,
          0.9260927074506532,
          -2.371970474867687,
          0.733210319106411,
          1.4097881234543073,
          -1.773580231717665,
          -1.8031513987910879,
          1.1719907605412048,
          1.1888398448812452,
          -1.5277699460302716,
          -1.887451056782132,
          -1.2444643640093285,
          -1.2392168622446325,
          -0.29334649971037,
          0.160142643273148,
          0.018609300222763157,
          -1.0292281606558107,
          -0.0010646119252015905,
          -0.9547501236855881,
          1.9180624515345324,
          1.8391601264895352,
          0.6022316119482037,
          -0.3227814648557305,
          0.40143770458077566,
          -0.4639361653924422,
          -0.755008538074128,
          -1.9539274713989878,
          0.8997750553071076,
          -0.38092879543955754,
          -1.1918373558294262,
          -0.8062091357080172,
          2.279491706438039,
          2.0297236995727923,
          -0.5755721548711336,
          0.026623465166130674,
          1.6025977456332459,
          0.8324201868879202,
          -2.3194238672962344,
          -0.5628976320853276,
          0.17167473056172172,
          0.16376154366827578,
          0.5727927042682206,
          1.217827536013885,
          -0.7827458706662414,
          -0.020635451875821092,
          0.11784622431902912,
          1.1637842932406435,
          -2.360347181921756,
          -4.912066145268682,
          -1.307089846849574,
          -1.0433747144410417,
          -1.8371977355130837,
          -0.23287015644280784,
          1.0266838915521104,
          -0.9449755375621794,
          0.5095394527308884,
          -0.6635031249243221,
          0.14550479926578902,
          -1.3428257947703712,
          -2.0541669295167915,
          -1.7256764076372648,
          -1.1238509345045733,
          1.0813741969947293,
          0.12114611965106983,
          0.05748198032756765,
          0.951656055427364,
          0.5800251522399535,
          0.6173125975107291,
          -0.15580145212391755,
          0.3022997997848783,
          -0.8535289439327013,
          -0.8206311312965877,
          -0.5510355640952447,
          0.9065945150342409,
          0.21125544693609935,
          0.49852438549309586,
          0.14078136091759916,
          -0.8820876389925558,
          -0.15657096223455264,
          -0.7938515610201613,
          -0.5824118671980261,
          1.1488634359443217,
          0.9378266149945542,
          2.0532632868341705,
          0.42991132993193903,
          0.3219422066451594,
          -0.28522507737005354,
          -1.4217145532419797,
          -2.9324226542292786,
          1.033575866470834,
          0.022407261573744775,
          -0.18882840907251305,
          1.6590833964277043,
          -2.474695897621836,
          -1.2934228376741719,
          2.17445492009888,
          -0.10158373658107318,
          0.0818678445362319,
          -0.18148699731199303,
          -0.8481866985512951,
          0.009618332404326649,
          -0.23110292277446673,
          1.2687438639868245,
          0.9958671428099963
         ],
         "xaxis": "x",
         "y": [
          1.298196412028728,
          1.0093142609302532,
          1.601748635119904,
          0.8282306552663815,
          -1.1775129456893179,
          -0.09486743144697905,
          0.7298331976042439,
          1.0533986657263918,
          2.037850979263371,
          -0.25629511214232337,
          0.16204003453331328,
          0.5457868911492437,
          -0.10945301487766569,
          -0.02891743163179078,
          0.36913841094404487,
          -0.2375254341072854,
          0.5410651720875431,
          -0.2389613042912831,
          -0.28326932294249807,
          -1.334349594888411,
          -0.73236178641182,
          -0.42746824472561024,
          1.2729649266968381,
          0.17343570796484428,
          1.3613413588025718,
          -1.4119897338384444,
          1.2918734692462939,
          -0.08789385675039267,
          1.3833845233477782,
          0.4164797807097396,
          0.10177362904942518,
          -0.5567571642158563,
          1.303490588708547,
          0.195275226262633,
          1.0504074455853811,
          -0.9975514782350992,
          -0.01606408150992594,
          2.939120570125813,
          -0.8693259964626732,
          -0.7694073280346779,
          -0.02210439599746612,
          -0.09480764089342629,
          -1.066678481739745,
          -0.6373848425228693,
          -0.6591689610716259,
          -0.09649809045121278,
          -1.0866174117971699,
          0.3610311400908256,
          1.115276203550595,
          -0.4793996460991728,
          -0.09449868457582908,
          -0.7890486310126524,
          1.0028411182968011,
          -1.6136689946078104,
          -0.2810277686782203,
          -0.257641566305715,
          0.5297995619110997,
          0.16165834016735056,
          -0.6139108370318473,
          -0.4313363663231772,
          -0.535138945752705,
          0.38003439318869675,
          2.1763489504338636,
          -0.9613974045352963,
          -0.4819695301363489,
          -1.7689091360987843,
          -1.1899965198293483,
          -1.0764282701637706,
          0.5353268339800463,
          -1.4304772329442994,
          0.35123545761455505,
          -0.09757106690804017,
          -0.654485112041944,
          0.6395700721266818,
          -1.233886181833995,
          0.030277605445236517,
          0.6992426623417202,
          1.3907443156342512,
          -2.151077305829435,
          0.457368180325628,
          0.7773956172959949,
          -0.12026108495344011,
          0.8948203322738482,
          -0.8448120464284765,
          -1.3504723760959656,
          0.4231982799720612,
          -0.5881556664217006,
          -0.5182552248417767,
          -0.45517441333976927,
          0.31972335837300164,
          1.6955550705215505,
          0.13665870884234976,
          -1.7791865758294882,
          1.0717645827004318,
          1.0215644729461153,
          -0.6180252364945555,
          2.363694551720766,
          -0.004510447367103709,
          -0.5682517238414191,
          -0.5678039433428776,
          -0.4028658734836365,
          -0.8198189017563567,
          -1.045220967077361,
          -0.8806413020766561,
          -0.6565883632526904,
          -0.9718884391705799
         ],
         "yaxis": "y"
        },
        {
         "hoverlabel": {
          "namelength": 0
         },
         "hovertemplate": "Cluster=Cluster 1<br>PCA1=%{x}<br>PCA2=%{y}<br>Label=%{text}",
         "legendgroup": "Cluster=Cluster 1",
         "marker": {
          "color": "#EF553B",
          "opacity": 0.5,
          "symbol": "circle"
         },
         "mode": "markers+text",
         "name": "Cluster=Cluster 1",
         "showlegend": true,
         "text": [
          "Mozambique",
          "Myanmar",
          "Namibia",
          "Nepal",
          "Netherlands",
          "New Zealand",
          "Niger",
          "Nigeria",
          "Norway",
          "Oman",
          "Pakistan",
          "Panama",
          "Paraguay",
          "Peru",
          "Philippines",
          "Poland",
          "Portugal",
          "Qatar",
          "Romania",
          "Russia",
          "Rwanda",
          "Samoa",
          "Saudi Arabia",
          "Senegal",
          "Serbia",
          "Seychelles",
          "Sierra Leone",
          "Singapore",
          "Slovak Republic",
          "Slovenia",
          "Solomon Islands"
         ],
         "textposition": "top center",
         "type": "scatter",
         "x": [
          2.9737636642043075,
          3.14378596126314,
          1.8140674832663055,
          4.242296344683008,
          1.6709963959114906,
          0.8559358125570676,
          1.1273866523714147,
          2.342164609685883,
          2.5436305500063714,
          2.8183228570177143,
          2.6714219518476936,
          2.2542707953098287,
          2.458960191794522,
          2.480923956777538,
          3.668628044515047,
          1.4853166588896078,
          2.165809950508855,
          2.265881986853447,
          3.010491821376779,
          3.721195131644587,
          2.4656587034837187,
          2.4271412529402863,
          2.0679899333170906,
          2.641205831038741,
          1.7794929410031541,
          4.08854412570013,
          2.4600860882799953,
          3.3791572717097327,
          1.8157466593464635,
          0.8189430506398399,
          2.019197211127392
         ],
         "xaxis": "x",
         "y": [
          -0.7346886586078265,
          0.663547920750989,
          -1.4508865366121566,
          -0.19560367370629878,
          0.5611624925384956,
          -0.18344075868104018,
          0.4916111359957953,
          -1.9884591539619911,
          -1.7270946979437052,
          -0.914480967602347,
          -1.2736099005828196,
          -1.8666381291670744,
          -1.0761429369309727,
          -0.6347019259053999,
          1.7294931689378288,
          -1.0492243637123575,
          -1.7724854795157485,
          -2.4355938335820557,
          -0.8655487291060753,
          -1.4472549790076814,
          0.08804977845740093,
          1.1518130739301622,
          -1.5353134941962447,
          -2.9973644598194515,
          -1.7653969323374876,
          -0.42946190887019353,
          0.016454043645934793,
          0.11570244168414895,
          -1.5847236873694532,
          0.38984165994536696,
          -1.7843824558891752
         ],
         "yaxis": "y"
        },
        {
         "hoverlabel": {
          "namelength": 0
         },
         "hovertemplate": "Cluster=Cluster 2<br>PCA1=%{x}<br>PCA2=%{y}<br>Label=%{text}",
         "legendgroup": "Cluster=Cluster 2",
         "marker": {
          "color": "#00cc96",
          "opacity": 0.5,
          "symbol": "circle"
         },
         "mode": "markers+text",
         "name": "Cluster=Cluster 2",
         "showlegend": true,
         "text": [
          "South Africa",
          "South Korea",
          "Spain",
          "Sri Lanka",
          "St. Vincent and the Grenadines",
          "Sudan",
          "Suriname",
          "Sweden",
          "Switzerland",
          "Tajikistan",
          "Tanzania",
          "Thailand",
          "Timor-Leste",
          "Togo",
          "Tonga",
          "Tunisia",
          "Turkey",
          "Turkmenistan",
          "Uganda",
          "Ukraine",
          "United Arab Emirates",
          "United Kingdom",
          "United States",
          "Uruguay",
          "Uzbekistan",
          "Vanuatu",
          "Venezuela"
         ],
         "textposition": "top center",
         "type": "scatter",
         "x": [
          -1.9976422478014089,
          -2.554049188161364,
          -2.854836240303583,
          -2.91302458739659,
          -3.381624785588485,
          -2.672313879357949,
          -3.12205343640915,
          -2.8989706793026806,
          -2.807908574902413,
          -3.964964019489449,
          -3.557555202700283,
          -2.093556430840306,
          -3.1733701154043734,
          -2.581706232957871,
          -2.2136695827033845,
          -2.9695294733720465,
          -2.8336164728613307,
          -4.409717274974035,
          -1.8747024727806507,
          -2.1360086738058897,
          -2.979885252790295,
          -3.4122551274393196,
          -2.920540508926726,
          -3.4501677370115202,
          -1.6797035613689042,
          -1.9121703067898739,
          -2.864063918124883
         ],
         "xaxis": "x",
         "y": [
          0.9583615863528264,
          -0.2150279555097998,
          -0.3520823821824582,
          0.09562057550551283,
          -0.2363015158737235,
          0.41817212457901026,
          0.038774968791843334,
          -0.4226633278788089,
          0.07864889686740628,
          0.3866193194206716,
          1.2891280920966908,
          0.3436009878116034,
          1.0503816332379707,
          1.207873422211634,
          0.2234958962445184,
          0.7285337855948678,
          -0.09112819501299553,
          1.7422304851976385,
          -0.17102996726554429,
          0.3427330416914542,
          0.21662241913399372,
          0.5614685136080807,
          0.893270293519948,
          0.969922452257618,
          -1.0016286214160532,
          0.09155993466113883,
          0.48599798549964585
         ],
         "yaxis": "y"
        },
        {
         "hoverlabel": {
          "namelength": 0
         },
         "hovertemplate": "Cluster=Cluster 3<br>PCA1=%{x}<br>PCA2=%{y}<br>Label=%{text}",
         "legendgroup": "Cluster=Cluster 3",
         "marker": {
          "color": "#ab63fa",
          "opacity": 0.5,
          "symbol": "circle"
         },
         "mode": "markers+text",
         "name": "Cluster=Cluster 3",
         "showlegend": true,
         "text": [
          "Vietnam",
          "Yemen",
          "Zambia"
         ],
         "textposition": "top center",
         "type": "scatter",
         "x": [
          6.917754960193382,
          3.6795425972565043,
          5.783376296512426
         ],
         "xaxis": "x",
         "y": [
          4.849843686160702,
          4.765486050245486,
          6.682090283921624
         ],
         "yaxis": "y"
        }
       ],
       "layout": {
        "height": 600,
        "legend": {
         "tracegroupgap": 0
        },
        "margin": {
         "t": 60
        },
        "plot_bgcolor": "rgb(240,240,240)",
        "template": {
         "data": {
          "bar": [
           {
            "error_x": {
             "color": "#2a3f5f"
            },
            "error_y": {
             "color": "#2a3f5f"
            },
            "marker": {
             "line": {
              "color": "#E5ECF6",
              "width": 0.5
             }
            },
            "type": "bar"
           }
          ],
          "barpolar": [
           {
            "marker": {
             "line": {
              "color": "#E5ECF6",
              "width": 0.5
             }
            },
            "type": "barpolar"
           }
          ],
          "carpet": [
           {
            "aaxis": {
             "endlinecolor": "#2a3f5f",
             "gridcolor": "white",
             "linecolor": "white",
             "minorgridcolor": "white",
             "startlinecolor": "#2a3f5f"
            },
            "baxis": {
             "endlinecolor": "#2a3f5f",
             "gridcolor": "white",
             "linecolor": "white",
             "minorgridcolor": "white",
             "startlinecolor": "#2a3f5f"
            },
            "type": "carpet"
           }
          ],
          "choropleth": [
           {
            "colorbar": {
             "outlinewidth": 0,
             "ticks": ""
            },
            "type": "choropleth"
           }
          ],
          "contour": [
           {
            "colorbar": {
             "outlinewidth": 0,
             "ticks": ""
            },
            "colorscale": [
             [
              0,
              "#0d0887"
             ],
             [
              0.1111111111111111,
              "#46039f"
             ],
             [
              0.2222222222222222,
              "#7201a8"
             ],
             [
              0.3333333333333333,
              "#9c179e"
             ],
             [
              0.4444444444444444,
              "#bd3786"
             ],
             [
              0.5555555555555556,
              "#d8576b"
             ],
             [
              0.6666666666666666,
              "#ed7953"
             ],
             [
              0.7777777777777778,
              "#fb9f3a"
             ],
             [
              0.8888888888888888,
              "#fdca26"
             ],
             [
              1,
              "#f0f921"
             ]
            ],
            "type": "contour"
           }
          ],
          "contourcarpet": [
           {
            "colorbar": {
             "outlinewidth": 0,
             "ticks": ""
            },
            "type": "contourcarpet"
           }
          ],
          "heatmap": [
           {
            "colorbar": {
             "outlinewidth": 0,
             "ticks": ""
            },
            "colorscale": [
             [
              0,
              "#0d0887"
             ],
             [
              0.1111111111111111,
              "#46039f"
             ],
             [
              0.2222222222222222,
              "#7201a8"
             ],
             [
              0.3333333333333333,
              "#9c179e"
             ],
             [
              0.4444444444444444,
              "#bd3786"
             ],
             [
              0.5555555555555556,
              "#d8576b"
             ],
             [
              0.6666666666666666,
              "#ed7953"
             ],
             [
              0.7777777777777778,
              "#fb9f3a"
             ],
             [
              0.8888888888888888,
              "#fdca26"
             ],
             [
              1,
              "#f0f921"
             ]
            ],
            "type": "heatmap"
           }
          ],
          "heatmapgl": [
           {
            "colorbar": {
             "outlinewidth": 0,
             "ticks": ""
            },
            "colorscale": [
             [
              0,
              "#0d0887"
             ],
             [
              0.1111111111111111,
              "#46039f"
             ],
             [
              0.2222222222222222,
              "#7201a8"
             ],
             [
              0.3333333333333333,
              "#9c179e"
             ],
             [
              0.4444444444444444,
              "#bd3786"
             ],
             [
              0.5555555555555556,
              "#d8576b"
             ],
             [
              0.6666666666666666,
              "#ed7953"
             ],
             [
              0.7777777777777778,
              "#fb9f3a"
             ],
             [
              0.8888888888888888,
              "#fdca26"
             ],
             [
              1,
              "#f0f921"
             ]
            ],
            "type": "heatmapgl"
           }
          ],
          "histogram": [
           {
            "marker": {
             "colorbar": {
              "outlinewidth": 0,
              "ticks": ""
             }
            },
            "type": "histogram"
           }
          ],
          "histogram2d": [
           {
            "colorbar": {
             "outlinewidth": 0,
             "ticks": ""
            },
            "colorscale": [
             [
              0,
              "#0d0887"
             ],
             [
              0.1111111111111111,
              "#46039f"
             ],
             [
              0.2222222222222222,
              "#7201a8"
             ],
             [
              0.3333333333333333,
              "#9c179e"
             ],
             [
              0.4444444444444444,
              "#bd3786"
             ],
             [
              0.5555555555555556,
              "#d8576b"
             ],
             [
              0.6666666666666666,
              "#ed7953"
             ],
             [
              0.7777777777777778,
              "#fb9f3a"
             ],
             [
              0.8888888888888888,
              "#fdca26"
             ],
             [
              1,
              "#f0f921"
             ]
            ],
            "type": "histogram2d"
           }
          ],
          "histogram2dcontour": [
           {
            "colorbar": {
             "outlinewidth": 0,
             "ticks": ""
            },
            "colorscale": [
             [
              0,
              "#0d0887"
             ],
             [
              0.1111111111111111,
              "#46039f"
             ],
             [
              0.2222222222222222,
              "#7201a8"
             ],
             [
              0.3333333333333333,
              "#9c179e"
             ],
             [
              0.4444444444444444,
              "#bd3786"
             ],
             [
              0.5555555555555556,
              "#d8576b"
             ],
             [
              0.6666666666666666,
              "#ed7953"
             ],
             [
              0.7777777777777778,
              "#fb9f3a"
             ],
             [
              0.8888888888888888,
              "#fdca26"
             ],
             [
              1,
              "#f0f921"
             ]
            ],
            "type": "histogram2dcontour"
           }
          ],
          "mesh3d": [
           {
            "colorbar": {
             "outlinewidth": 0,
             "ticks": ""
            },
            "type": "mesh3d"
           }
          ],
          "parcoords": [
           {
            "line": {
             "colorbar": {
              "outlinewidth": 0,
              "ticks": ""
             }
            },
            "type": "parcoords"
           }
          ],
          "pie": [
           {
            "automargin": true,
            "type": "pie"
           }
          ],
          "scatter": [
           {
            "marker": {
             "colorbar": {
              "outlinewidth": 0,
              "ticks": ""
             }
            },
            "type": "scatter"
           }
          ],
          "scatter3d": [
           {
            "line": {
             "colorbar": {
              "outlinewidth": 0,
              "ticks": ""
             }
            },
            "marker": {
             "colorbar": {
              "outlinewidth": 0,
              "ticks": ""
             }
            },
            "type": "scatter3d"
           }
          ],
          "scattercarpet": [
           {
            "marker": {
             "colorbar": {
              "outlinewidth": 0,
              "ticks": ""
             }
            },
            "type": "scattercarpet"
           }
          ],
          "scattergeo": [
           {
            "marker": {
             "colorbar": {
              "outlinewidth": 0,
              "ticks": ""
             }
            },
            "type": "scattergeo"
           }
          ],
          "scattergl": [
           {
            "marker": {
             "colorbar": {
              "outlinewidth": 0,
              "ticks": ""
             }
            },
            "type": "scattergl"
           }
          ],
          "scattermapbox": [
           {
            "marker": {
             "colorbar": {
              "outlinewidth": 0,
              "ticks": ""
             }
            },
            "type": "scattermapbox"
           }
          ],
          "scatterpolar": [
           {
            "marker": {
             "colorbar": {
              "outlinewidth": 0,
              "ticks": ""
             }
            },
            "type": "scatterpolar"
           }
          ],
          "scatterpolargl": [
           {
            "marker": {
             "colorbar": {
              "outlinewidth": 0,
              "ticks": ""
             }
            },
            "type": "scatterpolargl"
           }
          ],
          "scatterternary": [
           {
            "marker": {
             "colorbar": {
              "outlinewidth": 0,
              "ticks": ""
             }
            },
            "type": "scatterternary"
           }
          ],
          "surface": [
           {
            "colorbar": {
             "outlinewidth": 0,
             "ticks": ""
            },
            "colorscale": [
             [
              0,
              "#0d0887"
             ],
             [
              0.1111111111111111,
              "#46039f"
             ],
             [
              0.2222222222222222,
              "#7201a8"
             ],
             [
              0.3333333333333333,
              "#9c179e"
             ],
             [
              0.4444444444444444,
              "#bd3786"
             ],
             [
              0.5555555555555556,
              "#d8576b"
             ],
             [
              0.6666666666666666,
              "#ed7953"
             ],
             [
              0.7777777777777778,
              "#fb9f3a"
             ],
             [
              0.8888888888888888,
              "#fdca26"
             ],
             [
              1,
              "#f0f921"
             ]
            ],
            "type": "surface"
           }
          ],
          "table": [
           {
            "cells": {
             "fill": {
              "color": "#EBF0F8"
             },
             "line": {
              "color": "white"
             }
            },
            "header": {
             "fill": {
              "color": "#C8D4E3"
             },
             "line": {
              "color": "white"
             }
            },
            "type": "table"
           }
          ]
         },
         "layout": {
          "annotationdefaults": {
           "arrowcolor": "#2a3f5f",
           "arrowhead": 0,
           "arrowwidth": 1
          },
          "coloraxis": {
           "colorbar": {
            "outlinewidth": 0,
            "ticks": ""
           }
          },
          "colorscale": {
           "diverging": [
            [
             0,
             "#8e0152"
            ],
            [
             0.1,
             "#c51b7d"
            ],
            [
             0.2,
             "#de77ae"
            ],
            [
             0.3,
             "#f1b6da"
            ],
            [
             0.4,
             "#fde0ef"
            ],
            [
             0.5,
             "#f7f7f7"
            ],
            [
             0.6,
             "#e6f5d0"
            ],
            [
             0.7,
             "#b8e186"
            ],
            [
             0.8,
             "#7fbc41"
            ],
            [
             0.9,
             "#4d9221"
            ],
            [
             1,
             "#276419"
            ]
           ],
           "sequential": [
            [
             0,
             "#0d0887"
            ],
            [
             0.1111111111111111,
             "#46039f"
            ],
            [
             0.2222222222222222,
             "#7201a8"
            ],
            [
             0.3333333333333333,
             "#9c179e"
            ],
            [
             0.4444444444444444,
             "#bd3786"
            ],
            [
             0.5555555555555556,
             "#d8576b"
            ],
            [
             0.6666666666666666,
             "#ed7953"
            ],
            [
             0.7777777777777778,
             "#fb9f3a"
            ],
            [
             0.8888888888888888,
             "#fdca26"
            ],
            [
             1,
             "#f0f921"
            ]
           ],
           "sequentialminus": [
            [
             0,
             "#0d0887"
            ],
            [
             0.1111111111111111,
             "#46039f"
            ],
            [
             0.2222222222222222,
             "#7201a8"
            ],
            [
             0.3333333333333333,
             "#9c179e"
            ],
            [
             0.4444444444444444,
             "#bd3786"
            ],
            [
             0.5555555555555556,
             "#d8576b"
            ],
            [
             0.6666666666666666,
             "#ed7953"
            ],
            [
             0.7777777777777778,
             "#fb9f3a"
            ],
            [
             0.8888888888888888,
             "#fdca26"
            ],
            [
             1,
             "#f0f921"
            ]
           ]
          },
          "colorway": [
           "#636efa",
           "#EF553B",
           "#00cc96",
           "#ab63fa",
           "#FFA15A",
           "#19d3f3",
           "#FF6692",
           "#B6E880",
           "#FF97FF",
           "#FECB52"
          ],
          "font": {
           "color": "#2a3f5f"
          },
          "geo": {
           "bgcolor": "white",
           "lakecolor": "white",
           "landcolor": "#E5ECF6",
           "showlakes": true,
           "showland": true,
           "subunitcolor": "white"
          },
          "hoverlabel": {
           "align": "left"
          },
          "hovermode": "closest",
          "mapbox": {
           "style": "light"
          },
          "paper_bgcolor": "white",
          "plot_bgcolor": "#E5ECF6",
          "polar": {
           "angularaxis": {
            "gridcolor": "white",
            "linecolor": "white",
            "ticks": ""
           },
           "bgcolor": "#E5ECF6",
           "radialaxis": {
            "gridcolor": "white",
            "linecolor": "white",
            "ticks": ""
           }
          },
          "scene": {
           "xaxis": {
            "backgroundcolor": "#E5ECF6",
            "gridcolor": "white",
            "gridwidth": 2,
            "linecolor": "white",
            "showbackground": true,
            "ticks": "",
            "zerolinecolor": "white"
           },
           "yaxis": {
            "backgroundcolor": "#E5ECF6",
            "gridcolor": "white",
            "gridwidth": 2,
            "linecolor": "white",
            "showbackground": true,
            "ticks": "",
            "zerolinecolor": "white"
           },
           "zaxis": {
            "backgroundcolor": "#E5ECF6",
            "gridcolor": "white",
            "gridwidth": 2,
            "linecolor": "white",
            "showbackground": true,
            "ticks": "",
            "zerolinecolor": "white"
           }
          },
          "shapedefaults": {
           "line": {
            "color": "#2a3f5f"
           }
          },
          "ternary": {
           "aaxis": {
            "gridcolor": "white",
            "linecolor": "white",
            "ticks": ""
           },
           "baxis": {
            "gridcolor": "white",
            "linecolor": "white",
            "ticks": ""
           },
           "bgcolor": "#E5ECF6",
           "caxis": {
            "gridcolor": "white",
            "linecolor": "white",
            "ticks": ""
           }
          },
          "title": {
           "x": 0.05
          },
          "xaxis": {
           "automargin": true,
           "gridcolor": "white",
           "linecolor": "white",
           "ticks": "",
           "title": {
            "standoff": 15
           },
           "zerolinecolor": "white",
           "zerolinewidth": 2
          },
          "yaxis": {
           "automargin": true,
           "gridcolor": "white",
           "linecolor": "white",
           "ticks": "",
           "title": {
            "standoff": 15
           },
           "zerolinecolor": "white",
           "zerolinewidth": 2
          }
         }
        },
        "title": {
         "text": "2D Cluster PCA Plot"
        },
        "xaxis": {
         "anchor": "y",
         "domain": [
          0,
          1
         ],
         "title": {
          "text": "PCA1"
         }
        },
        "yaxis": {
         "anchor": "x",
         "domain": [
          0,
          1
         ],
         "title": {
          "text": "PCA2"
         }
        }
       }
      },
      "text/html": [
       "<div>\n",
       "        \n",
       "        \n",
       "            <div id=\"f55f83c3-60f1-42f2-8450-6b45ebef57a0\" class=\"plotly-graph-div\" style=\"height:600px; width:100%;\"></div>\n",
       "            <script type=\"text/javascript\">\n",
       "                require([\"plotly\"], function(Plotly) {\n",
       "                    window.PLOTLYENV=window.PLOTLYENV || {};\n",
       "                    \n",
       "                if (document.getElementById(\"f55f83c3-60f1-42f2-8450-6b45ebef57a0\")) {\n",
       "                    Plotly.newPlot(\n",
       "                        'f55f83c3-60f1-42f2-8450-6b45ebef57a0',\n",
       "                        [{\"hoverlabel\": {\"namelength\": 0}, \"hovertemplate\": \"Cluster=Cluster 0<br>PCA1=%{x}<br>PCA2=%{y}<br>Label=%{text}\", \"legendgroup\": \"Cluster=Cluster 0\", \"marker\": {\"color\": \"#636efa\", \"opacity\": 0.5, \"symbol\": \"circle\"}, \"mode\": \"markers+text\", \"name\": \"Cluster=Cluster 0\", \"showlegend\": true, \"text\": [\"Afghanistan\", \"Albania\", \"Algeria\", \"Angola\", \"Antigua and Barbuda\", \"Argentina\", \"Armenia\", \"Australia\", \"Austria\", \"Azerbaijan\", \"Bahamas\", \"Bahrain\", \"Bangladesh\", \"Barbados\", \"Belarus\", \"Belgium\", \"Belize\", \"Benin\", \"Bhutan\", \"Bolivia\", \"Bosnia and Herzegovina\", \"Botswana\", \"Brazil\", \"Brunei\", \"Bulgaria\", \"Burkina Faso\", \"Burundi\", \"Cambodia\", \"Cameroon\", \"Canada\", \"Cape Verde\", \"Central African Republic\", \"Chad\", \"Chile\", \"China\", \"Colombia\", \"Comoros\", \"Congo, Dem. Rep.\", \"Congo, Rep.\", \"Costa Rica\", \"Cote d'Ivoire\", \"Croatia\", \"Cyprus\", \"Czech Republic\", \"Denmark\", \"Dominican Republic\", \"Ecuador\", \"Egypt\", \"El Salvador\", \"Equatorial Guinea\", \"Eritrea\", \"Estonia\", \"Fiji\", \"Finland\", \"France\", \"Gabon\", \"Gambia\", \"Georgia\", \"Germany\", \"Ghana\", \"Greece\", \"Grenada\", \"Guatemala\", \"Guinea\", \"Guinea-Bissau\", \"Guyana\", \"Haiti\", \"Hungary\", \"Iceland\", \"India\", \"Indonesia\", \"Iran\", \"Iraq\", \"Ireland\", \"Israel\", \"Italy\", \"Jamaica\", \"Japan\", \"Jordan\", \"Kazakhstan\", \"Kenya\", \"Kiribati\", \"Kuwait\", \"Kyrgyz Republic\", \"Lao\", \"Latvia\", \"Lebanon\", \"Lesotho\", \"Liberia\", \"Libya\", \"Lithuania\", \"Luxembourg\", \"Macedonia, FYR\", \"Madagascar\", \"Malawi\", \"Malaysia\", \"Maldives\", \"Mali\", \"Malta\", \"Mauritania\", \"Mauritius\", \"Micronesia, Fed. Sts.\", \"Moldova\", \"Mongolia\", \"Montenegro\", \"Morocco\"], \"textposition\": \"top center\", \"type\": \"scatter\", \"x\": [-0.3399698801948983, 1.1086010069884509, 1.2308284212408394, 0.9260927074506532, -2.371970474867687, 0.733210319106411, 1.4097881234543073, -1.773580231717665, -1.8031513987910879, 1.1719907605412048, 1.1888398448812452, -1.5277699460302716, -1.887451056782132, -1.2444643640093285, -1.2392168622446325, -0.29334649971037, 0.160142643273148, 0.018609300222763157, -1.0292281606558107, -0.0010646119252015905, -0.9547501236855881, 1.9180624515345324, 1.8391601264895352, 0.6022316119482037, -0.3227814648557305, 0.40143770458077566, -0.4639361653924422, -0.755008538074128, -1.9539274713989878, 0.8997750553071076, -0.38092879543955754, -1.1918373558294262, -0.8062091357080172, 2.279491706438039, 2.0297236995727923, -0.5755721548711336, 0.026623465166130674, 1.6025977456332459, 0.8324201868879202, -2.3194238672962344, -0.5628976320853276, 0.17167473056172172, 0.16376154366827578, 0.5727927042682206, 1.217827536013885, -0.7827458706662414, -0.020635451875821092, 0.11784622431902912, 1.1637842932406435, -2.360347181921756, -4.912066145268682, -1.307089846849574, -1.0433747144410417, -1.8371977355130837, -0.23287015644280784, 1.0266838915521104, -0.9449755375621794, 0.5095394527308884, -0.6635031249243221, 0.14550479926578902, -1.3428257947703712, -2.0541669295167915, -1.7256764076372648, -1.1238509345045733, 1.0813741969947293, 0.12114611965106983, 0.05748198032756765, 0.951656055427364, 0.5800251522399535, 0.6173125975107291, -0.15580145212391755, 0.3022997997848783, -0.8535289439327013, -0.8206311312965877, -0.5510355640952447, 0.9065945150342409, 0.21125544693609935, 0.49852438549309586, 0.14078136091759916, -0.8820876389925558, -0.15657096223455264, -0.7938515610201613, -0.5824118671980261, 1.1488634359443217, 0.9378266149945542, 2.0532632868341705, 0.42991132993193903, 0.3219422066451594, -0.28522507737005354, -1.4217145532419797, -2.9324226542292786, 1.033575866470834, 0.022407261573744775, -0.18882840907251305, 1.6590833964277043, -2.474695897621836, -1.2934228376741719, 2.17445492009888, -0.10158373658107318, 0.0818678445362319, -0.18148699731199303, -0.8481866985512951, 0.009618332404326649, -0.23110292277446673, 1.2687438639868245, 0.9958671428099963], \"xaxis\": \"x\", \"y\": [1.298196412028728, 1.0093142609302532, 1.601748635119904, 0.8282306552663815, -1.1775129456893179, -0.09486743144697905, 0.7298331976042439, 1.0533986657263918, 2.037850979263371, -0.25629511214232337, 0.16204003453331328, 0.5457868911492437, -0.10945301487766569, -0.02891743163179078, 0.36913841094404487, -0.2375254341072854, 0.5410651720875431, -0.2389613042912831, -0.28326932294249807, -1.334349594888411, -0.73236178641182, -0.42746824472561024, 1.2729649266968381, 0.17343570796484428, 1.3613413588025718, -1.4119897338384444, 1.2918734692462939, -0.08789385675039267, 1.3833845233477782, 0.4164797807097396, 0.10177362904942518, -0.5567571642158563, 1.303490588708547, 0.195275226262633, 1.0504074455853811, -0.9975514782350992, -0.01606408150992594, 2.939120570125813, -0.8693259964626732, -0.7694073280346779, -0.02210439599746612, -0.09480764089342629, -1.066678481739745, -0.6373848425228693, -0.6591689610716259, -0.09649809045121278, -1.0866174117971699, 0.3610311400908256, 1.115276203550595, -0.4793996460991728, -0.09449868457582908, -0.7890486310126524, 1.0028411182968011, -1.6136689946078104, -0.2810277686782203, -0.257641566305715, 0.5297995619110997, 0.16165834016735056, -0.6139108370318473, -0.4313363663231772, -0.535138945752705, 0.38003439318869675, 2.1763489504338636, -0.9613974045352963, -0.4819695301363489, -1.7689091360987843, -1.1899965198293483, -1.0764282701637706, 0.5353268339800463, -1.4304772329442994, 0.35123545761455505, -0.09757106690804017, -0.654485112041944, 0.6395700721266818, -1.233886181833995, 0.030277605445236517, 0.6992426623417202, 1.3907443156342512, -2.151077305829435, 0.457368180325628, 0.7773956172959949, -0.12026108495344011, 0.8948203322738482, -0.8448120464284765, -1.3504723760959656, 0.4231982799720612, -0.5881556664217006, -0.5182552248417767, -0.45517441333976927, 0.31972335837300164, 1.6955550705215505, 0.13665870884234976, -1.7791865758294882, 1.0717645827004318, 1.0215644729461153, -0.6180252364945555, 2.363694551720766, -0.004510447367103709, -0.5682517238414191, -0.5678039433428776, -0.4028658734836365, -0.8198189017563567, -1.045220967077361, -0.8806413020766561, -0.6565883632526904, -0.9718884391705799], \"yaxis\": \"y\"}, {\"hoverlabel\": {\"namelength\": 0}, \"hovertemplate\": \"Cluster=Cluster 1<br>PCA1=%{x}<br>PCA2=%{y}<br>Label=%{text}\", \"legendgroup\": \"Cluster=Cluster 1\", \"marker\": {\"color\": \"#EF553B\", \"opacity\": 0.5, \"symbol\": \"circle\"}, \"mode\": \"markers+text\", \"name\": \"Cluster=Cluster 1\", \"showlegend\": true, \"text\": [\"Mozambique\", \"Myanmar\", \"Namibia\", \"Nepal\", \"Netherlands\", \"New Zealand\", \"Niger\", \"Nigeria\", \"Norway\", \"Oman\", \"Pakistan\", \"Panama\", \"Paraguay\", \"Peru\", \"Philippines\", \"Poland\", \"Portugal\", \"Qatar\", \"Romania\", \"Russia\", \"Rwanda\", \"Samoa\", \"Saudi Arabia\", \"Senegal\", \"Serbia\", \"Seychelles\", \"Sierra Leone\", \"Singapore\", \"Slovak Republic\", \"Slovenia\", \"Solomon Islands\"], \"textposition\": \"top center\", \"type\": \"scatter\", \"x\": [2.9737636642043075, 3.14378596126314, 1.8140674832663055, 4.242296344683008, 1.6709963959114906, 0.8559358125570676, 1.1273866523714147, 2.342164609685883, 2.5436305500063714, 2.8183228570177143, 2.6714219518476936, 2.2542707953098287, 2.458960191794522, 2.480923956777538, 3.668628044515047, 1.4853166588896078, 2.165809950508855, 2.265881986853447, 3.010491821376779, 3.721195131644587, 2.4656587034837187, 2.4271412529402863, 2.0679899333170906, 2.641205831038741, 1.7794929410031541, 4.08854412570013, 2.4600860882799953, 3.3791572717097327, 1.8157466593464635, 0.8189430506398399, 2.019197211127392], \"xaxis\": \"x\", \"y\": [-0.7346886586078265, 0.663547920750989, -1.4508865366121566, -0.19560367370629878, 0.5611624925384956, -0.18344075868104018, 0.4916111359957953, -1.9884591539619911, -1.7270946979437052, -0.914480967602347, -1.2736099005828196, -1.8666381291670744, -1.0761429369309727, -0.6347019259053999, 1.7294931689378288, -1.0492243637123575, -1.7724854795157485, -2.4355938335820557, -0.8655487291060753, -1.4472549790076814, 0.08804977845740093, 1.1518130739301622, -1.5353134941962447, -2.9973644598194515, -1.7653969323374876, -0.42946190887019353, 0.016454043645934793, 0.11570244168414895, -1.5847236873694532, 0.38984165994536696, -1.7843824558891752], \"yaxis\": \"y\"}, {\"hoverlabel\": {\"namelength\": 0}, \"hovertemplate\": \"Cluster=Cluster 2<br>PCA1=%{x}<br>PCA2=%{y}<br>Label=%{text}\", \"legendgroup\": \"Cluster=Cluster 2\", \"marker\": {\"color\": \"#00cc96\", \"opacity\": 0.5, \"symbol\": \"circle\"}, \"mode\": \"markers+text\", \"name\": \"Cluster=Cluster 2\", \"showlegend\": true, \"text\": [\"South Africa\", \"South Korea\", \"Spain\", \"Sri Lanka\", \"St. Vincent and the Grenadines\", \"Sudan\", \"Suriname\", \"Sweden\", \"Switzerland\", \"Tajikistan\", \"Tanzania\", \"Thailand\", \"Timor-Leste\", \"Togo\", \"Tonga\", \"Tunisia\", \"Turkey\", \"Turkmenistan\", \"Uganda\", \"Ukraine\", \"United Arab Emirates\", \"United Kingdom\", \"United States\", \"Uruguay\", \"Uzbekistan\", \"Vanuatu\", \"Venezuela\"], \"textposition\": \"top center\", \"type\": \"scatter\", \"x\": [-1.9976422478014089, -2.554049188161364, -2.854836240303583, -2.91302458739659, -3.381624785588485, -2.672313879357949, -3.12205343640915, -2.8989706793026806, -2.807908574902413, -3.964964019489449, -3.557555202700283, -2.093556430840306, -3.1733701154043734, -2.581706232957871, -2.2136695827033845, -2.9695294733720465, -2.8336164728613307, -4.409717274974035, -1.8747024727806507, -2.1360086738058897, -2.979885252790295, -3.4122551274393196, -2.920540508926726, -3.4501677370115202, -1.6797035613689042, -1.9121703067898739, -2.864063918124883], \"xaxis\": \"x\", \"y\": [0.9583615863528264, -0.2150279555097998, -0.3520823821824582, 0.09562057550551283, -0.2363015158737235, 0.41817212457901026, 0.038774968791843334, -0.4226633278788089, 0.07864889686740628, 0.3866193194206716, 1.2891280920966908, 0.3436009878116034, 1.0503816332379707, 1.207873422211634, 0.2234958962445184, 0.7285337855948678, -0.09112819501299553, 1.7422304851976385, -0.17102996726554429, 0.3427330416914542, 0.21662241913399372, 0.5614685136080807, 0.893270293519948, 0.969922452257618, -1.0016286214160532, 0.09155993466113883, 0.48599798549964585], \"yaxis\": \"y\"}, {\"hoverlabel\": {\"namelength\": 0}, \"hovertemplate\": \"Cluster=Cluster 3<br>PCA1=%{x}<br>PCA2=%{y}<br>Label=%{text}\", \"legendgroup\": \"Cluster=Cluster 3\", \"marker\": {\"color\": \"#ab63fa\", \"opacity\": 0.5, \"symbol\": \"circle\"}, \"mode\": \"markers+text\", \"name\": \"Cluster=Cluster 3\", \"showlegend\": true, \"text\": [\"Vietnam\", \"Yemen\", \"Zambia\"], \"textposition\": \"top center\", \"type\": \"scatter\", \"x\": [6.917754960193382, 3.6795425972565043, 5.783376296512426], \"xaxis\": \"x\", \"y\": [4.849843686160702, 4.765486050245486, 6.682090283921624], \"yaxis\": \"y\"}],\n",
       "                        {\"height\": 600, \"legend\": {\"tracegroupgap\": 0}, \"margin\": {\"t\": 60}, \"plot_bgcolor\": \"rgb(240,240,240)\", \"template\": {\"data\": {\"bar\": [{\"error_x\": {\"color\": \"#2a3f5f\"}, \"error_y\": {\"color\": \"#2a3f5f\"}, \"marker\": {\"line\": {\"color\": \"#E5ECF6\", \"width\": 0.5}}, \"type\": \"bar\"}], \"barpolar\": [{\"marker\": {\"line\": {\"color\": \"#E5ECF6\", \"width\": 0.5}}, \"type\": \"barpolar\"}], \"carpet\": [{\"aaxis\": {\"endlinecolor\": \"#2a3f5f\", \"gridcolor\": \"white\", \"linecolor\": \"white\", \"minorgridcolor\": \"white\", \"startlinecolor\": \"#2a3f5f\"}, \"baxis\": {\"endlinecolor\": \"#2a3f5f\", \"gridcolor\": \"white\", \"linecolor\": \"white\", \"minorgridcolor\": \"white\", \"startlinecolor\": \"#2a3f5f\"}, \"type\": \"carpet\"}], \"choropleth\": [{\"colorbar\": {\"outlinewidth\": 0, \"ticks\": \"\"}, \"type\": \"choropleth\"}], \"contour\": [{\"colorbar\": {\"outlinewidth\": 0, \"ticks\": \"\"}, \"colorscale\": [[0.0, \"#0d0887\"], [0.1111111111111111, \"#46039f\"], [0.2222222222222222, \"#7201a8\"], [0.3333333333333333, \"#9c179e\"], [0.4444444444444444, \"#bd3786\"], [0.5555555555555556, \"#d8576b\"], [0.6666666666666666, \"#ed7953\"], [0.7777777777777778, \"#fb9f3a\"], [0.8888888888888888, \"#fdca26\"], [1.0, \"#f0f921\"]], \"type\": \"contour\"}], \"contourcarpet\": [{\"colorbar\": {\"outlinewidth\": 0, \"ticks\": \"\"}, \"type\": \"contourcarpet\"}], \"heatmap\": [{\"colorbar\": {\"outlinewidth\": 0, \"ticks\": \"\"}, \"colorscale\": [[0.0, \"#0d0887\"], [0.1111111111111111, \"#46039f\"], [0.2222222222222222, \"#7201a8\"], [0.3333333333333333, \"#9c179e\"], [0.4444444444444444, \"#bd3786\"], [0.5555555555555556, \"#d8576b\"], [0.6666666666666666, \"#ed7953\"], [0.7777777777777778, \"#fb9f3a\"], [0.8888888888888888, \"#fdca26\"], [1.0, \"#f0f921\"]], \"type\": \"heatmap\"}], \"heatmapgl\": [{\"colorbar\": {\"outlinewidth\": 0, \"ticks\": \"\"}, \"colorscale\": [[0.0, \"#0d0887\"], [0.1111111111111111, \"#46039f\"], [0.2222222222222222, \"#7201a8\"], [0.3333333333333333, \"#9c179e\"], [0.4444444444444444, \"#bd3786\"], [0.5555555555555556, \"#d8576b\"], [0.6666666666666666, \"#ed7953\"], [0.7777777777777778, \"#fb9f3a\"], [0.8888888888888888, \"#fdca26\"], [1.0, \"#f0f921\"]], \"type\": \"heatmapgl\"}], \"histogram\": [{\"marker\": {\"colorbar\": {\"outlinewidth\": 0, \"ticks\": \"\"}}, \"type\": \"histogram\"}], \"histogram2d\": [{\"colorbar\": {\"outlinewidth\": 0, \"ticks\": \"\"}, \"colorscale\": [[0.0, \"#0d0887\"], [0.1111111111111111, \"#46039f\"], [0.2222222222222222, \"#7201a8\"], [0.3333333333333333, \"#9c179e\"], [0.4444444444444444, \"#bd3786\"], [0.5555555555555556, \"#d8576b\"], [0.6666666666666666, \"#ed7953\"], [0.7777777777777778, \"#fb9f3a\"], [0.8888888888888888, \"#fdca26\"], [1.0, \"#f0f921\"]], \"type\": \"histogram2d\"}], \"histogram2dcontour\": [{\"colorbar\": {\"outlinewidth\": 0, \"ticks\": \"\"}, \"colorscale\": [[0.0, \"#0d0887\"], [0.1111111111111111, \"#46039f\"], [0.2222222222222222, \"#7201a8\"], [0.3333333333333333, \"#9c179e\"], [0.4444444444444444, \"#bd3786\"], [0.5555555555555556, \"#d8576b\"], [0.6666666666666666, \"#ed7953\"], [0.7777777777777778, \"#fb9f3a\"], [0.8888888888888888, \"#fdca26\"], [1.0, \"#f0f921\"]], \"type\": \"histogram2dcontour\"}], \"mesh3d\": [{\"colorbar\": {\"outlinewidth\": 0, \"ticks\": \"\"}, \"type\": \"mesh3d\"}], \"parcoords\": [{\"line\": {\"colorbar\": {\"outlinewidth\": 0, \"ticks\": \"\"}}, \"type\": \"parcoords\"}], \"pie\": [{\"automargin\": true, \"type\": \"pie\"}], \"scatter\": [{\"marker\": {\"colorbar\": {\"outlinewidth\": 0, \"ticks\": \"\"}}, \"type\": \"scatter\"}], \"scatter3d\": [{\"line\": {\"colorbar\": {\"outlinewidth\": 0, \"ticks\": \"\"}}, \"marker\": {\"colorbar\": {\"outlinewidth\": 0, \"ticks\": \"\"}}, \"type\": \"scatter3d\"}], \"scattercarpet\": [{\"marker\": {\"colorbar\": {\"outlinewidth\": 0, \"ticks\": \"\"}}, \"type\": \"scattercarpet\"}], \"scattergeo\": [{\"marker\": {\"colorbar\": {\"outlinewidth\": 0, \"ticks\": \"\"}}, \"type\": \"scattergeo\"}], \"scattergl\": [{\"marker\": {\"colorbar\": {\"outlinewidth\": 0, \"ticks\": \"\"}}, \"type\": \"scattergl\"}], \"scattermapbox\": [{\"marker\": {\"colorbar\": {\"outlinewidth\": 0, \"ticks\": \"\"}}, \"type\": \"scattermapbox\"}], \"scatterpolar\": [{\"marker\": {\"colorbar\": {\"outlinewidth\": 0, \"ticks\": \"\"}}, \"type\": \"scatterpolar\"}], \"scatterpolargl\": [{\"marker\": {\"colorbar\": {\"outlinewidth\": 0, \"ticks\": \"\"}}, \"type\": \"scatterpolargl\"}], \"scatterternary\": [{\"marker\": {\"colorbar\": {\"outlinewidth\": 0, \"ticks\": \"\"}}, \"type\": \"scatterternary\"}], \"surface\": [{\"colorbar\": {\"outlinewidth\": 0, \"ticks\": \"\"}, \"colorscale\": [[0.0, \"#0d0887\"], [0.1111111111111111, \"#46039f\"], [0.2222222222222222, \"#7201a8\"], [0.3333333333333333, \"#9c179e\"], [0.4444444444444444, \"#bd3786\"], [0.5555555555555556, \"#d8576b\"], [0.6666666666666666, \"#ed7953\"], [0.7777777777777778, \"#fb9f3a\"], [0.8888888888888888, \"#fdca26\"], [1.0, \"#f0f921\"]], \"type\": \"surface\"}], \"table\": [{\"cells\": {\"fill\": {\"color\": \"#EBF0F8\"}, \"line\": {\"color\": \"white\"}}, \"header\": {\"fill\": {\"color\": \"#C8D4E3\"}, \"line\": {\"color\": \"white\"}}, \"type\": \"table\"}]}, \"layout\": {\"annotationdefaults\": {\"arrowcolor\": \"#2a3f5f\", \"arrowhead\": 0, \"arrowwidth\": 1}, \"coloraxis\": {\"colorbar\": {\"outlinewidth\": 0, \"ticks\": \"\"}}, \"colorscale\": {\"diverging\": [[0, \"#8e0152\"], [0.1, \"#c51b7d\"], [0.2, \"#de77ae\"], [0.3, \"#f1b6da\"], [0.4, \"#fde0ef\"], [0.5, \"#f7f7f7\"], [0.6, \"#e6f5d0\"], [0.7, \"#b8e186\"], [0.8, \"#7fbc41\"], [0.9, \"#4d9221\"], [1, \"#276419\"]], \"sequential\": [[0.0, \"#0d0887\"], [0.1111111111111111, \"#46039f\"], [0.2222222222222222, \"#7201a8\"], [0.3333333333333333, \"#9c179e\"], [0.4444444444444444, \"#bd3786\"], [0.5555555555555556, \"#d8576b\"], [0.6666666666666666, \"#ed7953\"], [0.7777777777777778, \"#fb9f3a\"], [0.8888888888888888, \"#fdca26\"], [1.0, \"#f0f921\"]], \"sequentialminus\": [[0.0, \"#0d0887\"], [0.1111111111111111, \"#46039f\"], [0.2222222222222222, \"#7201a8\"], [0.3333333333333333, \"#9c179e\"], [0.4444444444444444, \"#bd3786\"], [0.5555555555555556, \"#d8576b\"], [0.6666666666666666, \"#ed7953\"], [0.7777777777777778, \"#fb9f3a\"], [0.8888888888888888, \"#fdca26\"], [1.0, \"#f0f921\"]]}, \"colorway\": [\"#636efa\", \"#EF553B\", \"#00cc96\", \"#ab63fa\", \"#FFA15A\", \"#19d3f3\", \"#FF6692\", \"#B6E880\", \"#FF97FF\", \"#FECB52\"], \"font\": {\"color\": \"#2a3f5f\"}, \"geo\": {\"bgcolor\": \"white\", \"lakecolor\": \"white\", \"landcolor\": \"#E5ECF6\", \"showlakes\": true, \"showland\": true, \"subunitcolor\": \"white\"}, \"hoverlabel\": {\"align\": \"left\"}, \"hovermode\": \"closest\", \"mapbox\": {\"style\": \"light\"}, \"paper_bgcolor\": \"white\", \"plot_bgcolor\": \"#E5ECF6\", \"polar\": {\"angularaxis\": {\"gridcolor\": \"white\", \"linecolor\": \"white\", \"ticks\": \"\"}, \"bgcolor\": \"#E5ECF6\", \"radialaxis\": {\"gridcolor\": \"white\", \"linecolor\": \"white\", \"ticks\": \"\"}}, \"scene\": {\"xaxis\": {\"backgroundcolor\": \"#E5ECF6\", \"gridcolor\": \"white\", \"gridwidth\": 2, \"linecolor\": \"white\", \"showbackground\": true, \"ticks\": \"\", \"zerolinecolor\": \"white\"}, \"yaxis\": {\"backgroundcolor\": \"#E5ECF6\", \"gridcolor\": \"white\", \"gridwidth\": 2, \"linecolor\": \"white\", \"showbackground\": true, \"ticks\": \"\", \"zerolinecolor\": \"white\"}, \"zaxis\": {\"backgroundcolor\": \"#E5ECF6\", \"gridcolor\": \"white\", \"gridwidth\": 2, \"linecolor\": \"white\", \"showbackground\": true, \"ticks\": \"\", \"zerolinecolor\": \"white\"}}, \"shapedefaults\": {\"line\": {\"color\": \"#2a3f5f\"}}, \"ternary\": {\"aaxis\": {\"gridcolor\": \"white\", \"linecolor\": \"white\", \"ticks\": \"\"}, \"baxis\": {\"gridcolor\": \"white\", \"linecolor\": \"white\", \"ticks\": \"\"}, \"bgcolor\": \"#E5ECF6\", \"caxis\": {\"gridcolor\": \"white\", \"linecolor\": \"white\", \"ticks\": \"\"}}, \"title\": {\"x\": 0.05}, \"xaxis\": {\"automargin\": true, \"gridcolor\": \"white\", \"linecolor\": \"white\", \"ticks\": \"\", \"title\": {\"standoff\": 15}, \"zerolinecolor\": \"white\", \"zerolinewidth\": 2}, \"yaxis\": {\"automargin\": true, \"gridcolor\": \"white\", \"linecolor\": \"white\", \"ticks\": \"\", \"title\": {\"standoff\": 15}, \"zerolinecolor\": \"white\", \"zerolinewidth\": 2}}}, \"title\": {\"text\": \"2D Cluster PCA Plot\"}, \"xaxis\": {\"anchor\": \"y\", \"domain\": [0.0, 1.0], \"title\": {\"text\": \"PCA1\"}}, \"yaxis\": {\"anchor\": \"x\", \"domain\": [0.0, 1.0], \"title\": {\"text\": \"PCA2\"}}},\n",
       "                        {\"responsive\": true}\n",
       "                    ).then(function(){\n",
       "                            \n",
       "var gd = document.getElementById('f55f83c3-60f1-42f2-8450-6b45ebef57a0');\n",
       "var x = new MutationObserver(function (mutations, observer) {{\n",
       "        var display = window.getComputedStyle(gd).display;\n",
       "        if (!display || display === 'none') {{\n",
       "            console.log([gd, 'removed!']);\n",
       "            Plotly.purge(gd);\n",
       "            observer.disconnect();\n",
       "        }}\n",
       "}});\n",
       "\n",
       "// Listen for the removal of the full notebook cells\n",
       "var notebookContainer = gd.closest('#notebook-container');\n",
       "if (notebookContainer) {{\n",
       "    x.observe(notebookContainer, {childList: true});\n",
       "}}\n",
       "\n",
       "// Listen for the clearing of the current output cell\n",
       "var outputEl = gd.closest('.output');\n",
       "if (outputEl) {{\n",
       "    x.observe(outputEl, {childList: true});\n",
       "}}\n",
       "\n",
       "                        })\n",
       "                };\n",
       "                });\n",
       "            </script>\n",
       "        </div>"
      ]
     },
     "metadata": {},
     "output_type": "display_data"
    }
   ],
   "source": [
    "plot_model(hclust, label=True)"
   ]
  },
  {
   "cell_type": "code",
   "execution_count": 11,
   "metadata": {},
   "outputs": [
    {
     "data": {
      "text/html": [
       "        <script type=\"text/javascript\">\n",
       "        window.PlotlyConfig = {MathJaxConfig: 'local'};\n",
       "        if (window.MathJax) {MathJax.Hub.Config({SVG: {font: \"STIX-Web\"}});}\n",
       "        if (typeof require !== 'undefined') {\n",
       "        require.undef(\"plotly\");\n",
       "        requirejs.config({\n",
       "            paths: {\n",
       "                'plotly': ['https://cdn.plot.ly/plotly-latest.min']\n",
       "            }\n",
       "        });\n",
       "        require(['plotly'], function(Plotly) {\n",
       "            window._Plotly = Plotly;\n",
       "        });\n",
       "        }\n",
       "        </script>\n",
       "        "
      ]
     },
     "metadata": {},
     "output_type": "display_data"
    },
    {
     "data": {
      "application/vnd.plotly.v1+json": {
       "config": {
        "plotlyServerURL": "https://plot.ly"
       },
       "data": [
        {
         "hoverlabel": {
          "namelength": 0
         },
         "hovertemplate": "Cluster=Cluster 0<br>0=%{x}<br>1=%{y}<br>2=%{z}<br>Label=%{text}",
         "legendgroup": "Cluster=Cluster 0",
         "marker": {
          "color": "#636efa",
          "opacity": 0.7,
          "symbol": "circle"
         },
         "mode": "markers+text",
         "name": "Cluster=Cluster 0",
         "scene": "scene",
         "showlegend": true,
         "text": [
          "Afghanistan",
          "Albania",
          "Algeria",
          "Angola",
          "Antigua and Barbuda",
          "Argentina",
          "Armenia",
          "Australia",
          "Austria",
          "Azerbaijan",
          "Bahamas",
          "Bahrain",
          "Bangladesh",
          "Barbados",
          "Belarus",
          "Belgium",
          "Belize",
          "Benin",
          "Bhutan",
          "Bolivia",
          "Bosnia and Herzegovina",
          "Botswana",
          "Brazil",
          "Brunei",
          "Bulgaria",
          "Burkina Faso",
          "Burundi",
          "Cambodia",
          "Cameroon",
          "Canada",
          "Cape Verde",
          "Central African Republic",
          "Chad",
          "Chile",
          "China",
          "Colombia",
          "Comoros",
          "Congo, Dem. Rep.",
          "Congo, Rep.",
          "Costa Rica",
          "Cote d'Ivoire",
          "Croatia",
          "Cyprus",
          "Czech Republic",
          "Denmark",
          "Dominican Republic",
          "Ecuador",
          "Egypt",
          "El Salvador",
          "Equatorial Guinea",
          "Eritrea",
          "Estonia",
          "Fiji",
          "Finland",
          "France",
          "Gabon",
          "Gambia",
          "Georgia",
          "Germany",
          "Ghana",
          "Greece",
          "Grenada",
          "Guatemala",
          "Guinea",
          "Guinea-Bissau",
          "Guyana",
          "Haiti",
          "Hungary",
          "Iceland",
          "India",
          "Indonesia",
          "Iran",
          "Iraq",
          "Ireland",
          "Israel",
          "Italy",
          "Jamaica",
          "Japan",
          "Jordan",
          "Kazakhstan",
          "Kenya",
          "Kiribati",
          "Kuwait",
          "Kyrgyz Republic",
          "Lao",
          "Latvia",
          "Lebanon",
          "Lesotho"
         ],
         "type": "scatter3d",
         "x": [
          -157.6037139892578,
          -126.70421600341797,
          -47.07240295410156,
          35.352230072021484,
          -48.94523239135742,
          3.1221790313720703,
          50.599822998046875,
          -33.10243225097656,
          -33.974525451660156,
          -26.096412658691406,
          -119.46204376220703,
          -39.21469497680664,
          33.05990219116211,
          -32.10060501098633,
          -130.96119689941406,
          -6.765397071838379,
          -32.372901916503906,
          3.9798150062561035,
          49.034584045410156,
          -97.45252990722656,
          7.995233535766602,
          15.286040306091309,
          -25.258785247802734,
          20.276365280151367,
          38.314186096191406,
          -180.78761291503906,
          -33.53348922729492,
          -80.22736358642578,
          7.456057071685791,
          -4.6668009757995605,
          -5.499667644500732,
          -56.20323181152344,
          96.4098892211914,
          -34.178443908691406,
          -90.67491912841797,
          79.72745513916016,
          -134.6320343017578,
          23.111818313598633,
          62.285484313964844,
          42.084999084472656,
          -122.08710479736328,
          45.91106033325195,
          83.33270263671875,
          -72.57069396972656,
          89.12137603759766,
          96.47734069824219,
          9.470235824584961,
          15.519450187683105,
          52.18067169189453,
          57.64519119262695,
          -88.78141784667969,
          -29.579944610595703,
          -3.4265811443328857,
          -41.687095642089844,
          -83.24063110351562,
          -30.81083106994629,
          125.37434387207031,
          88.29121398925781,
          100.75535583496094,
          -46.88237380981445,
          -6.372500896453857,
          -2.836839199066162,
          -69.1444320678711,
          60.4349479675293,
          -7.415241718292236,
          12.242435455322266,
          92.25252532958984,
          -20.150875091552734,
          -59.60942840576172,
          83.93106079101562,
          39.986602783203125,
          -82.3944091796875,
          -47.04518508911133,
          -40.84800720214844,
          93.39462280273438,
          -17.700862884521484,
          41.05862045288086,
          -74.9284439086914,
          -49.225860595703125,
          91.81647491455078,
          60.319034576416016,
          54.26482391357422,
          -5.812294006347656,
          52.231346130371094,
          45.37498092651367,
          -148.8976287841797,
          122.34429168701172,
          22.836498260498047
         ],
         "y": [
          25.714128494262695,
          -80.87660217285156,
          -141.7258758544922,
          -13.596774101257324,
          -1.5487596988677979,
          31.250818252563477,
          -157.5831298828125,
          -109.9531021118164,
          -3.149658679962158,
          94.25493621826172,
          -43.65068435668945,
          -160.6786346435547,
          -135.02432250976562,
          37.003971099853516,
          35.42145919799805,
          -23.903636932373047,
          -57.278114318847656,
          -32.045448303222656,
          36.35008239746094,
          -1.7857723236083984,
          75.15458679199219,
          -112.15907287597656,
          -77.65486907958984,
          -79.19590759277344,
          -90.94031524658203,
          22.719289779663086,
          -100.74008178710938,
          16.433868408203125,
          1.570227861404419,
          21.177417755126953,
          -113.8957748413086,
          -68.57906341552734,
          105.17823028564453,
          -117.62724304199219,
          -71.4705581665039,
          52.6022834777832,
          -98.29536437988281,
          -65.93411254882812,
          -10.108207702636719,
          64.45858764648438,
          -53.718814849853516,
          47.197998046875,
          52.689788818359375,
          64.73778533935547,
          39.239749908447266,
          -61.05042266845703,
          -63.626712799072266,
          65.19004821777344,
          -37.95573043823242,
          110.37387084960938,
          -25.28664779663086,
          5.491794109344482,
          -46.40559768676758,
          -36.1673583984375,
          59.25934982299805,
          68.66315460205078,
          15.042224884033203,
          46.97385025024414,
          62.37967300415039,
          26.290674209594727,
          -23.901336669921875,
          24.79151725769043,
          -37.131103515625,
          24.701095581054688,
          178.29910278320312,
          -98.75279235839844,
          -40.26994323730469,
          79.74747467041016,
          -32.650779724121094,
          -102.64012145996094,
          28.11457633972168,
          5.474684238433838,
          -16.234046936035156,
          40.617835998535156,
          -15.087652206420898,
          -26.276195526123047,
          -173.91329956054688,
          -82.53617095947266,
          -75.45914459228516,
          -0.023265913128852844,
          90.6719970703125,
          -55.936790466308594,
          -38.69812774658203,
          0.3724571466445923,
          -13.645326614379883,
          90.76213073730469,
          23.240676879882812,
          -24.10515594482422
         ],
         "z": [
          26.251861572265625,
          36.990482330322266,
          -35.77660369873047,
          54.65559768676758,
          46.58835220336914,
          14.410202026367188,
          81.49767303466797,
          -86.94273376464844,
          5.6304497718811035,
          92.8940658569336,
          14.012567520141602,
          18.378828048706055,
          -26.386457443237305,
          -33.785186767578125,
          56.11960983276367,
          92.86800384521484,
          -3.2619149684906006,
          6.362984657287598,
          -23.3718204498291,
          45.11951446533203,
          -27.205156326293945,
          11.016810417175293,
          71.67414855957031,
          -69.50556182861328,
          -21.620460510253906,
          -70.00638580322266,
          1.7510193586349487,
          -3.2686376571655273,
          -33.27619552612305,
          56.5345458984375,
          -46.02079391479492,
          -65.22461700439453,
          89.24333953857422,
          63.103492736816406,
          -18.266401290893555,
          -0.5120015144348145,
          -37.2862434387207,
          153.47174072265625,
          -68.71299743652344,
          14.925658226013184,
          97.20594787597656,
          -63.81515121459961,
          -94.56922149658203,
          75.63362121582031,
          102.09613800048828,
          -57.76141357421875,
          106.85707092285156,
          55.456573486328125,
          -28.198814392089844,
          34.55613327026367,
          -18.824825286865234,
          132.67745971679688,
          -34.04792022705078,
          131.36866760253906,
          35.12063980102539,
          149.41563415527344,
          -80.00794219970703,
          -37.91594314575195,
          49.24723815917969,
          85.5274887084961,
          -151.33914184570312,
          99.22122955322266,
          83.99702453613281,
          40.506614685058594,
          -37.11166763305664,
          66.672607421875,
          36.05694580078125,
          13.134503364562988,
          20.888273239135742,
          -89.48672485351562,
          80.51237487792969,
          111.8185806274414,
          -39.798179626464844,
          30.361783981323242,
          -20.73257827758789,
          47.32758712768555,
          10.297286987304688,
          41.830177307128906,
          -138.60418701171875,
          26.241573333740234,
          -126.64106750488281,
          73.98455810546875,
          -93.4908447265625,
          1.0271161794662476,
          116.02550506591797,
          -2.6331610679626465,
          -8.839186668395996,
          -61.32118225097656
         ]
        },
        {
         "hoverlabel": {
          "namelength": 0
         },
         "hovertemplate": "Cluster=Cluster 1<br>0=%{x}<br>1=%{y}<br>2=%{z}<br>Label=%{text}",
         "legendgroup": "Cluster=Cluster 1",
         "marker": {
          "color": "#EF553B",
          "opacity": 0.7,
          "symbol": "circle"
         },
         "mode": "markers+text",
         "name": "Cluster=Cluster 1",
         "scene": "scene",
         "showlegend": true,
         "text": [
          "Liberia",
          "Libya",
          "Lithuania",
          "Luxembourg",
          "Macedonia, FYR",
          "Madagascar",
          "Malawi",
          "Malaysia",
          "Maldives",
          "Mali",
          "Malta",
          "Mauritania",
          "Mauritius",
          "Micronesia, Fed. Sts.",
          "Moldova",
          "Mongolia",
          "Montenegro",
          "Morocco",
          "Mozambique",
          "Myanmar",
          "Namibia",
          "Nepal",
          "Netherlands",
          "New Zealand",
          "Niger",
          "Nigeria",
          "Norway",
          "Oman",
          "Pakistan",
          "Panama"
         ],
         "type": "scatter3d",
         "x": [
          207.48199462890625,
          -43.824745178222656,
          63.99581527709961,
          88.33644104003906,
          103.04877471923828,
          90.24443054199219,
          153.08045959472656,
          -25.274072647094727,
          128.977294921875,
          121.85626983642578,
          -25.952177047729492,
          163.255859375,
          44.83908462524414,
          -70.6215591430664,
          150.36508178710938,
          155.853515625,
          -169.5751953125,
          111.25633239746094,
          24.481523513793945,
          52.53273010253906,
          123.49974060058594,
          35.149227142333984,
          68.8038330078125,
          85.5078353881836,
          65.06645965576172,
          174.73402404785156,
          -82.50786590576172,
          111.48731994628906,
          49.569095611572266,
          132.6243896484375
         ],
         "y": [
          -34.31114196777344,
          -6.748613357543945,
          -123.43207550048828,
          -23.72352409362793,
          -116.21466064453125,
          -54.99725341796875,
          -32.480594635009766,
          -31.336658477783203,
          -76.05411529541016,
          -82.88126373291016,
          -109.33988952636719,
          -58.09052658081055,
          5.78498649597168,
          -102.65154266357422,
          -122.70045471191406,
          13.833155632019043,
          -34.56149673461914,
          -111.30436706542969,
          -69.84927368164062,
          -67.2297134399414,
          -4.038931369781494,
          87.0518798828125,
          -68.76891326904297,
          -105.92379760742188,
          -42.102413177490234,
          -57.45198059082031,
          -27.13913345336914,
          -77.95402526855469,
          113.43508911132812,
          96.59159088134766
         ],
         "z": [
          -2.368091106414795,
          -202.45179748535156,
          33.96107864379883,
          79.32174682617188,
          27.21275520324707,
          143.19869995117188,
          81.94822692871094,
          188.27032470703125,
          9.453725814819336,
          55.2515869140625,
          139.72401428222656,
          -27.87498664855957,
          167.7082977294922,
          120.27498626708984,
          30.04566192626953,
          68.151611328125,
          59.00633239746094,
          -27.640737533569336,
          38.24649429321289,
          -116.72806549072266,
          129.76904296875,
          125.30892181396484,
          13.878634452819824,
          69.89718627929688,
          -157.90489196777344,
          44.32583999633789,
          170.2561798095703,
          100.02471923828125,
          104.7742919921875,
          13.063748359680176
         ]
        },
        {
         "hoverlabel": {
          "namelength": 0
         },
         "hovertemplate": "Cluster=Cluster 2<br>0=%{x}<br>1=%{y}<br>2=%{z}<br>Label=%{text}",
         "legendgroup": "Cluster=Cluster 2",
         "marker": {
          "color": "#00cc96",
          "opacity": 0.7,
          "symbol": "circle"
         },
         "mode": "markers+text",
         "name": "Cluster=Cluster 2",
         "scene": "scene",
         "showlegend": true,
         "text": [
          "Paraguay",
          "Peru",
          "Philippines",
          "Poland",
          "Portugal",
          "Qatar",
          "Romania",
          "Russia",
          "Rwanda",
          "Samoa",
          "Saudi Arabia",
          "Senegal",
          "Serbia",
          "Seychelles",
          "Sierra Leone",
          "Singapore",
          "Slovak Republic",
          "Slovenia",
          "Solomon Islands",
          "South Africa",
          "South Korea",
          "Spain",
          "Sri Lanka",
          "St. Vincent and the Grenadines",
          "Sudan",
          "Suriname",
          "Sweden",
          "Switzerland",
          "Tajikistan",
          "Tanzania",
          "Thailand",
          "Timor-Leste",
          "Togo",
          "Tonga",
          "Tunisia",
          "Turkey",
          "Turkmenistan",
          "Uganda",
          "Ukraine",
          "United Arab Emirates",
          "United Kingdom",
          "United States",
          "Uruguay",
          "Uzbekistan",
          "Vanuatu",
          "Venezuela"
         ],
         "type": "scatter3d",
         "x": [
          91.59999084472656,
          -102.06237030029297,
          -15.337540626525879,
          -80.4400405883789,
          48.025970458984375,
          -98.38478088378906,
          -75.02869415283203,
          -9.390917778015137,
          -20.83270263671875,
          15.92928409576416,
          -128.8568572998047,
          52.620479583740234,
          -24.7141170501709,
          -121.82344818115234,
          -77.73783111572266,
          -68.11266326904297,
          -42.61375427246094,
          -39.10679626464844,
          -58.35685729980469,
          -102.03707885742188,
          -126.63604736328125,
          -47.7288818359375,
          3.4628381729125977,
          -100.16960906982422,
          16.603668212890625,
          47.88583755493164,
          77.02307891845703,
          -40.4669189453125,
          -69.1360855102539,
          -21.09730339050293,
          -96.54460906982422,
          -75.89544677734375,
          141.22763061523438,
          -74.80155181884766,
          -64.82381439208984,
          -119.34309387207031,
          10.401801109313965,
          -66.74934387207031,
          103.1098861694336,
          125.23114776611328,
          -132.3336639404297,
          354.4786376953125,
          65.83393096923828,
          -142.13612365722656,
          -117.41742706298828,
          -100.82540130615234
         ],
         "y": [
          56.94807815551758,
          92.5391616821289,
          139.7466583251953,
          -20.37104606628418,
          8.89320182800293,
          63.257606506347656,
          34.738582611083984,
          -167.9909210205078,
          82.97959899902344,
          146.26797485351562,
          28.97666358947754,
          101.35980224609375,
          122.79682922363281,
          -57.865318298339844,
          140.305419921875,
          7.315400123596191,
          164.98191833496094,
          40.16161346435547,
          138.9565887451172,
          36.43248748779297,
          51.03857421875,
          93.29299926757812,
          106.0063705444336,
          -135.0176544189453,
          123.17337799072266,
          -152.4625244140625,
          119.2228775024414,
          88.49198913574219,
          137.42372131347656,
          16.075754165649414,
          110.74417877197266,
          73.31864166259766,
          51.438995361328125,
          49.259544372558594,
          156.6957550048828,
          4.559978008270264,
          54.056312561035156,
          84.08114624023438,
          28.71076774597168,
          66.84382629394531,
          17.147287368774414,
          264.2600402832031,
          157.68460083007812,
          -29.09377098083496,
          -1.4646040201187134,
          105.92493438720703
         ],
         "z": [
          161.92222595214844,
          -119.89216613769531,
          -100.6707534790039,
          -85.30049896240234,
          -117.11882019042969,
          -31.67622947692871,
          -59.42439651489258,
          75.98159790039062,
          -82.19011688232422,
          1.1821140050888062,
          105.48810577392578,
          -70.70249938964844,
          32.820377349853516,
          -79.73844146728516,
          61.674583435058594,
          -126.66726684570312,
          46.765769958496094,
          -141.3356170654297,
          -63.312522888183594,
          -153.05345153808594,
          -96.23710632324219,
          -39.656349182128906,
          -123.46621704101562,
          6.106368541717529,
          -51.24172592163086,
          -89.08604431152344,
          -35.947105407714844,
          -122.9926528930664,
          -123.4969253540039,
          -85.271484375,
          12.170674324035645,
          -164.67202758789062,
          -67.47319793701172,
          -110.0135726928711,
          2.6701436042785645,
          -127.84595489501953,
          -113.92601013183594,
          -82.69768524169922,
          -131.16444396972656,
          -126.42765808105469,
          -23.08051300048828,
          -270.80572509765625,
          -76.3725357055664,
          -46.4947624206543,
          -67.32209014892578,
          -65.44710540771484
         ]
        },
        {
         "hoverlabel": {
          "namelength": 0
         },
         "hovertemplate": "Cluster=Cluster 3<br>0=%{x}<br>1=%{y}<br>2=%{z}<br>Label=%{text}",
         "legendgroup": "Cluster=Cluster 3",
         "marker": {
          "color": "#ab63fa",
          "opacity": 0.7,
          "symbol": "circle"
         },
         "mode": "markers+text",
         "name": "Cluster=Cluster 3",
         "scene": "scene",
         "showlegend": true,
         "text": [
          "Vietnam",
          "Yemen",
          "Zambia"
         ],
         "type": "scatter3d",
         "x": [
          159.78143310546875,
          43.07769012451172,
          50.937660217285156
         ],
         "y": [
          -7.612443447113037,
          -108.43470764160156,
          33.58660888671875
         ],
         "z": [
          19.219831466674805,
          128.81289672851562,
          -176.8231201171875
         ]
        }
       ],
       "layout": {
        "height": 800,
        "legend": {
         "tracegroupgap": 0
        },
        "scene": {
         "domain": {
          "x": [
           0,
           1
          ],
          "y": [
           0,
           1
          ]
         },
         "xaxis": {
          "title": {
           "text": "0"
          }
         },
         "yaxis": {
          "title": {
           "text": "1"
          }
         },
         "zaxis": {
          "title": {
           "text": "2"
          }
         }
        },
        "template": {
         "data": {
          "bar": [
           {
            "error_x": {
             "color": "#2a3f5f"
            },
            "error_y": {
             "color": "#2a3f5f"
            },
            "marker": {
             "line": {
              "color": "#E5ECF6",
              "width": 0.5
             }
            },
            "type": "bar"
           }
          ],
          "barpolar": [
           {
            "marker": {
             "line": {
              "color": "#E5ECF6",
              "width": 0.5
             }
            },
            "type": "barpolar"
           }
          ],
          "carpet": [
           {
            "aaxis": {
             "endlinecolor": "#2a3f5f",
             "gridcolor": "white",
             "linecolor": "white",
             "minorgridcolor": "white",
             "startlinecolor": "#2a3f5f"
            },
            "baxis": {
             "endlinecolor": "#2a3f5f",
             "gridcolor": "white",
             "linecolor": "white",
             "minorgridcolor": "white",
             "startlinecolor": "#2a3f5f"
            },
            "type": "carpet"
           }
          ],
          "choropleth": [
           {
            "colorbar": {
             "outlinewidth": 0,
             "ticks": ""
            },
            "type": "choropleth"
           }
          ],
          "contour": [
           {
            "colorbar": {
             "outlinewidth": 0,
             "ticks": ""
            },
            "colorscale": [
             [
              0,
              "#0d0887"
             ],
             [
              0.1111111111111111,
              "#46039f"
             ],
             [
              0.2222222222222222,
              "#7201a8"
             ],
             [
              0.3333333333333333,
              "#9c179e"
             ],
             [
              0.4444444444444444,
              "#bd3786"
             ],
             [
              0.5555555555555556,
              "#d8576b"
             ],
             [
              0.6666666666666666,
              "#ed7953"
             ],
             [
              0.7777777777777778,
              "#fb9f3a"
             ],
             [
              0.8888888888888888,
              "#fdca26"
             ],
             [
              1,
              "#f0f921"
             ]
            ],
            "type": "contour"
           }
          ],
          "contourcarpet": [
           {
            "colorbar": {
             "outlinewidth": 0,
             "ticks": ""
            },
            "type": "contourcarpet"
           }
          ],
          "heatmap": [
           {
            "colorbar": {
             "outlinewidth": 0,
             "ticks": ""
            },
            "colorscale": [
             [
              0,
              "#0d0887"
             ],
             [
              0.1111111111111111,
              "#46039f"
             ],
             [
              0.2222222222222222,
              "#7201a8"
             ],
             [
              0.3333333333333333,
              "#9c179e"
             ],
             [
              0.4444444444444444,
              "#bd3786"
             ],
             [
              0.5555555555555556,
              "#d8576b"
             ],
             [
              0.6666666666666666,
              "#ed7953"
             ],
             [
              0.7777777777777778,
              "#fb9f3a"
             ],
             [
              0.8888888888888888,
              "#fdca26"
             ],
             [
              1,
              "#f0f921"
             ]
            ],
            "type": "heatmap"
           }
          ],
          "heatmapgl": [
           {
            "colorbar": {
             "outlinewidth": 0,
             "ticks": ""
            },
            "colorscale": [
             [
              0,
              "#0d0887"
             ],
             [
              0.1111111111111111,
              "#46039f"
             ],
             [
              0.2222222222222222,
              "#7201a8"
             ],
             [
              0.3333333333333333,
              "#9c179e"
             ],
             [
              0.4444444444444444,
              "#bd3786"
             ],
             [
              0.5555555555555556,
              "#d8576b"
             ],
             [
              0.6666666666666666,
              "#ed7953"
             ],
             [
              0.7777777777777778,
              "#fb9f3a"
             ],
             [
              0.8888888888888888,
              "#fdca26"
             ],
             [
              1,
              "#f0f921"
             ]
            ],
            "type": "heatmapgl"
           }
          ],
          "histogram": [
           {
            "marker": {
             "colorbar": {
              "outlinewidth": 0,
              "ticks": ""
             }
            },
            "type": "histogram"
           }
          ],
          "histogram2d": [
           {
            "colorbar": {
             "outlinewidth": 0,
             "ticks": ""
            },
            "colorscale": [
             [
              0,
              "#0d0887"
             ],
             [
              0.1111111111111111,
              "#46039f"
             ],
             [
              0.2222222222222222,
              "#7201a8"
             ],
             [
              0.3333333333333333,
              "#9c179e"
             ],
             [
              0.4444444444444444,
              "#bd3786"
             ],
             [
              0.5555555555555556,
              "#d8576b"
             ],
             [
              0.6666666666666666,
              "#ed7953"
             ],
             [
              0.7777777777777778,
              "#fb9f3a"
             ],
             [
              0.8888888888888888,
              "#fdca26"
             ],
             [
              1,
              "#f0f921"
             ]
            ],
            "type": "histogram2d"
           }
          ],
          "histogram2dcontour": [
           {
            "colorbar": {
             "outlinewidth": 0,
             "ticks": ""
            },
            "colorscale": [
             [
              0,
              "#0d0887"
             ],
             [
              0.1111111111111111,
              "#46039f"
             ],
             [
              0.2222222222222222,
              "#7201a8"
             ],
             [
              0.3333333333333333,
              "#9c179e"
             ],
             [
              0.4444444444444444,
              "#bd3786"
             ],
             [
              0.5555555555555556,
              "#d8576b"
             ],
             [
              0.6666666666666666,
              "#ed7953"
             ],
             [
              0.7777777777777778,
              "#fb9f3a"
             ],
             [
              0.8888888888888888,
              "#fdca26"
             ],
             [
              1,
              "#f0f921"
             ]
            ],
            "type": "histogram2dcontour"
           }
          ],
          "mesh3d": [
           {
            "colorbar": {
             "outlinewidth": 0,
             "ticks": ""
            },
            "type": "mesh3d"
           }
          ],
          "parcoords": [
           {
            "line": {
             "colorbar": {
              "outlinewidth": 0,
              "ticks": ""
             }
            },
            "type": "parcoords"
           }
          ],
          "pie": [
           {
            "automargin": true,
            "type": "pie"
           }
          ],
          "scatter": [
           {
            "marker": {
             "colorbar": {
              "outlinewidth": 0,
              "ticks": ""
             }
            },
            "type": "scatter"
           }
          ],
          "scatter3d": [
           {
            "line": {
             "colorbar": {
              "outlinewidth": 0,
              "ticks": ""
             }
            },
            "marker": {
             "colorbar": {
              "outlinewidth": 0,
              "ticks": ""
             }
            },
            "type": "scatter3d"
           }
          ],
          "scattercarpet": [
           {
            "marker": {
             "colorbar": {
              "outlinewidth": 0,
              "ticks": ""
             }
            },
            "type": "scattercarpet"
           }
          ],
          "scattergeo": [
           {
            "marker": {
             "colorbar": {
              "outlinewidth": 0,
              "ticks": ""
             }
            },
            "type": "scattergeo"
           }
          ],
          "scattergl": [
           {
            "marker": {
             "colorbar": {
              "outlinewidth": 0,
              "ticks": ""
             }
            },
            "type": "scattergl"
           }
          ],
          "scattermapbox": [
           {
            "marker": {
             "colorbar": {
              "outlinewidth": 0,
              "ticks": ""
             }
            },
            "type": "scattermapbox"
           }
          ],
          "scatterpolar": [
           {
            "marker": {
             "colorbar": {
              "outlinewidth": 0,
              "ticks": ""
             }
            },
            "type": "scatterpolar"
           }
          ],
          "scatterpolargl": [
           {
            "marker": {
             "colorbar": {
              "outlinewidth": 0,
              "ticks": ""
             }
            },
            "type": "scatterpolargl"
           }
          ],
          "scatterternary": [
           {
            "marker": {
             "colorbar": {
              "outlinewidth": 0,
              "ticks": ""
             }
            },
            "type": "scatterternary"
           }
          ],
          "surface": [
           {
            "colorbar": {
             "outlinewidth": 0,
             "ticks": ""
            },
            "colorscale": [
             [
              0,
              "#0d0887"
             ],
             [
              0.1111111111111111,
              "#46039f"
             ],
             [
              0.2222222222222222,
              "#7201a8"
             ],
             [
              0.3333333333333333,
              "#9c179e"
             ],
             [
              0.4444444444444444,
              "#bd3786"
             ],
             [
              0.5555555555555556,
              "#d8576b"
             ],
             [
              0.6666666666666666,
              "#ed7953"
             ],
             [
              0.7777777777777778,
              "#fb9f3a"
             ],
             [
              0.8888888888888888,
              "#fdca26"
             ],
             [
              1,
              "#f0f921"
             ]
            ],
            "type": "surface"
           }
          ],
          "table": [
           {
            "cells": {
             "fill": {
              "color": "#EBF0F8"
             },
             "line": {
              "color": "white"
             }
            },
            "header": {
             "fill": {
              "color": "#C8D4E3"
             },
             "line": {
              "color": "white"
             }
            },
            "type": "table"
           }
          ]
         },
         "layout": {
          "annotationdefaults": {
           "arrowcolor": "#2a3f5f",
           "arrowhead": 0,
           "arrowwidth": 1
          },
          "coloraxis": {
           "colorbar": {
            "outlinewidth": 0,
            "ticks": ""
           }
          },
          "colorscale": {
           "diverging": [
            [
             0,
             "#8e0152"
            ],
            [
             0.1,
             "#c51b7d"
            ],
            [
             0.2,
             "#de77ae"
            ],
            [
             0.3,
             "#f1b6da"
            ],
            [
             0.4,
             "#fde0ef"
            ],
            [
             0.5,
             "#f7f7f7"
            ],
            [
             0.6,
             "#e6f5d0"
            ],
            [
             0.7,
             "#b8e186"
            ],
            [
             0.8,
             "#7fbc41"
            ],
            [
             0.9,
             "#4d9221"
            ],
            [
             1,
             "#276419"
            ]
           ],
           "sequential": [
            [
             0,
             "#0d0887"
            ],
            [
             0.1111111111111111,
             "#46039f"
            ],
            [
             0.2222222222222222,
             "#7201a8"
            ],
            [
             0.3333333333333333,
             "#9c179e"
            ],
            [
             0.4444444444444444,
             "#bd3786"
            ],
            [
             0.5555555555555556,
             "#d8576b"
            ],
            [
             0.6666666666666666,
             "#ed7953"
            ],
            [
             0.7777777777777778,
             "#fb9f3a"
            ],
            [
             0.8888888888888888,
             "#fdca26"
            ],
            [
             1,
             "#f0f921"
            ]
           ],
           "sequentialminus": [
            [
             0,
             "#0d0887"
            ],
            [
             0.1111111111111111,
             "#46039f"
            ],
            [
             0.2222222222222222,
             "#7201a8"
            ],
            [
             0.3333333333333333,
             "#9c179e"
            ],
            [
             0.4444444444444444,
             "#bd3786"
            ],
            [
             0.5555555555555556,
             "#d8576b"
            ],
            [
             0.6666666666666666,
             "#ed7953"
            ],
            [
             0.7777777777777778,
             "#fb9f3a"
            ],
            [
             0.8888888888888888,
             "#fdca26"
            ],
            [
             1,
             "#f0f921"
            ]
           ]
          },
          "colorway": [
           "#636efa",
           "#EF553B",
           "#00cc96",
           "#ab63fa",
           "#FFA15A",
           "#19d3f3",
           "#FF6692",
           "#B6E880",
           "#FF97FF",
           "#FECB52"
          ],
          "font": {
           "color": "#2a3f5f"
          },
          "geo": {
           "bgcolor": "white",
           "lakecolor": "white",
           "landcolor": "#E5ECF6",
           "showlakes": true,
           "showland": true,
           "subunitcolor": "white"
          },
          "hoverlabel": {
           "align": "left"
          },
          "hovermode": "closest",
          "mapbox": {
           "style": "light"
          },
          "paper_bgcolor": "white",
          "plot_bgcolor": "#E5ECF6",
          "polar": {
           "angularaxis": {
            "gridcolor": "white",
            "linecolor": "white",
            "ticks": ""
           },
           "bgcolor": "#E5ECF6",
           "radialaxis": {
            "gridcolor": "white",
            "linecolor": "white",
            "ticks": ""
           }
          },
          "scene": {
           "xaxis": {
            "backgroundcolor": "#E5ECF6",
            "gridcolor": "white",
            "gridwidth": 2,
            "linecolor": "white",
            "showbackground": true,
            "ticks": "",
            "zerolinecolor": "white"
           },
           "yaxis": {
            "backgroundcolor": "#E5ECF6",
            "gridcolor": "white",
            "gridwidth": 2,
            "linecolor": "white",
            "showbackground": true,
            "ticks": "",
            "zerolinecolor": "white"
           },
           "zaxis": {
            "backgroundcolor": "#E5ECF6",
            "gridcolor": "white",
            "gridwidth": 2,
            "linecolor": "white",
            "showbackground": true,
            "ticks": "",
            "zerolinecolor": "white"
           }
          },
          "shapedefaults": {
           "line": {
            "color": "#2a3f5f"
           }
          },
          "ternary": {
           "aaxis": {
            "gridcolor": "white",
            "linecolor": "white",
            "ticks": ""
           },
           "baxis": {
            "gridcolor": "white",
            "linecolor": "white",
            "ticks": ""
           },
           "bgcolor": "#E5ECF6",
           "caxis": {
            "gridcolor": "white",
            "linecolor": "white",
            "ticks": ""
           }
          },
          "title": {
           "x": 0.05
          },
          "xaxis": {
           "automargin": true,
           "gridcolor": "white",
           "linecolor": "white",
           "ticks": "",
           "title": {
            "standoff": 15
           },
           "zerolinecolor": "white",
           "zerolinewidth": 2
          },
          "yaxis": {
           "automargin": true,
           "gridcolor": "white",
           "linecolor": "white",
           "ticks": "",
           "title": {
            "standoff": 15
           },
           "zerolinecolor": "white",
           "zerolinewidth": 2
          }
         }
        },
        "title": {
         "text": "3d TSNE Plot for Clusters"
        },
        "width": 900
       }
      },
      "text/html": [
       "<div>\n",
       "        \n",
       "        \n",
       "            <div id=\"cf87bbc7-b741-4192-8b9e-65cdf439003a\" class=\"plotly-graph-div\" style=\"height:800px; width:900px;\"></div>\n",
       "            <script type=\"text/javascript\">\n",
       "                require([\"plotly\"], function(Plotly) {\n",
       "                    window.PLOTLYENV=window.PLOTLYENV || {};\n",
       "                    \n",
       "                if (document.getElementById(\"cf87bbc7-b741-4192-8b9e-65cdf439003a\")) {\n",
       "                    Plotly.newPlot(\n",
       "                        'cf87bbc7-b741-4192-8b9e-65cdf439003a',\n",
       "                        [{\"hoverlabel\": {\"namelength\": 0}, \"hovertemplate\": \"Cluster=Cluster 0<br>0=%{x}<br>1=%{y}<br>2=%{z}<br>Label=%{text}\", \"legendgroup\": \"Cluster=Cluster 0\", \"marker\": {\"color\": \"#636efa\", \"opacity\": 0.7, \"symbol\": \"circle\"}, \"mode\": \"markers+text\", \"name\": \"Cluster=Cluster 0\", \"scene\": \"scene\", \"showlegend\": true, \"text\": [\"Afghanistan\", \"Albania\", \"Algeria\", \"Angola\", \"Antigua and Barbuda\", \"Argentina\", \"Armenia\", \"Australia\", \"Austria\", \"Azerbaijan\", \"Bahamas\", \"Bahrain\", \"Bangladesh\", \"Barbados\", \"Belarus\", \"Belgium\", \"Belize\", \"Benin\", \"Bhutan\", \"Bolivia\", \"Bosnia and Herzegovina\", \"Botswana\", \"Brazil\", \"Brunei\", \"Bulgaria\", \"Burkina Faso\", \"Burundi\", \"Cambodia\", \"Cameroon\", \"Canada\", \"Cape Verde\", \"Central African Republic\", \"Chad\", \"Chile\", \"China\", \"Colombia\", \"Comoros\", \"Congo, Dem. Rep.\", \"Congo, Rep.\", \"Costa Rica\", \"Cote d'Ivoire\", \"Croatia\", \"Cyprus\", \"Czech Republic\", \"Denmark\", \"Dominican Republic\", \"Ecuador\", \"Egypt\", \"El Salvador\", \"Equatorial Guinea\", \"Eritrea\", \"Estonia\", \"Fiji\", \"Finland\", \"France\", \"Gabon\", \"Gambia\", \"Georgia\", \"Germany\", \"Ghana\", \"Greece\", \"Grenada\", \"Guatemala\", \"Guinea\", \"Guinea-Bissau\", \"Guyana\", \"Haiti\", \"Hungary\", \"Iceland\", \"India\", \"Indonesia\", \"Iran\", \"Iraq\", \"Ireland\", \"Israel\", \"Italy\", \"Jamaica\", \"Japan\", \"Jordan\", \"Kazakhstan\", \"Kenya\", \"Kiribati\", \"Kuwait\", \"Kyrgyz Republic\", \"Lao\", \"Latvia\", \"Lebanon\", \"Lesotho\"], \"type\": \"scatter3d\", \"x\": [-157.6037139892578, -126.70421600341797, -47.07240295410156, 35.352230072021484, -48.94523239135742, 3.1221790313720703, 50.599822998046875, -33.10243225097656, -33.974525451660156, -26.096412658691406, -119.46204376220703, -39.21469497680664, 33.05990219116211, -32.10060501098633, -130.96119689941406, -6.765397071838379, -32.372901916503906, 3.9798150062561035, 49.034584045410156, -97.45252990722656, 7.995233535766602, 15.286040306091309, -25.258785247802734, 20.276365280151367, 38.314186096191406, -180.78761291503906, -33.53348922729492, -80.22736358642578, 7.456057071685791, -4.6668009757995605, -5.499667644500732, -56.20323181152344, 96.4098892211914, -34.178443908691406, -90.67491912841797, 79.72745513916016, -134.6320343017578, 23.111818313598633, 62.285484313964844, 42.084999084472656, -122.08710479736328, 45.91106033325195, 83.33270263671875, -72.57069396972656, 89.12137603759766, 96.47734069824219, 9.470235824584961, 15.519450187683105, 52.18067169189453, 57.64519119262695, -88.78141784667969, -29.579944610595703, -3.4265811443328857, -41.687095642089844, -83.24063110351562, -30.81083106994629, 125.37434387207031, 88.29121398925781, 100.75535583496094, -46.88237380981445, -6.372500896453857, -2.836839199066162, -69.1444320678711, 60.4349479675293, -7.415241718292236, 12.242435455322266, 92.25252532958984, -20.150875091552734, -59.60942840576172, 83.93106079101562, 39.986602783203125, -82.3944091796875, -47.04518508911133, -40.84800720214844, 93.39462280273438, -17.700862884521484, 41.05862045288086, -74.9284439086914, -49.225860595703125, 91.81647491455078, 60.319034576416016, 54.26482391357422, -5.812294006347656, 52.231346130371094, 45.37498092651367, -148.8976287841797, 122.34429168701172, 22.836498260498047], \"y\": [25.714128494262695, -80.87660217285156, -141.7258758544922, -13.596774101257324, -1.5487596988677979, 31.250818252563477, -157.5831298828125, -109.9531021118164, -3.149658679962158, 94.25493621826172, -43.65068435668945, -160.6786346435547, -135.02432250976562, 37.003971099853516, 35.42145919799805, -23.903636932373047, -57.278114318847656, -32.045448303222656, 36.35008239746094, -1.7857723236083984, 75.15458679199219, -112.15907287597656, -77.65486907958984, -79.19590759277344, -90.94031524658203, 22.719289779663086, -100.74008178710938, 16.433868408203125, 1.570227861404419, 21.177417755126953, -113.8957748413086, -68.57906341552734, 105.17823028564453, -117.62724304199219, -71.4705581665039, 52.6022834777832, -98.29536437988281, -65.93411254882812, -10.108207702636719, 64.45858764648438, -53.718814849853516, 47.197998046875, 52.689788818359375, 64.73778533935547, 39.239749908447266, -61.05042266845703, -63.626712799072266, 65.19004821777344, -37.95573043823242, 110.37387084960938, -25.28664779663086, 5.491794109344482, -46.40559768676758, -36.1673583984375, 59.25934982299805, 68.66315460205078, 15.042224884033203, 46.97385025024414, 62.37967300415039, 26.290674209594727, -23.901336669921875, 24.79151725769043, -37.131103515625, 24.701095581054688, 178.29910278320312, -98.75279235839844, -40.26994323730469, 79.74747467041016, -32.650779724121094, -102.64012145996094, 28.11457633972168, 5.474684238433838, -16.234046936035156, 40.617835998535156, -15.087652206420898, -26.276195526123047, -173.91329956054688, -82.53617095947266, -75.45914459228516, -0.023265913128852844, 90.6719970703125, -55.936790466308594, -38.69812774658203, 0.3724571466445923, -13.645326614379883, 90.76213073730469, 23.240676879882812, -24.10515594482422], \"z\": [26.251861572265625, 36.990482330322266, -35.77660369873047, 54.65559768676758, 46.58835220336914, 14.410202026367188, 81.49767303466797, -86.94273376464844, 5.6304497718811035, 92.8940658569336, 14.012567520141602, 18.378828048706055, -26.386457443237305, -33.785186767578125, 56.11960983276367, 92.86800384521484, -3.2619149684906006, 6.362984657287598, -23.3718204498291, 45.11951446533203, -27.205156326293945, 11.016810417175293, 71.67414855957031, -69.50556182861328, -21.620460510253906, -70.00638580322266, 1.7510193586349487, -3.2686376571655273, -33.27619552612305, 56.5345458984375, -46.02079391479492, -65.22461700439453, 89.24333953857422, 63.103492736816406, -18.266401290893555, -0.5120015144348145, -37.2862434387207, 153.47174072265625, -68.71299743652344, 14.925658226013184, 97.20594787597656, -63.81515121459961, -94.56922149658203, 75.63362121582031, 102.09613800048828, -57.76141357421875, 106.85707092285156, 55.456573486328125, -28.198814392089844, 34.55613327026367, -18.824825286865234, 132.67745971679688, -34.04792022705078, 131.36866760253906, 35.12063980102539, 149.41563415527344, -80.00794219970703, -37.91594314575195, 49.24723815917969, 85.5274887084961, -151.33914184570312, 99.22122955322266, 83.99702453613281, 40.506614685058594, -37.11166763305664, 66.672607421875, 36.05694580078125, 13.134503364562988, 20.888273239135742, -89.48672485351562, 80.51237487792969, 111.8185806274414, -39.798179626464844, 30.361783981323242, -20.73257827758789, 47.32758712768555, 10.297286987304688, 41.830177307128906, -138.60418701171875, 26.241573333740234, -126.64106750488281, 73.98455810546875, -93.4908447265625, 1.0271161794662476, 116.02550506591797, -2.6331610679626465, -8.839186668395996, -61.32118225097656]}, {\"hoverlabel\": {\"namelength\": 0}, \"hovertemplate\": \"Cluster=Cluster 1<br>0=%{x}<br>1=%{y}<br>2=%{z}<br>Label=%{text}\", \"legendgroup\": \"Cluster=Cluster 1\", \"marker\": {\"color\": \"#EF553B\", \"opacity\": 0.7, \"symbol\": \"circle\"}, \"mode\": \"markers+text\", \"name\": \"Cluster=Cluster 1\", \"scene\": \"scene\", \"showlegend\": true, \"text\": [\"Liberia\", \"Libya\", \"Lithuania\", \"Luxembourg\", \"Macedonia, FYR\", \"Madagascar\", \"Malawi\", \"Malaysia\", \"Maldives\", \"Mali\", \"Malta\", \"Mauritania\", \"Mauritius\", \"Micronesia, Fed. Sts.\", \"Moldova\", \"Mongolia\", \"Montenegro\", \"Morocco\", \"Mozambique\", \"Myanmar\", \"Namibia\", \"Nepal\", \"Netherlands\", \"New Zealand\", \"Niger\", \"Nigeria\", \"Norway\", \"Oman\", \"Pakistan\", \"Panama\"], \"type\": \"scatter3d\", \"x\": [207.48199462890625, -43.824745178222656, 63.99581527709961, 88.33644104003906, 103.04877471923828, 90.24443054199219, 153.08045959472656, -25.274072647094727, 128.977294921875, 121.85626983642578, -25.952177047729492, 163.255859375, 44.83908462524414, -70.6215591430664, 150.36508178710938, 155.853515625, -169.5751953125, 111.25633239746094, 24.481523513793945, 52.53273010253906, 123.49974060058594, 35.149227142333984, 68.8038330078125, 85.5078353881836, 65.06645965576172, 174.73402404785156, -82.50786590576172, 111.48731994628906, 49.569095611572266, 132.6243896484375], \"y\": [-34.31114196777344, -6.748613357543945, -123.43207550048828, -23.72352409362793, -116.21466064453125, -54.99725341796875, -32.480594635009766, -31.336658477783203, -76.05411529541016, -82.88126373291016, -109.33988952636719, -58.09052658081055, 5.78498649597168, -102.65154266357422, -122.70045471191406, 13.833155632019043, -34.56149673461914, -111.30436706542969, -69.84927368164062, -67.2297134399414, -4.038931369781494, 87.0518798828125, -68.76891326904297, -105.92379760742188, -42.102413177490234, -57.45198059082031, -27.13913345336914, -77.95402526855469, 113.43508911132812, 96.59159088134766], \"z\": [-2.368091106414795, -202.45179748535156, 33.96107864379883, 79.32174682617188, 27.21275520324707, 143.19869995117188, 81.94822692871094, 188.27032470703125, 9.453725814819336, 55.2515869140625, 139.72401428222656, -27.87498664855957, 167.7082977294922, 120.27498626708984, 30.04566192626953, 68.151611328125, 59.00633239746094, -27.640737533569336, 38.24649429321289, -116.72806549072266, 129.76904296875, 125.30892181396484, 13.878634452819824, 69.89718627929688, -157.90489196777344, 44.32583999633789, 170.2561798095703, 100.02471923828125, 104.7742919921875, 13.063748359680176]}, {\"hoverlabel\": {\"namelength\": 0}, \"hovertemplate\": \"Cluster=Cluster 2<br>0=%{x}<br>1=%{y}<br>2=%{z}<br>Label=%{text}\", \"legendgroup\": \"Cluster=Cluster 2\", \"marker\": {\"color\": \"#00cc96\", \"opacity\": 0.7, \"symbol\": \"circle\"}, \"mode\": \"markers+text\", \"name\": \"Cluster=Cluster 2\", \"scene\": \"scene\", \"showlegend\": true, \"text\": [\"Paraguay\", \"Peru\", \"Philippines\", \"Poland\", \"Portugal\", \"Qatar\", \"Romania\", \"Russia\", \"Rwanda\", \"Samoa\", \"Saudi Arabia\", \"Senegal\", \"Serbia\", \"Seychelles\", \"Sierra Leone\", \"Singapore\", \"Slovak Republic\", \"Slovenia\", \"Solomon Islands\", \"South Africa\", \"South Korea\", \"Spain\", \"Sri Lanka\", \"St. Vincent and the Grenadines\", \"Sudan\", \"Suriname\", \"Sweden\", \"Switzerland\", \"Tajikistan\", \"Tanzania\", \"Thailand\", \"Timor-Leste\", \"Togo\", \"Tonga\", \"Tunisia\", \"Turkey\", \"Turkmenistan\", \"Uganda\", \"Ukraine\", \"United Arab Emirates\", \"United Kingdom\", \"United States\", \"Uruguay\", \"Uzbekistan\", \"Vanuatu\", \"Venezuela\"], \"type\": \"scatter3d\", \"x\": [91.59999084472656, -102.06237030029297, -15.337540626525879, -80.4400405883789, 48.025970458984375, -98.38478088378906, -75.02869415283203, -9.390917778015137, -20.83270263671875, 15.92928409576416, -128.8568572998047, 52.620479583740234, -24.7141170501709, -121.82344818115234, -77.73783111572266, -68.11266326904297, -42.61375427246094, -39.10679626464844, -58.35685729980469, -102.03707885742188, -126.63604736328125, -47.7288818359375, 3.4628381729125977, -100.16960906982422, 16.603668212890625, 47.88583755493164, 77.02307891845703, -40.4669189453125, -69.1360855102539, -21.09730339050293, -96.54460906982422, -75.89544677734375, 141.22763061523438, -74.80155181884766, -64.82381439208984, -119.34309387207031, 10.401801109313965, -66.74934387207031, 103.1098861694336, 125.23114776611328, -132.3336639404297, 354.4786376953125, 65.83393096923828, -142.13612365722656, -117.41742706298828, -100.82540130615234], \"y\": [56.94807815551758, 92.5391616821289, 139.7466583251953, -20.37104606628418, 8.89320182800293, 63.257606506347656, 34.738582611083984, -167.9909210205078, 82.97959899902344, 146.26797485351562, 28.97666358947754, 101.35980224609375, 122.79682922363281, -57.865318298339844, 140.305419921875, 7.315400123596191, 164.98191833496094, 40.16161346435547, 138.9565887451172, 36.43248748779297, 51.03857421875, 93.29299926757812, 106.0063705444336, -135.0176544189453, 123.17337799072266, -152.4625244140625, 119.2228775024414, 88.49198913574219, 137.42372131347656, 16.075754165649414, 110.74417877197266, 73.31864166259766, 51.438995361328125, 49.259544372558594, 156.6957550048828, 4.559978008270264, 54.056312561035156, 84.08114624023438, 28.71076774597168, 66.84382629394531, 17.147287368774414, 264.2600402832031, 157.68460083007812, -29.09377098083496, -1.4646040201187134, 105.92493438720703], \"z\": [161.92222595214844, -119.89216613769531, -100.6707534790039, -85.30049896240234, -117.11882019042969, -31.67622947692871, -59.42439651489258, 75.98159790039062, -82.19011688232422, 1.1821140050888062, 105.48810577392578, -70.70249938964844, 32.820377349853516, -79.73844146728516, 61.674583435058594, -126.66726684570312, 46.765769958496094, -141.3356170654297, -63.312522888183594, -153.05345153808594, -96.23710632324219, -39.656349182128906, -123.46621704101562, 6.106368541717529, -51.24172592163086, -89.08604431152344, -35.947105407714844, -122.9926528930664, -123.4969253540039, -85.271484375, 12.170674324035645, -164.67202758789062, -67.47319793701172, -110.0135726928711, 2.6701436042785645, -127.84595489501953, -113.92601013183594, -82.69768524169922, -131.16444396972656, -126.42765808105469, -23.08051300048828, -270.80572509765625, -76.3725357055664, -46.4947624206543, -67.32209014892578, -65.44710540771484]}, {\"hoverlabel\": {\"namelength\": 0}, \"hovertemplate\": \"Cluster=Cluster 3<br>0=%{x}<br>1=%{y}<br>2=%{z}<br>Label=%{text}\", \"legendgroup\": \"Cluster=Cluster 3\", \"marker\": {\"color\": \"#ab63fa\", \"opacity\": 0.7, \"symbol\": \"circle\"}, \"mode\": \"markers+text\", \"name\": \"Cluster=Cluster 3\", \"scene\": \"scene\", \"showlegend\": true, \"text\": [\"Vietnam\", \"Yemen\", \"Zambia\"], \"type\": \"scatter3d\", \"x\": [159.78143310546875, 43.07769012451172, 50.937660217285156], \"y\": [-7.612443447113037, -108.43470764160156, 33.58660888671875], \"z\": [19.219831466674805, 128.81289672851562, -176.8231201171875]}],\n",
       "                        {\"height\": 800, \"legend\": {\"tracegroupgap\": 0}, \"scene\": {\"domain\": {\"x\": [0.0, 1.0], \"y\": [0.0, 1.0]}, \"xaxis\": {\"title\": {\"text\": \"0\"}}, \"yaxis\": {\"title\": {\"text\": \"1\"}}, \"zaxis\": {\"title\": {\"text\": \"2\"}}}, \"template\": {\"data\": {\"bar\": [{\"error_x\": {\"color\": \"#2a3f5f\"}, \"error_y\": {\"color\": \"#2a3f5f\"}, \"marker\": {\"line\": {\"color\": \"#E5ECF6\", \"width\": 0.5}}, \"type\": \"bar\"}], \"barpolar\": [{\"marker\": {\"line\": {\"color\": \"#E5ECF6\", \"width\": 0.5}}, \"type\": \"barpolar\"}], \"carpet\": [{\"aaxis\": {\"endlinecolor\": \"#2a3f5f\", \"gridcolor\": \"white\", \"linecolor\": \"white\", \"minorgridcolor\": \"white\", \"startlinecolor\": \"#2a3f5f\"}, \"baxis\": {\"endlinecolor\": \"#2a3f5f\", \"gridcolor\": \"white\", \"linecolor\": \"white\", \"minorgridcolor\": \"white\", \"startlinecolor\": \"#2a3f5f\"}, \"type\": \"carpet\"}], \"choropleth\": [{\"colorbar\": {\"outlinewidth\": 0, \"ticks\": \"\"}, \"type\": \"choropleth\"}], \"contour\": [{\"colorbar\": {\"outlinewidth\": 0, \"ticks\": \"\"}, \"colorscale\": [[0.0, \"#0d0887\"], [0.1111111111111111, \"#46039f\"], [0.2222222222222222, \"#7201a8\"], [0.3333333333333333, \"#9c179e\"], [0.4444444444444444, \"#bd3786\"], [0.5555555555555556, \"#d8576b\"], [0.6666666666666666, \"#ed7953\"], [0.7777777777777778, \"#fb9f3a\"], [0.8888888888888888, \"#fdca26\"], [1.0, \"#f0f921\"]], \"type\": \"contour\"}], \"contourcarpet\": [{\"colorbar\": {\"outlinewidth\": 0, \"ticks\": \"\"}, \"type\": \"contourcarpet\"}], \"heatmap\": [{\"colorbar\": {\"outlinewidth\": 0, \"ticks\": \"\"}, \"colorscale\": [[0.0, \"#0d0887\"], [0.1111111111111111, \"#46039f\"], [0.2222222222222222, \"#7201a8\"], [0.3333333333333333, \"#9c179e\"], [0.4444444444444444, \"#bd3786\"], [0.5555555555555556, \"#d8576b\"], [0.6666666666666666, \"#ed7953\"], [0.7777777777777778, \"#fb9f3a\"], [0.8888888888888888, \"#fdca26\"], [1.0, \"#f0f921\"]], \"type\": \"heatmap\"}], \"heatmapgl\": [{\"colorbar\": {\"outlinewidth\": 0, \"ticks\": \"\"}, \"colorscale\": [[0.0, \"#0d0887\"], [0.1111111111111111, \"#46039f\"], [0.2222222222222222, \"#7201a8\"], [0.3333333333333333, \"#9c179e\"], [0.4444444444444444, \"#bd3786\"], [0.5555555555555556, \"#d8576b\"], [0.6666666666666666, \"#ed7953\"], [0.7777777777777778, \"#fb9f3a\"], [0.8888888888888888, \"#fdca26\"], [1.0, \"#f0f921\"]], \"type\": \"heatmapgl\"}], \"histogram\": [{\"marker\": {\"colorbar\": {\"outlinewidth\": 0, \"ticks\": \"\"}}, \"type\": \"histogram\"}], \"histogram2d\": [{\"colorbar\": {\"outlinewidth\": 0, \"ticks\": \"\"}, \"colorscale\": [[0.0, \"#0d0887\"], [0.1111111111111111, \"#46039f\"], [0.2222222222222222, \"#7201a8\"], [0.3333333333333333, \"#9c179e\"], [0.4444444444444444, \"#bd3786\"], [0.5555555555555556, \"#d8576b\"], [0.6666666666666666, \"#ed7953\"], [0.7777777777777778, \"#fb9f3a\"], [0.8888888888888888, \"#fdca26\"], [1.0, \"#f0f921\"]], \"type\": \"histogram2d\"}], \"histogram2dcontour\": [{\"colorbar\": {\"outlinewidth\": 0, \"ticks\": \"\"}, \"colorscale\": [[0.0, \"#0d0887\"], [0.1111111111111111, \"#46039f\"], [0.2222222222222222, \"#7201a8\"], [0.3333333333333333, \"#9c179e\"], [0.4444444444444444, \"#bd3786\"], [0.5555555555555556, \"#d8576b\"], [0.6666666666666666, \"#ed7953\"], [0.7777777777777778, \"#fb9f3a\"], [0.8888888888888888, \"#fdca26\"], [1.0, \"#f0f921\"]], \"type\": \"histogram2dcontour\"}], \"mesh3d\": [{\"colorbar\": {\"outlinewidth\": 0, \"ticks\": \"\"}, \"type\": \"mesh3d\"}], \"parcoords\": [{\"line\": {\"colorbar\": {\"outlinewidth\": 0, \"ticks\": \"\"}}, \"type\": \"parcoords\"}], \"pie\": [{\"automargin\": true, \"type\": \"pie\"}], \"scatter\": [{\"marker\": {\"colorbar\": {\"outlinewidth\": 0, \"ticks\": \"\"}}, \"type\": \"scatter\"}], \"scatter3d\": [{\"line\": {\"colorbar\": {\"outlinewidth\": 0, \"ticks\": \"\"}}, \"marker\": {\"colorbar\": {\"outlinewidth\": 0, \"ticks\": \"\"}}, \"type\": \"scatter3d\"}], \"scattercarpet\": [{\"marker\": {\"colorbar\": {\"outlinewidth\": 0, \"ticks\": \"\"}}, \"type\": \"scattercarpet\"}], \"scattergeo\": [{\"marker\": {\"colorbar\": {\"outlinewidth\": 0, \"ticks\": \"\"}}, \"type\": \"scattergeo\"}], \"scattergl\": [{\"marker\": {\"colorbar\": {\"outlinewidth\": 0, \"ticks\": \"\"}}, \"type\": \"scattergl\"}], \"scattermapbox\": [{\"marker\": {\"colorbar\": {\"outlinewidth\": 0, \"ticks\": \"\"}}, \"type\": \"scattermapbox\"}], \"scatterpolar\": [{\"marker\": {\"colorbar\": {\"outlinewidth\": 0, \"ticks\": \"\"}}, \"type\": \"scatterpolar\"}], \"scatterpolargl\": [{\"marker\": {\"colorbar\": {\"outlinewidth\": 0, \"ticks\": \"\"}}, \"type\": \"scatterpolargl\"}], \"scatterternary\": [{\"marker\": {\"colorbar\": {\"outlinewidth\": 0, \"ticks\": \"\"}}, \"type\": \"scatterternary\"}], \"surface\": [{\"colorbar\": {\"outlinewidth\": 0, \"ticks\": \"\"}, \"colorscale\": [[0.0, \"#0d0887\"], [0.1111111111111111, \"#46039f\"], [0.2222222222222222, \"#7201a8\"], [0.3333333333333333, \"#9c179e\"], [0.4444444444444444, \"#bd3786\"], [0.5555555555555556, \"#d8576b\"], [0.6666666666666666, \"#ed7953\"], [0.7777777777777778, \"#fb9f3a\"], [0.8888888888888888, \"#fdca26\"], [1.0, \"#f0f921\"]], \"type\": \"surface\"}], \"table\": [{\"cells\": {\"fill\": {\"color\": \"#EBF0F8\"}, \"line\": {\"color\": \"white\"}}, \"header\": {\"fill\": {\"color\": \"#C8D4E3\"}, \"line\": {\"color\": \"white\"}}, \"type\": \"table\"}]}, \"layout\": {\"annotationdefaults\": {\"arrowcolor\": \"#2a3f5f\", \"arrowhead\": 0, \"arrowwidth\": 1}, \"coloraxis\": {\"colorbar\": {\"outlinewidth\": 0, \"ticks\": \"\"}}, \"colorscale\": {\"diverging\": [[0, \"#8e0152\"], [0.1, \"#c51b7d\"], [0.2, \"#de77ae\"], [0.3, \"#f1b6da\"], [0.4, \"#fde0ef\"], [0.5, \"#f7f7f7\"], [0.6, \"#e6f5d0\"], [0.7, \"#b8e186\"], [0.8, \"#7fbc41\"], [0.9, \"#4d9221\"], [1, \"#276419\"]], \"sequential\": [[0.0, \"#0d0887\"], [0.1111111111111111, \"#46039f\"], [0.2222222222222222, \"#7201a8\"], [0.3333333333333333, \"#9c179e\"], [0.4444444444444444, \"#bd3786\"], [0.5555555555555556, \"#d8576b\"], [0.6666666666666666, \"#ed7953\"], [0.7777777777777778, \"#fb9f3a\"], [0.8888888888888888, \"#fdca26\"], [1.0, \"#f0f921\"]], \"sequentialminus\": [[0.0, \"#0d0887\"], [0.1111111111111111, \"#46039f\"], [0.2222222222222222, \"#7201a8\"], [0.3333333333333333, \"#9c179e\"], [0.4444444444444444, \"#bd3786\"], [0.5555555555555556, \"#d8576b\"], [0.6666666666666666, \"#ed7953\"], [0.7777777777777778, \"#fb9f3a\"], [0.8888888888888888, \"#fdca26\"], [1.0, \"#f0f921\"]]}, \"colorway\": [\"#636efa\", \"#EF553B\", \"#00cc96\", \"#ab63fa\", \"#FFA15A\", \"#19d3f3\", \"#FF6692\", \"#B6E880\", \"#FF97FF\", \"#FECB52\"], \"font\": {\"color\": \"#2a3f5f\"}, \"geo\": {\"bgcolor\": \"white\", \"lakecolor\": \"white\", \"landcolor\": \"#E5ECF6\", \"showlakes\": true, \"showland\": true, \"subunitcolor\": \"white\"}, \"hoverlabel\": {\"align\": \"left\"}, \"hovermode\": \"closest\", \"mapbox\": {\"style\": \"light\"}, \"paper_bgcolor\": \"white\", \"plot_bgcolor\": \"#E5ECF6\", \"polar\": {\"angularaxis\": {\"gridcolor\": \"white\", \"linecolor\": \"white\", \"ticks\": \"\"}, \"bgcolor\": \"#E5ECF6\", \"radialaxis\": {\"gridcolor\": \"white\", \"linecolor\": \"white\", \"ticks\": \"\"}}, \"scene\": {\"xaxis\": {\"backgroundcolor\": \"#E5ECF6\", \"gridcolor\": \"white\", \"gridwidth\": 2, \"linecolor\": \"white\", \"showbackground\": true, \"ticks\": \"\", \"zerolinecolor\": \"white\"}, \"yaxis\": {\"backgroundcolor\": \"#E5ECF6\", \"gridcolor\": \"white\", \"gridwidth\": 2, \"linecolor\": \"white\", \"showbackground\": true, \"ticks\": \"\", \"zerolinecolor\": \"white\"}, \"zaxis\": {\"backgroundcolor\": \"#E5ECF6\", \"gridcolor\": \"white\", \"gridwidth\": 2, \"linecolor\": \"white\", \"showbackground\": true, \"ticks\": \"\", \"zerolinecolor\": \"white\"}}, \"shapedefaults\": {\"line\": {\"color\": \"#2a3f5f\"}}, \"ternary\": {\"aaxis\": {\"gridcolor\": \"white\", \"linecolor\": \"white\", \"ticks\": \"\"}, \"baxis\": {\"gridcolor\": \"white\", \"linecolor\": \"white\", \"ticks\": \"\"}, \"bgcolor\": \"#E5ECF6\", \"caxis\": {\"gridcolor\": \"white\", \"linecolor\": \"white\", \"ticks\": \"\"}}, \"title\": {\"x\": 0.05}, \"xaxis\": {\"automargin\": true, \"gridcolor\": \"white\", \"linecolor\": \"white\", \"ticks\": \"\", \"title\": {\"standoff\": 15}, \"zerolinecolor\": \"white\", \"zerolinewidth\": 2}, \"yaxis\": {\"automargin\": true, \"gridcolor\": \"white\", \"linecolor\": \"white\", \"ticks\": \"\", \"title\": {\"standoff\": 15}, \"zerolinecolor\": \"white\", \"zerolinewidth\": 2}}}, \"title\": {\"text\": \"3d TSNE Plot for Clusters\"}, \"width\": 900},\n",
       "                        {\"responsive\": true}\n",
       "                    ).then(function(){\n",
       "                            \n",
       "var gd = document.getElementById('cf87bbc7-b741-4192-8b9e-65cdf439003a');\n",
       "var x = new MutationObserver(function (mutations, observer) {{\n",
       "        var display = window.getComputedStyle(gd).display;\n",
       "        if (!display || display === 'none') {{\n",
       "            console.log([gd, 'removed!']);\n",
       "            Plotly.purge(gd);\n",
       "            observer.disconnect();\n",
       "        }}\n",
       "}});\n",
       "\n",
       "// Listen for the removal of the full notebook cells\n",
       "var notebookContainer = gd.closest('#notebook-container');\n",
       "if (notebookContainer) {{\n",
       "    x.observe(notebookContainer, {childList: true});\n",
       "}}\n",
       "\n",
       "// Listen for the clearing of the current output cell\n",
       "var outputEl = gd.closest('.output');\n",
       "if (outputEl) {{\n",
       "    x.observe(outputEl, {childList: true});\n",
       "}}\n",
       "\n",
       "                        })\n",
       "                };\n",
       "                });\n",
       "            </script>\n",
       "        </div>"
      ]
     },
     "metadata": {},
     "output_type": "display_data"
    }
   ],
   "source": [
    "plot_model(kmeans, plot = 'tsne', label=True)"
   ]
  },
  {
   "cell_type": "code",
   "execution_count": 12,
   "metadata": {},
   "outputs": [
    {
     "data": {
      "text/html": [
       "        <script type=\"text/javascript\">\n",
       "        window.PlotlyConfig = {MathJaxConfig: 'local'};\n",
       "        if (window.MathJax) {MathJax.Hub.Config({SVG: {font: \"STIX-Web\"}});}\n",
       "        if (typeof require !== 'undefined') {\n",
       "        require.undef(\"plotly\");\n",
       "        requirejs.config({\n",
       "            paths: {\n",
       "                'plotly': ['https://cdn.plot.ly/plotly-latest.min']\n",
       "            }\n",
       "        });\n",
       "        require(['plotly'], function(Plotly) {\n",
       "            window._Plotly = Plotly;\n",
       "        });\n",
       "        }\n",
       "        </script>\n",
       "        "
      ]
     },
     "metadata": {},
     "output_type": "display_data"
    },
    {
     "data": {
      "image/png": "[encoded data removed]",
      "text/plain": [
       "<Figure size 576x396 with 1 Axes>"
      ]
     },
     "metadata": {},
     "output_type": "display_data"
    }
   ],
   "source": [
    "plot_model(kmeans, plot = 'elbow')"
   ]
  },
  {
   "cell_type": "code",
   "execution_count": 13,
   "metadata": {},
   "outputs": [
    {
     "data": {
      "text/html": [
       "        <script type=\"text/javascript\">\n",
       "        window.PlotlyConfig = {MathJaxConfig: 'local'};\n",
       "        if (window.MathJax) {MathJax.Hub.Config({SVG: {font: \"STIX-Web\"}});}\n",
       "        if (typeof require !== 'undefined') {\n",
       "        require.undef(\"plotly\");\n",
       "        requirejs.config({\n",
       "            paths: {\n",
       "                'plotly': ['https://cdn.plot.ly/plotly-latest.min']\n",
       "            }\n",
       "        });\n",
       "        require(['plotly'], function(Plotly) {\n",
       "            window._Plotly = Plotly;\n",
       "        });\n",
       "        }\n",
       "        </script>\n",
       "        "
      ]
     },
     "metadata": {},
     "output_type": "display_data"
    },
    {
     "data": {
      "image/png": "[encoded data removed]",
      "text/plain": [
       "<Figure size 576x396 with 1 Axes>"
      ]
     },
     "metadata": {},
     "output_type": "display_data"
    }
   ],
   "source": [
    "plot_model(kmeans, plot = 'silhouette')"
   ]
  },
  {
   "cell_type": "code",
   "execution_count": 14,
   "metadata": {},
   "outputs": [
    {
     "data": {
      "text/html": [
       "        <script type=\"text/javascript\">\n",
       "        window.PlotlyConfig = {MathJaxConfig: 'local'};\n",
       "        if (window.MathJax) {MathJax.Hub.Config({SVG: {font: \"STIX-Web\"}});}\n",
       "        if (typeof require !== 'undefined') {\n",
       "        require.undef(\"plotly\");\n",
       "        requirejs.config({\n",
       "            paths: {\n",
       "                'plotly': ['https://cdn.plot.ly/plotly-latest.min']\n",
       "            }\n",
       "        });\n",
       "        require(['plotly'], function(Plotly) {\n",
       "            window._Plotly = Plotly;\n",
       "        });\n",
       "        }\n",
       "        </script>\n",
       "        "
      ]
     },
     "metadata": {},
     "output_type": "display_data"
    },
    {
     "data": {
      "application/vnd.plotly.v1+json": {
       "config": {
        "plotlyServerURL": "https://plot.ly"
       },
       "data": [
        {
         "alignmentgroup": "True",
         "bingroup": "x",
         "hoverlabel": {
          "namelength": 0
         },
         "hovertemplate": "Cluster=Cluster 0<br>income=%{x}<br>count=%{y}",
         "legendgroup": "Cluster=Cluster 0",
         "marker": {
          "color": "#636efa",
          "opacity": 0.7
         },
         "name": "Cluster=Cluster 0",
         "offsetgroup": "Cluster=Cluster 0",
         "orientation": "v",
         "showlegend": true,
         "type": "histogram",
         "x": [
          2790,
          8560,
          16300,
          18300,
          9920,
          14200,
          20100,
          9470,
          8000,
          17400,
          8430,
          4410,
          22300,
          2110,
          5840,
          13500,
          17800,
          11200,
          6730,
          4980,
          7350,
          22700,
          29600,
          10400,
          21100,
          1780,
          21800,
          5600,
          9960,
          7290,
          15400,
          5400,
          45300,
          45400,
          1990,
          12700,
          3720,
          20400,
          6440,
          14000,
          7710,
          3910,
          3340,
          15900,
          25200,
          10500,
          21100,
          11400,
          18000,
          6710,
          9860,
          2520,
          7300,
          2950,
          15300,
          14500,
          13300,
          9720,
          5410,
          6420,
          16500,
          7880,
          16200,
          15300,
          2440,
          41100,
          22900,
          16000,
          6700,
          18700,
          19100,
          4490,
          12900,
          9930,
          17100,
          5830,
          4240,
          23100,
          9940,
          20100,
          7820,
          28300,
          10900,
          13000,
          9530,
          19400,
          9350,
          11100
         ],
         "xaxis": "x",
         "yaxis": "y"
        },
        {
         "alignmentgroup": "True",
         "customdata": [
          [
           "Kyrgyz Republic",
           29.6,
           51.6,
           6.18,
           81.7,
           2790,
           10,
           68.5,
           3.1,
           880,
           "Cluster 0"
          ],
          [
           "Sri Lanka",
           11.2,
           19.6,
           2.94,
           26.8,
           8560,
           22.8,
           74.4,
           2.2,
           2810,
           "Cluster 0"
          ],
          [
           "Lebanon",
           10.3,
           35.8,
           7.03,
           60.2,
           16300,
           0.23800000000000002,
           79.8,
           1.61,
           8860,
           "Cluster 0"
          ],
          [
           "Latvia",
           7.8,
           53.7,
           6.68,
           55.1,
           18300,
           -0.812,
           73.1,
           1.36,
           11300,
           "Cluster 0"
          ],
          [
           "St. Vincent and the Grenadines",
           20.7,
           26.9,
           4.47,
           57.1,
           9920,
           4.44,
           71.6,
           2.07,
           6230,
           "Cluster 0"
          ],
          [
           "Suriname",
           24.1,
           52.5,
           7.01,
           38.4,
           14200,
           7.2,
           70.3,
           2.52,
           8300,
           "Cluster 0"
          ],
          [
           "Kazakhstan",
           21.5,
           44.2,
           4.29,
           29.9,
           20100,
           19.5,
           68.4,
           2.6,
           9070,
           "Cluster 0"
          ],
          [
           "Jordan",
           21.1,
           48.3,
           8.04,
           69,
           9470,
           8.43,
           75.8,
           3.66,
           3680,
           "Cluster 0"
          ],
          [
           "Jamaica",
           18.1,
           31.3,
           4.81,
           49.6,
           8000,
           9.81,
           74.7,
           2.17,
           4680,
           "Cluster 0"
          ],
          [
           "Iran",
           19.3,
           24.4,
           5.6,
           19.4,
           17400,
           15.9,
           74.5,
           1.76,
           6530,
           "Cluster 0"
          ],
          [
           "Indonesia",
           33.3,
           24.3,
           2.61,
           22.4,
           8430,
           15.3,
           69.9,
           2.48,
           3110,
           "Cluster 0"
          ],
          [
           "India",
           58.8,
           22.6,
           4.05,
           27.1,
           4410,
           8.98,
           66.2,
           2.6,
           1350,
           "Cluster 0"
          ],
          [
           "Hungary",
           6,
           81.8,
           7.33,
           76.5,
           22300,
           2.33,
           74.5,
           1.25,
           13100,
           "Cluster 0"
          ],
          [
           "Tajikistan",
           52.4,
           14.9,
           5.98,
           58.6,
           2110,
           12.5,
           69.6,
           3.51,
           738,
           "Cluster 0"
          ],
          [
           "Guyana",
           37.6,
           51.4,
           5.38,
           79.1,
           5840,
           5.73,
           65.5,
           2.65,
           3040,
           "Cluster 0"
          ],
          [
           "Thailand",
           14.9,
           66.5,
           3.88,
           60.8,
           13500,
           4.08,
           76.6,
           1.55,
           5080,
           "Cluster 0"
          ],
          [
           "Romania",
           11.5,
           32.6,
           5.58,
           38.8,
           17800,
           3.53,
           73.7,
           1.59,
           8230,
           "Cluster 0"
          ],
          [
           "Grenada",
           14.6,
           23.8,
           5.86,
           49.2,
           11200,
           0.48,
           71.3,
           2.24,
           7370,
           "Cluster 0"
          ],
          [
           "Georgia",
           16.5,
           35,
           10.1,
           52.8,
           6730,
           8.55,
           72.8,
           1.92,
           2960,
           "Cluster 0"
          ],
          [
           "Tonga",
           17.4,
           12.4,
           5.07,
           60.3,
           4980,
           3.68,
           69.9,
           3.91,
           3550,
           "Cluster 0"
          ],
          [
           "Fiji",
           24.1,
           57.8,
           4.86,
           63.9,
           7350,
           4.23,
           65.3,
           2.67,
           3650,
           "Cluster 0"
          ],
          [
           "Estonia",
           4.5,
           75.1,
           6.03,
           68.7,
           22700,
           1.74,
           76,
           1.72,
           14600,
           "Cluster 0"
          ],
          [
           "Libya",
           16.6,
           65.6,
           3.88,
           42.1,
           29600,
           14.2,
           76.1,
           2.41,
           12100,
           "Cluster 0"
          ],
          [
           "Tunisia",
           17.4,
           50.5,
           6.21,
           55.3,
           10400,
           3.82,
           76.9,
           2.14,
           4140,
           "Cluster 0"
          ],
          [
           "Lithuania",
           6.1,
           65.3,
           7.04,
           67.2,
           21100,
           2.38,
           73.2,
           1.5,
           12000,
           "Cluster 0"
          ],
          [
           "Solomon Islands",
           28.1,
           49.3,
           8.55,
           81.2,
           1780,
           6.81,
           61.7,
           4.24,
           1290,
           "Cluster 0"
          ],
          [
           "Poland",
           6,
           40.1,
           7.46,
           42.1,
           21800,
           1.66,
           76.3,
           1.41,
           12600,
           "Cluster 0"
          ],
          [
           "Philippines",
           31.9,
           34.8,
           3.61,
           36.6,
           5600,
           4.22,
           69,
           3.16,
           2130,
           "Cluster 0"
          ],
          [
           "Peru",
           20.3,
           27.8,
           5.08,
           23.8,
           9960,
           5.71,
           77.9,
           2.54,
           5020,
           "Cluster 0"
          ],
          [
           "Paraguay",
           24.1,
           55.1,
           5.87,
           51.5,
           7290,
           6.1,
           74.1,
           2.73,
           3230,
           "Cluster 0"
          ],
          [
           "Panama",
           19.7,
           70,
           8.1,
           78.2,
           15400,
           2.59,
           77.8,
           2.62,
           8080,
           "Cluster 0"
          ],
          [
           "Samoa",
           18.9,
           29.2,
           6.47,
           53.1,
           5400,
           1.72,
           71.5,
           4.34,
           3450,
           "Cluster 0"
          ],
          [
           "Oman",
           11.7,
           65.7,
           2.77,
           41.2,
           45300,
           15.6,
           76.1,
           2.9,
           19300,
           "Cluster 0"
          ],
          [
           "Saudi Arabia",
           15.7,
           49.6,
           4.29,
           33,
           45400,
           17.2,
           75.1,
           2.96,
           19300,
           "Cluster 0"
          ],
          [
           "Nepal",
           47,
           9.58,
           5.25,
           36.4,
           1990,
           15.1,
           68.3,
           2.61,
           592,
           "Cluster 0"
          ],
          [
           "Serbia",
           7.6,
           32.9,
           10.4,
           47.9,
           12700,
           5.88,
           74.7,
           1.4,
           5410,
           "Cluster 0"
          ],
          [
           "Myanmar",
           64.4,
           0.109,
           1.97,
           0.0659,
           3720,
           7.04,
           66.8,
           2.41,
           988,
           "Cluster 0"
          ],
          [
           "Seychelles",
           14.4,
           93.8,
           3.4,
           108,
           20400,
           -4.21,
           73.4,
           2.17,
           10800,
           "Cluster 0"
          ],
          [
           "Morocco",
           33.5,
           32.2,
           5.2,
           43,
           6440,
           0.976,
           73.5,
           2.58,
           2830,
           "Cluster 0"
          ],
          [
           "Montenegro",
           6.8,
           37,
           9.11,
           62.7,
           14000,
           1.6,
           76.4,
           1.77,
           6680,
           "Cluster 0"
          ],
          [
           "Mongolia",
           26.1,
           46.7,
           5.44,
           56.7,
           7710,
           39.2,
           66.2,
           2.64,
           2650,
           "Cluster 0"
          ],
          [
           "Moldova",
           17.2,
           39.2,
           11.7,
           78.5,
           3910,
           11.1,
           69.7,
           1.27,
           1630,
           "Cluster 0"
          ],
          [
           "Micronesia, Fed. Sts.",
           40,
           23.5,
           14.2,
           81,
           3340,
           3.8,
           65.4,
           3.46,
           2860,
           "Cluster 0"
          ],
          [
           "Mauritius",
           15,
           51.2,
           6,
           62.2,
           15900,
           1.13,
           73.4,
           1.57,
           8000,
           "Cluster 0"
          ],
          [
           "Slovak Republic",
           7,
           76.3,
           8.79,
           77.8,
           25200,
           0.485,
           75.5,
           1.43,
           16600,
           "Cluster 0"
          ],
          [
           "Maldives",
           13.2,
           77.6,
           6.33,
           65.4,
           10500,
           2.88,
           77.9,
           2.23,
           7100,
           "Cluster 0"
          ],
          [
           "Malaysia",
           7.9,
           86.9,
           4.39,
           71,
           21100,
           7.27,
           74.5,
           2.15,
           9070,
           "Cluster 0"
          ],
          [
           "Macedonia, FYR",
           10.4,
           39.8,
           7.09,
           58.1,
           11400,
           2.04,
           74,
           1.47,
           4540,
           "Cluster 0"
          ],
          [
           "Turkey",
           19.1,
           20.4,
           6.74,
           25.5,
           18000,
           7.01,
           78.2,
           2.15,
           10700,
           "Cluster 0"
          ],
          [
           "Guatemala",
           35.4,
           25.8,
           6.85,
           36.3,
           6710,
           5.14,
           71.3,
           3.38,
           2830,
           "Cluster 0"
          ],
          [
           "Egypt",
           29.1,
           21.3,
           4.66,
           26.6,
           9860,
           10.1,
           70.5,
           3.19,
           2600,
           "Cluster 0"
          ],
          [
           "Cambodia",
           44.4,
           54.1,
           5.68,
           59.5,
           2520,
           3.12,
           66.1,
           2.88,
           786,
           "Cluster 0"
          ],
          [
           "El Salvador",
           19.2,
           26.9,
           6.91,
           46.6,
           7300,
           2.65,
           74.1,
           2.27,
           2990,
           "Cluster 0"
          ],
          [
           "Vanuatu",
           29.2,
           46.6,
           5.25,
           52.7,
           2950,
           2.62,
           63,
           3.5,
           2970,
           "Cluster 0"
          ],
          [
           "Bulgaria",
           10.8,
           50.2,
           6.87,
           53,
           15300,
           1.11,
           73.9,
           1.57,
           6840,
           "Cluster 0"
          ],
          [
           "Brazil",
           19.8,
           10.7,
           9.01,
           11.8,
           14500,
           8.41,
           74.2,
           1.8,
           11200,
           "Cluster 0"
          ],
          [
           "Botswana",
           52.5,
           43.6,
           8.3,
           51.3,
           13300,
           8.92,
           57.1,
           2.88,
           6350,
           "Cluster 0"
          ],
          [
           "Bosnia and Herzegovina",
           6.9,
           29.7,
           11.1,
           51.3,
           9720,
           1.4,
           76.8,
           1.31,
           4610,
           "Cluster 0"
          ],
          [
           "Bolivia",
           46.6,
           41.2,
           4.84,
           34.3,
           5410,
           8.78,
           71.6,
           3.2,
           1980,
           "Cluster 0"
          ],
          [
           "Bhutan",
           42.7,
           42.5,
           5.2,
           70.7,
           6420,
           5.99,
           72.1,
           2.38,
           2180,
           "Cluster 0"
          ],
          [
           "Venezuela",
           17.1,
           28.5,
           4.91,
           17.6,
           16500,
           45.9,
           75.4,
           2.47,
           13500,
           "Cluster 0"
          ],
          [
           "Belize",
           18.8,
           58.2,
           5.2,
           57.5,
           7880,
           1.14,
           71.4,
           2.71,
           4340,
           "Cluster 0"
          ],
          [
           "Belarus",
           5.5,
           51.4,
           5.61,
           64.5,
           16200,
           15.1,
           70.4,
           1.49,
           6030,
           "Cluster 0"
          ],
          [
           "Barbados",
           14.2,
           39.5,
           7.97,
           48.7,
           15300,
           0.321,
           76.7,
           1.78,
           16000,
           "Cluster 0"
          ],
          [
           "Bangladesh",
           49.4,
           16,
           3.52,
           21.8,
           2440,
           7.14,
           70.4,
           2.33,
           758,
           "Cluster 0"
          ],
          [
           "Bahrain",
           8.6,
           69.5,
           4.97,
           50.9,
           41100,
           7.44,
           76,
           2.16,
           20700,
           "Cluster 0"
          ],
          [
           "Bahamas",
           13.8,
           35,
           7.89,
           43.7,
           22900,
           -0.39299999999999996,
           73.8,
           1.86,
           28000,
           "Cluster 0"
          ],
          [
           "Azerbaijan",
           39.2,
           54.3,
           5.88,
           20.7,
           16000,
           13.8,
           69.1,
           1.92,
           5840,
           "Cluster 0"
          ],
          [
           "Armenia",
           18.1,
           20.8,
           4.4,
           45.3,
           6700,
           7.77,
           73.3,
           1.69,
           3220,
           "Cluster 0"
          ],
          [
           "Argentina",
           14.5,
           18.9,
           8.1,
           16,
           18700,
           20.9,
           75.8,
           2.37,
           10300,
           "Cluster 0"
          ],
          [
           "Antigua and Barbuda",
           10.3,
           45.5,
           6.03,
           58.9,
           19100,
           1.44,
           76.8,
           2.13,
           12200,
           "Cluster 0"
          ],
          [
           "Vietnam",
           23.3,
           72,
           6.84,
           80.2,
           4490,
           12.1,
           73.1,
           1.95,
           1310,
           "Cluster 0"
          ],
          [
           "Algeria",
           27.3,
           38.4,
           4.17,
           31.4,
           12900,
           16.1,
           76.5,
           2.89,
           4460,
           "Cluster 0"
          ],
          [
           "Albania",
           16.6,
           28,
           6.55,
           48.6,
           9930,
           4.49,
           76.3,
           1.65,
           4090,
           "Cluster 0"
          ],
          [
           "Uruguay",
           10.6,
           26.3,
           8.35,
           25.4,
           17100,
           4.91,
           76.4,
           2.08,
           11900,
           "Cluster 0"
          ],
          [
           "Cape Verde",
           26.5,
           32.7,
           4.09,
           61.8,
           5830,
           0.505,
           72.5,
           2.67,
           3310,
           "Cluster 0"
          ],
          [
           "Uzbekistan",
           36.3,
           31.7,
           5.81,
           28.5,
           4240,
           16.5,
           68.8,
           2.34,
           1380,
           "Cluster 0"
          ],
          [
           "Russia",
           10,
           29.2,
           5.08,
           21.1,
           23100,
           14.2,
           69.2,
           1.57,
           10700,
           "Cluster 0"
          ],
          [
           "Turkmenistan",
           62,
           76.3,
           2.5,
           44.5,
           9940,
           2.31,
           67.9,
           2.83,
           4440,
           "Cluster 0"
          ],
          [
           "Croatia",
           5.5,
           37.6,
           7.76,
           38.1,
           20100,
           0.821,
           76.3,
           1.55,
           13500,
           "Cluster 0"
          ],
          [
           "Ukraine",
           11.7,
           47.1,
           7.72,
           51.1,
           7820,
           13.4,
           70.4,
           1.44,
           2970,
           "Cluster 0"
          ],
          [
           "Czech Republic",
           3.4,
           66,
           7.88,
           62.9,
           28300,
           -1.43,
           77.5,
           1.51,
           19800,
           "Cluster 0"
          ],
          [
           "Colombia",
           18.6,
           15.9,
           7.59,
           17.8,
           10900,
           3.86,
           76.4,
           2.01,
           6250,
           "Cluster 0"
          ],
          [
           "Costa Rica",
           10.2,
           33.2,
           10.9,
           35,
           13000,
           6.57,
           80.4,
           1.92,
           8200,
           "Cluster 0"
          ],
          [
           "China",
           15.7,
           26.3,
           5.07,
           22.6,
           9530,
           6.94,
           74.6,
           1.59,
           4560,
           "Cluster 0"
          ],
          [
           "Chile",
           8.7,
           37.7,
           7.96,
           31.3,
           19400,
           8.96,
           79.1,
           1.88,
           12900,
           "Cluster 0"
          ],
          [
           "Ecuador",
           25.1,
           27.9,
           8.06,
           32.4,
           9350,
           7.47,
           76.7,
           2.66,
           4660,
           "Cluster 0"
          ],
          [
           "Dominican Republic",
           34.4,
           22.7,
           6.22,
           33.3,
           11100,
           5.44,
           74.6,
           2.6,
           5450,
           "Cluster 0"
          ]
         ],
         "hoverlabel": {
          "namelength": 0
         },
         "hovertemplate": "Cluster=%{customdata[10]}<br>income=%{customdata[5]}<br>country=%{customdata[0]}<br>child_mort=%{customdata[1]}<br>exports=%{customdata[2]}<br>health=%{customdata[3]}<br>imports=%{customdata[4]}<br>inflation=%{customdata[6]}<br>life_expec=%{customdata[7]}<br>total_fer=%{customdata[8]}<br>gdpp=%{customdata[9]}",
         "legendgroup": "Cluster=Cluster 0",
         "marker": {
          "color": "#636efa"
         },
         "name": "Cluster=Cluster 0",
         "notched": true,
         "offsetgroup": "Cluster=Cluster 0",
         "showlegend": false,
         "type": "box",
         "x": [
          2790,
          8560,
          16300,
          18300,
          9920,
          14200,
          20100,
          9470,
          8000,
          17400,
          8430,
          4410,
          22300,
          2110,
          5840,
          13500,
          17800,
          11200,
          6730,
          4980,
          7350,
          22700,
          29600,
          10400,
          21100,
          1780,
          21800,
          5600,
          9960,
          7290,
          15400,
          5400,
          45300,
          45400,
          1990,
          12700,
          3720,
          20400,
          6440,
          14000,
          7710,
          3910,
          3340,
          15900,
          25200,
          10500,
          21100,
          11400,
          18000,
          6710,
          9860,
          2520,
          7300,
          2950,
          15300,
          14500,
          13300,
          9720,
          5410,
          6420,
          16500,
          7880,
          16200,
          15300,
          2440,
          41100,
          22900,
          16000,
          6700,
          18700,
          19100,
          4490,
          12900,
          9930,
          17100,
          5830,
          4240,
          23100,
          9940,
          20100,
          7820,
          28300,
          10900,
          13000,
          9530,
          19400,
          9350,
          11100
         ],
         "xaxis": "x2",
         "yaxis": "y2"
        },
        {
         "alignmentgroup": "True",
         "bingroup": "x",
         "hoverlabel": {
          "namelength": 0
         },
         "hovertemplate": "Cluster=Cluster 1<br>income=%{x}<br>count=%{y}",
         "legendgroup": "Cluster=Cluster 1",
         "marker": {
          "color": "#EF553B",
          "opacity": 0.7
         },
         "name": "Cluster=Cluster 1",
         "offsetgroup": "Cluster=Cluster 1",
         "orientation": "v",
         "showlegend": true,
         "type": "histogram",
         "x": [
          125000,
          41100,
          27200,
          33900,
          28700,
          41400,
          45500,
          39800,
          36900,
          32300,
          43200,
          62300,
          44000,
          40400,
          35800,
          45700,
          28700,
          38800,
          57600,
          36200,
          49400,
          80600,
          30400,
          32500,
          42900,
          55500,
          36200,
          29600,
          75200,
          40700
         ],
         "xaxis": "x",
         "yaxis": "y"
        },
        {
         "alignmentgroup": "True",
         "customdata": [
          [
           "Qatar",
           9,
           62.3,
           1.81,
           23.8,
           125000,
           6.98,
           79.5,
           2.07,
           70300,
           "Cluster 1"
          ],
          [
           "Belgium",
           4.5,
           76.4,
           10.7,
           74.7,
           41100,
           1.88,
           80,
           1.86,
           44400,
           "Cluster 1"
          ],
          [
           "Portugal",
           3.9,
           29.9,
           11,
           37.4,
           27200,
           0.643,
           79.8,
           1.39,
           22500,
           "Cluster 1"
          ],
          [
           "Cyprus",
           3.6,
           50.2,
           5.97,
           57.5,
           33900,
           2.01,
           79.9,
           1.42,
           30800,
           "Cluster 1"
          ],
          [
           "Greece",
           3.9,
           22.1,
           10.3,
           30.7,
           28700,
           0.6729999999999999,
           80.4,
           1.48,
           26900,
           "Cluster 1"
          ],
          [
           "Australia",
           4.8,
           19.8,
           8.73,
           20.9,
           41400,
           1.16,
           82,
           1.93,
           51900,
           "Cluster 1"
          ],
          [
           "Netherlands",
           4.5,
           72,
           11.9,
           63.6,
           45500,
           0.848,
           80.7,
           1.79,
           50300,
           "Cluster 1"
          ],
          [
           "Finland",
           3,
           38.7,
           8.95,
           37.4,
           39800,
           0.35100000000000003,
           80,
           1.87,
           46200,
           "Cluster 1"
          ],
          [
           "France",
           4.2,
           26.8,
           11.9,
           28.1,
           36900,
           1.05,
           81.4,
           2.03,
           40600,
           "Cluster 1"
          ],
          [
           "New Zealand",
           6.2,
           30.3,
           10.1,
           28,
           32300,
           3.73,
           80.9,
           2.17,
           33700,
           "Cluster 1"
          ],
          [
           "Austria",
           4.3,
           51.3,
           11,
           47.8,
           43200,
           0.873,
           80.5,
           1.44,
           46900,
           "Cluster 1"
          ],
          [
           "Norway",
           3.2,
           39.7,
           9.48,
           28.5,
           62300,
           5.95,
           81,
           1.95,
           87800,
           "Cluster 1"
          ],
          [
           "Denmark",
           4.1,
           50.5,
           11.4,
           43.6,
           44000,
           3.22,
           79.5,
           1.87,
           58000,
           "Cluster 1"
          ],
          [
           "Germany",
           4.2,
           42.3,
           11.6,
           37.1,
           40400,
           0.758,
           80.1,
           1.39,
           41800,
           "Cluster 1"
          ],
          [
           "Japan",
           3.2,
           15,
           9.49,
           13.6,
           35800,
           -1.9,
           82.8,
           1.39,
           44500,
           "Cluster 1"
          ],
          [
           "Ireland",
           4.2,
           103,
           9.19,
           86.5,
           45700,
           -3.22,
           80.4,
           2.05,
           48700,
           "Cluster 1"
          ],
          [
           "Slovenia",
           3.2,
           64.3,
           9.41,
           62.9,
           28700,
           -0.987,
           79.5,
           1.57,
           23400,
           "Cluster 1"
          ],
          [
           "Iceland",
           2.6,
           53.4,
           9.4,
           43.3,
           38800,
           5.47,
           82,
           2.2,
           41900,
           "Cluster 1"
          ],
          [
           "United Arab Emirates",
           8.6,
           77.7,
           3.66,
           63.6,
           57600,
           12.5,
           76.5,
           1.87,
           35000,
           "Cluster 1"
          ],
          [
           "United Kingdom",
           5.2,
           28.2,
           9.64,
           30.8,
           36200,
           1.57,
           80.3,
           1.92,
           38900,
           "Cluster 1"
          ],
          [
           "United States",
           7.3,
           12.4,
           17.9,
           15.8,
           49400,
           1.22,
           78.7,
           1.93,
           48400,
           "Cluster 1"
          ],
          [
           "Brunei",
           10.5,
           67.4,
           2.84,
           28,
           80600,
           16.7,
           77.1,
           1.84,
           35300,
           "Cluster 1"
          ],
          [
           "South Korea",
           4.1,
           49.4,
           6.93,
           46.2,
           30400,
           3.16,
           80.1,
           1.23,
           22100,
           "Cluster 1"
          ],
          [
           "Spain",
           3.8,
           25.5,
           9.54,
           26.8,
           32500,
           0.16,
           81.9,
           1.37,
           30700,
           "Cluster 1"
          ],
          [
           "Sweden",
           3,
           46.2,
           9.63,
           40.7,
           42900,
           0.991,
           81.5,
           1.98,
           52100,
           "Cluster 1"
          ],
          [
           "Switzerland",
           4.5,
           64,
           11.5,
           53.3,
           55500,
           0.317,
           82.2,
           1.52,
           74600,
           "Cluster 1"
          ],
          [
           "Italy",
           4,
           25.2,
           9.53,
           27.2,
           36200,
           0.319,
           81.7,
           1.46,
           35800,
           "Cluster 1"
          ],
          [
           "Israel",
           4.6,
           35,
           7.63,
           32.9,
           29600,
           1.77,
           81.4,
           3.03,
           30600,
           "Cluster 1"
          ],
          [
           "Kuwait",
           10.8,
           66.7,
           2.63,
           30.4,
           75200,
           11.2,
           78.2,
           2.21,
           38500,
           "Cluster 1"
          ],
          [
           "Canada",
           5.6,
           29.1,
           11.3,
           31,
           40700,
           2.87,
           81.3,
           1.63,
           47400,
           "Cluster 1"
          ]
         ],
         "hoverlabel": {
          "namelength": 0
         },
         "hovertemplate": "Cluster=%{customdata[10]}<br>income=%{customdata[5]}<br>country=%{customdata[0]}<br>child_mort=%{customdata[1]}<br>exports=%{customdata[2]}<br>health=%{customdata[3]}<br>imports=%{customdata[4]}<br>inflation=%{customdata[6]}<br>life_expec=%{customdata[7]}<br>total_fer=%{customdata[8]}<br>gdpp=%{customdata[9]}",
         "legendgroup": "Cluster=Cluster 1",
         "marker": {
          "color": "#EF553B"
         },
         "name": "Cluster=Cluster 1",
         "notched": true,
         "offsetgroup": "Cluster=Cluster 1",
         "showlegend": false,
         "type": "box",
         "x": [
          125000,
          41100,
          27200,
          33900,
          28700,
          41400,
          45500,
          39800,
          36900,
          32300,
          43200,
          62300,
          44000,
          40400,
          35800,
          45700,
          28700,
          38800,
          57600,
          36200,
          49400,
          80600,
          30400,
          32500,
          42900,
          55500,
          36200,
          29600,
          75200,
          40700
         ],
         "xaxis": "x2",
         "yaxis": "y2"
        },
        {
         "alignmentgroup": "True",
         "bingroup": "x",
         "hoverlabel": {
          "namelength": 0
         },
         "hovertemplate": "Cluster=Cluster 2<br>income=%{x}<br>count=%{y}",
         "legendgroup": "Cluster=Cluster 2",
         "marker": {
          "color": "#00cc96",
          "opacity": 0.7
         },
         "name": "Cluster=Cluster 2",
         "offsetgroup": "Cluster=Cluster 2",
         "orientation": "v",
         "showlegend": true,
         "type": "histogram",
         "x": [
          1540,
          1210,
          1220,
          2180,
          12000,
          1850,
          3370,
          2090,
          1610,
          4280,
          3060,
          1660,
          15400,
          1420,
          33700,
          2690,
          5190,
          1190,
          609,
          1930,
          888,
          2660,
          764,
          1430,
          1820,
          5900,
          1410,
          1390,
          1500,
          12700,
          5150,
          814,
          8460,
          918,
          3320,
          1870,
          1350,
          1030,
          700,
          2380,
          3980,
          4480,
          1730,
          2480,
          1390,
          3280
         ],
         "xaxis": "x",
         "yaxis": "y"
        },
        {
         "alignmentgroup": "True",
         "customdata": [
          [
           "Uganda",
           81,
           17.1,
           9.01,
           28.6,
           1540,
           10.6,
           56.8,
           6.15,
           595,
           "Cluster 2"
          ],
          [
           "Togo",
           90.3,
           40.2,
           7.65,
           57.3,
           1210,
           1.18,
           58.7,
           4.87,
           488,
           "Cluster 2"
          ],
          [
           "Sierra Leone",
           160,
           16.8,
           13.1,
           34.5,
           1220,
           17.2,
           55,
           5.2,
           399,
           "Cluster 2"
          ],
          [
           "Senegal",
           66.8,
           24.9,
           5.66,
           40.3,
           2180,
           1.85,
           64,
           5.06,
           1000,
           "Cluster 2"
          ],
          [
           "South Africa",
           53.7,
           28.6,
           8.94,
           27.4,
           12000,
           6.35,
           54.3,
           2.59,
           7280,
           "Cluster 2"
          ],
          [
           "Timor-Leste",
           62.6,
           2.2,
           9.12,
           27.8,
           1850,
           26.5,
           71.1,
           6.23,
           3600,
           "Cluster 2"
          ],
          [
           "Sudan",
           76.7,
           19.7,
           6.32,
           17.2,
           3370,
           19.6,
           66.3,
           4.88,
           1480,
           "Cluster 2"
          ],
          [
           "Tanzania",
           71.9,
           18.7,
           6.01,
           29.1,
           2090,
           9.25,
           59.3,
           5.43,
           702,
           "Cluster 2"
          ],
          [
           "Afghanistan",
           90.2,
           10,
           7.58,
           44.9,
           1610,
           9.44,
           56.2,
           5.82,
           553,
           "Cluster 2"
          ],
          [
           "Pakistan",
           92.1,
           13.5,
           2.2,
           19.4,
           4280,
           10.9,
           65.3,
           3.85,
           1040,
           "Cluster 2"
          ],
          [
           "Ghana",
           74.7,
           29.5,
           5.22,
           45.9,
           3060,
           16.6,
           62.2,
           4.27,
           1310,
           "Cluster 2"
          ],
          [
           "Gambia",
           80.3,
           23.8,
           5.69,
           42.7,
           1660,
           4.3,
           65.5,
           5.71,
           562,
           "Cluster 2"
          ],
          [
           "Gabon",
           63.7,
           57.7,
           3.5,
           18.9,
           15400,
           16.6,
           62.9,
           4.08,
           8750,
           "Cluster 2"
          ],
          [
           "Eritrea",
           55.2,
           4.79,
           2.66,
           23.3,
           1420,
           11.6,
           61.7,
           4.61,
           482,
           "Cluster 2"
          ],
          [
           "Equatorial Guinea",
           111,
           85.8,
           4.48,
           58.9,
           33700,
           24.9,
           60.9,
           5.21,
           17100,
           "Cluster 2"
          ],
          [
           "Cote d'Ivoire",
           111,
           50.6,
           5.3,
           43.3,
           2690,
           5.39,
           56.3,
           5.27,
           1220,
           "Cluster 2"
          ],
          [
           "Congo, Rep.",
           63.9,
           85.1,
           2.46,
           54.7,
           5190,
           20.7,
           60.4,
           4.95,
           2740,
           "Cluster 2"
          ],
          [
           "Guinea",
           109,
           30.3,
           4.93,
           43.2,
           1190,
           16.1,
           58,
           5.34,
           648,
           "Cluster 2"
          ],
          [
           "Congo, Dem. Rep.",
           116,
           41.1,
           7.91,
           49.6,
           609,
           20.8,
           57.5,
           6.54,
           334,
           "Cluster 2"
          ],
          [
           "Chad",
           150,
           36.8,
           4.53,
           43.5,
           1930,
           6.39,
           56.5,
           6.59,
           897,
           "Cluster 2"
          ],
          [
           "Central African Republic",
           149,
           11.8,
           3.98,
           26.5,
           888,
           2.01,
           47.5,
           5.21,
           446,
           "Cluster 2"
          ],
          [
           "Cameroon",
           108,
           22.2,
           5.13,
           27,
           2660,
           1.91,
           57.3,
           5.11,
           1310,
           "Cluster 2"
          ],
          [
           "Burundi",
           93.6,
           8.92,
           11.6,
           39.2,
           764,
           12.3,
           57.7,
           6.26,
           231,
           "Cluster 2"
          ],
          [
           "Burkina Faso",
           116,
           19.2,
           6.74,
           29.6,
           1430,
           6.81,
           57.9,
           5.87,
           575,
           "Cluster 2"
          ],
          [
           "Benin",
           111,
           23.8,
           4.1,
           37.2,
           1820,
           0.885,
           61.8,
           5.36,
           758,
           "Cluster 2"
          ],
          [
           "Angola",
           119,
           62.3,
           2.85,
           42.9,
           5900,
           22.4,
           60.1,
           6.16,
           3530,
           "Cluster 2"
          ],
          [
           "Comoros",
           88.2,
           16.5,
           4.51,
           51.7,
           1410,
           3.87,
           65.9,
           4.75,
           769,
           "Cluster 2"
          ],
          [
           "Guinea-Bissau",
           114,
           14.9,
           8.5,
           35.2,
           1390,
           2.97,
           55.6,
           5.05,
           547,
           "Cluster 2"
          ],
          [
           "Haiti",
           208,
           15.3,
           6.91,
           64.7,
           1500,
           5.45,
           32.1,
           3.33,
           662,
           "Cluster 2"
          ],
          [
           "Iraq",
           36.9,
           39.4,
           8.41,
           34.1,
           12700,
           16.6,
           67.2,
           4.56,
           4500,
           "Cluster 2"
          ],
          [
           "Nigeria",
           130,
           25.3,
           5.07,
           17.4,
           5150,
           104,
           60.5,
           5.84,
           2330,
           "Cluster 2"
          ],
          [
           "Niger",
           123,
           22.2,
           5.16,
           49.1,
           814,
           2.55,
           58.8,
           7.49,
           348,
           "Cluster 2"
          ],
          [
           "Namibia",
           56,
           47.8,
           6.78,
           60.7,
           8460,
           3.56,
           58.6,
           3.6,
           5190,
           "Cluster 2"
          ],
          [
           "Mozambique",
           101,
           31.5,
           5.21,
           46.2,
           918,
           7.64,
           54.5,
           5.56,
           419,
           "Cluster 2"
          ],
          [
           "Mauritania",
           97.4,
           50.7,
           4.41,
           61.2,
           3320,
           18.9,
           68.2,
           4.98,
           1200,
           "Cluster 2"
          ],
          [
           "Mali",
           137,
           22.8,
           4.98,
           35.1,
           1870,
           4.37,
           59.5,
           6.55,
           708,
           "Cluster 2"
          ],
          [
           "Rwanda",
           63.6,
           12,
           10.5,
           30,
           1350,
           2.61,
           64.6,
           4.51,
           563,
           "Cluster 2"
          ],
          [
           "Malawi",
           90.5,
           22.8,
           6.59,
           34.9,
           1030,
           12.1,
           53.1,
           5.31,
           459,
           "Cluster 2"
          ],
          [
           "Liberia",
           89.3,
           19.1,
           11.8,
           92.6,
           700,
           5.47,
           60.8,
           5.02,
           327,
           "Cluster 2"
          ],
          [
           "Lesotho",
           99.7,
           39.4,
           11.1,
           101,
           2380,
           4.15,
           46.5,
           3.3,
           1170,
           "Cluster 2"
          ],
          [
           "Lao",
           78.9,
           35.4,
           4.47,
           49.3,
           3980,
           9.2,
           63.8,
           3.15,
           1140,
           "Cluster 2"
          ],
          [
           "Yemen",
           56.3,
           30,
           5.18,
           34.4,
           4480,
           23.6,
           67.5,
           4.67,
           1310,
           "Cluster 2"
          ],
          [
           "Kiribati",
           62.7,
           13.3,
           11.3,
           79.9,
           1730,
           1.52,
           60.7,
           3.84,
           1490,
           "Cluster 2"
          ],
          [
           "Kenya",
           62.2,
           20.7,
           4.75,
           33.6,
           2480,
           2.09,
           62.8,
           4.37,
           967,
           "Cluster 2"
          ],
          [
           "Madagascar",
           62.2,
           25,
           3.77,
           43,
           1390,
           8.79,
           60.8,
           4.6,
           413,
           "Cluster 2"
          ],
          [
           "Zambia",
           83.1,
           37,
           5.89,
           30.9,
           3280,
           14,
           52,
           5.4,
           1460,
           "Cluster 2"
          ]
         ],
         "hoverlabel": {
          "namelength": 0
         },
         "hovertemplate": "Cluster=%{customdata[10]}<br>income=%{customdata[5]}<br>country=%{customdata[0]}<br>child_mort=%{customdata[1]}<br>exports=%{customdata[2]}<br>health=%{customdata[3]}<br>imports=%{customdata[4]}<br>inflation=%{customdata[6]}<br>life_expec=%{customdata[7]}<br>total_fer=%{customdata[8]}<br>gdpp=%{customdata[9]}",
         "legendgroup": "Cluster=Cluster 2",
         "marker": {
          "color": "#00cc96"
         },
         "name": "Cluster=Cluster 2",
         "notched": true,
         "offsetgroup": "Cluster=Cluster 2",
         "showlegend": false,
         "type": "box",
         "x": [
          1540,
          1210,
          1220,
          2180,
          12000,
          1850,
          3370,
          2090,
          1610,
          4280,
          3060,
          1660,
          15400,
          1420,
          33700,
          2690,
          5190,
          1190,
          609,
          1930,
          888,
          2660,
          764,
          1430,
          1820,
          5900,
          1410,
          1390,
          1500,
          12700,
          5150,
          814,
          8460,
          918,
          3320,
          1870,
          1350,
          1030,
          700,
          2380,
          3980,
          4480,
          1730,
          2480,
          1390,
          3280
         ],
         "xaxis": "x2",
         "yaxis": "y2"
        },
        {
         "alignmentgroup": "True",
         "bingroup": "x",
         "hoverlabel": {
          "namelength": 0
         },
         "hovertemplate": "Cluster=Cluster 3<br>income=%{x}<br>count=%{y}",
         "legendgroup": "Cluster=Cluster 3",
         "marker": {
          "color": "#ab63fa",
          "opacity": 0.7
         },
         "name": "Cluster=Cluster 3",
         "offsetgroup": "Cluster=Cluster 3",
         "orientation": "v",
         "showlegend": true,
         "type": "histogram",
         "x": [
          91700,
          28300,
          72100
         ],
         "xaxis": "x",
         "yaxis": "y"
        },
        {
         "alignmentgroup": "True",
         "customdata": [
          [
           "Luxembourg",
           2.8,
           175,
           7.77,
           142,
           91700,
           3.62,
           81.3,
           1.63,
           105000,
           "Cluster 3"
          ],
          [
           "Malta",
           6.8,
           153,
           8.65,
           154,
           28300,
           3.83,
           80.3,
           1.36,
           21100,
           "Cluster 3"
          ],
          [
           "Singapore",
           2.8,
           200,
           3.96,
           174,
           72100,
           -0.046,
           82.7,
           1.15,
           46600,
           "Cluster 3"
          ]
         ],
         "hoverlabel": {
          "namelength": 0
         },
         "hovertemplate": "Cluster=%{customdata[10]}<br>income=%{customdata[5]}<br>country=%{customdata[0]}<br>child_mort=%{customdata[1]}<br>exports=%{customdata[2]}<br>health=%{customdata[3]}<br>imports=%{customdata[4]}<br>inflation=%{customdata[6]}<br>life_expec=%{customdata[7]}<br>total_fer=%{customdata[8]}<br>gdpp=%{customdata[9]}",
         "legendgroup": "Cluster=Cluster 3",
         "marker": {
          "color": "#ab63fa"
         },
         "name": "Cluster=Cluster 3",
         "notched": true,
         "offsetgroup": "Cluster=Cluster 3",
         "showlegend": false,
         "type": "box",
         "x": [
          91700,
          28300,
          72100
         ],
         "xaxis": "x2",
         "yaxis": "y2"
        }
       ],
       "layout": {
        "barmode": "relative",
        "legend": {
         "tracegroupgap": 0
        },
        "margin": {
         "t": 60
        },
        "template": {
         "data": {
          "bar": [
           {
            "error_x": {
             "color": "#2a3f5f"
            },
            "error_y": {
             "color": "#2a3f5f"
            },
            "marker": {
             "line": {
              "color": "#E5ECF6",
              "width": 0.5
             }
            },
            "type": "bar"
           }
          ],
          "barpolar": [
           {
            "marker": {
             "line": {
              "color": "#E5ECF6",
              "width": 0.5
             }
            },
            "type": "barpolar"
           }
          ],
          "carpet": [
           {
            "aaxis": {
             "endlinecolor": "#2a3f5f",
             "gridcolor": "white",
             "linecolor": "white",
             "minorgridcolor": "white",
             "startlinecolor": "#2a3f5f"
            },
            "baxis": {
             "endlinecolor": "#2a3f5f",
             "gridcolor": "white",
             "linecolor": "white",
             "minorgridcolor": "white",
             "startlinecolor": "#2a3f5f"
            },
            "type": "carpet"
           }
          ],
          "choropleth": [
           {
            "colorbar": {
             "outlinewidth": 0,
             "ticks": ""
            },
            "type": "choropleth"
           }
          ],
          "contour": [
           {
            "colorbar": {
             "outlinewidth": 0,
             "ticks": ""
            },
            "colorscale": [
             [
              0,
              "#0d0887"
             ],
             [
              0.1111111111111111,
              "#46039f"
             ],
             [
              0.2222222222222222,
              "#7201a8"
             ],
             [
              0.3333333333333333,
              "#9c179e"
             ],
             [
              0.4444444444444444,
              "#bd3786"
             ],
             [
              0.5555555555555556,
              "#d8576b"
             ],
             [
              0.6666666666666666,
              "#ed7953"
             ],
             [
              0.7777777777777778,
              "#fb9f3a"
             ],
             [
              0.8888888888888888,
              "#fdca26"
             ],
             [
              1,
              "#f0f921"
             ]
            ],
            "type": "contour"
           }
          ],
          "contourcarpet": [
           {
            "colorbar": {
             "outlinewidth": 0,
             "ticks": ""
            },
            "type": "contourcarpet"
           }
          ],
          "heatmap": [
           {
            "colorbar": {
             "outlinewidth": 0,
             "ticks": ""
            },
            "colorscale": [
             [
              0,
              "#0d0887"
             ],
             [
              0.1111111111111111,
              "#46039f"
             ],
             [
              0.2222222222222222,
              "#7201a8"
             ],
             [
              0.3333333333333333,
              "#9c179e"
             ],
             [
              0.4444444444444444,
              "#bd3786"
             ],
             [
              0.5555555555555556,
              "#d8576b"
             ],
             [
              0.6666666666666666,
              "#ed7953"
             ],
             [
              0.7777777777777778,
              "#fb9f3a"
             ],
             [
              0.8888888888888888,
              "#fdca26"
             ],
             [
              1,
              "#f0f921"
             ]
            ],
            "type": "heatmap"
           }
          ],
          "heatmapgl": [
           {
            "colorbar": {
             "outlinewidth": 0,
             "ticks": ""
            },
            "colorscale": [
             [
              0,
              "#0d0887"
             ],
             [
              0.1111111111111111,
              "#46039f"
             ],
             [
              0.2222222222222222,
              "#7201a8"
             ],
             [
              0.3333333333333333,
              "#9c179e"
             ],
             [
              0.4444444444444444,
              "#bd3786"
             ],
             [
              0.5555555555555556,
              "#d8576b"
             ],
             [
              0.6666666666666666,
              "#ed7953"
             ],
             [
              0.7777777777777778,
              "#fb9f3a"
             ],
             [
              0.8888888888888888,
              "#fdca26"
             ],
             [
              1,
              "#f0f921"
             ]
            ],
            "type": "heatmapgl"
           }
          ],
          "histogram": [
           {
            "marker": {
             "colorbar": {
              "outlinewidth": 0,
              "ticks": ""
             }
            },
            "type": "histogram"
           }
          ],
          "histogram2d": [
           {
            "colorbar": {
             "outlinewidth": 0,
             "ticks": ""
            },
            "colorscale": [
             [
              0,
              "#0d0887"
             ],
             [
              0.1111111111111111,
              "#46039f"
             ],
             [
              0.2222222222222222,
              "#7201a8"
             ],
             [
              0.3333333333333333,
              "#9c179e"
             ],
             [
              0.4444444444444444,
              "#bd3786"
             ],
             [
              0.5555555555555556,
              "#d8576b"
             ],
             [
              0.6666666666666666,
              "#ed7953"
             ],
             [
              0.7777777777777778,
              "#fb9f3a"
             ],
             [
              0.8888888888888888,
              "#fdca26"
             ],
             [
              1,
              "#f0f921"
             ]
            ],
            "type": "histogram2d"
           }
          ],
          "histogram2dcontour": [
           {
            "colorbar": {
             "outlinewidth": 0,
             "ticks": ""
            },
            "colorscale": [
             [
              0,
              "#0d0887"
             ],
             [
              0.1111111111111111,
              "#46039f"
             ],
             [
              0.2222222222222222,
              "#7201a8"
             ],
             [
              0.3333333333333333,
              "#9c179e"
             ],
             [
              0.4444444444444444,
              "#bd3786"
             ],
             [
              0.5555555555555556,
              "#d8576b"
             ],
             [
              0.6666666666666666,
              "#ed7953"
             ],
             [
              0.7777777777777778,
              "#fb9f3a"
             ],
             [
              0.8888888888888888,
              "#fdca26"
             ],
             [
              1,
              "#f0f921"
             ]
            ],
            "type": "histogram2dcontour"
           }
          ],
          "mesh3d": [
           {
            "colorbar": {
             "outlinewidth": 0,
             "ticks": ""
            },
            "type": "mesh3d"
           }
          ],
          "parcoords": [
           {
            "line": {
             "colorbar": {
              "outlinewidth": 0,
              "ticks": ""
             }
            },
            "type": "parcoords"
           }
          ],
          "pie": [
           {
            "automargin": true,
            "type": "pie"
           }
          ],
          "scatter": [
           {
            "marker": {
             "colorbar": {
              "outlinewidth": 0,
              "ticks": ""
             }
            },
            "type": "scatter"
           }
          ],
          "scatter3d": [
           {
            "line": {
             "colorbar": {
              "outlinewidth": 0,
              "ticks": ""
             }
            },
            "marker": {
             "colorbar": {
              "outlinewidth": 0,
              "ticks": ""
             }
            },
            "type": "scatter3d"
           }
          ],
          "scattercarpet": [
           {
            "marker": {
             "colorbar": {
              "outlinewidth": 0,
              "ticks": ""
             }
            },
            "type": "scattercarpet"
           }
          ],
          "scattergeo": [
           {
            "marker": {
             "colorbar": {
              "outlinewidth": 0,
              "ticks": ""
             }
            },
            "type": "scattergeo"
           }
          ],
          "scattergl": [
           {
            "marker": {
             "colorbar": {
              "outlinewidth": 0,
              "ticks": ""
             }
            },
            "type": "scattergl"
           }
          ],
          "scattermapbox": [
           {
            "marker": {
             "colorbar": {
              "outlinewidth": 0,
              "ticks": ""
             }
            },
            "type": "scattermapbox"
           }
          ],
          "scatterpolar": [
           {
            "marker": {
             "colorbar": {
              "outlinewidth": 0,
              "ticks": ""
             }
            },
            "type": "scatterpolar"
           }
          ],
          "scatterpolargl": [
           {
            "marker": {
             "colorbar": {
              "outlinewidth": 0,
              "ticks": ""
             }
            },
            "type": "scatterpolargl"
           }
          ],
          "scatterternary": [
           {
            "marker": {
             "colorbar": {
              "outlinewidth": 0,
              "ticks": ""
             }
            },
            "type": "scatterternary"
           }
          ],
          "surface": [
           {
            "colorbar": {
             "outlinewidth": 0,
             "ticks": ""
            },
            "colorscale": [
             [
              0,
              "#0d0887"
             ],
             [
              0.1111111111111111,
              "#46039f"
             ],
             [
              0.2222222222222222,
              "#7201a8"
             ],
             [
              0.3333333333333333,
              "#9c179e"
             ],
             [
              0.4444444444444444,
              "#bd3786"
             ],
             [
              0.5555555555555556,
              "#d8576b"
             ],
             [
              0.6666666666666666,
              "#ed7953"
             ],
             [
              0.7777777777777778,
              "#fb9f3a"
             ],
             [
              0.8888888888888888,
              "#fdca26"
             ],
             [
              1,
              "#f0f921"
             ]
            ],
            "type": "surface"
           }
          ],
          "table": [
           {
            "cells": {
             "fill": {
              "color": "#EBF0F8"
             },
             "line": {
              "color": "white"
             }
            },
            "header": {
             "fill": {
              "color": "#C8D4E3"
             },
             "line": {
              "color": "white"
             }
            },
            "type": "table"
           }
          ]
         },
         "layout": {
          "annotationdefaults": {
           "arrowcolor": "#2a3f5f",
           "arrowhead": 0,
           "arrowwidth": 1
          },
          "coloraxis": {
           "colorbar": {
            "outlinewidth": 0,
            "ticks": ""
           }
          },
          "colorscale": {
           "diverging": [
            [
             0,
             "#8e0152"
            ],
            [
             0.1,
             "#c51b7d"
            ],
            [
             0.2,
             "#de77ae"
            ],
            [
             0.3,
             "#f1b6da"
            ],
            [
             0.4,
             "#fde0ef"
            ],
            [
             0.5,
             "#f7f7f7"
            ],
            [
             0.6,
             "#e6f5d0"
            ],
            [
             0.7,
             "#b8e186"
            ],
            [
             0.8,
             "#7fbc41"
            ],
            [
             0.9,
             "#4d9221"
            ],
            [
             1,
             "#276419"
            ]
           ],
           "sequential": [
            [
             0,
             "#0d0887"
            ],
            [
             0.1111111111111111,
             "#46039f"
            ],
            [
             0.2222222222222222,
             "#7201a8"
            ],
            [
             0.3333333333333333,
             "#9c179e"
            ],
            [
             0.4444444444444444,
             "#bd3786"
            ],
            [
             0.5555555555555556,
             "#d8576b"
            ],
            [
             0.6666666666666666,
             "#ed7953"
            ],
            [
             0.7777777777777778,
             "#fb9f3a"
            ],
            [
             0.8888888888888888,
             "#fdca26"
            ],
            [
             1,
             "#f0f921"
            ]
           ],
           "sequentialminus": [
            [
             0,
             "#0d0887"
            ],
            [
             0.1111111111111111,
             "#46039f"
            ],
            [
             0.2222222222222222,
             "#7201a8"
            ],
            [
             0.3333333333333333,
             "#9c179e"
            ],
            [
             0.4444444444444444,
             "#bd3786"
            ],
            [
             0.5555555555555556,
             "#d8576b"
            ],
            [
             0.6666666666666666,
             "#ed7953"
            ],
            [
             0.7777777777777778,
             "#fb9f3a"
            ],
            [
             0.8888888888888888,
             "#fdca26"
            ],
            [
             1,
             "#f0f921"
            ]
           ]
          },
          "colorway": [
           "#636efa",
           "#EF553B",
           "#00cc96",
           "#ab63fa",
           "#FFA15A",
           "#19d3f3",
           "#FF6692",
           "#B6E880",
           "#FF97FF",
           "#FECB52"
          ],
          "font": {
           "color": "#2a3f5f"
          },
          "geo": {
           "bgcolor": "white",
           "lakecolor": "white",
           "landcolor": "#E5ECF6",
           "showlakes": true,
           "showland": true,
           "subunitcolor": "white"
          },
          "hoverlabel": {
           "align": "left"
          },
          "hovermode": "closest",
          "mapbox": {
           "style": "light"
          },
          "paper_bgcolor": "white",
          "plot_bgcolor": "#E5ECF6",
          "polar": {
           "angularaxis": {
            "gridcolor": "white",
            "linecolor": "white",
            "ticks": ""
           },
           "bgcolor": "#E5ECF6",
           "radialaxis": {
            "gridcolor": "white",
            "linecolor": "white",
            "ticks": ""
           }
          },
          "scene": {
           "xaxis": {
            "backgroundcolor": "#E5ECF6",
            "gridcolor": "white",
            "gridwidth": 2,
            "linecolor": "white",
            "showbackground": true,
            "ticks": "",
            "zerolinecolor": "white"
           },
           "yaxis": {
            "backgroundcolor": "#E5ECF6",
            "gridcolor": "white",
            "gridwidth": 2,
            "linecolor": "white",
            "showbackground": true,
            "ticks": "",
            "zerolinecolor": "white"
           },
           "zaxis": {
            "backgroundcolor": "#E5ECF6",
            "gridcolor": "white",
            "gridwidth": 2,
            "linecolor": "white",
            "showbackground": true,
            "ticks": "",
            "zerolinecolor": "white"
           }
          },
          "shapedefaults": {
           "line": {
            "color": "#2a3f5f"
           }
          },
          "ternary": {
           "aaxis": {
            "gridcolor": "white",
            "linecolor": "white",
            "ticks": ""
           },
           "baxis": {
            "gridcolor": "white",
            "linecolor": "white",
            "ticks": ""
           },
           "bgcolor": "#E5ECF6",
           "caxis": {
            "gridcolor": "white",
            "linecolor": "white",
            "ticks": ""
           }
          },
          "title": {
           "x": 0.05
          },
          "xaxis": {
           "automargin": true,
           "gridcolor": "white",
           "linecolor": "white",
           "ticks": "",
           "title": {
            "standoff": 15
           },
           "zerolinecolor": "white",
           "zerolinewidth": 2
          },
          "yaxis": {
           "automargin": true,
           "gridcolor": "white",
           "linecolor": "white",
           "ticks": "",
           "title": {
            "standoff": 15
           },
           "zerolinecolor": "white",
           "zerolinewidth": 2
          }
         }
        },
        "xaxis": {
         "anchor": "y",
         "domain": [
          0,
          1
         ],
         "title": {
          "text": "income"
         }
        },
        "xaxis2": {
         "anchor": "y2",
         "domain": [
          0,
          1
         ],
         "matches": "x",
         "showgrid": true,
         "showticklabels": false
        },
        "yaxis": {
         "anchor": "x",
         "domain": [
          0,
          0.7326
         ],
         "title": {
          "text": "count"
         }
        },
        "yaxis2": {
         "anchor": "x2",
         "domain": [
          0.7426,
          1
         ],
         "matches": "y2",
         "showgrid": false,
         "showline": false,
         "showticklabels": false,
         "ticks": ""
        }
       }
      },
      "text/html": [
       "<div>\n",
       "        \n",
       "        \n",
       "            <div id=\"dba025f1-95f6-4bbb-9d06-bd36e1251e06\" class=\"plotly-graph-div\" style=\"height:525px; width:100%;\"></div>\n",
       "            <script type=\"text/javascript\">\n",
       "                require([\"plotly\"], function(Plotly) {\n",
       "                    window.PLOTLYENV=window.PLOTLYENV || {};\n",
       "                    \n",
       "                if (document.getElementById(\"dba025f1-95f6-4bbb-9d06-bd36e1251e06\")) {\n",
       "                    Plotly.newPlot(\n",
       "                        'dba025f1-95f6-4bbb-9d06-bd36e1251e06',\n",
       "                        [{\"alignmentgroup\": \"True\", \"bingroup\": \"x\", \"hoverlabel\": {\"namelength\": 0}, \"hovertemplate\": \"Cluster=Cluster 0<br>income=%{x}<br>count=%{y}\", \"legendgroup\": \"Cluster=Cluster 0\", \"marker\": {\"color\": \"#636efa\", \"opacity\": 0.7}, \"name\": \"Cluster=Cluster 0\", \"offsetgroup\": \"Cluster=Cluster 0\", \"orientation\": \"v\", \"showlegend\": true, \"type\": \"histogram\", \"x\": [2790, 8560, 16300, 18300, 9920, 14200, 20100, 9470, 8000, 17400, 8430, 4410, 22300, 2110, 5840, 13500, 17800, 11200, 6730, 4980, 7350, 22700, 29600, 10400, 21100, 1780, 21800, 5600, 9960, 7290, 15400, 5400, 45300, 45400, 1990, 12700, 3720, 20400, 6440, 14000, 7710, 3910, 3340, 15900, 25200, 10500, 21100, 11400, 18000, 6710, 9860, 2520, 7300, 2950, 15300, 14500, 13300, 9720, 5410, 6420, 16500, 7880, 16200, 15300, 2440, 41100, 22900, 16000, 6700, 18700, 19100, 4490, 12900, 9930, 17100, 5830, 4240, 23100, 9940, 20100, 7820, 28300, 10900, 13000, 9530, 19400, 9350, 11100], \"xaxis\": \"x\", \"yaxis\": \"y\"}, {\"alignmentgroup\": \"True\", \"customdata\": [[\"Kyrgyz Republic\", 29.6, 51.6, 6.18, 81.7, 2790, 10.0, 68.5, 3.1, 880, \"Cluster 0\"], [\"Sri Lanka\", 11.2, 19.6, 2.94, 26.8, 8560, 22.8, 74.4, 2.2, 2810, \"Cluster 0\"], [\"Lebanon\", 10.3, 35.8, 7.03, 60.2, 16300, 0.23800000000000002, 79.8, 1.61, 8860, \"Cluster 0\"], [\"Latvia\", 7.8, 53.7, 6.68, 55.1, 18300, -0.812, 73.1, 1.36, 11300, \"Cluster 0\"], [\"St. Vincent and the Grenadines\", 20.7, 26.9, 4.47, 57.1, 9920, 4.44, 71.6, 2.07, 6230, \"Cluster 0\"], [\"Suriname\", 24.1, 52.5, 7.01, 38.4, 14200, 7.2, 70.3, 2.52, 8300, \"Cluster 0\"], [\"Kazakhstan\", 21.5, 44.2, 4.29, 29.9, 20100, 19.5, 68.4, 2.6, 9070, \"Cluster 0\"], [\"Jordan\", 21.1, 48.3, 8.04, 69.0, 9470, 8.43, 75.8, 3.66, 3680, \"Cluster 0\"], [\"Jamaica\", 18.1, 31.3, 4.81, 49.6, 8000, 9.81, 74.7, 2.17, 4680, \"Cluster 0\"], [\"Iran\", 19.3, 24.4, 5.6, 19.4, 17400, 15.9, 74.5, 1.76, 6530, \"Cluster 0\"], [\"Indonesia\", 33.3, 24.3, 2.61, 22.4, 8430, 15.3, 69.9, 2.48, 3110, \"Cluster 0\"], [\"India\", 58.8, 22.6, 4.05, 27.1, 4410, 8.98, 66.2, 2.6, 1350, \"Cluster 0\"], [\"Hungary\", 6.0, 81.8, 7.33, 76.5, 22300, 2.33, 74.5, 1.25, 13100, \"Cluster 0\"], [\"Tajikistan\", 52.4, 14.9, 5.98, 58.6, 2110, 12.5, 69.6, 3.51, 738, \"Cluster 0\"], [\"Guyana\", 37.6, 51.4, 5.38, 79.1, 5840, 5.73, 65.5, 2.65, 3040, \"Cluster 0\"], [\"Thailand\", 14.9, 66.5, 3.88, 60.8, 13500, 4.08, 76.6, 1.55, 5080, \"Cluster 0\"], [\"Romania\", 11.5, 32.6, 5.58, 38.8, 17800, 3.53, 73.7, 1.59, 8230, \"Cluster 0\"], [\"Grenada\", 14.6, 23.8, 5.86, 49.2, 11200, 0.48, 71.3, 2.24, 7370, \"Cluster 0\"], [\"Georgia\", 16.5, 35.0, 10.1, 52.8, 6730, 8.55, 72.8, 1.92, 2960, \"Cluster 0\"], [\"Tonga\", 17.4, 12.4, 5.07, 60.3, 4980, 3.68, 69.9, 3.91, 3550, \"Cluster 0\"], [\"Fiji\", 24.1, 57.8, 4.86, 63.9, 7350, 4.23, 65.3, 2.67, 3650, \"Cluster 0\"], [\"Estonia\", 4.5, 75.1, 6.03, 68.7, 22700, 1.74, 76.0, 1.72, 14600, \"Cluster 0\"], [\"Libya\", 16.6, 65.6, 3.88, 42.1, 29600, 14.2, 76.1, 2.41, 12100, \"Cluster 0\"], [\"Tunisia\", 17.4, 50.5, 6.21, 55.3, 10400, 3.82, 76.9, 2.14, 4140, \"Cluster 0\"], [\"Lithuania\", 6.1, 65.3, 7.04, 67.2, 21100, 2.38, 73.2, 1.5, 12000, \"Cluster 0\"], [\"Solomon Islands\", 28.1, 49.3, 8.55, 81.2, 1780, 6.81, 61.7, 4.24, 1290, \"Cluster 0\"], [\"Poland\", 6.0, 40.1, 7.46, 42.1, 21800, 1.66, 76.3, 1.41, 12600, \"Cluster 0\"], [\"Philippines\", 31.9, 34.8, 3.61, 36.6, 5600, 4.22, 69.0, 3.16, 2130, \"Cluster 0\"], [\"Peru\", 20.3, 27.8, 5.08, 23.8, 9960, 5.71, 77.9, 2.54, 5020, \"Cluster 0\"], [\"Paraguay\", 24.1, 55.1, 5.87, 51.5, 7290, 6.1, 74.1, 2.73, 3230, \"Cluster 0\"], [\"Panama\", 19.7, 70.0, 8.1, 78.2, 15400, 2.59, 77.8, 2.62, 8080, \"Cluster 0\"], [\"Samoa\", 18.9, 29.2, 6.47, 53.1, 5400, 1.72, 71.5, 4.34, 3450, \"Cluster 0\"], [\"Oman\", 11.7, 65.7, 2.77, 41.2, 45300, 15.6, 76.1, 2.9, 19300, \"Cluster 0\"], [\"Saudi Arabia\", 15.7, 49.6, 4.29, 33.0, 45400, 17.2, 75.1, 2.96, 19300, \"Cluster 0\"], [\"Nepal\", 47.0, 9.58, 5.25, 36.4, 1990, 15.1, 68.3, 2.61, 592, \"Cluster 0\"], [\"Serbia\", 7.6, 32.9, 10.4, 47.9, 12700, 5.88, 74.7, 1.4, 5410, \"Cluster 0\"], [\"Myanmar\", 64.4, 0.109, 1.97, 0.0659, 3720, 7.04, 66.8, 2.41, 988, \"Cluster 0\"], [\"Seychelles\", 14.4, 93.8, 3.4, 108.0, 20400, -4.21, 73.4, 2.17, 10800, \"Cluster 0\"], [\"Morocco\", 33.5, 32.2, 5.2, 43.0, 6440, 0.976, 73.5, 2.58, 2830, \"Cluster 0\"], [\"Montenegro\", 6.8, 37.0, 9.11, 62.7, 14000, 1.6, 76.4, 1.77, 6680, \"Cluster 0\"], [\"Mongolia\", 26.1, 46.7, 5.44, 56.7, 7710, 39.2, 66.2, 2.64, 2650, \"Cluster 0\"], [\"Moldova\", 17.2, 39.2, 11.7, 78.5, 3910, 11.1, 69.7, 1.27, 1630, \"Cluster 0\"], [\"Micronesia, Fed. Sts.\", 40.0, 23.5, 14.2, 81.0, 3340, 3.8, 65.4, 3.46, 2860, \"Cluster 0\"], [\"Mauritius\", 15.0, 51.2, 6.0, 62.2, 15900, 1.13, 73.4, 1.57, 8000, \"Cluster 0\"], [\"Slovak Republic\", 7.0, 76.3, 8.79, 77.8, 25200, 0.485, 75.5, 1.43, 16600, \"Cluster 0\"], [\"Maldives\", 13.2, 77.6, 6.33, 65.4, 10500, 2.88, 77.9, 2.23, 7100, \"Cluster 0\"], [\"Malaysia\", 7.9, 86.9, 4.39, 71.0, 21100, 7.27, 74.5, 2.15, 9070, \"Cluster 0\"], [\"Macedonia, FYR\", 10.4, 39.8, 7.09, 58.1, 11400, 2.04, 74.0, 1.47, 4540, \"Cluster 0\"], [\"Turkey\", 19.1, 20.4, 6.74, 25.5, 18000, 7.01, 78.2, 2.15, 10700, \"Cluster 0\"], [\"Guatemala\", 35.4, 25.8, 6.85, 36.3, 6710, 5.14, 71.3, 3.38, 2830, \"Cluster 0\"], [\"Egypt\", 29.1, 21.3, 4.66, 26.6, 9860, 10.1, 70.5, 3.19, 2600, \"Cluster 0\"], [\"Cambodia\", 44.4, 54.1, 5.68, 59.5, 2520, 3.12, 66.1, 2.88, 786, \"Cluster 0\"], [\"El Salvador\", 19.2, 26.9, 6.91, 46.6, 7300, 2.65, 74.1, 2.27, 2990, \"Cluster 0\"], [\"Vanuatu\", 29.2, 46.6, 5.25, 52.7, 2950, 2.62, 63.0, 3.5, 2970, \"Cluster 0\"], [\"Bulgaria\", 10.8, 50.2, 6.87, 53.0, 15300, 1.11, 73.9, 1.57, 6840, \"Cluster 0\"], [\"Brazil\", 19.8, 10.7, 9.01, 11.8, 14500, 8.41, 74.2, 1.8, 11200, \"Cluster 0\"], [\"Botswana\", 52.5, 43.6, 8.3, 51.3, 13300, 8.92, 57.1, 2.88, 6350, \"Cluster 0\"], [\"Bosnia and Herzegovina\", 6.9, 29.7, 11.1, 51.3, 9720, 1.4, 76.8, 1.31, 4610, \"Cluster 0\"], [\"Bolivia\", 46.6, 41.2, 4.84, 34.3, 5410, 8.78, 71.6, 3.2, 1980, \"Cluster 0\"], [\"Bhutan\", 42.7, 42.5, 5.2, 70.7, 6420, 5.99, 72.1, 2.38, 2180, \"Cluster 0\"], [\"Venezuela\", 17.1, 28.5, 4.91, 17.6, 16500, 45.9, 75.4, 2.47, 13500, \"Cluster 0\"], [\"Belize\", 18.8, 58.2, 5.2, 57.5, 7880, 1.14, 71.4, 2.71, 4340, \"Cluster 0\"], [\"Belarus\", 5.5, 51.4, 5.61, 64.5, 16200, 15.1, 70.4, 1.49, 6030, \"Cluster 0\"], [\"Barbados\", 14.2, 39.5, 7.97, 48.7, 15300, 0.321, 76.7, 1.78, 16000, \"Cluster 0\"], [\"Bangladesh\", 49.4, 16.0, 3.52, 21.8, 2440, 7.14, 70.4, 2.33, 758, \"Cluster 0\"], [\"Bahrain\", 8.6, 69.5, 4.97, 50.9, 41100, 7.44, 76.0, 2.16, 20700, \"Cluster 0\"], [\"Bahamas\", 13.8, 35.0, 7.89, 43.7, 22900, -0.39299999999999996, 73.8, 1.86, 28000, \"Cluster 0\"], [\"Azerbaijan\", 39.2, 54.3, 5.88, 20.7, 16000, 13.8, 69.1, 1.92, 5840, \"Cluster 0\"], [\"Armenia\", 18.1, 20.8, 4.4, 45.3, 6700, 7.77, 73.3, 1.69, 3220, \"Cluster 0\"], [\"Argentina\", 14.5, 18.9, 8.1, 16.0, 18700, 20.9, 75.8, 2.37, 10300, \"Cluster 0\"], [\"Antigua and Barbuda\", 10.3, 45.5, 6.03, 58.9, 19100, 1.44, 76.8, 2.13, 12200, \"Cluster 0\"], [\"Vietnam\", 23.3, 72.0, 6.84, 80.2, 4490, 12.1, 73.1, 1.95, 1310, \"Cluster 0\"], [\"Algeria\", 27.3, 38.4, 4.17, 31.4, 12900, 16.1, 76.5, 2.89, 4460, \"Cluster 0\"], [\"Albania\", 16.6, 28.0, 6.55, 48.6, 9930, 4.49, 76.3, 1.65, 4090, \"Cluster 0\"], [\"Uruguay\", 10.6, 26.3, 8.35, 25.4, 17100, 4.91, 76.4, 2.08, 11900, \"Cluster 0\"], [\"Cape Verde\", 26.5, 32.7, 4.09, 61.8, 5830, 0.505, 72.5, 2.67, 3310, \"Cluster 0\"], [\"Uzbekistan\", 36.3, 31.7, 5.81, 28.5, 4240, 16.5, 68.8, 2.34, 1380, \"Cluster 0\"], [\"Russia\", 10.0, 29.2, 5.08, 21.1, 23100, 14.2, 69.2, 1.57, 10700, \"Cluster 0\"], [\"Turkmenistan\", 62.0, 76.3, 2.5, 44.5, 9940, 2.31, 67.9, 2.83, 4440, \"Cluster 0\"], [\"Croatia\", 5.5, 37.6, 7.76, 38.1, 20100, 0.821, 76.3, 1.55, 13500, \"Cluster 0\"], [\"Ukraine\", 11.7, 47.1, 7.72, 51.1, 7820, 13.4, 70.4, 1.44, 2970, \"Cluster 0\"], [\"Czech Republic\", 3.4, 66.0, 7.88, 62.9, 28300, -1.43, 77.5, 1.51, 19800, \"Cluster 0\"], [\"Colombia\", 18.6, 15.9, 7.59, 17.8, 10900, 3.86, 76.4, 2.01, 6250, \"Cluster 0\"], [\"Costa Rica\", 10.2, 33.2, 10.9, 35.0, 13000, 6.57, 80.4, 1.92, 8200, \"Cluster 0\"], [\"China\", 15.7, 26.3, 5.07, 22.6, 9530, 6.94, 74.6, 1.59, 4560, \"Cluster 0\"], [\"Chile\", 8.7, 37.7, 7.96, 31.3, 19400, 8.96, 79.1, 1.88, 12900, \"Cluster 0\"], [\"Ecuador\", 25.1, 27.9, 8.06, 32.4, 9350, 7.47, 76.7, 2.66, 4660, \"Cluster 0\"], [\"Dominican Republic\", 34.4, 22.7, 6.22, 33.3, 11100, 5.44, 74.6, 2.6, 5450, \"Cluster 0\"]], \"hoverlabel\": {\"namelength\": 0}, \"hovertemplate\": \"Cluster=%{customdata[10]}<br>income=%{customdata[5]}<br>country=%{customdata[0]}<br>child_mort=%{customdata[1]}<br>exports=%{customdata[2]}<br>health=%{customdata[3]}<br>imports=%{customdata[4]}<br>inflation=%{customdata[6]}<br>life_expec=%{customdata[7]}<br>total_fer=%{customdata[8]}<br>gdpp=%{customdata[9]}\", \"legendgroup\": \"Cluster=Cluster 0\", \"marker\": {\"color\": \"#636efa\"}, \"name\": \"Cluster=Cluster 0\", \"notched\": true, \"offsetgroup\": \"Cluster=Cluster 0\", \"showlegend\": false, \"type\": \"box\", \"x\": [2790, 8560, 16300, 18300, 9920, 14200, 20100, 9470, 8000, 17400, 8430, 4410, 22300, 2110, 5840, 13500, 17800, 11200, 6730, 4980, 7350, 22700, 29600, 10400, 21100, 1780, 21800, 5600, 9960, 7290, 15400, 5400, 45300, 45400, 1990, 12700, 3720, 20400, 6440, 14000, 7710, 3910, 3340, 15900, 25200, 10500, 21100, 11400, 18000, 6710, 9860, 2520, 7300, 2950, 15300, 14500, 13300, 9720, 5410, 6420, 16500, 7880, 16200, 15300, 2440, 41100, 22900, 16000, 6700, 18700, 19100, 4490, 12900, 9930, 17100, 5830, 4240, 23100, 9940, 20100, 7820, 28300, 10900, 13000, 9530, 19400, 9350, 11100], \"xaxis\": \"x2\", \"yaxis\": \"y2\"}, {\"alignmentgroup\": \"True\", \"bingroup\": \"x\", \"hoverlabel\": {\"namelength\": 0}, \"hovertemplate\": \"Cluster=Cluster 1<br>income=%{x}<br>count=%{y}\", \"legendgroup\": \"Cluster=Cluster 1\", \"marker\": {\"color\": \"#EF553B\", \"opacity\": 0.7}, \"name\": \"Cluster=Cluster 1\", \"offsetgroup\": \"Cluster=Cluster 1\", \"orientation\": \"v\", \"showlegend\": true, \"type\": \"histogram\", \"x\": [125000, 41100, 27200, 33900, 28700, 41400, 45500, 39800, 36900, 32300, 43200, 62300, 44000, 40400, 35800, 45700, 28700, 38800, 57600, 36200, 49400, 80600, 30400, 32500, 42900, 55500, 36200, 29600, 75200, 40700], \"xaxis\": \"x\", \"yaxis\": \"y\"}, {\"alignmentgroup\": \"True\", \"customdata\": [[\"Qatar\", 9.0, 62.3, 1.81, 23.8, 125000, 6.98, 79.5, 2.07, 70300, \"Cluster 1\"], [\"Belgium\", 4.5, 76.4, 10.7, 74.7, 41100, 1.88, 80.0, 1.86, 44400, \"Cluster 1\"], [\"Portugal\", 3.9, 29.9, 11.0, 37.4, 27200, 0.643, 79.8, 1.39, 22500, \"Cluster 1\"], [\"Cyprus\", 3.6, 50.2, 5.97, 57.5, 33900, 2.01, 79.9, 1.42, 30800, \"Cluster 1\"], [\"Greece\", 3.9, 22.1, 10.3, 30.7, 28700, 0.6729999999999999, 80.4, 1.48, 26900, \"Cluster 1\"], [\"Australia\", 4.8, 19.8, 8.73, 20.9, 41400, 1.16, 82.0, 1.93, 51900, \"Cluster 1\"], [\"Netherlands\", 4.5, 72.0, 11.9, 63.6, 45500, 0.848, 80.7, 1.79, 50300, \"Cluster 1\"], [\"Finland\", 3.0, 38.7, 8.95, 37.4, 39800, 0.35100000000000003, 80.0, 1.87, 46200, \"Cluster 1\"], [\"France\", 4.2, 26.8, 11.9, 28.1, 36900, 1.05, 81.4, 2.03, 40600, \"Cluster 1\"], [\"New Zealand\", 6.2, 30.3, 10.1, 28.0, 32300, 3.73, 80.9, 2.17, 33700, \"Cluster 1\"], [\"Austria\", 4.3, 51.3, 11.0, 47.8, 43200, 0.873, 80.5, 1.44, 46900, \"Cluster 1\"], [\"Norway\", 3.2, 39.7, 9.48, 28.5, 62300, 5.95, 81.0, 1.95, 87800, \"Cluster 1\"], [\"Denmark\", 4.1, 50.5, 11.4, 43.6, 44000, 3.22, 79.5, 1.87, 58000, \"Cluster 1\"], [\"Germany\", 4.2, 42.3, 11.6, 37.1, 40400, 0.758, 80.1, 1.39, 41800, \"Cluster 1\"], [\"Japan\", 3.2, 15.0, 9.49, 13.6, 35800, -1.9, 82.8, 1.39, 44500, \"Cluster 1\"], [\"Ireland\", 4.2, 103.0, 9.19, 86.5, 45700, -3.22, 80.4, 2.05, 48700, \"Cluster 1\"], [\"Slovenia\", 3.2, 64.3, 9.41, 62.9, 28700, -0.987, 79.5, 1.57, 23400, \"Cluster 1\"], [\"Iceland\", 2.6, 53.4, 9.4, 43.3, 38800, 5.47, 82.0, 2.2, 41900, \"Cluster 1\"], [\"United Arab Emirates\", 8.6, 77.7, 3.66, 63.6, 57600, 12.5, 76.5, 1.87, 35000, \"Cluster 1\"], [\"United Kingdom\", 5.2, 28.2, 9.64, 30.8, 36200, 1.57, 80.3, 1.92, 38900, \"Cluster 1\"], [\"United States\", 7.3, 12.4, 17.9, 15.8, 49400, 1.22, 78.7, 1.93, 48400, \"Cluster 1\"], [\"Brunei\", 10.5, 67.4, 2.84, 28.0, 80600, 16.7, 77.1, 1.84, 35300, \"Cluster 1\"], [\"South Korea\", 4.1, 49.4, 6.93, 46.2, 30400, 3.16, 80.1, 1.23, 22100, \"Cluster 1\"], [\"Spain\", 3.8, 25.5, 9.54, 26.8, 32500, 0.16, 81.9, 1.37, 30700, \"Cluster 1\"], [\"Sweden\", 3.0, 46.2, 9.63, 40.7, 42900, 0.991, 81.5, 1.98, 52100, \"Cluster 1\"], [\"Switzerland\", 4.5, 64.0, 11.5, 53.3, 55500, 0.317, 82.2, 1.52, 74600, \"Cluster 1\"], [\"Italy\", 4.0, 25.2, 9.53, 27.2, 36200, 0.319, 81.7, 1.46, 35800, \"Cluster 1\"], [\"Israel\", 4.6, 35.0, 7.63, 32.9, 29600, 1.77, 81.4, 3.03, 30600, \"Cluster 1\"], [\"Kuwait\", 10.8, 66.7, 2.63, 30.4, 75200, 11.2, 78.2, 2.21, 38500, \"Cluster 1\"], [\"Canada\", 5.6, 29.1, 11.3, 31.0, 40700, 2.87, 81.3, 1.63, 47400, \"Cluster 1\"]], \"hoverlabel\": {\"namelength\": 0}, \"hovertemplate\": \"Cluster=%{customdata[10]}<br>income=%{customdata[5]}<br>country=%{customdata[0]}<br>child_mort=%{customdata[1]}<br>exports=%{customdata[2]}<br>health=%{customdata[3]}<br>imports=%{customdata[4]}<br>inflation=%{customdata[6]}<br>life_expec=%{customdata[7]}<br>total_fer=%{customdata[8]}<br>gdpp=%{customdata[9]}\", \"legendgroup\": \"Cluster=Cluster 1\", \"marker\": {\"color\": \"#EF553B\"}, \"name\": \"Cluster=Cluster 1\", \"notched\": true, \"offsetgroup\": \"Cluster=Cluster 1\", \"showlegend\": false, \"type\": \"box\", \"x\": [125000, 41100, 27200, 33900, 28700, 41400, 45500, 39800, 36900, 32300, 43200, 62300, 44000, 40400, 35800, 45700, 28700, 38800, 57600, 36200, 49400, 80600, 30400, 32500, 42900, 55500, 36200, 29600, 75200, 40700], \"xaxis\": \"x2\", \"yaxis\": \"y2\"}, {\"alignmentgroup\": \"True\", \"bingroup\": \"x\", \"hoverlabel\": {\"namelength\": 0}, \"hovertemplate\": \"Cluster=Cluster 2<br>income=%{x}<br>count=%{y}\", \"legendgroup\": \"Cluster=Cluster 2\", \"marker\": {\"color\": \"#00cc96\", \"opacity\": 0.7}, \"name\": \"Cluster=Cluster 2\", \"offsetgroup\": \"Cluster=Cluster 2\", \"orientation\": \"v\", \"showlegend\": true, \"type\": \"histogram\", \"x\": [1540, 1210, 1220, 2180, 12000, 1850, 3370, 2090, 1610, 4280, 3060, 1660, 15400, 1420, 33700, 2690, 5190, 1190, 609, 1930, 888, 2660, 764, 1430, 1820, 5900, 1410, 1390, 1500, 12700, 5150, 814, 8460, 918, 3320, 1870, 1350, 1030, 700, 2380, 3980, 4480, 1730, 2480, 1390, 3280], \"xaxis\": \"x\", \"yaxis\": \"y\"}, {\"alignmentgroup\": \"True\", \"customdata\": [[\"Uganda\", 81.0, 17.1, 9.01, 28.6, 1540, 10.6, 56.8, 6.15, 595, \"Cluster 2\"], [\"Togo\", 90.3, 40.2, 7.65, 57.3, 1210, 1.18, 58.7, 4.87, 488, \"Cluster 2\"], [\"Sierra Leone\", 160.0, 16.8, 13.1, 34.5, 1220, 17.2, 55.0, 5.2, 399, \"Cluster 2\"], [\"Senegal\", 66.8, 24.9, 5.66, 40.3, 2180, 1.85, 64.0, 5.06, 1000, \"Cluster 2\"], [\"South Africa\", 53.7, 28.6, 8.94, 27.4, 12000, 6.35, 54.3, 2.59, 7280, \"Cluster 2\"], [\"Timor-Leste\", 62.6, 2.2, 9.12, 27.8, 1850, 26.5, 71.1, 6.23, 3600, \"Cluster 2\"], [\"Sudan\", 76.7, 19.7, 6.32, 17.2, 3370, 19.6, 66.3, 4.88, 1480, \"Cluster 2\"], [\"Tanzania\", 71.9, 18.7, 6.01, 29.1, 2090, 9.25, 59.3, 5.43, 702, \"Cluster 2\"], [\"Afghanistan\", 90.2, 10.0, 7.58, 44.9, 1610, 9.44, 56.2, 5.82, 553, \"Cluster 2\"], [\"Pakistan\", 92.1, 13.5, 2.2, 19.4, 4280, 10.9, 65.3, 3.85, 1040, \"Cluster 2\"], [\"Ghana\", 74.7, 29.5, 5.22, 45.9, 3060, 16.6, 62.2, 4.27, 1310, \"Cluster 2\"], [\"Gambia\", 80.3, 23.8, 5.69, 42.7, 1660, 4.3, 65.5, 5.71, 562, \"Cluster 2\"], [\"Gabon\", 63.7, 57.7, 3.5, 18.9, 15400, 16.6, 62.9, 4.08, 8750, \"Cluster 2\"], [\"Eritrea\", 55.2, 4.79, 2.66, 23.3, 1420, 11.6, 61.7, 4.61, 482, \"Cluster 2\"], [\"Equatorial Guinea\", 111.0, 85.8, 4.48, 58.9, 33700, 24.9, 60.9, 5.21, 17100, \"Cluster 2\"], [\"Cote d'Ivoire\", 111.0, 50.6, 5.3, 43.3, 2690, 5.39, 56.3, 5.27, 1220, \"Cluster 2\"], [\"Congo, Rep.\", 63.9, 85.1, 2.46, 54.7, 5190, 20.7, 60.4, 4.95, 2740, \"Cluster 2\"], [\"Guinea\", 109.0, 30.3, 4.93, 43.2, 1190, 16.1, 58.0, 5.34, 648, \"Cluster 2\"], [\"Congo, Dem. Rep.\", 116.0, 41.1, 7.91, 49.6, 609, 20.8, 57.5, 6.54, 334, \"Cluster 2\"], [\"Chad\", 150.0, 36.8, 4.53, 43.5, 1930, 6.39, 56.5, 6.59, 897, \"Cluster 2\"], [\"Central African Republic\", 149.0, 11.8, 3.98, 26.5, 888, 2.01, 47.5, 5.21, 446, \"Cluster 2\"], [\"Cameroon\", 108.0, 22.2, 5.13, 27.0, 2660, 1.91, 57.3, 5.11, 1310, \"Cluster 2\"], [\"Burundi\", 93.6, 8.92, 11.6, 39.2, 764, 12.3, 57.7, 6.26, 231, \"Cluster 2\"], [\"Burkina Faso\", 116.0, 19.2, 6.74, 29.6, 1430, 6.81, 57.9, 5.87, 575, \"Cluster 2\"], [\"Benin\", 111.0, 23.8, 4.1, 37.2, 1820, 0.885, 61.8, 5.36, 758, \"Cluster 2\"], [\"Angola\", 119.0, 62.3, 2.85, 42.9, 5900, 22.4, 60.1, 6.16, 3530, \"Cluster 2\"], [\"Comoros\", 88.2, 16.5, 4.51, 51.7, 1410, 3.87, 65.9, 4.75, 769, \"Cluster 2\"], [\"Guinea-Bissau\", 114.0, 14.9, 8.5, 35.2, 1390, 2.97, 55.6, 5.05, 547, \"Cluster 2\"], [\"Haiti\", 208.0, 15.3, 6.91, 64.7, 1500, 5.45, 32.1, 3.33, 662, \"Cluster 2\"], [\"Iraq\", 36.9, 39.4, 8.41, 34.1, 12700, 16.6, 67.2, 4.56, 4500, \"Cluster 2\"], [\"Nigeria\", 130.0, 25.3, 5.07, 17.4, 5150, 104.0, 60.5, 5.84, 2330, \"Cluster 2\"], [\"Niger\", 123.0, 22.2, 5.16, 49.1, 814, 2.55, 58.8, 7.49, 348, \"Cluster 2\"], [\"Namibia\", 56.0, 47.8, 6.78, 60.7, 8460, 3.56, 58.6, 3.6, 5190, \"Cluster 2\"], [\"Mozambique\", 101.0, 31.5, 5.21, 46.2, 918, 7.64, 54.5, 5.56, 419, \"Cluster 2\"], [\"Mauritania\", 97.4, 50.7, 4.41, 61.2, 3320, 18.9, 68.2, 4.98, 1200, \"Cluster 2\"], [\"Mali\", 137.0, 22.8, 4.98, 35.1, 1870, 4.37, 59.5, 6.55, 708, \"Cluster 2\"], [\"Rwanda\", 63.6, 12.0, 10.5, 30.0, 1350, 2.61, 64.6, 4.51, 563, \"Cluster 2\"], [\"Malawi\", 90.5, 22.8, 6.59, 34.9, 1030, 12.1, 53.1, 5.31, 459, \"Cluster 2\"], [\"Liberia\", 89.3, 19.1, 11.8, 92.6, 700, 5.47, 60.8, 5.02, 327, \"Cluster 2\"], [\"Lesotho\", 99.7, 39.4, 11.1, 101.0, 2380, 4.15, 46.5, 3.3, 1170, \"Cluster 2\"], [\"Lao\", 78.9, 35.4, 4.47, 49.3, 3980, 9.2, 63.8, 3.15, 1140, \"Cluster 2\"], [\"Yemen\", 56.3, 30.0, 5.18, 34.4, 4480, 23.6, 67.5, 4.67, 1310, \"Cluster 2\"], [\"Kiribati\", 62.7, 13.3, 11.3, 79.9, 1730, 1.52, 60.7, 3.84, 1490, \"Cluster 2\"], [\"Kenya\", 62.2, 20.7, 4.75, 33.6, 2480, 2.09, 62.8, 4.37, 967, \"Cluster 2\"], [\"Madagascar\", 62.2, 25.0, 3.77, 43.0, 1390, 8.79, 60.8, 4.6, 413, \"Cluster 2\"], [\"Zambia\", 83.1, 37.0, 5.89, 30.9, 3280, 14.0, 52.0, 5.4, 1460, \"Cluster 2\"]], \"hoverlabel\": {\"namelength\": 0}, \"hovertemplate\": \"Cluster=%{customdata[10]}<br>income=%{customdata[5]}<br>country=%{customdata[0]}<br>child_mort=%{customdata[1]}<br>exports=%{customdata[2]}<br>health=%{customdata[3]}<br>imports=%{customdata[4]}<br>inflation=%{customdata[6]}<br>life_expec=%{customdata[7]}<br>total_fer=%{customdata[8]}<br>gdpp=%{customdata[9]}\", \"legendgroup\": \"Cluster=Cluster 2\", \"marker\": {\"color\": \"#00cc96\"}, \"name\": \"Cluster=Cluster 2\", \"notched\": true, \"offsetgroup\": \"Cluster=Cluster 2\", \"showlegend\": false, \"type\": \"box\", \"x\": [1540, 1210, 1220, 2180, 12000, 1850, 3370, 2090, 1610, 4280, 3060, 1660, 15400, 1420, 33700, 2690, 5190, 1190, 609, 1930, 888, 2660, 764, 1430, 1820, 5900, 1410, 1390, 1500, 12700, 5150, 814, 8460, 918, 3320, 1870, 1350, 1030, 700, 2380, 3980, 4480, 1730, 2480, 1390, 3280], \"xaxis\": \"x2\", \"yaxis\": \"y2\"}, {\"alignmentgroup\": \"True\", \"bingroup\": \"x\", \"hoverlabel\": {\"namelength\": 0}, \"hovertemplate\": \"Cluster=Cluster 3<br>income=%{x}<br>count=%{y}\", \"legendgroup\": \"Cluster=Cluster 3\", \"marker\": {\"color\": \"#ab63fa\", \"opacity\": 0.7}, \"name\": \"Cluster=Cluster 3\", \"offsetgroup\": \"Cluster=Cluster 3\", \"orientation\": \"v\", \"showlegend\": true, \"type\": \"histogram\", \"x\": [91700, 28300, 72100], \"xaxis\": \"x\", \"yaxis\": \"y\"}, {\"alignmentgroup\": \"True\", \"customdata\": [[\"Luxembourg\", 2.8, 175.0, 7.77, 142.0, 91700, 3.62, 81.3, 1.63, 105000, \"Cluster 3\"], [\"Malta\", 6.8, 153.0, 8.65, 154.0, 28300, 3.83, 80.3, 1.36, 21100, \"Cluster 3\"], [\"Singapore\", 2.8, 200.0, 3.96, 174.0, 72100, -0.046, 82.7, 1.15, 46600, \"Cluster 3\"]], \"hoverlabel\": {\"namelength\": 0}, \"hovertemplate\": \"Cluster=%{customdata[10]}<br>income=%{customdata[5]}<br>country=%{customdata[0]}<br>child_mort=%{customdata[1]}<br>exports=%{customdata[2]}<br>health=%{customdata[3]}<br>imports=%{customdata[4]}<br>inflation=%{customdata[6]}<br>life_expec=%{customdata[7]}<br>total_fer=%{customdata[8]}<br>gdpp=%{customdata[9]}\", \"legendgroup\": \"Cluster=Cluster 3\", \"marker\": {\"color\": \"#ab63fa\"}, \"name\": \"Cluster=Cluster 3\", \"notched\": true, \"offsetgroup\": \"Cluster=Cluster 3\", \"showlegend\": false, \"type\": \"box\", \"x\": [91700, 28300, 72100], \"xaxis\": \"x2\", \"yaxis\": \"y2\"}],\n",
       "                        {\"barmode\": \"relative\", \"legend\": {\"tracegroupgap\": 0}, \"margin\": {\"t\": 60}, \"template\": {\"data\": {\"bar\": [{\"error_x\": {\"color\": \"#2a3f5f\"}, \"error_y\": {\"color\": \"#2a3f5f\"}, \"marker\": {\"line\": {\"color\": \"#E5ECF6\", \"width\": 0.5}}, \"type\": \"bar\"}], \"barpolar\": [{\"marker\": {\"line\": {\"color\": \"#E5ECF6\", \"width\": 0.5}}, \"type\": \"barpolar\"}], \"carpet\": [{\"aaxis\": {\"endlinecolor\": \"#2a3f5f\", \"gridcolor\": \"white\", \"linecolor\": \"white\", \"minorgridcolor\": \"white\", \"startlinecolor\": \"#2a3f5f\"}, \"baxis\": {\"endlinecolor\": \"#2a3f5f\", \"gridcolor\": \"white\", \"linecolor\": \"white\", \"minorgridcolor\": \"white\", \"startlinecolor\": \"#2a3f5f\"}, \"type\": \"carpet\"}], \"choropleth\": [{\"colorbar\": {\"outlinewidth\": 0, \"ticks\": \"\"}, \"type\": \"choropleth\"}], \"contour\": [{\"colorbar\": {\"outlinewidth\": 0, \"ticks\": \"\"}, \"colorscale\": [[0.0, \"#0d0887\"], [0.1111111111111111, \"#46039f\"], [0.2222222222222222, \"#7201a8\"], [0.3333333333333333, \"#9c179e\"], [0.4444444444444444, \"#bd3786\"], [0.5555555555555556, \"#d8576b\"], [0.6666666666666666, \"#ed7953\"], [0.7777777777777778, \"#fb9f3a\"], [0.8888888888888888, \"#fdca26\"], [1.0, \"#f0f921\"]], \"type\": \"contour\"}], \"contourcarpet\": [{\"colorbar\": {\"outlinewidth\": 0, \"ticks\": \"\"}, \"type\": \"contourcarpet\"}], \"heatmap\": [{\"colorbar\": {\"outlinewidth\": 0, \"ticks\": \"\"}, \"colorscale\": [[0.0, \"#0d0887\"], [0.1111111111111111, \"#46039f\"], [0.2222222222222222, \"#7201a8\"], [0.3333333333333333, \"#9c179e\"], [0.4444444444444444, \"#bd3786\"], [0.5555555555555556, \"#d8576b\"], [0.6666666666666666, \"#ed7953\"], [0.7777777777777778, \"#fb9f3a\"], [0.8888888888888888, \"#fdca26\"], [1.0, \"#f0f921\"]], \"type\": \"heatmap\"}], \"heatmapgl\": [{\"colorbar\": {\"outlinewidth\": 0, \"ticks\": \"\"}, \"colorscale\": [[0.0, \"#0d0887\"], [0.1111111111111111, \"#46039f\"], [0.2222222222222222, \"#7201a8\"], [0.3333333333333333, \"#9c179e\"], [0.4444444444444444, \"#bd3786\"], [0.5555555555555556, \"#d8576b\"], [0.6666666666666666, \"#ed7953\"], [0.7777777777777778, \"#fb9f3a\"], [0.8888888888888888, \"#fdca26\"], [1.0, \"#f0f921\"]], \"type\": \"heatmapgl\"}], \"histogram\": [{\"marker\": {\"colorbar\": {\"outlinewidth\": 0, \"ticks\": \"\"}}, \"type\": \"histogram\"}], \"histogram2d\": [{\"colorbar\": {\"outlinewidth\": 0, \"ticks\": \"\"}, \"colorscale\": [[0.0, \"#0d0887\"], [0.1111111111111111, \"#46039f\"], [0.2222222222222222, \"#7201a8\"], [0.3333333333333333, \"#9c179e\"], [0.4444444444444444, \"#bd3786\"], [0.5555555555555556, \"#d8576b\"], [0.6666666666666666, \"#ed7953\"], [0.7777777777777778, \"#fb9f3a\"], [0.8888888888888888, \"#fdca26\"], [1.0, \"#f0f921\"]], \"type\": \"histogram2d\"}], \"histogram2dcontour\": [{\"colorbar\": {\"outlinewidth\": 0, \"ticks\": \"\"}, \"colorscale\": [[0.0, \"#0d0887\"], [0.1111111111111111, \"#46039f\"], [0.2222222222222222, \"#7201a8\"], [0.3333333333333333, \"#9c179e\"], [0.4444444444444444, \"#bd3786\"], [0.5555555555555556, \"#d8576b\"], [0.6666666666666666, \"#ed7953\"], [0.7777777777777778, \"#fb9f3a\"], [0.8888888888888888, \"#fdca26\"], [1.0, \"#f0f921\"]], \"type\": \"histogram2dcontour\"}], \"mesh3d\": [{\"colorbar\": {\"outlinewidth\": 0, \"ticks\": \"\"}, \"type\": \"mesh3d\"}], \"parcoords\": [{\"line\": {\"colorbar\": {\"outlinewidth\": 0, \"ticks\": \"\"}}, \"type\": \"parcoords\"}], \"pie\": [{\"automargin\": true, \"type\": \"pie\"}], \"scatter\": [{\"marker\": {\"colorbar\": {\"outlinewidth\": 0, \"ticks\": \"\"}}, \"type\": \"scatter\"}], \"scatter3d\": [{\"line\": {\"colorbar\": {\"outlinewidth\": 0, \"ticks\": \"\"}}, \"marker\": {\"colorbar\": {\"outlinewidth\": 0, \"ticks\": \"\"}}, \"type\": \"scatter3d\"}], \"scattercarpet\": [{\"marker\": {\"colorbar\": {\"outlinewidth\": 0, \"ticks\": \"\"}}, \"type\": \"scattercarpet\"}], \"scattergeo\": [{\"marker\": {\"colorbar\": {\"outlinewidth\": 0, \"ticks\": \"\"}}, \"type\": \"scattergeo\"}], \"scattergl\": [{\"marker\": {\"colorbar\": {\"outlinewidth\": 0, \"ticks\": \"\"}}, \"type\": \"scattergl\"}], \"scattermapbox\": [{\"marker\": {\"colorbar\": {\"outlinewidth\": 0, \"ticks\": \"\"}}, \"type\": \"scattermapbox\"}], \"scatterpolar\": [{\"marker\": {\"colorbar\": {\"outlinewidth\": 0, \"ticks\": \"\"}}, \"type\": \"scatterpolar\"}], \"scatterpolargl\": [{\"marker\": {\"colorbar\": {\"outlinewidth\": 0, \"ticks\": \"\"}}, \"type\": \"scatterpolargl\"}], \"scatterternary\": [{\"marker\": {\"colorbar\": {\"outlinewidth\": 0, \"ticks\": \"\"}}, \"type\": \"scatterternary\"}], \"surface\": [{\"colorbar\": {\"outlinewidth\": 0, \"ticks\": \"\"}, \"colorscale\": [[0.0, \"#0d0887\"], [0.1111111111111111, \"#46039f\"], [0.2222222222222222, \"#7201a8\"], [0.3333333333333333, \"#9c179e\"], [0.4444444444444444, \"#bd3786\"], [0.5555555555555556, \"#d8576b\"], [0.6666666666666666, \"#ed7953\"], [0.7777777777777778, \"#fb9f3a\"], [0.8888888888888888, \"#fdca26\"], [1.0, \"#f0f921\"]], \"type\": \"surface\"}], \"table\": [{\"cells\": {\"fill\": {\"color\": \"#EBF0F8\"}, \"line\": {\"color\": \"white\"}}, \"header\": {\"fill\": {\"color\": \"#C8D4E3\"}, \"line\": {\"color\": \"white\"}}, \"type\": \"table\"}]}, \"layout\": {\"annotationdefaults\": {\"arrowcolor\": \"#2a3f5f\", \"arrowhead\": 0, \"arrowwidth\": 1}, \"coloraxis\": {\"colorbar\": {\"outlinewidth\": 0, \"ticks\": \"\"}}, \"colorscale\": {\"diverging\": [[0, \"#8e0152\"], [0.1, \"#c51b7d\"], [0.2, \"#de77ae\"], [0.3, \"#f1b6da\"], [0.4, \"#fde0ef\"], [0.5, \"#f7f7f7\"], [0.6, \"#e6f5d0\"], [0.7, \"#b8e186\"], [0.8, \"#7fbc41\"], [0.9, \"#4d9221\"], [1, \"#276419\"]], \"sequential\": [[0.0, \"#0d0887\"], [0.1111111111111111, \"#46039f\"], [0.2222222222222222, \"#7201a8\"], [0.3333333333333333, \"#9c179e\"], [0.4444444444444444, \"#bd3786\"], [0.5555555555555556, \"#d8576b\"], [0.6666666666666666, \"#ed7953\"], [0.7777777777777778, \"#fb9f3a\"], [0.8888888888888888, \"#fdca26\"], [1.0, \"#f0f921\"]], \"sequentialminus\": [[0.0, \"#0d0887\"], [0.1111111111111111, \"#46039f\"], [0.2222222222222222, \"#7201a8\"], [0.3333333333333333, \"#9c179e\"], [0.4444444444444444, \"#bd3786\"], [0.5555555555555556, \"#d8576b\"], [0.6666666666666666, \"#ed7953\"], [0.7777777777777778, \"#fb9f3a\"], [0.8888888888888888, \"#fdca26\"], [1.0, \"#f0f921\"]]}, \"colorway\": [\"#636efa\", \"#EF553B\", \"#00cc96\", \"#ab63fa\", \"#FFA15A\", \"#19d3f3\", \"#FF6692\", \"#B6E880\", \"#FF97FF\", \"#FECB52\"], \"font\": {\"color\": \"#2a3f5f\"}, \"geo\": {\"bgcolor\": \"white\", \"lakecolor\": \"white\", \"landcolor\": \"#E5ECF6\", \"showlakes\": true, \"showland\": true, \"subunitcolor\": \"white\"}, \"hoverlabel\": {\"align\": \"left\"}, \"hovermode\": \"closest\", \"mapbox\": {\"style\": \"light\"}, \"paper_bgcolor\": \"white\", \"plot_bgcolor\": \"#E5ECF6\", \"polar\": {\"angularaxis\": {\"gridcolor\": \"white\", \"linecolor\": \"white\", \"ticks\": \"\"}, \"bgcolor\": \"#E5ECF6\", \"radialaxis\": {\"gridcolor\": \"white\", \"linecolor\": \"white\", \"ticks\": \"\"}}, \"scene\": {\"xaxis\": {\"backgroundcolor\": \"#E5ECF6\", \"gridcolor\": \"white\", \"gridwidth\": 2, \"linecolor\": \"white\", \"showbackground\": true, \"ticks\": \"\", \"zerolinecolor\": \"white\"}, \"yaxis\": {\"backgroundcolor\": \"#E5ECF6\", \"gridcolor\": \"white\", \"gridwidth\": 2, \"linecolor\": \"white\", \"showbackground\": true, \"ticks\": \"\", \"zerolinecolor\": \"white\"}, \"zaxis\": {\"backgroundcolor\": \"#E5ECF6\", \"gridcolor\": \"white\", \"gridwidth\": 2, \"linecolor\": \"white\", \"showbackground\": true, \"ticks\": \"\", \"zerolinecolor\": \"white\"}}, \"shapedefaults\": {\"line\": {\"color\": \"#2a3f5f\"}}, \"ternary\": {\"aaxis\": {\"gridcolor\": \"white\", \"linecolor\": \"white\", \"ticks\": \"\"}, \"baxis\": {\"gridcolor\": \"white\", \"linecolor\": \"white\", \"ticks\": \"\"}, \"bgcolor\": \"#E5ECF6\", \"caxis\": {\"gridcolor\": \"white\", \"linecolor\": \"white\", \"ticks\": \"\"}}, \"title\": {\"x\": 0.05}, \"xaxis\": {\"automargin\": true, \"gridcolor\": \"white\", \"linecolor\": \"white\", \"ticks\": \"\", \"title\": {\"standoff\": 15}, \"zerolinecolor\": \"white\", \"zerolinewidth\": 2}, \"yaxis\": {\"automargin\": true, \"gridcolor\": \"white\", \"linecolor\": \"white\", \"ticks\": \"\", \"title\": {\"standoff\": 15}, \"zerolinecolor\": \"white\", \"zerolinewidth\": 2}}}, \"xaxis\": {\"anchor\": \"y\", \"domain\": [0.0, 1.0], \"title\": {\"text\": \"income\"}}, \"xaxis2\": {\"anchor\": \"y2\", \"domain\": [0.0, 1.0], \"matches\": \"x\", \"showgrid\": true, \"showticklabels\": false}, \"yaxis\": {\"anchor\": \"x\", \"domain\": [0.0, 0.7326], \"title\": {\"text\": \"count\"}}, \"yaxis2\": {\"anchor\": \"x2\", \"domain\": [0.7426, 1.0], \"matches\": \"y2\", \"showgrid\": false, \"showline\": false, \"showticklabels\": false, \"ticks\": \"\"}},\n",
       "                        {\"responsive\": true}\n",
       "                    ).then(function(){\n",
       "                            \n",
       "var gd = document.getElementById('dba025f1-95f6-4bbb-9d06-bd36e1251e06');\n",
       "var x = new MutationObserver(function (mutations, observer) {{\n",
       "        var display = window.getComputedStyle(gd).display;\n",
       "        if (!display || display === 'none') {{\n",
       "            console.log([gd, 'removed!']);\n",
       "            Plotly.purge(gd);\n",
       "            observer.disconnect();\n",
       "        }}\n",
       "}});\n",
       "\n",
       "// Listen for the removal of the full notebook cells\n",
       "var notebookContainer = gd.closest('#notebook-container');\n",
       "if (notebookContainer) {{\n",
       "    x.observe(notebookContainer, {childList: true});\n",
       "}}\n",
       "\n",
       "// Listen for the clearing of the current output cell\n",
       "var outputEl = gd.closest('.output');\n",
       "if (outputEl) {{\n",
       "    x.observe(outputEl, {childList: true});\n",
       "}}\n",
       "\n",
       "                        })\n",
       "                };\n",
       "                });\n",
       "            </script>\n",
       "        </div>"
      ]
     },
     "metadata": {},
     "output_type": "display_data"
    }
   ],
   "source": [
    "plot_model(kmeans, plot = 'distribution', feature = 'income')"
   ]
  },
  {
   "cell_type": "markdown",
   "metadata": {},
   "source": [
    "# 5. Assign Labels / Predict on new data"
   ]
  },
  {
   "cell_type": "code",
   "execution_count": 15,
   "metadata": {},
   "outputs": [
    {
     "data": {
      "text/html": [
       "<div>\n",
       "<style scoped>\n",
       "    .dataframe tbody tr th:only-of-type {\n",
       "        vertical-align: middle;\n",
       "    }\n",
       "\n",
       "    .dataframe tbody tr th {\n",
       "        vertical-align: top;\n",
       "    }\n",
       "\n",
       "    .dataframe thead th {\n",
       "        text-align: right;\n",
       "    }\n",
       "</style>\n",
       "<table border=\"1\" class=\"dataframe\">\n",
       "  <thead>\n",
       "    <tr style=\"text-align: right;\">\n",
       "      <th></th>\n",
       "      <th>country</th>\n",
       "      <th>child_mort</th>\n",
       "      <th>exports</th>\n",
       "      <th>health</th>\n",
       "      <th>imports</th>\n",
       "      <th>income</th>\n",
       "      <th>inflation</th>\n",
       "      <th>life_expec</th>\n",
       "      <th>total_fer</th>\n",
       "      <th>gdpp</th>\n",
       "      <th>Cluster</th>\n",
       "    </tr>\n",
       "  </thead>\n",
       "  <tbody>\n",
       "    <tr>\n",
       "      <th>0</th>\n",
       "      <td>Afghanistan</td>\n",
       "      <td>90.2</td>\n",
       "      <td>10.0</td>\n",
       "      <td>7.58</td>\n",
       "      <td>44.9</td>\n",
       "      <td>1610</td>\n",
       "      <td>9.44</td>\n",
       "      <td>56.2</td>\n",
       "      <td>5.82</td>\n",
       "      <td>553</td>\n",
       "      <td>Cluster 2</td>\n",
       "    </tr>\n",
       "    <tr>\n",
       "      <th>1</th>\n",
       "      <td>Albania</td>\n",
       "      <td>16.6</td>\n",
       "      <td>28.0</td>\n",
       "      <td>6.55</td>\n",
       "      <td>48.6</td>\n",
       "      <td>9930</td>\n",
       "      <td>4.49</td>\n",
       "      <td>76.3</td>\n",
       "      <td>1.65</td>\n",
       "      <td>4090</td>\n",
       "      <td>Cluster 0</td>\n",
       "    </tr>\n",
       "    <tr>\n",
       "      <th>2</th>\n",
       "      <td>Algeria</td>\n",
       "      <td>27.3</td>\n",
       "      <td>38.4</td>\n",
       "      <td>4.17</td>\n",
       "      <td>31.4</td>\n",
       "      <td>12900</td>\n",
       "      <td>16.10</td>\n",
       "      <td>76.5</td>\n",
       "      <td>2.89</td>\n",
       "      <td>4460</td>\n",
       "      <td>Cluster 0</td>\n",
       "    </tr>\n",
       "    <tr>\n",
       "      <th>3</th>\n",
       "      <td>Angola</td>\n",
       "      <td>119.0</td>\n",
       "      <td>62.3</td>\n",
       "      <td>2.85</td>\n",
       "      <td>42.9</td>\n",
       "      <td>5900</td>\n",
       "      <td>22.40</td>\n",
       "      <td>60.1</td>\n",
       "      <td>6.16</td>\n",
       "      <td>3530</td>\n",
       "      <td>Cluster 2</td>\n",
       "    </tr>\n",
       "    <tr>\n",
       "      <th>4</th>\n",
       "      <td>Antigua and Barbuda</td>\n",
       "      <td>10.3</td>\n",
       "      <td>45.5</td>\n",
       "      <td>6.03</td>\n",
       "      <td>58.9</td>\n",
       "      <td>19100</td>\n",
       "      <td>1.44</td>\n",
       "      <td>76.8</td>\n",
       "      <td>2.13</td>\n",
       "      <td>12200</td>\n",
       "      <td>Cluster 0</td>\n",
       "    </tr>\n",
       "  </tbody>\n",
       "</table>\n",
       "</div>"
      ],
      "text/plain": [
       "               country  child_mort  exports  health  imports  income  \\\n",
       "0          Afghanistan        90.2     10.0    7.58     44.9    1610   \n",
       "1              Albania        16.6     28.0    6.55     48.6    9930   \n",
       "2              Algeria        27.3     38.4    4.17     31.4   12900   \n",
       "3               Angola       119.0     62.3    2.85     42.9    5900   \n",
       "4  Antigua and Barbuda        10.3     45.5    6.03     58.9   19100   \n",
       "\n",
       "   inflation  life_expec  total_fer   gdpp    Cluster  \n",
       "0       9.44        56.2       5.82    553  Cluster 2  \n",
       "1       4.49        76.3       1.65   4090  Cluster 0  \n",
       "2      16.10        76.5       2.89   4460  Cluster 0  \n",
       "3      22.40        60.1       6.16   3530  Cluster 2  \n",
       "4       1.44        76.8       2.13  12200  Cluster 0  "
      ]
     },
     "execution_count": 15,
     "metadata": {},
     "output_type": "execute_result"
    }
   ],
   "source": [
    "results = assign_model(kmeans)\n",
    "results.head()"
   ]
  },
  {
   "cell_type": "code",
   "execution_count": null,
   "metadata": {},
   "outputs": [],
   "source": [
    "predictions = predict_model(kmeans, data=data)\n",
    "predictions.head()"
   ]
  },
  {
   "cell_type": "markdown",
   "metadata": {},
   "source": [
    "# Learning Resources:\n",
    "\n",
    "- PyCaret Clustering Module : https://www.pycaret.org/clustering\n",
    "- Clustering Tutorial (Level Beginner) : https://pycaret.org/clu101/\n",
    "- Clustering in PyCaret (Video Tutorial) : https://www.youtube.com/watch?v=2oxLDir7foQ"
   ]
  }
 ],
 "metadata": {
  "kernelspec": {
   "display_name": "Python 3",
   "language": "python",
   "name": "python3"
  },
  "language_info": {
   "codemirror_mode": {
    "name": "ipython",
    "version": 3
   },
   "file_extension": ".py",
   "mimetype": "text/x-python",
   "name": "python",
   "nbconvert_exporter": "python",
   "pygments_lexer": "ipython3",
   "version": "3.7.4"
  }
 },
 "nbformat": 4,
 "nbformat_minor": 2
}
