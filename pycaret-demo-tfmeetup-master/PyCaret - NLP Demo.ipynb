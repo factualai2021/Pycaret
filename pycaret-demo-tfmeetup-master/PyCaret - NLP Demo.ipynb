{
 "cells": [
  {
   "cell_type": "markdown",
   "metadata": {},
   "source": [
    "# Installation"
   ]
  },
  {
   "cell_type": "code",
   "execution_count": null,
   "metadata": {},
   "outputs": [],
   "source": [
    "# run this cell to install pycaret in Google Colab\n",
    "# !pip install pycaret"
   ]
  },
  {
   "cell_type": "code",
   "execution_count": null,
   "metadata": {},
   "outputs": [],
   "source": [
    "# If you are using Jupyter notebook, you can pip install pycaret using jupyter notebook or command line\n",
    "# pip install pycaret"
   ]
  },
  {
   "cell_type": "code",
   "execution_count": 1,
   "metadata": {},
   "outputs": [
    {
     "name": "stdout",
     "output_type": "stream",
     "text": [
      "1.0.0\n"
     ]
    }
   ],
   "source": [
    "from pycaret.utils import version\n",
    "version()"
   ]
  },
  {
   "cell_type": "code",
   "execution_count": null,
   "metadata": {},
   "outputs": [],
   "source": [
    "# only run this cell if you are using google colab\n",
    "# from pycaret.utils import enable_colab\n",
    "# enable_colab()"
   ]
  },
  {
   "cell_type": "markdown",
   "metadata": {},
   "source": [
    "# 1. Importing Dataset"
   ]
  },
  {
   "cell_type": "code",
   "execution_count": 2,
   "metadata": {},
   "outputs": [
    {
     "data": {
      "text/html": [
       "<div>\n",
       "<style scoped>\n",
       "    .dataframe tbody tr th:only-of-type {\n",
       "        vertical-align: middle;\n",
       "    }\n",
       "\n",
       "    .dataframe tbody tr th {\n",
       "        vertical-align: top;\n",
       "    }\n",
       "\n",
       "    .dataframe thead th {\n",
       "        text-align: right;\n",
       "    }\n",
       "</style>\n",
       "<table border=\"1\" class=\"dataframe\">\n",
       "  <thead>\n",
       "    <tr style=\"text-align: right;\">\n",
       "      <th></th>\n",
       "      <th>country</th>\n",
       "      <th>en</th>\n",
       "      <th>gender</th>\n",
       "      <th>loan_amount</th>\n",
       "      <th>nonpayment</th>\n",
       "      <th>sector</th>\n",
       "      <th>status</th>\n",
       "    </tr>\n",
       "  </thead>\n",
       "  <tbody>\n",
       "    <tr>\n",
       "      <th>0</th>\n",
       "      <td>Dominican Republic</td>\n",
       "      <td>\"Banco Esperanza\" is a group of 10 women looki...</td>\n",
       "      <td>F</td>\n",
       "      <td>1225</td>\n",
       "      <td>partner</td>\n",
       "      <td>Retail</td>\n",
       "      <td>0</td>\n",
       "    </tr>\n",
       "    <tr>\n",
       "      <th>1</th>\n",
       "      <td>Dominican Republic</td>\n",
       "      <td>\"Caminemos Hacia Adelante\" or \"Walking Forward...</td>\n",
       "      <td>F</td>\n",
       "      <td>1975</td>\n",
       "      <td>lender</td>\n",
       "      <td>Clothing</td>\n",
       "      <td>0</td>\n",
       "    </tr>\n",
       "    <tr>\n",
       "      <th>2</th>\n",
       "      <td>Dominican Republic</td>\n",
       "      <td>\"Creciendo Por La Union\" is a group of 10 peop...</td>\n",
       "      <td>F</td>\n",
       "      <td>2175</td>\n",
       "      <td>partner</td>\n",
       "      <td>Clothing</td>\n",
       "      <td>0</td>\n",
       "    </tr>\n",
       "    <tr>\n",
       "      <th>3</th>\n",
       "      <td>Dominican Republic</td>\n",
       "      <td>\"Cristo Vive\" (\"Christ lives\" is a group of 10...</td>\n",
       "      <td>F</td>\n",
       "      <td>1425</td>\n",
       "      <td>partner</td>\n",
       "      <td>Clothing</td>\n",
       "      <td>0</td>\n",
       "    </tr>\n",
       "    <tr>\n",
       "      <th>4</th>\n",
       "      <td>Dominican Republic</td>\n",
       "      <td>\"Cristo Vive\" is a large group of 35 people, 2...</td>\n",
       "      <td>F</td>\n",
       "      <td>4025</td>\n",
       "      <td>partner</td>\n",
       "      <td>Food</td>\n",
       "      <td>0</td>\n",
       "    </tr>\n",
       "  </tbody>\n",
       "</table>\n",
       "</div>"
      ],
      "text/plain": [
       "              country                                                 en  \\\n",
       "0  Dominican Republic  \"Banco Esperanza\" is a group of 10 women looki...   \n",
       "1  Dominican Republic  \"Caminemos Hacia Adelante\" or \"Walking Forward...   \n",
       "2  Dominican Republic  \"Creciendo Por La Union\" is a group of 10 peop...   \n",
       "3  Dominican Republic  \"Cristo Vive\" (\"Christ lives\" is a group of 10...   \n",
       "4  Dominican Republic  \"Cristo Vive\" is a large group of 35 people, 2...   \n",
       "\n",
       "  gender  loan_amount nonpayment    sector  status  \n",
       "0      F         1225    partner    Retail       0  \n",
       "1      F         1975     lender  Clothing       0  \n",
       "2      F         2175    partner  Clothing       0  \n",
       "3      F         1425    partner  Clothing       0  \n",
       "4      F         4025    partner      Food       0  "
      ]
     },
     "metadata": {},
     "output_type": "display_data"
    }
   ],
   "source": [
    "from pycaret.datasets import get_data\n",
    "data = get_data('kiva')"
   ]
  },
  {
   "cell_type": "code",
   "execution_count": 3,
   "metadata": {},
   "outputs": [
    {
     "data": {
      "text/plain": [
       "'\"Banco Esperanza\" is a group of 10 women looking to receive a small loan. Each of them has taken out a very small loan already, so this would be their second. With this loan the group is going to try and expand their small businesses and start generating more income. <P>\\r\\n\\r\\nEduviges is the group representative and leader of the group. Eduviges has a lot on the line because she has 6 children that she has to take care of. She told me that those children are the reason she wants to be successful. She wants to be able to provide a different life for them and show them that they can be successful as well. <P>\\r\\n\\r\\nEduviges has a very small business selling shoes and Avon products. She plans to expand using this loan and dreams of success. The whole group is ready for this new challenge and are on the road to bettering their lives. On behalf of Eduviges, the group, and Esperanza International--------- Thank you for your support!!!!'"
      ]
     },
     "execution_count": 3,
     "metadata": {},
     "output_type": "execute_result"
    }
   ],
   "source": [
    "data.en[0]"
   ]
  },
  {
   "cell_type": "code",
   "execution_count": 4,
   "metadata": {},
   "outputs": [],
   "source": [
    "data = data.head(1000)"
   ]
  },
  {
   "cell_type": "markdown",
   "metadata": {},
   "source": [
    "# 2. Setting up Environment"
   ]
  },
  {
   "cell_type": "code",
   "execution_count": 5,
   "metadata": {},
   "outputs": [
    {
     "data": {
      "text/html": [
       "<style  type=\"text/css\" >\n",
       "</style><table id=\"T_f4b0f636_afe5_11ea_80b0_482ae32b83da\" ><thead>    <tr>        <th class=\"col_heading level0 col0\" >Description</th>        <th class=\"col_heading level0 col1\" >Value</th>    </tr></thead><tbody>\n",
       "                <tr>\n",
       "                                <td id=\"T_f4b0f636_afe5_11ea_80b0_482ae32b83darow0_col0\" class=\"data row0 col0\" >session_id</td>\n",
       "                        <td id=\"T_f4b0f636_afe5_11ea_80b0_482ae32b83darow0_col1\" class=\"data row0 col1\" >786</td>\n",
       "            </tr>\n",
       "            <tr>\n",
       "                                <td id=\"T_f4b0f636_afe5_11ea_80b0_482ae32b83darow1_col0\" class=\"data row1 col0\" ># Documents</td>\n",
       "                        <td id=\"T_f4b0f636_afe5_11ea_80b0_482ae32b83darow1_col1\" class=\"data row1 col1\" >1000</td>\n",
       "            </tr>\n",
       "            <tr>\n",
       "                                <td id=\"T_f4b0f636_afe5_11ea_80b0_482ae32b83darow2_col0\" class=\"data row2 col0\" >Vocab Size</td>\n",
       "                        <td id=\"T_f4b0f636_afe5_11ea_80b0_482ae32b83darow2_col1\" class=\"data row2 col1\" >3870</td>\n",
       "            </tr>\n",
       "            <tr>\n",
       "                                <td id=\"T_f4b0f636_afe5_11ea_80b0_482ae32b83darow3_col0\" class=\"data row3 col0\" >Custom Stopwords</td>\n",
       "                        <td id=\"T_f4b0f636_afe5_11ea_80b0_482ae32b83darow3_col1\" class=\"data row3 col1\" >False</td>\n",
       "            </tr>\n",
       "    </tbody></table>"
      ],
      "text/plain": [
       "<pandas.io.formats.style.Styler at 0x2192bd90788>"
      ]
     },
     "metadata": {},
     "output_type": "display_data"
    }
   ],
   "source": [
    "from pycaret.nlp import *\n",
    "nlp1 = setup(data, target='en', session_id=786)"
   ]
  },
  {
   "cell_type": "markdown",
   "metadata": {},
   "source": [
    "# 3. Train Topic Model"
   ]
  },
  {
   "cell_type": "code",
   "execution_count": 10,
   "metadata": {},
   "outputs": [],
   "source": [
    "lda = create_model('lda')"
   ]
  },
  {
   "cell_type": "code",
   "execution_count": 11,
   "metadata": {},
   "outputs": [
    {
     "name": "stdout",
     "output_type": "stream",
     "text": [
      "LdaModel(num_terms=3870, num_topics=4, decay=0.5, chunksize=100)\n"
     ]
    }
   ],
   "source": [
    "print(lda)"
   ]
  },
  {
   "cell_type": "code",
   "execution_count": 12,
   "metadata": {},
   "outputs": [],
   "source": [
    "nmf = create_model('nmf')"
   ]
  },
  {
   "cell_type": "code",
   "execution_count": 13,
   "metadata": {},
   "outputs": [
    {
     "name": "stdout",
     "output_type": "stream",
     "text": [
      "NMF(alpha=0.0, beta_loss='frobenius', init='nndsvd', l1_ratio=0.0, max_iter=200,\n",
      "    n_components=4, random_state=786, shuffle=False, solver='cd', tol=0.0001,\n",
      "    verbose=0)\n"
     ]
    }
   ],
   "source": [
    "print(nmf)"
   ]
  },
  {
   "cell_type": "markdown",
   "metadata": {},
   "source": [
    "# 4. Analyze Trained Model"
   ]
  },
  {
   "cell_type": "code",
   "execution_count": 14,
   "metadata": {},
   "outputs": [
    {
     "data": {
      "text/html": [
       "        <script type=\"text/javascript\">\n",
       "        window.PlotlyConfig = {MathJaxConfig: 'local'};\n",
       "        if (window.MathJax) {MathJax.Hub.Config({SVG: {font: \"STIX-Web\"}});}\n",
       "        if (typeof require !== 'undefined') {\n",
       "        require.undef(\"plotly\");\n",
       "        requirejs.config({\n",
       "            paths: {\n",
       "                'plotly': ['https://cdn.plot.ly/plotly-latest.min']\n",
       "            }\n",
       "        });\n",
       "        require(['plotly'], function(Plotly) {\n",
       "            window._Plotly = Plotly;\n",
       "        });\n",
       "        }\n",
       "        </script>\n",
       "        "
      ]
     },
     "metadata": {},
     "output_type": "display_data"
    },
    {
     "data": {
      "application/vnd.plotly.v1+json": {
       "config": {
        "linkText": "Export to plot.ly",
        "plotlyServerURL": "https://plot.ly",
        "showLink": true
       },
       "data": [
        {
         "marker": {
          "color": "rgba(255, 153, 51, 0.6)",
          "line": {
           "color": "rgba(255, 153, 51, 1.0)",
           "width": 1
          }
         },
         "name": "count",
         "orientation": "v",
         "text": "",
         "type": "bar",
         "x": [
          "business",
          "loan",
          "sell",
          "child",
          "year",
          "group",
          "small",
          "buy",
          "community",
          "live",
          "woman",
          "old",
          "family",
          "store",
          "clothing",
          "hope",
          "support",
          "entrepreneur",
          "start",
          "work",
          "good",
          "make",
          "help",
          "product",
          "able",
          "husband",
          "go",
          "member",
          "use",
          "say",
          "new",
          "purchase",
          "people",
          "school",
          "also",
          "well",
          "mother",
          "want",
          "life",
          "customer",
          "order",
          "increase",
          "income",
          "hard",
          "run",
          "provide",
          "thank",
          "request",
          "would",
          "money",
          "take",
          "food",
          "need",
          "first",
          "operate",
          "grow",
          "keep",
          "receive",
          "continue",
          "expand",
          "age",
          "plan",
          "time",
          "home",
          "house",
          "explain",
          "large",
          "improve",
          "dream",
          "day",
          "allow",
          "currently",
          "future",
          "profit",
          "education",
          "young",
          "shoe",
          "daughter",
          "son",
          "offer",
          "clothe",
          "attend",
          "together",
          "invest",
          "ago",
          "grocery",
          "get",
          "inventory",
          "enough",
          "like",
          "item",
          "pay",
          "sale",
          "lot",
          "many",
          "capital",
          "neighborhood",
          "boy",
          "give",
          "single"
         ],
         "y": [
          1852,
          1812,
          1225,
          1104,
          930,
          842,
          754,
          698,
          647,
          604,
          561,
          551,
          543,
          528,
          512,
          487,
          475,
          473,
          455,
          438,
          432,
          426,
          426,
          423,
          391,
          382,
          363,
          357,
          357,
          355,
          350,
          335,
          332,
          331,
          327,
          323,
          323,
          322,
          306,
          299,
          280,
          277,
          277,
          267,
          264,
          262,
          257,
          257,
          246,
          242,
          240,
          240,
          226,
          224,
          219,
          216,
          216,
          210,
          210,
          210,
          209,
          207,
          203,
          197,
          187,
          186,
          182,
          179,
          175,
          173,
          170,
          163,
          159,
          157,
          156,
          156,
          153,
          151,
          148,
          147,
          144,
          144,
          144,
          142,
          141,
          140,
          139,
          136,
          131,
          131,
          131,
          130,
          130,
          126,
          122,
          120,
          119,
          117,
          116,
          114
         ]
        }
       ],
       "layout": {
        "legend": {
         "bgcolor": "#F5F6F9",
         "font": {
          "color": "#4D5663"
         }
        },
        "paper_bgcolor": "#F5F6F9",
        "plot_bgcolor": "#F5F6F9",
        "template": {
         "data": {
          "bar": [
           {
            "error_x": {
             "color": "#2a3f5f"
            },
            "error_y": {
             "color": "#2a3f5f"
            },
            "marker": {
             "line": {
              "color": "#E5ECF6",
              "width": 0.5
             }
            },
            "type": "bar"
           }
          ],
          "barpolar": [
           {
            "marker": {
             "line": {
              "color": "#E5ECF6",
              "width": 0.5
             }
            },
            "type": "barpolar"
           }
          ],
          "carpet": [
           {
            "aaxis": {
             "endlinecolor": "#2a3f5f",
             "gridcolor": "white",
             "linecolor": "white",
             "minorgridcolor": "white",
             "startlinecolor": "#2a3f5f"
            },
            "baxis": {
             "endlinecolor": "#2a3f5f",
             "gridcolor": "white",
             "linecolor": "white",
             "minorgridcolor": "white",
             "startlinecolor": "#2a3f5f"
            },
            "type": "carpet"
           }
          ],
          "choropleth": [
           {
            "colorbar": {
             "outlinewidth": 0,
             "ticks": ""
            },
            "type": "choropleth"
           }
          ],
          "contour": [
           {
            "colorbar": {
             "outlinewidth": 0,
             "ticks": ""
            },
            "colorscale": [
             [
              0,
              "#0d0887"
             ],
             [
              0.1111111111111111,
              "#46039f"
             ],
             [
              0.2222222222222222,
              "#7201a8"
             ],
             [
              0.3333333333333333,
              "#9c179e"
             ],
             [
              0.4444444444444444,
              "#bd3786"
             ],
             [
              0.5555555555555556,
              "#d8576b"
             ],
             [
              0.6666666666666666,
              "#ed7953"
             ],
             [
              0.7777777777777778,
              "#fb9f3a"
             ],
             [
              0.8888888888888888,
              "#fdca26"
             ],
             [
              1,
              "#f0f921"
             ]
            ],
            "type": "contour"
           }
          ],
          "contourcarpet": [
           {
            "colorbar": {
             "outlinewidth": 0,
             "ticks": ""
            },
            "type": "contourcarpet"
           }
          ],
          "heatmap": [
           {
            "colorbar": {
             "outlinewidth": 0,
             "ticks": ""
            },
            "colorscale": [
             [
              0,
              "#0d0887"
             ],
             [
              0.1111111111111111,
              "#46039f"
             ],
             [
              0.2222222222222222,
              "#7201a8"
             ],
             [
              0.3333333333333333,
              "#9c179e"
             ],
             [
              0.4444444444444444,
              "#bd3786"
             ],
             [
              0.5555555555555556,
              "#d8576b"
             ],
             [
              0.6666666666666666,
              "#ed7953"
             ],
             [
              0.7777777777777778,
              "#fb9f3a"
             ],
             [
              0.8888888888888888,
              "#fdca26"
             ],
             [
              1,
              "#f0f921"
             ]
            ],
            "type": "heatmap"
           }
          ],
          "heatmapgl": [
           {
            "colorbar": {
             "outlinewidth": 0,
             "ticks": ""
            },
            "colorscale": [
             [
              0,
              "#0d0887"
             ],
             [
              0.1111111111111111,
              "#46039f"
             ],
             [
              0.2222222222222222,
              "#7201a8"
             ],
             [
              0.3333333333333333,
              "#9c179e"
             ],
             [
              0.4444444444444444,
              "#bd3786"
             ],
             [
              0.5555555555555556,
              "#d8576b"
             ],
             [
              0.6666666666666666,
              "#ed7953"
             ],
             [
              0.7777777777777778,
              "#fb9f3a"
             ],
             [
              0.8888888888888888,
              "#fdca26"
             ],
             [
              1,
              "#f0f921"
             ]
            ],
            "type": "heatmapgl"
           }
          ],
          "histogram": [
           {
            "marker": {
             "colorbar": {
              "outlinewidth": 0,
              "ticks": ""
             }
            },
            "type": "histogram"
           }
          ],
          "histogram2d": [
           {
            "colorbar": {
             "outlinewidth": 0,
             "ticks": ""
            },
            "colorscale": [
             [
              0,
              "#0d0887"
             ],
             [
              0.1111111111111111,
              "#46039f"
             ],
             [
              0.2222222222222222,
              "#7201a8"
             ],
             [
              0.3333333333333333,
              "#9c179e"
             ],
             [
              0.4444444444444444,
              "#bd3786"
             ],
             [
              0.5555555555555556,
              "#d8576b"
             ],
             [
              0.6666666666666666,
              "#ed7953"
             ],
             [
              0.7777777777777778,
              "#fb9f3a"
             ],
             [
              0.8888888888888888,
              "#fdca26"
             ],
             [
              1,
              "#f0f921"
             ]
            ],
            "type": "histogram2d"
           }
          ],
          "histogram2dcontour": [
           {
            "colorbar": {
             "outlinewidth": 0,
             "ticks": ""
            },
            "colorscale": [
             [
              0,
              "#0d0887"
             ],
             [
              0.1111111111111111,
              "#46039f"
             ],
             [
              0.2222222222222222,
              "#7201a8"
             ],
             [
              0.3333333333333333,
              "#9c179e"
             ],
             [
              0.4444444444444444,
              "#bd3786"
             ],
             [
              0.5555555555555556,
              "#d8576b"
             ],
             [
              0.6666666666666666,
              "#ed7953"
             ],
             [
              0.7777777777777778,
              "#fb9f3a"
             ],
             [
              0.8888888888888888,
              "#fdca26"
             ],
             [
              1,
              "#f0f921"
             ]
            ],
            "type": "histogram2dcontour"
           }
          ],
          "mesh3d": [
           {
            "colorbar": {
             "outlinewidth": 0,
             "ticks": ""
            },
            "type": "mesh3d"
           }
          ],
          "parcoords": [
           {
            "line": {
             "colorbar": {
              "outlinewidth": 0,
              "ticks": ""
             }
            },
            "type": "parcoords"
           }
          ],
          "pie": [
           {
            "automargin": true,
            "type": "pie"
           }
          ],
          "scatter": [
           {
            "marker": {
             "colorbar": {
              "outlinewidth": 0,
              "ticks": ""
             }
            },
            "type": "scatter"
           }
          ],
          "scatter3d": [
           {
            "line": {
             "colorbar": {
              "outlinewidth": 0,
              "ticks": ""
             }
            },
            "marker": {
             "colorbar": {
              "outlinewidth": 0,
              "ticks": ""
             }
            },
            "type": "scatter3d"
           }
          ],
          "scattercarpet": [
           {
            "marker": {
             "colorbar": {
              "outlinewidth": 0,
              "ticks": ""
             }
            },
            "type": "scattercarpet"
           }
          ],
          "scattergeo": [
           {
            "marker": {
             "colorbar": {
              "outlinewidth": 0,
              "ticks": ""
             }
            },
            "type": "scattergeo"
           }
          ],
          "scattergl": [
           {
            "marker": {
             "colorbar": {
              "outlinewidth": 0,
              "ticks": ""
             }
            },
            "type": "scattergl"
           }
          ],
          "scattermapbox": [
           {
            "marker": {
             "colorbar": {
              "outlinewidth": 0,
              "ticks": ""
             }
            },
            "type": "scattermapbox"
           }
          ],
          "scatterpolar": [
           {
            "marker": {
             "colorbar": {
              "outlinewidth": 0,
              "ticks": ""
             }
            },
            "type": "scatterpolar"
           }
          ],
          "scatterpolargl": [
           {
            "marker": {
             "colorbar": {
              "outlinewidth": 0,
              "ticks": ""
             }
            },
            "type": "scatterpolargl"
           }
          ],
          "scatterternary": [
           {
            "marker": {
             "colorbar": {
              "outlinewidth": 0,
              "ticks": ""
             }
            },
            "type": "scatterternary"
           }
          ],
          "surface": [
           {
            "colorbar": {
             "outlinewidth": 0,
             "ticks": ""
            },
            "colorscale": [
             [
              0,
              "#0d0887"
             ],
             [
              0.1111111111111111,
              "#46039f"
             ],
             [
              0.2222222222222222,
              "#7201a8"
             ],
             [
              0.3333333333333333,
              "#9c179e"
             ],
             [
              0.4444444444444444,
              "#bd3786"
             ],
             [
              0.5555555555555556,
              "#d8576b"
             ],
             [
              0.6666666666666666,
              "#ed7953"
             ],
             [
              0.7777777777777778,
              "#fb9f3a"
             ],
             [
              0.8888888888888888,
              "#fdca26"
             ],
             [
              1,
              "#f0f921"
             ]
            ],
            "type": "surface"
           }
          ],
          "table": [
           {
            "cells": {
             "fill": {
              "color": "#EBF0F8"
             },
             "line": {
              "color": "white"
             }
            },
            "header": {
             "fill": {
              "color": "#C8D4E3"
             },
             "line": {
              "color": "white"
             }
            },
            "type": "table"
           }
          ]
         },
         "layout": {
          "annotationdefaults": {
           "arrowcolor": "#2a3f5f",
           "arrowhead": 0,
           "arrowwidth": 1
          },
          "coloraxis": {
           "colorbar": {
            "outlinewidth": 0,
            "ticks": ""
           }
          },
          "colorscale": {
           "diverging": [
            [
             0,
             "#8e0152"
            ],
            [
             0.1,
             "#c51b7d"
            ],
            [
             0.2,
             "#de77ae"
            ],
            [
             0.3,
             "#f1b6da"
            ],
            [
             0.4,
             "#fde0ef"
            ],
            [
             0.5,
             "#f7f7f7"
            ],
            [
             0.6,
             "#e6f5d0"
            ],
            [
             0.7,
             "#b8e186"
            ],
            [
             0.8,
             "#7fbc41"
            ],
            [
             0.9,
             "#4d9221"
            ],
            [
             1,
             "#276419"
            ]
           ],
           "sequential": [
            [
             0,
             "#0d0887"
            ],
            [
             0.1111111111111111,
             "#46039f"
            ],
            [
             0.2222222222222222,
             "#7201a8"
            ],
            [
             0.3333333333333333,
             "#9c179e"
            ],
            [
             0.4444444444444444,
             "#bd3786"
            ],
            [
             0.5555555555555556,
             "#d8576b"
            ],
            [
             0.6666666666666666,
             "#ed7953"
            ],
            [
             0.7777777777777778,
             "#fb9f3a"
            ],
            [
             0.8888888888888888,
             "#fdca26"
            ],
            [
             1,
             "#f0f921"
            ]
           ],
           "sequentialminus": [
            [
             0,
             "#0d0887"
            ],
            [
             0.1111111111111111,
             "#46039f"
            ],
            [
             0.2222222222222222,
             "#7201a8"
            ],
            [
             0.3333333333333333,
             "#9c179e"
            ],
            [
             0.4444444444444444,
             "#bd3786"
            ],
            [
             0.5555555555555556,
             "#d8576b"
            ],
            [
             0.6666666666666666,
             "#ed7953"
            ],
            [
             0.7777777777777778,
             "#fb9f3a"
            ],
            [
             0.8888888888888888,
             "#fdca26"
            ],
            [
             1,
             "#f0f921"
            ]
           ]
          },
          "colorway": [
           "#636efa",
           "#EF553B",
           "#00cc96",
           "#ab63fa",
           "#FFA15A",
           "#19d3f3",
           "#FF6692",
           "#B6E880",
           "#FF97FF",
           "#FECB52"
          ],
          "font": {
           "color": "#2a3f5f"
          },
          "geo": {
           "bgcolor": "white",
           "lakecolor": "white",
           "landcolor": "#E5ECF6",
           "showlakes": true,
           "showland": true,
           "subunitcolor": "white"
          },
          "hoverlabel": {
           "align": "left"
          },
          "hovermode": "closest",
          "mapbox": {
           "style": "light"
          },
          "paper_bgcolor": "white",
          "plot_bgcolor": "#E5ECF6",
          "polar": {
           "angularaxis": {
            "gridcolor": "white",
            "linecolor": "white",
            "ticks": ""
           },
           "bgcolor": "#E5ECF6",
           "radialaxis": {
            "gridcolor": "white",
            "linecolor": "white",
            "ticks": ""
           }
          },
          "scene": {
           "xaxis": {
            "backgroundcolor": "#E5ECF6",
            "gridcolor": "white",
            "gridwidth": 2,
            "linecolor": "white",
            "showbackground": true,
            "ticks": "",
            "zerolinecolor": "white"
           },
           "yaxis": {
            "backgroundcolor": "#E5ECF6",
            "gridcolor": "white",
            "gridwidth": 2,
            "linecolor": "white",
            "showbackground": true,
            "ticks": "",
            "zerolinecolor": "white"
           },
           "zaxis": {
            "backgroundcolor": "#E5ECF6",
            "gridcolor": "white",
            "gridwidth": 2,
            "linecolor": "white",
            "showbackground": true,
            "ticks": "",
            "zerolinecolor": "white"
           }
          },
          "shapedefaults": {
           "line": {
            "color": "#2a3f5f"
           }
          },
          "ternary": {
           "aaxis": {
            "gridcolor": "white",
            "linecolor": "white",
            "ticks": ""
           },
           "baxis": {
            "gridcolor": "white",
            "linecolor": "white",
            "ticks": ""
           },
           "bgcolor": "#E5ECF6",
           "caxis": {
            "gridcolor": "white",
            "linecolor": "white",
            "ticks": ""
           }
          },
          "title": {
           "x": 0.05
          },
          "xaxis": {
           "automargin": true,
           "gridcolor": "white",
           "linecolor": "white",
           "ticks": "",
           "title": {
            "standoff": 15
           },
           "zerolinecolor": "white",
           "zerolinewidth": 2
          },
          "yaxis": {
           "automargin": true,
           "gridcolor": "white",
           "linecolor": "white",
           "ticks": "",
           "title": {
            "standoff": 15
           },
           "zerolinecolor": "white",
           "zerolinewidth": 2
          }
         }
        },
        "title": {
         "font": {
          "color": "#4D5663"
         },
         "text": "Top 100 words after removing stop words"
        },
        "xaxis": {
         "gridcolor": "#E1E5ED",
         "linecolor": "black",
         "showgrid": true,
         "tickfont": {
          "color": "#4D5663"
         },
         "title": {
          "font": {
           "color": "#4D5663"
          },
          "text": ""
         },
         "zerolinecolor": "#E1E5ED"
        },
        "yaxis": {
         "gridcolor": "#E1E5ED",
         "linecolor": "black",
         "showgrid": true,
         "tickfont": {
          "color": "#4D5663"
         },
         "title": {
          "font": {
           "color": "#4D5663"
          },
          "text": "Count"
         },
         "zerolinecolor": "#E1E5ED"
        }
       }
      },
      "text/html": [
       "<div>\n",
       "        \n",
       "        \n",
       "            <div id=\"adf73d93-3a73-434d-83f6-a5eb2dcc7d60\" class=\"plotly-graph-div\" style=\"height:525px; width:100%;\"></div>\n",
       "            <script type=\"text/javascript\">\n",
       "                require([\"plotly\"], function(Plotly) {\n",
       "                    window.PLOTLYENV=window.PLOTLYENV || {};\n",
       "                    window.PLOTLYENV.BASE_URL='https://plot.ly';\n",
       "                    \n",
       "                if (document.getElementById(\"adf73d93-3a73-434d-83f6-a5eb2dcc7d60\")) {\n",
       "                    Plotly.newPlot(\n",
       "                        'adf73d93-3a73-434d-83f6-a5eb2dcc7d60',\n",
       "                        [{\"marker\": {\"color\": \"rgba(255, 153, 51, 0.6)\", \"line\": {\"color\": \"rgba(255, 153, 51, 1.0)\", \"width\": 1}}, \"name\": \"count\", \"orientation\": \"v\", \"text\": \"\", \"type\": \"bar\", \"x\": [\"business\", \"loan\", \"sell\", \"child\", \"year\", \"group\", \"small\", \"buy\", \"community\", \"live\", \"woman\", \"old\", \"family\", \"store\", \"clothing\", \"hope\", \"support\", \"entrepreneur\", \"start\", \"work\", \"good\", \"make\", \"help\", \"product\", \"able\", \"husband\", \"go\", \"member\", \"use\", \"say\", \"new\", \"purchase\", \"people\", \"school\", \"also\", \"well\", \"mother\", \"want\", \"life\", \"customer\", \"order\", \"increase\", \"income\", \"hard\", \"run\", \"provide\", \"thank\", \"request\", \"would\", \"money\", \"take\", \"food\", \"need\", \"first\", \"operate\", \"grow\", \"keep\", \"receive\", \"continue\", \"expand\", \"age\", \"plan\", \"time\", \"home\", \"house\", \"explain\", \"large\", \"improve\", \"dream\", \"day\", \"allow\", \"currently\", \"future\", \"profit\", \"education\", \"young\", \"shoe\", \"daughter\", \"son\", \"offer\", \"clothe\", \"attend\", \"together\", \"invest\", \"ago\", \"grocery\", \"get\", \"inventory\", \"enough\", \"like\", \"item\", \"pay\", \"sale\", \"lot\", \"many\", \"capital\", \"neighborhood\", \"boy\", \"give\", \"single\"], \"y\": [1852, 1812, 1225, 1104, 930, 842, 754, 698, 647, 604, 561, 551, 543, 528, 512, 487, 475, 473, 455, 438, 432, 426, 426, 423, 391, 382, 363, 357, 357, 355, 350, 335, 332, 331, 327, 323, 323, 322, 306, 299, 280, 277, 277, 267, 264, 262, 257, 257, 246, 242, 240, 240, 226, 224, 219, 216, 216, 210, 210, 210, 209, 207, 203, 197, 187, 186, 182, 179, 175, 173, 170, 163, 159, 157, 156, 156, 153, 151, 148, 147, 144, 144, 144, 142, 141, 140, 139, 136, 131, 131, 131, 130, 130, 126, 122, 120, 119, 117, 116, 114]}],\n",
       "                        {\"legend\": {\"bgcolor\": \"#F5F6F9\", \"font\": {\"color\": \"#4D5663\"}}, \"paper_bgcolor\": \"#F5F6F9\", \"plot_bgcolor\": \"#F5F6F9\", \"template\": {\"data\": {\"bar\": [{\"error_x\": {\"color\": \"#2a3f5f\"}, \"error_y\": {\"color\": \"#2a3f5f\"}, \"marker\": {\"line\": {\"color\": \"#E5ECF6\", \"width\": 0.5}}, \"type\": \"bar\"}], \"barpolar\": [{\"marker\": {\"line\": {\"color\": \"#E5ECF6\", \"width\": 0.5}}, \"type\": \"barpolar\"}], \"carpet\": [{\"aaxis\": {\"endlinecolor\": \"#2a3f5f\", \"gridcolor\": \"white\", \"linecolor\": \"white\", \"minorgridcolor\": \"white\", \"startlinecolor\": \"#2a3f5f\"}, \"baxis\": {\"endlinecolor\": \"#2a3f5f\", \"gridcolor\": \"white\", \"linecolor\": \"white\", \"minorgridcolor\": \"white\", \"startlinecolor\": \"#2a3f5f\"}, \"type\": \"carpet\"}], \"choropleth\": [{\"colorbar\": {\"outlinewidth\": 0, \"ticks\": \"\"}, \"type\": \"choropleth\"}], \"contour\": [{\"colorbar\": {\"outlinewidth\": 0, \"ticks\": \"\"}, \"colorscale\": [[0.0, \"#0d0887\"], [0.1111111111111111, \"#46039f\"], [0.2222222222222222, \"#7201a8\"], [0.3333333333333333, \"#9c179e\"], [0.4444444444444444, \"#bd3786\"], [0.5555555555555556, \"#d8576b\"], [0.6666666666666666, \"#ed7953\"], [0.7777777777777778, \"#fb9f3a\"], [0.8888888888888888, \"#fdca26\"], [1.0, \"#f0f921\"]], \"type\": \"contour\"}], \"contourcarpet\": [{\"colorbar\": {\"outlinewidth\": 0, \"ticks\": \"\"}, \"type\": \"contourcarpet\"}], \"heatmap\": [{\"colorbar\": {\"outlinewidth\": 0, \"ticks\": \"\"}, \"colorscale\": [[0.0, \"#0d0887\"], [0.1111111111111111, \"#46039f\"], [0.2222222222222222, \"#7201a8\"], [0.3333333333333333, \"#9c179e\"], [0.4444444444444444, \"#bd3786\"], [0.5555555555555556, \"#d8576b\"], [0.6666666666666666, \"#ed7953\"], [0.7777777777777778, \"#fb9f3a\"], [0.8888888888888888, \"#fdca26\"], [1.0, \"#f0f921\"]], \"type\": \"heatmap\"}], \"heatmapgl\": [{\"colorbar\": {\"outlinewidth\": 0, \"ticks\": \"\"}, \"colorscale\": [[0.0, \"#0d0887\"], [0.1111111111111111, \"#46039f\"], [0.2222222222222222, \"#7201a8\"], [0.3333333333333333, \"#9c179e\"], [0.4444444444444444, \"#bd3786\"], [0.5555555555555556, \"#d8576b\"], [0.6666666666666666, \"#ed7953\"], [0.7777777777777778, \"#fb9f3a\"], [0.8888888888888888, \"#fdca26\"], [1.0, \"#f0f921\"]], \"type\": \"heatmapgl\"}], \"histogram\": [{\"marker\": {\"colorbar\": {\"outlinewidth\": 0, \"ticks\": \"\"}}, \"type\": \"histogram\"}], \"histogram2d\": [{\"colorbar\": {\"outlinewidth\": 0, \"ticks\": \"\"}, \"colorscale\": [[0.0, \"#0d0887\"], [0.1111111111111111, \"#46039f\"], [0.2222222222222222, \"#7201a8\"], [0.3333333333333333, \"#9c179e\"], [0.4444444444444444, \"#bd3786\"], [0.5555555555555556, \"#d8576b\"], [0.6666666666666666, \"#ed7953\"], [0.7777777777777778, \"#fb9f3a\"], [0.8888888888888888, \"#fdca26\"], [1.0, \"#f0f921\"]], \"type\": \"histogram2d\"}], \"histogram2dcontour\": [{\"colorbar\": {\"outlinewidth\": 0, \"ticks\": \"\"}, \"colorscale\": [[0.0, \"#0d0887\"], [0.1111111111111111, \"#46039f\"], [0.2222222222222222, \"#7201a8\"], [0.3333333333333333, \"#9c179e\"], [0.4444444444444444, \"#bd3786\"], [0.5555555555555556, \"#d8576b\"], [0.6666666666666666, \"#ed7953\"], [0.7777777777777778, \"#fb9f3a\"], [0.8888888888888888, \"#fdca26\"], [1.0, \"#f0f921\"]], \"type\": \"histogram2dcontour\"}], \"mesh3d\": [{\"colorbar\": {\"outlinewidth\": 0, \"ticks\": \"\"}, \"type\": \"mesh3d\"}], \"parcoords\": [{\"line\": {\"colorbar\": {\"outlinewidth\": 0, \"ticks\": \"\"}}, \"type\": \"parcoords\"}], \"pie\": [{\"automargin\": true, \"type\": \"pie\"}], \"scatter\": [{\"marker\": {\"colorbar\": {\"outlinewidth\": 0, \"ticks\": \"\"}}, \"type\": \"scatter\"}], \"scatter3d\": [{\"line\": {\"colorbar\": {\"outlinewidth\": 0, \"ticks\": \"\"}}, \"marker\": {\"colorbar\": {\"outlinewidth\": 0, \"ticks\": \"\"}}, \"type\": \"scatter3d\"}], \"scattercarpet\": [{\"marker\": {\"colorbar\": {\"outlinewidth\": 0, \"ticks\": \"\"}}, \"type\": \"scattercarpet\"}], \"scattergeo\": [{\"marker\": {\"colorbar\": {\"outlinewidth\": 0, \"ticks\": \"\"}}, \"type\": \"scattergeo\"}], \"scattergl\": [{\"marker\": {\"colorbar\": {\"outlinewidth\": 0, \"ticks\": \"\"}}, \"type\": \"scattergl\"}], \"scattermapbox\": [{\"marker\": {\"colorbar\": {\"outlinewidth\": 0, \"ticks\": \"\"}}, \"type\": \"scattermapbox\"}], \"scatterpolar\": [{\"marker\": {\"colorbar\": {\"outlinewidth\": 0, \"ticks\": \"\"}}, \"type\": \"scatterpolar\"}], \"scatterpolargl\": [{\"marker\": {\"colorbar\": {\"outlinewidth\": 0, \"ticks\": \"\"}}, \"type\": \"scatterpolargl\"}], \"scatterternary\": [{\"marker\": {\"colorbar\": {\"outlinewidth\": 0, \"ticks\": \"\"}}, \"type\": \"scatterternary\"}], \"surface\": [{\"colorbar\": {\"outlinewidth\": 0, \"ticks\": \"\"}, \"colorscale\": [[0.0, \"#0d0887\"], [0.1111111111111111, \"#46039f\"], [0.2222222222222222, \"#7201a8\"], [0.3333333333333333, \"#9c179e\"], [0.4444444444444444, \"#bd3786\"], [0.5555555555555556, \"#d8576b\"], [0.6666666666666666, \"#ed7953\"], [0.7777777777777778, \"#fb9f3a\"], [0.8888888888888888, \"#fdca26\"], [1.0, \"#f0f921\"]], \"type\": \"surface\"}], \"table\": [{\"cells\": {\"fill\": {\"color\": \"#EBF0F8\"}, \"line\": {\"color\": \"white\"}}, \"header\": {\"fill\": {\"color\": \"#C8D4E3\"}, \"line\": {\"color\": \"white\"}}, \"type\": \"table\"}]}, \"layout\": {\"annotationdefaults\": {\"arrowcolor\": \"#2a3f5f\", \"arrowhead\": 0, \"arrowwidth\": 1}, \"coloraxis\": {\"colorbar\": {\"outlinewidth\": 0, \"ticks\": \"\"}}, \"colorscale\": {\"diverging\": [[0, \"#8e0152\"], [0.1, \"#c51b7d\"], [0.2, \"#de77ae\"], [0.3, \"#f1b6da\"], [0.4, \"#fde0ef\"], [0.5, \"#f7f7f7\"], [0.6, \"#e6f5d0\"], [0.7, \"#b8e186\"], [0.8, \"#7fbc41\"], [0.9, \"#4d9221\"], [1, \"#276419\"]], \"sequential\": [[0.0, \"#0d0887\"], [0.1111111111111111, \"#46039f\"], [0.2222222222222222, \"#7201a8\"], [0.3333333333333333, \"#9c179e\"], [0.4444444444444444, \"#bd3786\"], [0.5555555555555556, \"#d8576b\"], [0.6666666666666666, \"#ed7953\"], [0.7777777777777778, \"#fb9f3a\"], [0.8888888888888888, \"#fdca26\"], [1.0, \"#f0f921\"]], \"sequentialminus\": [[0.0, \"#0d0887\"], [0.1111111111111111, \"#46039f\"], [0.2222222222222222, \"#7201a8\"], [0.3333333333333333, \"#9c179e\"], [0.4444444444444444, \"#bd3786\"], [0.5555555555555556, \"#d8576b\"], [0.6666666666666666, \"#ed7953\"], [0.7777777777777778, \"#fb9f3a\"], [0.8888888888888888, \"#fdca26\"], [1.0, \"#f0f921\"]]}, \"colorway\": [\"#636efa\", \"#EF553B\", \"#00cc96\", \"#ab63fa\", \"#FFA15A\", \"#19d3f3\", \"#FF6692\", \"#B6E880\", \"#FF97FF\", \"#FECB52\"], \"font\": {\"color\": \"#2a3f5f\"}, \"geo\": {\"bgcolor\": \"white\", \"lakecolor\": \"white\", \"landcolor\": \"#E5ECF6\", \"showlakes\": true, \"showland\": true, \"subunitcolor\": \"white\"}, \"hoverlabel\": {\"align\": \"left\"}, \"hovermode\": \"closest\", \"mapbox\": {\"style\": \"light\"}, \"paper_bgcolor\": \"white\", \"plot_bgcolor\": \"#E5ECF6\", \"polar\": {\"angularaxis\": {\"gridcolor\": \"white\", \"linecolor\": \"white\", \"ticks\": \"\"}, \"bgcolor\": \"#E5ECF6\", \"radialaxis\": {\"gridcolor\": \"white\", \"linecolor\": \"white\", \"ticks\": \"\"}}, \"scene\": {\"xaxis\": {\"backgroundcolor\": \"#E5ECF6\", \"gridcolor\": \"white\", \"gridwidth\": 2, \"linecolor\": \"white\", \"showbackground\": true, \"ticks\": \"\", \"zerolinecolor\": \"white\"}, \"yaxis\": {\"backgroundcolor\": \"#E5ECF6\", \"gridcolor\": \"white\", \"gridwidth\": 2, \"linecolor\": \"white\", \"showbackground\": true, \"ticks\": \"\", \"zerolinecolor\": \"white\"}, \"zaxis\": {\"backgroundcolor\": \"#E5ECF6\", \"gridcolor\": \"white\", \"gridwidth\": 2, \"linecolor\": \"white\", \"showbackground\": true, \"ticks\": \"\", \"zerolinecolor\": \"white\"}}, \"shapedefaults\": {\"line\": {\"color\": \"#2a3f5f\"}}, \"ternary\": {\"aaxis\": {\"gridcolor\": \"white\", \"linecolor\": \"white\", \"ticks\": \"\"}, \"baxis\": {\"gridcolor\": \"white\", \"linecolor\": \"white\", \"ticks\": \"\"}, \"bgcolor\": \"#E5ECF6\", \"caxis\": {\"gridcolor\": \"white\", \"linecolor\": \"white\", \"ticks\": \"\"}}, \"title\": {\"x\": 0.05}, \"xaxis\": {\"automargin\": true, \"gridcolor\": \"white\", \"linecolor\": \"white\", \"ticks\": \"\", \"title\": {\"standoff\": 15}, \"zerolinecolor\": \"white\", \"zerolinewidth\": 2}, \"yaxis\": {\"automargin\": true, \"gridcolor\": \"white\", \"linecolor\": \"white\", \"ticks\": \"\", \"title\": {\"standoff\": 15}, \"zerolinecolor\": \"white\", \"zerolinewidth\": 2}}}, \"title\": {\"font\": {\"color\": \"#4D5663\"}, \"text\": \"Top 100 words after removing stop words\"}, \"xaxis\": {\"gridcolor\": \"#E1E5ED\", \"linecolor\": \"black\", \"showgrid\": true, \"tickfont\": {\"color\": \"#4D5663\"}, \"title\": {\"font\": {\"color\": \"#4D5663\"}, \"text\": \"\"}, \"zerolinecolor\": \"#E1E5ED\"}, \"yaxis\": {\"gridcolor\": \"#E1E5ED\", \"linecolor\": \"black\", \"showgrid\": true, \"tickfont\": {\"color\": \"#4D5663\"}, \"title\": {\"font\": {\"color\": \"#4D5663\"}, \"text\": \"Count\"}, \"zerolinecolor\": \"#E1E5ED\"}},\n",
       "                        {\"showLink\": true, \"linkText\": \"Export to plot.ly\", \"plotlyServerURL\": \"https://plot.ly\", \"responsive\": true}\n",
       "                    ).then(function(){\n",
       "                            \n",
       "var gd = document.getElementById('adf73d93-3a73-434d-83f6-a5eb2dcc7d60');\n",
       "var x = new MutationObserver(function (mutations, observer) {{\n",
       "        var display = window.getComputedStyle(gd).display;\n",
       "        if (!display || display === 'none') {{\n",
       "            console.log([gd, 'removed!']);\n",
       "            Plotly.purge(gd);\n",
       "            observer.disconnect();\n",
       "        }}\n",
       "}});\n",
       "\n",
       "// Listen for the removal of the full notebook cells\n",
       "var notebookContainer = gd.closest('#notebook-container');\n",
       "if (notebookContainer) {{\n",
       "    x.observe(notebookContainer, {childList: true});\n",
       "}}\n",
       "\n",
       "// Listen for the clearing of the current output cell\n",
       "var outputEl = gd.closest('.output');\n",
       "if (outputEl) {{\n",
       "    x.observe(outputEl, {childList: true});\n",
       "}}\n",
       "\n",
       "                        })\n",
       "                };\n",
       "                });\n",
       "            </script>\n",
       "        </div>"
      ]
     },
     "metadata": {},
     "output_type": "display_data"
    }
   ],
   "source": [
    "plot_model()"
   ]
  },
  {
   "cell_type": "code",
   "execution_count": 15,
   "metadata": {},
   "outputs": [
    {
     "data": {
      "text/html": [
       "        <script type=\"text/javascript\">\n",
       "        window.PlotlyConfig = {MathJaxConfig: 'local'};\n",
       "        if (window.MathJax) {MathJax.Hub.Config({SVG: {font: \"STIX-Web\"}});}\n",
       "        if (typeof require !== 'undefined') {\n",
       "        require.undef(\"plotly\");\n",
       "        requirejs.config({\n",
       "            paths: {\n",
       "                'plotly': ['https://cdn.plot.ly/plotly-latest.min']\n",
       "            }\n",
       "        });\n",
       "        require(['plotly'], function(Plotly) {\n",
       "            window._Plotly = Plotly;\n",
       "        });\n",
       "        }\n",
       "        </script>\n",
       "        "
      ]
     },
     "metadata": {},
     "output_type": "display_data"
    },
    {
     "data": {
      "application/vnd.plotly.v1+json": {
       "config": {
        "linkText": "Export to plot.ly",
        "plotlyServerURL": "https://plot.ly",
        "showLink": true
       },
       "data": [
        {
         "marker": {
          "color": "rgba(255, 153, 51, 0.6)",
          "line": {
           "color": "rgba(255, 153, 51, 1.0)",
           "width": 1
          }
         },
         "name": "count",
         "orientation": "v",
         "text": "",
         "type": "bar",
         "x": [
          "loan",
          "business",
          "group",
          "sell",
          "child",
          "member",
          "small",
          "live",
          "community",
          "buy",
          "able",
          "support",
          "year",
          "woman",
          "family",
          "store",
          "hope",
          "help",
          "thank",
          "go",
          "make",
          "old",
          "clothing",
          "use",
          "age",
          "also",
          "work",
          "provide",
          "would",
          "life",
          "home",
          "well",
          "product",
          "together",
          "first",
          "expand",
          "want",
          "grow",
          "food",
          "note",
          "large",
          "take",
          "purchase",
          "continue",
          "receive",
          "house",
          "behalf",
          "entrepreneur",
          "town",
          "people",
          "profit",
          "day",
          "mother",
          "start",
          "dream",
          "new",
          "future",
          "call",
          "husband",
          "need",
          "share",
          "like",
          "time",
          "improve",
          "sale",
          "good",
          "pay",
          "say",
          "run",
          "money",
          "increase",
          "school",
          "include",
          "hard",
          "item",
          "clothe",
          "person",
          "invest",
          "order",
          "come",
          "allow",
          "coordinator",
          "currently",
          "part",
          "education",
          "shoe",
          "see",
          "young",
          "plan",
          "next",
          "bank_hope_solidarity",
          "supply",
          "grandchild",
          "many",
          "raise",
          "shop",
          "open",
          "merchandise",
          "training_course",
          "second"
         ],
         "y": [
          764,
          588,
          576,
          349,
          330,
          236,
          235,
          220,
          195,
          187,
          182,
          177,
          171,
          164,
          159,
          157,
          156,
          151,
          150,
          143,
          141,
          133,
          132,
          130,
          112,
          112,
          107,
          105,
          97,
          96,
          95,
          94,
          93,
          90,
          89,
          87,
          87,
          85,
          84,
          82,
          81,
          81,
          80,
          80,
          80,
          79,
          76,
          74,
          72,
          71,
          70,
          68,
          68,
          67,
          66,
          66,
          65,
          65,
          64,
          63,
          63,
          60,
          59,
          59,
          58,
          58,
          57,
          55,
          55,
          55,
          52,
          51,
          50,
          47,
          46,
          45,
          45,
          45,
          44,
          44,
          44,
          44,
          43,
          42,
          41,
          39,
          39,
          39,
          38,
          38,
          38,
          38,
          38,
          37,
          37,
          37,
          37,
          36,
          35,
          34
         ]
        }
       ],
       "layout": {
        "legend": {
         "bgcolor": "#F5F6F9",
         "font": {
          "color": "#4D5663"
         }
        },
        "paper_bgcolor": "#F5F6F9",
        "plot_bgcolor": "#F5F6F9",
        "template": {
         "data": {
          "bar": [
           {
            "error_x": {
             "color": "#2a3f5f"
            },
            "error_y": {
             "color": "#2a3f5f"
            },
            "marker": {
             "line": {
              "color": "#E5ECF6",
              "width": 0.5
             }
            },
            "type": "bar"
           }
          ],
          "barpolar": [
           {
            "marker": {
             "line": {
              "color": "#E5ECF6",
              "width": 0.5
             }
            },
            "type": "barpolar"
           }
          ],
          "carpet": [
           {
            "aaxis": {
             "endlinecolor": "#2a3f5f",
             "gridcolor": "white",
             "linecolor": "white",
             "minorgridcolor": "white",
             "startlinecolor": "#2a3f5f"
            },
            "baxis": {
             "endlinecolor": "#2a3f5f",
             "gridcolor": "white",
             "linecolor": "white",
             "minorgridcolor": "white",
             "startlinecolor": "#2a3f5f"
            },
            "type": "carpet"
           }
          ],
          "choropleth": [
           {
            "colorbar": {
             "outlinewidth": 0,
             "ticks": ""
            },
            "type": "choropleth"
           }
          ],
          "contour": [
           {
            "colorbar": {
             "outlinewidth": 0,
             "ticks": ""
            },
            "colorscale": [
             [
              0,
              "#0d0887"
             ],
             [
              0.1111111111111111,
              "#46039f"
             ],
             [
              0.2222222222222222,
              "#7201a8"
             ],
             [
              0.3333333333333333,
              "#9c179e"
             ],
             [
              0.4444444444444444,
              "#bd3786"
             ],
             [
              0.5555555555555556,
              "#d8576b"
             ],
             [
              0.6666666666666666,
              "#ed7953"
             ],
             [
              0.7777777777777778,
              "#fb9f3a"
             ],
             [
              0.8888888888888888,
              "#fdca26"
             ],
             [
              1,
              "#f0f921"
             ]
            ],
            "type": "contour"
           }
          ],
          "contourcarpet": [
           {
            "colorbar": {
             "outlinewidth": 0,
             "ticks": ""
            },
            "type": "contourcarpet"
           }
          ],
          "heatmap": [
           {
            "colorbar": {
             "outlinewidth": 0,
             "ticks": ""
            },
            "colorscale": [
             [
              0,
              "#0d0887"
             ],
             [
              0.1111111111111111,
              "#46039f"
             ],
             [
              0.2222222222222222,
              "#7201a8"
             ],
             [
              0.3333333333333333,
              "#9c179e"
             ],
             [
              0.4444444444444444,
              "#bd3786"
             ],
             [
              0.5555555555555556,
              "#d8576b"
             ],
             [
              0.6666666666666666,
              "#ed7953"
             ],
             [
              0.7777777777777778,
              "#fb9f3a"
             ],
             [
              0.8888888888888888,
              "#fdca26"
             ],
             [
              1,
              "#f0f921"
             ]
            ],
            "type": "heatmap"
           }
          ],
          "heatmapgl": [
           {
            "colorbar": {
             "outlinewidth": 0,
             "ticks": ""
            },
            "colorscale": [
             [
              0,
              "#0d0887"
             ],
             [
              0.1111111111111111,
              "#46039f"
             ],
             [
              0.2222222222222222,
              "#7201a8"
             ],
             [
              0.3333333333333333,
              "#9c179e"
             ],
             [
              0.4444444444444444,
              "#bd3786"
             ],
             [
              0.5555555555555556,
              "#d8576b"
             ],
             [
              0.6666666666666666,
              "#ed7953"
             ],
             [
              0.7777777777777778,
              "#fb9f3a"
             ],
             [
              0.8888888888888888,
              "#fdca26"
             ],
             [
              1,
              "#f0f921"
             ]
            ],
            "type": "heatmapgl"
           }
          ],
          "histogram": [
           {
            "marker": {
             "colorbar": {
              "outlinewidth": 0,
              "ticks": ""
             }
            },
            "type": "histogram"
           }
          ],
          "histogram2d": [
           {
            "colorbar": {
             "outlinewidth": 0,
             "ticks": ""
            },
            "colorscale": [
             [
              0,
              "#0d0887"
             ],
             [
              0.1111111111111111,
              "#46039f"
             ],
             [
              0.2222222222222222,
              "#7201a8"
             ],
             [
              0.3333333333333333,
              "#9c179e"
             ],
             [
              0.4444444444444444,
              "#bd3786"
             ],
             [
              0.5555555555555556,
              "#d8576b"
             ],
             [
              0.6666666666666666,
              "#ed7953"
             ],
             [
              0.7777777777777778,
              "#fb9f3a"
             ],
             [
              0.8888888888888888,
              "#fdca26"
             ],
             [
              1,
              "#f0f921"
             ]
            ],
            "type": "histogram2d"
           }
          ],
          "histogram2dcontour": [
           {
            "colorbar": {
             "outlinewidth": 0,
             "ticks": ""
            },
            "colorscale": [
             [
              0,
              "#0d0887"
             ],
             [
              0.1111111111111111,
              "#46039f"
             ],
             [
              0.2222222222222222,
              "#7201a8"
             ],
             [
              0.3333333333333333,
              "#9c179e"
             ],
             [
              0.4444444444444444,
              "#bd3786"
             ],
             [
              0.5555555555555556,
              "#d8576b"
             ],
             [
              0.6666666666666666,
              "#ed7953"
             ],
             [
              0.7777777777777778,
              "#fb9f3a"
             ],
             [
              0.8888888888888888,
              "#fdca26"
             ],
             [
              1,
              "#f0f921"
             ]
            ],
            "type": "histogram2dcontour"
           }
          ],
          "mesh3d": [
           {
            "colorbar": {
             "outlinewidth": 0,
             "ticks": ""
            },
            "type": "mesh3d"
           }
          ],
          "parcoords": [
           {
            "line": {
             "colorbar": {
              "outlinewidth": 0,
              "ticks": ""
             }
            },
            "type": "parcoords"
           }
          ],
          "pie": [
           {
            "automargin": true,
            "type": "pie"
           }
          ],
          "scatter": [
           {
            "marker": {
             "colorbar": {
              "outlinewidth": 0,
              "ticks": ""
             }
            },
            "type": "scatter"
           }
          ],
          "scatter3d": [
           {
            "line": {
             "colorbar": {
              "outlinewidth": 0,
              "ticks": ""
             }
            },
            "marker": {
             "colorbar": {
              "outlinewidth": 0,
              "ticks": ""
             }
            },
            "type": "scatter3d"
           }
          ],
          "scattercarpet": [
           {
            "marker": {
             "colorbar": {
              "outlinewidth": 0,
              "ticks": ""
             }
            },
            "type": "scattercarpet"
           }
          ],
          "scattergeo": [
           {
            "marker": {
             "colorbar": {
              "outlinewidth": 0,
              "ticks": ""
             }
            },
            "type": "scattergeo"
           }
          ],
          "scattergl": [
           {
            "marker": {
             "colorbar": {
              "outlinewidth": 0,
              "ticks": ""
             }
            },
            "type": "scattergl"
           }
          ],
          "scattermapbox": [
           {
            "marker": {
             "colorbar": {
              "outlinewidth": 0,
              "ticks": ""
             }
            },
            "type": "scattermapbox"
           }
          ],
          "scatterpolar": [
           {
            "marker": {
             "colorbar": {
              "outlinewidth": 0,
              "ticks": ""
             }
            },
            "type": "scatterpolar"
           }
          ],
          "scatterpolargl": [
           {
            "marker": {
             "colorbar": {
              "outlinewidth": 0,
              "ticks": ""
             }
            },
            "type": "scatterpolargl"
           }
          ],
          "scatterternary": [
           {
            "marker": {
             "colorbar": {
              "outlinewidth": 0,
              "ticks": ""
             }
            },
            "type": "scatterternary"
           }
          ],
          "surface": [
           {
            "colorbar": {
             "outlinewidth": 0,
             "ticks": ""
            },
            "colorscale": [
             [
              0,
              "#0d0887"
             ],
             [
              0.1111111111111111,
              "#46039f"
             ],
             [
              0.2222222222222222,
              "#7201a8"
             ],
             [
              0.3333333333333333,
              "#9c179e"
             ],
             [
              0.4444444444444444,
              "#bd3786"
             ],
             [
              0.5555555555555556,
              "#d8576b"
             ],
             [
              0.6666666666666666,
              "#ed7953"
             ],
             [
              0.7777777777777778,
              "#fb9f3a"
             ],
             [
              0.8888888888888888,
              "#fdca26"
             ],
             [
              1,
              "#f0f921"
             ]
            ],
            "type": "surface"
           }
          ],
          "table": [
           {
            "cells": {
             "fill": {
              "color": "#EBF0F8"
             },
             "line": {
              "color": "white"
             }
            },
            "header": {
             "fill": {
              "color": "#C8D4E3"
             },
             "line": {
              "color": "white"
             }
            },
            "type": "table"
           }
          ]
         },
         "layout": {
          "annotationdefaults": {
           "arrowcolor": "#2a3f5f",
           "arrowhead": 0,
           "arrowwidth": 1
          },
          "coloraxis": {
           "colorbar": {
            "outlinewidth": 0,
            "ticks": ""
           }
          },
          "colorscale": {
           "diverging": [
            [
             0,
             "#8e0152"
            ],
            [
             0.1,
             "#c51b7d"
            ],
            [
             0.2,
             "#de77ae"
            ],
            [
             0.3,
             "#f1b6da"
            ],
            [
             0.4,
             "#fde0ef"
            ],
            [
             0.5,
             "#f7f7f7"
            ],
            [
             0.6,
             "#e6f5d0"
            ],
            [
             0.7,
             "#b8e186"
            ],
            [
             0.8,
             "#7fbc41"
            ],
            [
             0.9,
             "#4d9221"
            ],
            [
             1,
             "#276419"
            ]
           ],
           "sequential": [
            [
             0,
             "#0d0887"
            ],
            [
             0.1111111111111111,
             "#46039f"
            ],
            [
             0.2222222222222222,
             "#7201a8"
            ],
            [
             0.3333333333333333,
             "#9c179e"
            ],
            [
             0.4444444444444444,
             "#bd3786"
            ],
            [
             0.5555555555555556,
             "#d8576b"
            ],
            [
             0.6666666666666666,
             "#ed7953"
            ],
            [
             0.7777777777777778,
             "#fb9f3a"
            ],
            [
             0.8888888888888888,
             "#fdca26"
            ],
            [
             1,
             "#f0f921"
            ]
           ],
           "sequentialminus": [
            [
             0,
             "#0d0887"
            ],
            [
             0.1111111111111111,
             "#46039f"
            ],
            [
             0.2222222222222222,
             "#7201a8"
            ],
            [
             0.3333333333333333,
             "#9c179e"
            ],
            [
             0.4444444444444444,
             "#bd3786"
            ],
            [
             0.5555555555555556,
             "#d8576b"
            ],
            [
             0.6666666666666666,
             "#ed7953"
            ],
            [
             0.7777777777777778,
             "#fb9f3a"
            ],
            [
             0.8888888888888888,
             "#fdca26"
            ],
            [
             1,
             "#f0f921"
            ]
           ]
          },
          "colorway": [
           "#636efa",
           "#EF553B",
           "#00cc96",
           "#ab63fa",
           "#FFA15A",
           "#19d3f3",
           "#FF6692",
           "#B6E880",
           "#FF97FF",
           "#FECB52"
          ],
          "font": {
           "color": "#2a3f5f"
          },
          "geo": {
           "bgcolor": "white",
           "lakecolor": "white",
           "landcolor": "#E5ECF6",
           "showlakes": true,
           "showland": true,
           "subunitcolor": "white"
          },
          "hoverlabel": {
           "align": "left"
          },
          "hovermode": "closest",
          "mapbox": {
           "style": "light"
          },
          "paper_bgcolor": "white",
          "plot_bgcolor": "#E5ECF6",
          "polar": {
           "angularaxis": {
            "gridcolor": "white",
            "linecolor": "white",
            "ticks": ""
           },
           "bgcolor": "#E5ECF6",
           "radialaxis": {
            "gridcolor": "white",
            "linecolor": "white",
            "ticks": ""
           }
          },
          "scene": {
           "xaxis": {
            "backgroundcolor": "#E5ECF6",
            "gridcolor": "white",
            "gridwidth": 2,
            "linecolor": "white",
            "showbackground": true,
            "ticks": "",
            "zerolinecolor": "white"
           },
           "yaxis": {
            "backgroundcolor": "#E5ECF6",
            "gridcolor": "white",
            "gridwidth": 2,
            "linecolor": "white",
            "showbackground": true,
            "ticks": "",
            "zerolinecolor": "white"
           },
           "zaxis": {
            "backgroundcolor": "#E5ECF6",
            "gridcolor": "white",
            "gridwidth": 2,
            "linecolor": "white",
            "showbackground": true,
            "ticks": "",
            "zerolinecolor": "white"
           }
          },
          "shapedefaults": {
           "line": {
            "color": "#2a3f5f"
           }
          },
          "ternary": {
           "aaxis": {
            "gridcolor": "white",
            "linecolor": "white",
            "ticks": ""
           },
           "baxis": {
            "gridcolor": "white",
            "linecolor": "white",
            "ticks": ""
           },
           "bgcolor": "#E5ECF6",
           "caxis": {
            "gridcolor": "white",
            "linecolor": "white",
            "ticks": ""
           }
          },
          "title": {
           "x": 0.05
          },
          "xaxis": {
           "automargin": true,
           "gridcolor": "white",
           "linecolor": "white",
           "ticks": "",
           "title": {
            "standoff": 15
           },
           "zerolinecolor": "white",
           "zerolinewidth": 2
          },
          "yaxis": {
           "automargin": true,
           "gridcolor": "white",
           "linecolor": "white",
           "ticks": "",
           "title": {
            "standoff": 15
           },
           "zerolinecolor": "white",
           "zerolinewidth": 2
          }
         }
        },
        "title": {
         "font": {
          "color": "#4D5663"
         },
         "text": "Topic 0: Top 100 words after removing stop words"
        },
        "xaxis": {
         "gridcolor": "#E1E5ED",
         "linecolor": "black",
         "showgrid": true,
         "tickfont": {
          "color": "#4D5663"
         },
         "title": {
          "font": {
           "color": "#4D5663"
          },
          "text": ""
         },
         "zerolinecolor": "#E1E5ED"
        },
        "yaxis": {
         "gridcolor": "#E1E5ED",
         "linecolor": "black",
         "showgrid": true,
         "tickfont": {
          "color": "#4D5663"
         },
         "title": {
          "font": {
           "color": "#4D5663"
          },
          "text": "Count"
         },
         "zerolinecolor": "#E1E5ED"
        }
       }
      },
      "text/html": [
       "<div>\n",
       "        \n",
       "        \n",
       "            <div id=\"b2f3c1a5-ad27-4e93-a303-b3597a2a1b64\" class=\"plotly-graph-div\" style=\"height:525px; width:100%;\"></div>\n",
       "            <script type=\"text/javascript\">\n",
       "                require([\"plotly\"], function(Plotly) {\n",
       "                    window.PLOTLYENV=window.PLOTLYENV || {};\n",
       "                    window.PLOTLYENV.BASE_URL='https://plot.ly';\n",
       "                    \n",
       "                if (document.getElementById(\"b2f3c1a5-ad27-4e93-a303-b3597a2a1b64\")) {\n",
       "                    Plotly.newPlot(\n",
       "                        'b2f3c1a5-ad27-4e93-a303-b3597a2a1b64',\n",
       "                        [{\"marker\": {\"color\": \"rgba(255, 153, 51, 0.6)\", \"line\": {\"color\": \"rgba(255, 153, 51, 1.0)\", \"width\": 1}}, \"name\": \"count\", \"orientation\": \"v\", \"text\": \"\", \"type\": \"bar\", \"x\": [\"loan\", \"business\", \"group\", \"sell\", \"child\", \"member\", \"small\", \"live\", \"community\", \"buy\", \"able\", \"support\", \"year\", \"woman\", \"family\", \"store\", \"hope\", \"help\", \"thank\", \"go\", \"make\", \"old\", \"clothing\", \"use\", \"age\", \"also\", \"work\", \"provide\", \"would\", \"life\", \"home\", \"well\", \"product\", \"together\", \"first\", \"expand\", \"want\", \"grow\", \"food\", \"note\", \"large\", \"take\", \"purchase\", \"continue\", \"receive\", \"house\", \"behalf\", \"entrepreneur\", \"town\", \"people\", \"profit\", \"day\", \"mother\", \"start\", \"dream\", \"new\", \"future\", \"call\", \"husband\", \"need\", \"share\", \"like\", \"time\", \"improve\", \"sale\", \"good\", \"pay\", \"say\", \"run\", \"money\", \"increase\", \"school\", \"include\", \"hard\", \"item\", \"clothe\", \"person\", \"invest\", \"order\", \"come\", \"allow\", \"coordinator\", \"currently\", \"part\", \"education\", \"shoe\", \"see\", \"young\", \"plan\", \"next\", \"bank_hope_solidarity\", \"supply\", \"grandchild\", \"many\", \"raise\", \"shop\", \"open\", \"merchandise\", \"training_course\", \"second\"], \"y\": [764, 588, 576, 349, 330, 236, 235, 220, 195, 187, 182, 177, 171, 164, 159, 157, 156, 151, 150, 143, 141, 133, 132, 130, 112, 112, 107, 105, 97, 96, 95, 94, 93, 90, 89, 87, 87, 85, 84, 82, 81, 81, 80, 80, 80, 79, 76, 74, 72, 71, 70, 68, 68, 67, 66, 66, 65, 65, 64, 63, 63, 60, 59, 59, 58, 58, 57, 55, 55, 55, 52, 51, 50, 47, 46, 45, 45, 45, 44, 44, 44, 44, 43, 42, 41, 39, 39, 39, 38, 38, 38, 38, 38, 37, 37, 37, 37, 36, 35, 34]}],\n",
       "                        {\"legend\": {\"bgcolor\": \"#F5F6F9\", \"font\": {\"color\": \"#4D5663\"}}, \"paper_bgcolor\": \"#F5F6F9\", \"plot_bgcolor\": \"#F5F6F9\", \"template\": {\"data\": {\"bar\": [{\"error_x\": {\"color\": \"#2a3f5f\"}, \"error_y\": {\"color\": \"#2a3f5f\"}, \"marker\": {\"line\": {\"color\": \"#E5ECF6\", \"width\": 0.5}}, \"type\": \"bar\"}], \"barpolar\": [{\"marker\": {\"line\": {\"color\": \"#E5ECF6\", \"width\": 0.5}}, \"type\": \"barpolar\"}], \"carpet\": [{\"aaxis\": {\"endlinecolor\": \"#2a3f5f\", \"gridcolor\": \"white\", \"linecolor\": \"white\", \"minorgridcolor\": \"white\", \"startlinecolor\": \"#2a3f5f\"}, \"baxis\": {\"endlinecolor\": \"#2a3f5f\", \"gridcolor\": \"white\", \"linecolor\": \"white\", \"minorgridcolor\": \"white\", \"startlinecolor\": \"#2a3f5f\"}, \"type\": \"carpet\"}], \"choropleth\": [{\"colorbar\": {\"outlinewidth\": 0, \"ticks\": \"\"}, \"type\": \"choropleth\"}], \"contour\": [{\"colorbar\": {\"outlinewidth\": 0, \"ticks\": \"\"}, \"colorscale\": [[0.0, \"#0d0887\"], [0.1111111111111111, \"#46039f\"], [0.2222222222222222, \"#7201a8\"], [0.3333333333333333, \"#9c179e\"], [0.4444444444444444, \"#bd3786\"], [0.5555555555555556, \"#d8576b\"], [0.6666666666666666, \"#ed7953\"], [0.7777777777777778, \"#fb9f3a\"], [0.8888888888888888, \"#fdca26\"], [1.0, \"#f0f921\"]], \"type\": \"contour\"}], \"contourcarpet\": [{\"colorbar\": {\"outlinewidth\": 0, \"ticks\": \"\"}, \"type\": \"contourcarpet\"}], \"heatmap\": [{\"colorbar\": {\"outlinewidth\": 0, \"ticks\": \"\"}, \"colorscale\": [[0.0, \"#0d0887\"], [0.1111111111111111, \"#46039f\"], [0.2222222222222222, \"#7201a8\"], [0.3333333333333333, \"#9c179e\"], [0.4444444444444444, \"#bd3786\"], [0.5555555555555556, \"#d8576b\"], [0.6666666666666666, \"#ed7953\"], [0.7777777777777778, \"#fb9f3a\"], [0.8888888888888888, \"#fdca26\"], [1.0, \"#f0f921\"]], \"type\": \"heatmap\"}], \"heatmapgl\": [{\"colorbar\": {\"outlinewidth\": 0, \"ticks\": \"\"}, \"colorscale\": [[0.0, \"#0d0887\"], [0.1111111111111111, \"#46039f\"], [0.2222222222222222, \"#7201a8\"], [0.3333333333333333, \"#9c179e\"], [0.4444444444444444, \"#bd3786\"], [0.5555555555555556, \"#d8576b\"], [0.6666666666666666, \"#ed7953\"], [0.7777777777777778, \"#fb9f3a\"], [0.8888888888888888, \"#fdca26\"], [1.0, \"#f0f921\"]], \"type\": \"heatmapgl\"}], \"histogram\": [{\"marker\": {\"colorbar\": {\"outlinewidth\": 0, \"ticks\": \"\"}}, \"type\": \"histogram\"}], \"histogram2d\": [{\"colorbar\": {\"outlinewidth\": 0, \"ticks\": \"\"}, \"colorscale\": [[0.0, \"#0d0887\"], [0.1111111111111111, \"#46039f\"], [0.2222222222222222, \"#7201a8\"], [0.3333333333333333, \"#9c179e\"], [0.4444444444444444, \"#bd3786\"], [0.5555555555555556, \"#d8576b\"], [0.6666666666666666, \"#ed7953\"], [0.7777777777777778, \"#fb9f3a\"], [0.8888888888888888, \"#fdca26\"], [1.0, \"#f0f921\"]], \"type\": \"histogram2d\"}], \"histogram2dcontour\": [{\"colorbar\": {\"outlinewidth\": 0, \"ticks\": \"\"}, \"colorscale\": [[0.0, \"#0d0887\"], [0.1111111111111111, \"#46039f\"], [0.2222222222222222, \"#7201a8\"], [0.3333333333333333, \"#9c179e\"], [0.4444444444444444, \"#bd3786\"], [0.5555555555555556, \"#d8576b\"], [0.6666666666666666, \"#ed7953\"], [0.7777777777777778, \"#fb9f3a\"], [0.8888888888888888, \"#fdca26\"], [1.0, \"#f0f921\"]], \"type\": \"histogram2dcontour\"}], \"mesh3d\": [{\"colorbar\": {\"outlinewidth\": 0, \"ticks\": \"\"}, \"type\": \"mesh3d\"}], \"parcoords\": [{\"line\": {\"colorbar\": {\"outlinewidth\": 0, \"ticks\": \"\"}}, \"type\": \"parcoords\"}], \"pie\": [{\"automargin\": true, \"type\": \"pie\"}], \"scatter\": [{\"marker\": {\"colorbar\": {\"outlinewidth\": 0, \"ticks\": \"\"}}, \"type\": \"scatter\"}], \"scatter3d\": [{\"line\": {\"colorbar\": {\"outlinewidth\": 0, \"ticks\": \"\"}}, \"marker\": {\"colorbar\": {\"outlinewidth\": 0, \"ticks\": \"\"}}, \"type\": \"scatter3d\"}], \"scattercarpet\": [{\"marker\": {\"colorbar\": {\"outlinewidth\": 0, \"ticks\": \"\"}}, \"type\": \"scattercarpet\"}], \"scattergeo\": [{\"marker\": {\"colorbar\": {\"outlinewidth\": 0, \"ticks\": \"\"}}, \"type\": \"scattergeo\"}], \"scattergl\": [{\"marker\": {\"colorbar\": {\"outlinewidth\": 0, \"ticks\": \"\"}}, \"type\": \"scattergl\"}], \"scattermapbox\": [{\"marker\": {\"colorbar\": {\"outlinewidth\": 0, \"ticks\": \"\"}}, \"type\": \"scattermapbox\"}], \"scatterpolar\": [{\"marker\": {\"colorbar\": {\"outlinewidth\": 0, \"ticks\": \"\"}}, \"type\": \"scatterpolar\"}], \"scatterpolargl\": [{\"marker\": {\"colorbar\": {\"outlinewidth\": 0, \"ticks\": \"\"}}, \"type\": \"scatterpolargl\"}], \"scatterternary\": [{\"marker\": {\"colorbar\": {\"outlinewidth\": 0, \"ticks\": \"\"}}, \"type\": \"scatterternary\"}], \"surface\": [{\"colorbar\": {\"outlinewidth\": 0, \"ticks\": \"\"}, \"colorscale\": [[0.0, \"#0d0887\"], [0.1111111111111111, \"#46039f\"], [0.2222222222222222, \"#7201a8\"], [0.3333333333333333, \"#9c179e\"], [0.4444444444444444, \"#bd3786\"], [0.5555555555555556, \"#d8576b\"], [0.6666666666666666, \"#ed7953\"], [0.7777777777777778, \"#fb9f3a\"], [0.8888888888888888, \"#fdca26\"], [1.0, \"#f0f921\"]], \"type\": \"surface\"}], \"table\": [{\"cells\": {\"fill\": {\"color\": \"#EBF0F8\"}, \"line\": {\"color\": \"white\"}}, \"header\": {\"fill\": {\"color\": \"#C8D4E3\"}, \"line\": {\"color\": \"white\"}}, \"type\": \"table\"}]}, \"layout\": {\"annotationdefaults\": {\"arrowcolor\": \"#2a3f5f\", \"arrowhead\": 0, \"arrowwidth\": 1}, \"coloraxis\": {\"colorbar\": {\"outlinewidth\": 0, \"ticks\": \"\"}}, \"colorscale\": {\"diverging\": [[0, \"#8e0152\"], [0.1, \"#c51b7d\"], [0.2, \"#de77ae\"], [0.3, \"#f1b6da\"], [0.4, \"#fde0ef\"], [0.5, \"#f7f7f7\"], [0.6, \"#e6f5d0\"], [0.7, \"#b8e186\"], [0.8, \"#7fbc41\"], [0.9, \"#4d9221\"], [1, \"#276419\"]], \"sequential\": [[0.0, \"#0d0887\"], [0.1111111111111111, \"#46039f\"], [0.2222222222222222, \"#7201a8\"], [0.3333333333333333, \"#9c179e\"], [0.4444444444444444, \"#bd3786\"], [0.5555555555555556, \"#d8576b\"], [0.6666666666666666, \"#ed7953\"], [0.7777777777777778, \"#fb9f3a\"], [0.8888888888888888, \"#fdca26\"], [1.0, \"#f0f921\"]], \"sequentialminus\": [[0.0, \"#0d0887\"], [0.1111111111111111, \"#46039f\"], [0.2222222222222222, \"#7201a8\"], [0.3333333333333333, \"#9c179e\"], [0.4444444444444444, \"#bd3786\"], [0.5555555555555556, \"#d8576b\"], [0.6666666666666666, \"#ed7953\"], [0.7777777777777778, \"#fb9f3a\"], [0.8888888888888888, \"#fdca26\"], [1.0, \"#f0f921\"]]}, \"colorway\": [\"#636efa\", \"#EF553B\", \"#00cc96\", \"#ab63fa\", \"#FFA15A\", \"#19d3f3\", \"#FF6692\", \"#B6E880\", \"#FF97FF\", \"#FECB52\"], \"font\": {\"color\": \"#2a3f5f\"}, \"geo\": {\"bgcolor\": \"white\", \"lakecolor\": \"white\", \"landcolor\": \"#E5ECF6\", \"showlakes\": true, \"showland\": true, \"subunitcolor\": \"white\"}, \"hoverlabel\": {\"align\": \"left\"}, \"hovermode\": \"closest\", \"mapbox\": {\"style\": \"light\"}, \"paper_bgcolor\": \"white\", \"plot_bgcolor\": \"#E5ECF6\", \"polar\": {\"angularaxis\": {\"gridcolor\": \"white\", \"linecolor\": \"white\", \"ticks\": \"\"}, \"bgcolor\": \"#E5ECF6\", \"radialaxis\": {\"gridcolor\": \"white\", \"linecolor\": \"white\", \"ticks\": \"\"}}, \"scene\": {\"xaxis\": {\"backgroundcolor\": \"#E5ECF6\", \"gridcolor\": \"white\", \"gridwidth\": 2, \"linecolor\": \"white\", \"showbackground\": true, \"ticks\": \"\", \"zerolinecolor\": \"white\"}, \"yaxis\": {\"backgroundcolor\": \"#E5ECF6\", \"gridcolor\": \"white\", \"gridwidth\": 2, \"linecolor\": \"white\", \"showbackground\": true, \"ticks\": \"\", \"zerolinecolor\": \"white\"}, \"zaxis\": {\"backgroundcolor\": \"#E5ECF6\", \"gridcolor\": \"white\", \"gridwidth\": 2, \"linecolor\": \"white\", \"showbackground\": true, \"ticks\": \"\", \"zerolinecolor\": \"white\"}}, \"shapedefaults\": {\"line\": {\"color\": \"#2a3f5f\"}}, \"ternary\": {\"aaxis\": {\"gridcolor\": \"white\", \"linecolor\": \"white\", \"ticks\": \"\"}, \"baxis\": {\"gridcolor\": \"white\", \"linecolor\": \"white\", \"ticks\": \"\"}, \"bgcolor\": \"#E5ECF6\", \"caxis\": {\"gridcolor\": \"white\", \"linecolor\": \"white\", \"ticks\": \"\"}}, \"title\": {\"x\": 0.05}, \"xaxis\": {\"automargin\": true, \"gridcolor\": \"white\", \"linecolor\": \"white\", \"ticks\": \"\", \"title\": {\"standoff\": 15}, \"zerolinecolor\": \"white\", \"zerolinewidth\": 2}, \"yaxis\": {\"automargin\": true, \"gridcolor\": \"white\", \"linecolor\": \"white\", \"ticks\": \"\", \"title\": {\"standoff\": 15}, \"zerolinecolor\": \"white\", \"zerolinewidth\": 2}}}, \"title\": {\"font\": {\"color\": \"#4D5663\"}, \"text\": \"Topic 0: Top 100 words after removing stop words\"}, \"xaxis\": {\"gridcolor\": \"#E1E5ED\", \"linecolor\": \"black\", \"showgrid\": true, \"tickfont\": {\"color\": \"#4D5663\"}, \"title\": {\"font\": {\"color\": \"#4D5663\"}, \"text\": \"\"}, \"zerolinecolor\": \"#E1E5ED\"}, \"yaxis\": {\"gridcolor\": \"#E1E5ED\", \"linecolor\": \"black\", \"showgrid\": true, \"tickfont\": {\"color\": \"#4D5663\"}, \"title\": {\"font\": {\"color\": \"#4D5663\"}, \"text\": \"Count\"}, \"zerolinecolor\": \"#E1E5ED\"}},\n",
       "                        {\"showLink\": true, \"linkText\": \"Export to plot.ly\", \"plotlyServerURL\": \"https://plot.ly\", \"responsive\": true}\n",
       "                    ).then(function(){\n",
       "                            \n",
       "var gd = document.getElementById('b2f3c1a5-ad27-4e93-a303-b3597a2a1b64');\n",
       "var x = new MutationObserver(function (mutations, observer) {{\n",
       "        var display = window.getComputedStyle(gd).display;\n",
       "        if (!display || display === 'none') {{\n",
       "            console.log([gd, 'removed!']);\n",
       "            Plotly.purge(gd);\n",
       "            observer.disconnect();\n",
       "        }}\n",
       "}});\n",
       "\n",
       "// Listen for the removal of the full notebook cells\n",
       "var notebookContainer = gd.closest('#notebook-container');\n",
       "if (notebookContainer) {{\n",
       "    x.observe(notebookContainer, {childList: true});\n",
       "}}\n",
       "\n",
       "// Listen for the clearing of the current output cell\n",
       "var outputEl = gd.closest('.output');\n",
       "if (outputEl) {{\n",
       "    x.observe(outputEl, {childList: true});\n",
       "}}\n",
       "\n",
       "                        })\n",
       "                };\n",
       "                });\n",
       "            </script>\n",
       "        </div>"
      ]
     },
     "metadata": {},
     "output_type": "display_data"
    }
   ],
   "source": [
    "plot_model(lda)"
   ]
  },
  {
   "cell_type": "code",
   "execution_count": 16,
   "metadata": {},
   "outputs": [
    {
     "data": {
      "text/html": [
       "        <script type=\"text/javascript\">\n",
       "        window.PlotlyConfig = {MathJaxConfig: 'local'};\n",
       "        if (window.MathJax) {MathJax.Hub.Config({SVG: {font: \"STIX-Web\"}});}\n",
       "        if (typeof require !== 'undefined') {\n",
       "        require.undef(\"plotly\");\n",
       "        requirejs.config({\n",
       "            paths: {\n",
       "                'plotly': ['https://cdn.plot.ly/plotly-latest.min']\n",
       "            }\n",
       "        });\n",
       "        require(['plotly'], function(Plotly) {\n",
       "            window._Plotly = Plotly;\n",
       "        });\n",
       "        }\n",
       "        </script>\n",
       "        "
      ]
     },
     "metadata": {},
     "output_type": "display_data"
    },
    {
     "data": {
      "application/vnd.plotly.v1+json": {
       "config": {
        "plotlyServerURL": "https://plot.ly"
       },
       "data": [
        {
         "hoverlabel": {
          "namelength": 0
         },
         "hovertemplate": "Dominant_Topic=Topic 0<br>0=%{x}<br>1=%{y}<br>2=%{z}",
         "legendgroup": "Dominant_Topic=Topic 0",
         "marker": {
          "color": "#636efa",
          "opacity": 0.7,
          "symbol": "circle"
         },
         "mode": "markers",
         "name": "Dominant_Topic=Topic 0",
         "scene": "scene",
         "showlegend": true,
         "type": "scatter3d",
         "x": [
          3.633030652999878,
          4.5877156257629395,
          4.026887893676758,
          4.610044956207275,
          4.203318119049072,
          4.5110859870910645,
          1.771423578262329,
          2.3697023391723633,
          2.2599337100982666,
          2.015852928161621,
          0.9851871728897095,
          4.404328346252441,
          3.089796543121338,
          3.7014410495758057,
          4.285826683044434,
          3.563509941101074,
          3.252544403076172,
          2.5785999298095703,
          3.0727901458740234,
          3.2282638549804688,
          3.9584481716156006,
          4.3556976318359375,
          4.205493450164795,
          4.448802471160889,
          3.715348243713379,
          4.2741804122924805,
          3.439340591430664,
          4.115922927856445,
          3.2559545040130615,
          3.8067898750305176,
          3.6700518131256104,
          4.603335857391357,
          4.469904899597168,
          3.3254103660583496,
          4.274874210357666,
          4.769059181213379,
          3.399991750717163,
          2.8003907203674316,
          3.915013551712036,
          3.0825374126434326,
          3.9223132133483887,
          3.55310320854187,
          4.0289306640625,
          3.7275161743164062,
          4.837360858917236,
          4.5381951332092285,
          4.363478660583496,
          4.148050308227539,
          1.0228506326675415,
          3.5407614707946777,
          4.526616096496582,
          3.6123502254486084,
          3.5074758529663086,
          3.4247114658355713,
          3.927950382232666,
          3.9472098350524902,
          1.050352931022644,
          3.63435697555542,
          4.528196811676025,
          3.351391553878784,
          3.4563047885894775,
          4.497661590576172,
          3.766307830810547,
          4.434914588928223,
          1.3517372608184814,
          3.769338369369507,
          4.538406848907471,
          4.530595779418945,
          4.342264652252197,
          3.1037940979003906,
          3.500969648361206,
          3.514958381652832,
          4.442852973937988,
          3.4797277450561523,
          2.0297276973724365,
          4.429032325744629,
          4.5049357414245605,
          4.373819828033447,
          4.3505144119262695,
          4.094708442687988,
          4.605403900146484,
          3.2997653484344482,
          4.521525859832764,
          4.100284576416016,
          3.3019280433654785,
          4.3406829833984375,
          4.961934566497803,
          4.582396984100342,
          3.907895565032959,
          2.4066929817199707,
          4.517980575561523,
          4.260502815246582,
          3.912025213241577,
          4.440996170043945,
          3.9061646461486816,
          3.768892526626587,
          4.696418762207031,
          4.478221893310547,
          4.259644985198975,
          3.7406208515167236,
          3.0639660358428955,
          4.81693696975708,
          4.492465019226074,
          4.862962245941162,
          3.9810917377471924,
          3.901702642440796,
          4.603203296661377,
          3.1820223331451416,
          4.555078506469727,
          3.2758219242095947,
          4.34433650970459,
          4.558772563934326,
          3.903721809387207,
          4.467946529388428,
          3.8257641792297363,
          3.9619479179382324,
          0.9384871125221252,
          3.805917739868164,
          4.045799255371094,
          4.760965347290039,
          3.4756758213043213,
          4.4210991859436035,
          4.1833086013793945,
          3.7648205757141113,
          3.130129098892212,
          3.1146152019500732,
          4.865078449249268,
          4.636302471160889,
          4.495794773101807,
          3.906928062438965,
          3.8640944957733154,
          3.385080099105835,
          4.678890228271484,
          2.57216739654541,
          3.7947521209716797,
          4.5326056480407715,
          4.517561912536621,
          2.962507963180542,
          4.612117290496826,
          4.565192699432373,
          1.8653985261917114,
          3.811758041381836,
          3.131052255630493,
          4.535893440246582,
          4.641035079956055,
          2.4148647785186768,
          3.811044931411743,
          3.499514102935791,
          4.085568904876709,
          4.417851448059082,
          1.1344337463378906,
          4.353203296661377,
          3.9073617458343506,
          4.50230598449707,
          4.631473064422607,
          3.9285061359405518,
          3.848017454147339,
          4.241478443145752,
          4.130663871765137,
          3.919649362564087,
          4.404086589813232,
          3.1844422817230225,
          3.3990800380706787,
          4.388549327850342,
          3.1241836547851562,
          4.467556953430176,
          3.0298213958740234,
          2.5736992359161377,
          3.9028522968292236,
          4.380202770233154,
          4.912912368774414,
          2.6414616107940674,
          3.1570277214050293,
          2.0387914180755615,
          3.2200400829315186,
          3.7681679725646973,
          4.08086633682251,
          4.227034091949463,
          3.998941421508789,
          4.2645368576049805,
          2.4300150871276855,
          2.6183626651763916,
          3.5562400817871094,
          0.38521841168403625,
          3.53442120552063,
          3.4956467151641846,
          3.2367899417877197,
          3.895205020904541,
          2.6264522075653076,
          4.441183567047119,
          4.134150981903076,
          2.2184958457946777,
          4.102872371673584,
          4.595625400543213,
          2.243201971054077,
          4.78275728225708,
          2.6992030143737793,
          4.445952892303467,
          3.938136100769043,
          4.115927219390869,
          4.3139824867248535,
          4.6564249992370605,
          4.5344648361206055,
          2.2460837364196777,
          3.9237747192382812,
          4.3585920333862305,
          3.7400176525115967,
          3.815169095993042,
          3.9084794521331787,
          2.7077088356018066,
          0.4891713261604309,
          3.500269651412964,
          4.4571099281311035,
          3.637338638305664,
          3.9924771785736084,
          4.4669318199157715,
          3.4781954288482666,
          3.5156757831573486,
          2.9605300426483154,
          1.9641002416610718,
          4.632818698883057,
          4.734249114990234,
          4.045670509338379,
          1.3997360467910767,
          3.732619524002075,
          3.621734619140625,
          4.512710094451904,
          4.664770603179932,
          3.816941261291504,
          3.810417652130127,
          4.499192237854004,
          4.370839595794678,
          2.524847984313965,
          4.51970911026001,
          4.616907119750977,
          4.538954734802246,
          4.223537921905518,
          4.427907466888428,
          1.053989291191101,
          4.763553142547607,
          3.535738468170166,
          3.23209285736084,
          3.6229984760284424,
          1.4847512245178223,
          4.080257892608643,
          3.1702938079833984,
          4.545665740966797,
          4.424469470977783,
          3.0084006786346436,
          4.850257873535156,
          4.290288925170898,
          3.9467685222625732,
          4.714505672454834,
          3.25211238861084,
          3.9286770820617676,
          4.566307067871094,
          4.286698341369629,
          4.3515825271606445,
          2.932400703430176,
          3.519605875015259,
          3.354093551635742,
          3.9625282287597656,
          3.567819595336914,
          4.547379493713379,
          3.9194676876068115,
          4.5668439865112305,
          4.640253067016602,
          4.113763809204102,
          3.996137857437134,
          3.8928887844085693,
          4.361504077911377,
          3.6307106018066406,
          1.0477378368377686,
          4.526384353637695,
          2.740320920944214,
          3.290184736251831,
          3.832904577255249
         ],
         "y": [
          1.1935052871704102,
          -3.4764204025268555,
          -4.819556713104248,
          1.4705301523208618,
          -4.6394500732421875,
          -3.0577824115753174,
          -5.759902477264404,
          -0.8908705115318298,
          -5.685483455657959,
          -3.8971099853515625,
          -1.6300734281539917,
          -3.9341604709625244,
          0.8065187931060791,
          2.7007482051849365,
          -0.6742854118347168,
          -8.09962272644043,
          -5.756162166595459,
          -4.192139625549316,
          -2.8542263507843018,
          -3.938746213912964,
          -7.438798427581787,
          -5.929706573486328,
          -5.837709903717041,
          -0.5270401835441589,
          2.3046364784240723,
          -5.516120433807373,
          1.4971425533294678,
          -6.519749164581299,
          -3.2813730239868164,
          -4.430037498474121,
          -6.939429759979248,
          -3.5953547954559326,
          -2.5973730087280273,
          -3.8335511684417725,
          -6.526931285858154,
          -1.229296326637268,
          -5.259902477264404,
          -6.186009883880615,
          -7.859436988830566,
          -3.76623797416687,
          -8.052313804626465,
          -8.019165992736816,
          -1.4751102924346924,
          -5.528846263885498,
          -1.0676002502441406,
          -3.16491436958313,
          -3.546966314315796,
          -6.13244104385376,
          -2.454350471496582,
          -7.959017753601074,
          -2.979956865310669,
          -3.6045234203338623,
          -8.022775650024414,
          -7.747598648071289,
          -7.384477138519287,
          -7.613505840301514,
          -2.503208875656128,
          -7.15864896774292,
          -3.12780499458313,
          -7.575618267059326,
          -2.3313546180725098,
          -3.301515817642212,
          -6.189948081970215,
          -4.396973133087158,
          -2.1387689113616943,
          -4.169722557067871,
          -3.91936993598938,
          -3.5585596561431885,
          -4.0417399406433105,
          -1.2529546022415161,
          -6.194797515869141,
          -7.863248348236084,
          -1.084816813468933,
          0.6286503672599792,
          -5.953190803527832,
          -5.353242874145508,
          -3.0380702018737793,
          -4.5448808670043945,
          -4.070339202880859,
          -6.31475830078125,
          -2.375622510910034,
          0.36063629388809204,
          -3.1690948009490967,
          -3.029041051864624,
          -1.951759696006775,
          -0.5199472904205322,
          -1.3286055326461792,
          -3.6871163845062256,
          -7.949777603149414,
          -5.9328107833862305,
          -1.1693668365478516,
          -5.1478271484375,
          -7.919449329376221,
          -3.066385507583618,
          -8.01836109161377,
          1.383144497871399,
          -0.4250833988189697,
          -2.4545159339904785,
          -6.515751838684082,
          -8.269025802612305,
          -1.3533964157104492,
          -0.7267882227897644,
          0.42752155661582947,
          -0.706298828125,
          -7.22654914855957,
          -7.961958408355713,
          -3.593778610229492,
          2.5163397789001465,
          -1.1395864486694336,
          -7.6150312423706055,
          -2.8236031532287598,
          -0.7565431594848633,
          -8.103326797485352,
          -4.207028865814209,
          -2.2572340965270996,
          -7.367326259613037,
          0.6327845454216003,
          -4.9740071296691895,
          -6.89409065246582,
          -0.36788758635520935,
          -2.7349393367767334,
          -2.5595040321350098,
          -1.1935256719589233,
          -4.462949752807617,
          -1.6650534868240356,
          1.8912394046783447,
          -0.7073594331741333,
          0.6351293325424194,
          -3.0049259662628174,
          -8.062003135681152,
          -8.306374549865723,
          1.7448114156723022,
          -3.120450258255005,
          -5.489016056060791,
          -8.288748741149902,
          -3.156660318374634,
          -3.8228602409362793,
          -5.957282543182373,
          -0.17349472641944885,
          -0.618450939655304,
          -3.7247297763824463,
          2.2393953800201416,
          -0.9458828568458557,
          0.7217066884040833,
          -2.9938502311706543,
          -5.989746570587158,
          -8.28213119506836,
          -7.633681774139404,
          -3.6708672046661377,
          -3.5501365661621094,
          -1.2175027132034302,
          -3.9936680793762207,
          -5.151581287384033,
          -2.943025827407837,
          0.6792973875999451,
          -7.715454578399658,
          -5.250784873962402,
          -0.503050684928894,
          -6.416252613067627,
          -7.8443074226379395,
          -4.714033126831055,
          -3.3143911361694336,
          -7.4918437004089355,
          -3.2789220809936523,
          -6.918787479400635,
          -2.668224811553955,
          -3.103215456008911,
          -0.6599587798118591,
          -5.126096248626709,
          -4.847569942474365,
          -0.94456547498703,
          -5.724832534790039,
          -6.952584743499756,
          -3.8694868087768555,
          -2.3544957637786865,
          -6.779916286468506,
          -6.792394638061523,
          -5.506895065307617,
          -7.192601680755615,
          -5.588471412658691,
          -5.17758321762085,
          -5.691593647003174,
          -7.797787189483643,
          -2.0735113620758057,
          -1.1461706161499023,
          2.483304500579834,
          -0.33049020171165466,
          -7.996728420257568,
          -0.6549510955810547,
          -2.778372287750244,
          -3.8542771339416504,
          -6.123738765716553,
          -4.32885217666626,
          -0.43854206800460815,
          -5.943263530731201,
          -3.034393787384033,
          -5.965975761413574,
          -3.4712841510772705,
          -7.623683452606201,
          -6.535823345184326,
          -6.220619201660156,
          -0.016472600400447845,
          -2.8160784244537354,
          -5.201671600341797,
          -7.865895748138428,
          -3.6529459953308105,
          -6.711511611938477,
          -5.105963230133057,
          -7.893490314483643,
          -5.917086601257324,
          -2.1379947662353516,
          -7.8378119468688965,
          -4.391177654266357,
          -5.582389831542969,
          -7.135681629180908,
          -3.918776035308838,
          -7.794037818908691,
          -7.844252586364746,
          -6.4806413650512695,
          -2.9605071544647217,
          -3.731701612472534,
          -0.68434077501297,
          -7.183065414428711,
          -3.5547680854797363,
          -8.23297119140625,
          -8.176803588867188,
          -2.6620068550109863,
          -3.6147563457489014,
          -8.180107116699219,
          -8.300458908081055,
          -4.535255432128906,
          -5.919744491577148,
          -5.219430923461914,
          -3.5798416137695312,
          -2.834669828414917,
          -2.4710402488708496,
          -6.693687438964844,
          -4.244922637939453,
          -2.50657057762146,
          -2.7786314487457275,
          -7.5088372230529785,
          1.4880754947662354,
          -4.5108513832092285,
          -3.6214683055877686,
          -6.73694372177124,
          -3.4540369510650635,
          -2.8061161041259766,
          -4.477425575256348,
          -6.593926429748535,
          -0.570366621017456,
          -6.006331443786621,
          -7.534555435180664,
          -1.3671385049819946,
          -6.561718940734863,
          -7.7157158851623535,
          -0.981300950050354,
          -4.54286527633667,
          -4.275012969970703,
          -6.435556888580322,
          -7.9100751876831055,
          -3.562631607055664,
          -7.894437313079834,
          -8.013543128967285,
          4.289221286773682,
          -8.003339767456055,
          -1.588019847869873,
          0.530701756477356,
          -6.581701278686523,
          -0.9335688948631287,
          -8.237817764282227,
          -3.741241693496704,
          -7.786627292633057,
          -2.512539863586426,
          -4.184864044189453,
          -6.043788909912109,
          -7.104207515716553,
          -8.294357299804688
         ],
         "z": [
          7.323667049407959,
          8.272290229797363,
          7.675723075866699,
          10.986906051635742,
          15.90895938873291,
          12.398472785949707,
          5.9451823234558105,
          6.116261005401611,
          13.080557823181152,
          9.649827003479004,
          6.886312484741211,
          7.636171340942383,
          5.548168659210205,
          7.601561546325684,
          9.269105911254883,
          8.021293640136719,
          4.950440406799316,
          9.248543739318848,
          3.9402966499328613,
          12.859328269958496,
          14.769875526428223,
          10.55593490600586,
          16.264406204223633,
          9.366401672363281,
          7.5523152351379395,
          16.570171356201172,
          6.593927383422852,
          15.958064079284668,
          4.149232387542725,
          5.441511631011963,
          14.30583381652832,
          17.72700309753418,
          14.428363800048828,
          13.375704765319824,
          11.098061561584473,
          8.561714172363281,
          4.9335174560546875,
          4.085893154144287,
          13.80400276184082,
          3.8331077098846436,
          11.36909008026123,
          7.913136959075928,
          7.789040565490723,
          5.9734673500061035,
          9.32983684539795,
          16.300838470458984,
          14.352356910705566,
          15.960875511169434,
          9.488469123840332,
          7.794779300689697,
          15.858314514160156,
          12.414105415344238,
          7.588744163513184,
          6.994480133056641,
          14.473566055297852,
          14.604815483093262,
          9.7510986328125,
          7.667034149169922,
          12.124032974243164,
          6.5810651779174805,
          7.974481105804443,
          16.059080123901367,
          6.875601291656494,
          16.877931594848633,
          7.780400276184082,
          9.021576881408691,
          9.145695686340332,
          11.45002555847168,
          7.408530235290527,
          12.429790496826172,
          8.355325698852539,
          9.50133228302002,
          12.81302261352539,
          6.2739973068237305,
          5.776832103729248,
          10.549476623535156,
          12.50401782989502,
          16.522411346435547,
          13.818497657775879,
          15.633199691772461,
          7.847570896148682,
          5.8599138259887695,
          16.09432601928711,
          7.911869049072266,
          4.789751052856445,
          9.522358894348145,
          9.507909774780273,
          17.6118221282959,
          13.204336166381836,
          5.472253799438477,
          13.011706352233887,
          13.697436332702637,
          12.984682083129883,
          14.846213340759277,
          11.921562194824219,
          7.627588272094727,
          11.348411560058594,
          13.8860445022583,
          10.723898887634277,
          9.348559379577637,
          8.928438186645508,
          8.998617172241211,
          9.90691089630127,
          9.404498100280762,
          14.790205001831055,
          12.963520050048828,
          17.7231502532959,
          6.60326623916626,
          13.882994651794434,
          9.7598237991333,
          13.055815696716309,
          12.453856468200684,
          11.353143692016602,
          9.241241455078125,
          8.01743221282959,
          14.866613388061523,
          6.496701240539551,
          5.75274133682251,
          15.557329177856445,
          10.63528823852539,
          4.763638973236084,
          12.8643159866333,
          7.123221397399902,
          5.359480381011963,
          4.619505882263184,
          6.458924293518066,
          10.129952430725098,
          11.16877555847168,
          15.501585006713867,
          11.301491737365723,
          10.754310607910156,
          6.773447036743164,
          8.459052085876465,
          3.334599018096924,
          9.889695167541504,
          7.5770769119262695,
          11.488715171813965,
          4.492454528808594,
          11.453146934509277,
          8.160937309265137,
          9.060450553894043,
          7.742079734802246,
          5.097280502319336,
          10.203104019165039,
          8.202422142028809,
          4.585999965667725,
          10.058503150939941,
          13.125713348388672,
          11.361021041870117,
          15.443449974060059,
          6.445940971374512,
          10.24649429321289,
          8.031667709350586,
          12.717516899108887,
          11.112154960632324,
          14.211996078491211,
          6.1121320724487305,
          9.34912109375,
          14.021347045898438,
          10.733054161071777,
          16.943227767944336,
          4.018111228942871,
          6.699841022491455,
          14.32535457611084,
          5.400308609008789,
          13.643266677856445,
          3.7989418506622314,
          6.072290897369385,
          6.190200328826904,
          16.87082290649414,
          9.400177001953125,
          3.5586142539978027,
          5.552334785461426,
          9.96919059753418,
          4.403380870819092,
          8.009391784667969,
          15.802179336547852,
          16.189697265625,
          15.272998809814453,
          16.54706573486328,
          3.071397066116333,
          3.4856386184692383,
          7.797245502471924,
          7.16265869140625,
          12.547222137451172,
          7.274522304534912,
          5.570249080657959,
          12.503011703491211,
          5.694952964782715,
          14.457327842712402,
          6.209073543548584,
          12.913412094116211,
          6.3198676109313965,
          12.461036682128906,
          13.07153034210205,
          9.129528999328613,
          3.758244752883911,
          12.972919464111328,
          14.445069313049316,
          15.96299934387207,
          12.559282302856445,
          11.46151351928711,
          7.604009628295898,
          3.3000082969665527,
          13.900233268737793,
          14.482428550720215,
          7.755063533782959,
          5.87105655670166,
          13.541248321533203,
          3.780836582183838,
          7.184179306030273,
          7.429356575012207,
          17.09827995300293,
          5.773654937744141,
          15.201776504516602,
          16.572114944458008,
          7.259141445159912,
          7.528663635253906,
          4.679620265960693,
          8.294161796569824,
          9.629294395446777,
          8.592690467834473,
          13.785690307617188,
          8.523311614990234,
          9.376143455505371,
          8.479059219360352,
          15.149524688720703,
          9.621124267578125,
          10.161907196044922,
          10.06696605682373,
          10.385392189025879,
          10.714201927185059,
          3.169978380203247,
          11.601831436157227,
          11.823251724243164,
          7.502366065979004,
          12.509315490722656,
          16.626562118530273,
          9.832738876342773,
          8.6626558303833,
          7.3024468421936035,
          6.434606552124023,
          5.066463947296143,
          8.655978202819824,
          15.78138256072998,
          3.9767367839813232,
          7.515073299407959,
          16.975439071655273,
          4.889312744140625,
          9.580912590026855,
          13.101822853088379,
          14.74626350402832,
          8.346695899963379,
          8.575583457946777,
          14.212370872497559,
          13.476008415222168,
          13.280949592590332,
          8.074482917785645,
          4.577138900756836,
          9.156362533569336,
          4.326426982879639,
          11.108046531677246,
          9.01455307006836,
          9.422484397888184,
          11.340970039367676,
          12.474142074584961,
          11.184164047241211,
          15.970528602600098,
          6.845922470092773,
          11.585693359375,
          14.841667175292969,
          11.213762283325195,
          9.644566535949707,
          10.518474578857422,
          3.8942182064056396,
          14.088743209838867,
          10.3822660446167
         ]
        },
        {
         "hoverlabel": {
          "namelength": 0
         },
         "hovertemplate": "Dominant_Topic=Topic 1<br>0=%{x}<br>1=%{y}<br>2=%{z}",
         "legendgroup": "Dominant_Topic=Topic 1",
         "marker": {
          "color": "#EF553B",
          "opacity": 0.7,
          "symbol": "circle"
         },
         "mode": "markers",
         "name": "Dominant_Topic=Topic 1",
         "scene": "scene",
         "showlegend": true,
         "type": "scatter3d",
         "x": [
          -7.94115686416626,
          -0.0052117956802248955,
          2.5846121311187744,
          -3.642270803451538,
          1.2706029415130615,
          -4.25941801071167,
          -5.890722274780273,
          0.36300113797187805,
          -1.3338645696640015,
          -4.22210168838501,
          -5.194832801818848,
          -3.3071117401123047,
          -1.4556809663772583,
          -1.4632346630096436,
          -1.2218166589736938,
          -6.844659328460693,
          -7.55720853805542,
          -3.8139560222625732,
          2.122553825378418,
          -2.6891255378723145,
          -1.1932085752487183,
          -3.5620174407958984,
          -5.50067138671875,
          0.3529263138771057,
          -7.904808044433594,
          1.014156460762024,
          -0.38149186968803406,
          -5.8329949378967285,
          -1.995658278465271,
          -1.1701765060424805,
          0.4219805598258972,
          -1.8528562784194946,
          -6.100635528564453,
          -3.7527883052825928,
          -1.5070351362228394,
          1.9017046689987183,
          4.797907829284668,
          -1.9627559185028076,
          -7.3174357414245605,
          0.8717753887176514,
          1.7003947496414185,
          -5.013935565948486,
          0.8851441740989685,
          0.9892637133598328,
          -4.277068614959717,
          0.7482582330703735,
          -0.9006216526031494,
          -2.253842353820801,
          2.3236351013183594,
          2.3236405849456787,
          -0.8945019245147705,
          -0.6015254855155945,
          -1.5808026790618896,
          -7.890764236450195,
          1.608237862586975,
          -3.4689059257507324,
          -2.8525400161743164,
          -2.472317695617676,
          -6.4090094566345215,
          -4.02437686920166,
          -2.1850149631500244,
          0.2176450937986374,
          -6.7906904220581055,
          -1.6775777339935303,
          2.342298746109009,
          -5.178661823272705,
          -5.159592151641846,
          0.17155829071998596,
          -6.038234710693359,
          -0.7529803514480591,
          0.3032575249671936,
          -2.885758876800537,
          -3.920633316040039,
          1.2103545665740967,
          -7.027923107147217,
          -1.8783844709396362,
          -3.42689847946167,
          -3.4668519496917725,
          -1.0610963106155396,
          -1.432357668876648,
          1.0966870784759521,
          -5.6151275634765625,
          -5.054836273193359,
          -2.5114452838897705,
          -3.836683750152588,
          -3.070274591445923,
          -5.3010711669921875,
          1.7534255981445312,
          -1.1008363962173462,
          0.5779191255569458,
          -4.067863464355469,
          -1.705134391784668,
          -3.717066764831543,
          -2.9721410274505615,
          -3.6231842041015625,
          -7.772497177124023,
          3.4191370010375977,
          -2.52647066116333,
          0.5981011390686035,
          -5.578208923339844,
          -3.4991538524627686,
          5.02239465713501,
          1.7498128414154053,
          -6.532235145568848,
          -7.454747200012207,
          -0.053691472858190536,
          -1.174300193786621,
          -3.7708868980407715,
          -7.919919490814209,
          -5.262755870819092,
          -0.4804970920085907,
          2.3717548847198486,
          -0.16041681170463562,
          -0.252291202545166,
          -3.269989490509033,
          -0.2903868854045868,
          -1.4323941469192505,
          1.5749410390853882,
          0.3153418302536011,
          -1.6525394916534424,
          4.627086162567139,
          -0.2202160358428955,
          -7.637465953826904,
          0.7008758783340454,
          0.1163966953754425,
          -7.511300086975098,
          -0.30294540524482727,
          -0.18624091148376465,
          -2.033473253250122,
          -1.6084154844284058,
          -0.2837614417076111,
          -7.773268699645996,
          0.029705408960580826,
          0.900288462638855,
          2.355499267578125,
          -7.798259258270264,
          -2.096674680709839,
          0.3248460292816162,
          1.947871446609497,
          -3.609416961669922,
          -3.1242189407348633,
          0.0797487273812294,
          -1.1205666065216064,
          -2.379213809967041,
          -6.204397201538086,
          -1.9133005142211914,
          -6.177272319793701,
          -7.099005222320557,
          -7.5468525886535645,
          -1.758091688156128,
          -0.9470146894454956,
          0.7388126850128174,
          -3.2955050468444824,
          -6.0786237716674805,
          1.650296926498413,
          -5.548341751098633,
          1.895316243171692,
          -2.9239790439605713,
          1.4906764030456543,
          4.201179027557373,
          0.9369388818740845,
          -5.825854778289795,
          -6.873534202575684,
          2.677424907684326,
          1.3934298753738403,
          0.10886023193597794,
          -1.5456593036651611,
          0.009445242583751678,
          -3.7074077129364014,
          1.6042795181274414,
          -2.3564088344573975,
          -1.2759952545166016,
          -6.810418128967285,
          -0.9540477991104126,
          1.8111963272094727,
          -0.004239524714648724,
          -1.5862047672271729,
          -6.37697696685791,
          -1.450144648551941,
          3.0879275798797607,
          -7.802783966064453,
          -0.5453720688819885,
          -7.774062156677246,
          2.502497911453247,
          0.6254749298095703,
          -3.7922370433807373,
          -0.35720545053482056,
          -2.004547119140625,
          1.5432409048080444,
          -1.583992838859558,
          -3.430098533630371,
          -1.3775862455368042,
          -4.212108135223389,
          1.4532817602157593,
          -6.916723728179932,
          -3.509124994277954,
          0.8364763259887695,
          -1.9295989274978638,
          0.01810934767127037,
          -7.989025115966797,
          0.8761128187179565,
          -0.8756198287010193,
          -4.298381328582764,
          -2.6666665077209473,
          0.5706425905227661,
          -5.3693718910217285,
          2.0680298805236816,
          -0.9234884977340698,
          -6.617949485778809,
          1.3442646265029907,
          -5.2915472984313965,
          -1.7716418504714966,
          2.7445297241210938,
          -0.2144322395324707,
          -0.03343389183282852,
          -3.6578569412231445,
          -3.729799509048462,
          -7.371612548828125,
          -0.7398534417152405,
          -1.6230863332748413,
          5.076948165893555,
          -3.973231077194214,
          4.712535858154297,
          -7.959299087524414,
          0.9829570651054382,
          -4.85247278213501,
          -3.667795181274414,
          -0.2124834507703781,
          -0.07432789355516434,
          -2.4523050785064697,
          -1.7573421001434326,
          -5.216527462005615,
          0.8708016276359558,
          -6.393150329589844,
          0.6887660026550293,
          4.429017066955566,
          -8.051741600036621,
          2.9166128635406494,
          -5.539758682250977,
          -7.478091239929199,
          -1.92009437084198,
          0.738267719745636,
          -4.594978332519531,
          -5.612751007080078,
          2.5561935901641846,
          -2.066476821899414,
          -8.00947093963623,
          -1.5147842168807983,
          -3.311366319656372,
          -1.5463593006134033,
          1.1959247589111328,
          -6.076839447021484,
          -8.066908836364746,
          -1.4110602140426636,
          0.03605631738901138,
          1.0896108150482178,
          -4.654140472412109,
          -6.691844940185547,
          1.557117223739624,
          -1.9299944639205933,
          0.750689685344696,
          1.3761991262435913,
          2.4188883304595947,
          -0.5291486978530884,
          2.968320369720459,
          -6.095461845397949,
          2.356435775756836,
          -1.155807614326477,
          -1.4061247110366821,
          -0.05561928078532219,
          -0.3023096024990082,
          2.5364644527435303,
          5.095938205718994,
          -3.9647533893585205,
          -0.26705607771873474,
          -5.004394054412842,
          -1.8564436435699463,
          -3.816493272781372,
          -7.149764537811279,
          -0.7653424143791199,
          -5.91257381439209,
          -5.108837127685547,
          -3.3835668563842773,
          -2.1869943141937256,
          -5.304196834564209,
          -1.6068739891052246,
          0.37309530377388,
          -7.982397556304932,
          -6.609567642211914,
          1.0279165506362915,
          -0.33793479204177856,
          -7.455438613891602,
          -4.160484790802002,
          -4.8327484130859375,
          2.600865602493286,
          5.384870529174805,
          0.5734357833862305,
          -0.7177938222885132,
          1.150478720664978,
          4.228313446044922,
          -0.20894594490528107,
          -0.5236900448799133,
          -3.334023952484131,
          -1.4191303253173828,
          -0.1858479529619217,
          -5.717112064361572,
          -5.875542640686035,
          -4.022218227386475,
          -1.5373929738998413,
          0.40910422801971436,
          -2.0095317363739014,
          0.9443697929382324,
          -5.7448506355285645,
          -0.21856912970542908,
          -1.8541041612625122,
          -1.849294662475586,
          -7.8390727043151855,
          -7.328514099121094,
          -1.1018345355987549,
          -8.11056900024414,
          5.386256217956543,
          -0.3537448048591614,
          -2.1801908016204834,
          1.2453391551971436,
          -4.4001145362854,
          -0.514562726020813,
          -1.4280500411987305,
          -6.065094947814941,
          2.314746141433716,
          -2.468411684036255,
          -2.352874755859375,
          4.904620170593262,
          -7.577846527099609,
          1.6161878108978271,
          -5.764609336853027,
          -5.579220771789551,
          -7.604083061218262,
          -0.985474169254303,
          -7.076655864715576,
          -0.4826882779598236,
          -6.683858394622803,
          -6.495422840118408,
          -7.5364251136779785,
          -4.690825462341309,
          -1.0714539289474487,
          -0.4684319496154785,
          -2.1026647090911865,
          -7.995482921600342,
          -7.049113750457764,
          -7.44102144241333,
          -1.357479214668274,
          -1.2829101085662842,
          0.6019086241722107,
          2.419942855834961,
          -6.804116725921631,
          -0.8274224400520325,
          1.5154950618743896,
          -3.616450309753418,
          -5.784093379974365,
          -4.682799816131592,
          1.7169225215911865,
          -5.942267417907715,
          -7.8427605628967285,
          0.5211363434791565,
          -1.427366852760315,
          -5.420969486236572,
          -1.9087762832641602,
          -3.0961101055145264,
          0.9507864117622375,
          -3.5578255653381348,
          -7.850866317749023,
          0.5900917053222656,
          -7.722838878631592,
          -0.3957502841949463,
          -3.9361929893493652,
          -2.860241174697876,
          -6.2184858322143555,
          -6.507040977478027,
          -1.3843653202056885,
          -7.3948893547058105,
          0.5004039406776428,
          0.9211189150810242,
          1.5987274646759033,
          1.2055786848068237,
          -1.4255075454711914,
          -1.2223385572433472,
          2.4168431758880615,
          -0.7541971802711487,
          -8.000190734863281,
          -2.8003671169281006,
          -4.166458606719971,
          -2.5985684394836426,
          -0.5954615473747253,
          -4.928678035736084,
          -3.0819308757781982,
          -0.7806898355484009,
          0.5619514584541321,
          2.0546774864196777,
          -2.0918571949005127,
          2.0113253593444824,
          2.7877495288848877,
          2.064082384109497,
          -7.984109878540039,
          -7.3207244873046875,
          1.9593889713287354,
          1.438759446144104,
          2.165118455886841,
          2.3923370838165283,
          -0.4708884358406067,
          -2.556135416030884,
          -4.0255208015441895,
          -3.0375781059265137,
          4.25789213180542,
          0.32028928399086,
          -1.6406160593032837,
          2.3355438709259033,
          0.5905222296714783,
          2.032834529876709,
          3.2467281818389893,
          -1.0341863632202148,
          2.1554174423217773,
          3.4646570682525635,
          -3.012996196746826,
          -7.846585273742676,
          -3.315073251724243,
          0.8687478303909302,
          -1.6909233331680298,
          -1.5533899068832397,
          1.6727421283721924,
          -4.206707954406738,
          0.09270701557397842,
          1.79008150100708,
          -7.975950717926025,
          0.8106106519699097,
          -1.5967586040496826,
          -2.5985875129699707,
          -5.001524925231934,
          -5.132509708404541,
          2.492025136947632,
          0.02443554624915123,
          1.603334903717041,
          -2.0245330333709717,
          3.703939199447632,
          -5.031228065490723,
          -2.999823808670044,
          0.0011020253878086805,
          1.1559373140335083,
          -0.4317418038845062,
          2.3253047466278076,
          -2.2430622577667236,
          3.8277523517608643,
          -8.071430206298828,
          1.047020435333252,
          0.3194659650325775,
          0.5900223851203918,
          4.7707319259643555,
          -1.1874090433120728,
          1.5671168565750122,
          -6.708011150360107,
          1.0679466724395752,
          -4.08048152923584,
          0.504455029964447,
          2.0777134895324707,
          -3.3953943252563477,
          0.6367282867431641,
          -6.264145851135254,
          -1.9221512079238892,
          1.5649560689926147,
          1.4298418760299683,
          2.587348699569702,
          -5.620098114013672,
          -2.0902504920959473,
          -0.9784575700759888,
          -7.152744293212891,
          1.2496075630187988,
          1.6663707494735718,
          -5.827499866485596,
          -0.9821258783340454,
          -0.28208136558532715,
          -1.993998646736145,
          1.1220946311950684,
          -2.034247875213623,
          -0.2643822729587555,
          -4.553980827331543,
          0.31449612975120544,
          -1.4631836414337158,
          0.8414658904075623,
          -2.2981815338134766,
          0.14387786388397217,
          -0.597418487071991,
          1.3449532985687256,
          -5.4750590324401855,
          3.751575231552124,
          3.9495418071746826,
          -0.47344970703125,
          -1.2376571893692017,
          -1.5972881317138672,
          -2.052428722381592,
          -5.523507595062256,
          1.2636806964874268,
          1.1731956005096436,
          -6.534177303314209,
          0.4145025908946991,
          2.6022796630859375,
          0.6791552901268005,
          -2.0040762424468994,
          -3.854678153991699,
          3.6421523094177246,
          2.2292089462280273,
          0.8105750679969788,
          -6.147249698638916,
          0.2417965680360794,
          -4.144539833068848,
          -3.583522319793701,
          2.9854578971862793,
          0.7624030709266663,
          0.08484659343957901,
          -2.064807176589966,
          -0.735037088394165,
          1.674838662147522,
          -6.82301139831543,
          -1.9533298015594482,
          -6.175493240356445,
          -4.227785587310791,
          -7.921395778656006,
          -0.9336737990379333,
          -0.35956302285194397,
          -6.025592803955078,
          -2.2491848468780518,
          -3.986821413040161,
          -0.3102686405181885,
          -3.33687686920166,
          -1.2919137477874756,
          1.9685618877410889,
          -1.0492266416549683,
          0.342111200094223,
          -0.16108247637748718,
          -1.8720375299453735,
          1.8327304124832153,
          0.6723163723945618,
          -1.8171604871749878,
          -0.028504956513643265,
          2.2882070541381836,
          -1.7129448652267456,
          2.8383748531341553,
          -8.030563354492188,
          -3.1243627071380615,
          -0.5873113870620728,
          -4.304234981536865,
          -6.881873607635498,
          -5.026500225067139,
          -6.058558464050293,
          -5.788866996765137,
          -8.029451370239258,
          0.8392442464828491,
          -8.028926849365234,
          -4.32347297668457,
          -2.7349514961242676,
          1.86882746219635,
          -3.2962591648101807,
          2.980835199356079,
          1.4986859560012817,
          1.7945971488952637,
          1.7763068675994873,
          -6.959832191467285,
          -6.795751571655273,
          0.3051127791404724,
          -8.05399227142334,
          0.12620675563812256,
          -7.948602676391602,
          0.8742343187332153,
          -1.2632725238800049,
          -0.7349844574928284,
          -3.3998639583587646,
          -0.14718110859394073,
          -1.4763540029525757,
          -1.6543495655059814,
          1.5893539190292358,
          -0.4895651340484619,
          1.316701889038086,
          -2.5976648330688477,
          -3.5975654125213623,
          -4.589390754699707,
          -0.07239207625389099,
          -1.2001885175704956,
          -8.06086540222168,
          -4.460102558135986,
          -6.916287422180176,
          0.3858813941478729,
          -7.287796497344971,
          -2.025165319442749,
          -6.05615758895874,
          1.239048957824707,
          -4.407906532287598,
          -0.4597324728965759,
          -5.8251800537109375,
          -2.874159336090088,
          -1.9825396537780762,
          -7.743002414703369,
          -0.820894718170166,
          -1.7697699069976807,
          -2.682981014251709,
          -4.6867289543151855,
          -0.1672631949186325,
          -5.154219150543213,
          0.845292329788208,
          -0.8700017333030701,
          -3.7477262020111084,
          -7.014155387878418
         ],
         "y": [
          1.6048942804336548,
          5.634375095367432,
          -6.333885669708252,
          2.646899938583374,
          4.612203121185303,
          4.881326675415039,
          0.037226077169179916,
          2.6412367820739746,
          -2.776383638381958,
          5.0671067237854,
          3.2495062351226807,
          -4.319432258605957,
          -2.7725753784179688,
          4.950099468231201,
          0.8432828187942505,
          -0.25993481278419495,
          -1.1075712442398071,
          -2.5537214279174805,
          4.756935119628906,
          6.207127094268799,
          6.388759136199951,
          3.503926992416382,
          5.315451145172119,
          3.8333029747009277,
          1.7099326848983765,
          5.251338481903076,
          -1.0180320739746094,
          -3.7559144496917725,
          -4.149151802062988,
          5.370054721832275,
          -2.0657670497894287,
          5.2499775886535645,
          5.179879665374756,
          -0.6185063123703003,
          -0.5108699798583984,
          -6.294671058654785,
          -7.044851303100586,
          -3.8650548458099365,
          -1.6561079025268555,
          -0.4887283742427826,
          -6.169528007507324,
          0.9526365995407104,
          4.432450771331787,
          2.7836601734161377,
          4.856365203857422,
          5.546537399291992,
          5.475883960723877,
          5.437049388885498,
          4.213347434997559,
          4.213352680206299,
          -2.0481011867523193,
          -1.6293326616287231,
          -1.756954312324524,
          1.646939992904663,
          3.7108395099639893,
          -1.6613857746124268,
          4.380621433258057,
          -3.824476957321167,
          -2.997429132461548,
          4.913206100463867,
          6.5356669425964355,
          1.0276294946670532,
          2.500957727432251,
          -3.3860526084899902,
          -2.3490381240844727,
          -4.08280611038208,
          5.462953567504883,
          -2.0575411319732666,
          -3.431525230407715,
          7.317548751831055,
          -0.8526188135147095,
          1.5896854400634766,
          -0.05971762537956238,
          -2.9739081859588623,
          -1.9212359189987183,
          6.3646769523620605,
          1.0641429424285889,
          -1.4931660890579224,
          -4.983367443084717,
          -1.0071669816970825,
          5.426451683044434,
          -3.8007078170776367,
          -4.183852195739746,
          4.537739276885986,
          5.9835734367370605,
          6.355161190032959,
          5.361293315887451,
          -5.908812999725342,
          4.612371921539307,
          0.5073885321617126,
          5.793890953063965,
          5.367893695831299,
          -0.6674498319625854,
          6.3563103675842285,
          -4.905021667480469,
          -0.1210712119936943,
          -6.670551776885986,
          -3.871722459793091,
          3.246645927429199,
          5.498786449432373,
          6.158041954040527,
          -7.190803527832031,
          -5.877399921417236,
          -0.19715189933776855,
          -0.710940957069397,
          -5.361755847930908,
          0.44623997807502747,
          5.808590888977051,
          0.9798926115036011,
          -4.188933372497559,
          0.36719444394111633,
          -6.0104756355285645,
          -1.3384448289871216,
          1.6266523599624634,
          2.745206117630005,
          1.8298932313919067,
          -3.0716769695281982,
          5.109371185302734,
          -0.6768160462379456,
          -3.2531161308288574,
          -7.264143943786621,
          -0.49522894620895386,
          -1.1648361682891846,
          2.0671005249023438,
          -5.459291458129883,
          -1.1469417810440063,
          -0.3643692433834076,
          -0.781116783618927,
          5.515554428100586,
          -4.738039493560791,
          6.262175559997559,
          1.9191834926605225,
          -5.386004447937012,
          5.560806751251221,
          -2.8185603618621826,
          2.3246278762817383,
          4.565112590789795,
          -1.7822520732879639,
          3.879521608352661,
          -2.825840711593628,
          -2.425722360610962,
          -1.5739572048187256,
          0.5984491109848022,
          -2.2630155086517334,
          4.608112812042236,
          -1.4125157594680786,
          4.27639627456665,
          4.343809604644775,
          -1.126922607421875,
          6.388171195983887,
          1.732835054397583,
          3.0771427154541016,
          1.608399748802185,
          3.0503149032592773,
          2.5096817016601562,
          4.0941853523254395,
          1.4064654111862183,
          1.552944302558899,
          3.600043773651123,
          -7.099283695220947,
          3.275130271911621,
          -3.470280647277832,
          -2.3696956634521484,
          -6.229058742523193,
          4.478718280792236,
          3.817322254180908,
          -2.8382694721221924,
          2.1666767597198486,
          -2.59613037109375,
          -3.5450239181518555,
          -3.9777677059173584,
          4.035320281982422,
          4.6415534019470215,
          -0.575015664100647,
          0.6450613141059875,
          -1.6850427389144897,
          -3.2443902492523193,
          -2.9726364612579346,
          0.4182160794734955,
          -6.5630083084106445,
          -0.732330322265625,
          0.1923922598361969,
          1.2398301362991333,
          4.550955295562744,
          0.5264581441879272,
          5.135415077209473,
          0.9953106641769409,
          -4.254118919372559,
          -3.382704019546509,
          -4.627348899841309,
          1.7551865577697754,
          4.3073649406433105,
          0.7406690716743469,
          -3.2839231491088867,
          1.0658942461013794,
          -1.371559977531433,
          5.284963130950928,
          4.543212413787842,
          5.70839262008667,
          1.0014595985412598,
          -5.736133575439453,
          -1.7995213270187378,
          -4.657936096191406,
          6.0911359786987305,
          2.9744372367858887,
          -4.118776321411133,
          3.1176488399505615,
          1.5339808464050293,
          3.851928234100342,
          -6.011099338531494,
          4.451236724853516,
          -0.19690342247486115,
          -6.311753273010254,
          1.4776073694229126,
          -5.362045764923096,
          5.81594705581665,
          2.296886682510376,
          3.4811418056488037,
          5.4162726402282715,
          -4.853693962097168,
          -7.327854156494141,
          -1.1901094913482666,
          -6.919710159301758,
          0.7875940799713135,
          5.56117582321167,
          5.29853630065918,
          -2.756045341491699,
          -1.5880060195922852,
          -1.0918992757797241,
          -0.7571255564689636,
          2.6315526962280273,
          -1.9437999725341797,
          1.496115803718567,
          2.4622960090637207,
          -5.656060695648193,
          -6.865517616271973,
          1.7052967548370361,
          0.3660206198692322,
          -1.980002522468567,
          3.3879244327545166,
          -3.2279281616210938,
          3.0599286556243896,
          2.8179445266723633,
          4.719938278198242,
          4.564695358276367,
          -4.228947639465332,
          -0.5925777554512024,
          -0.8768152594566345,
          2.3465731143951416,
          -3.2362279891967773,
          4.274595260620117,
          -4.028392314910889,
          0.22825047373771667,
          -1.0652987957000732,
          2.153352975845337,
          2.872410535812378,
          1.153241515159607,
          2.3603763580322266,
          3.684659719467163,
          4.903537273406982,
          5.574448108673096,
          -0.4512181878089905,
          -6.574646949768066,
          -0.5798860192298889,
          0.13190416991710663,
          0.9975466132164001,
          -6.01923131942749,
          -2.208554744720459,
          -4.766476154327393,
          1.9677040576934814,
          1.4297627210617065,
          -6.458621025085449,
          -7.424330711364746,
          2.239374876022339,
          1.5216608047485352,
          3.26627254486084,
          -4.3728485107421875,
          -1.3983181715011597,
          4.336909294128418,
          -1.02830970287323,
          -3.5537595748901367,
          -1.9059345722198486,
          -1.275890588760376,
          0.7885149121284485,
          1.6106477975845337,
          -4.029604434967041,
          3.684765100479126,
          0.752414345741272,
          -2.7142908573150635,
          0.8021315336227417,
          0.5823180675506592,
          -1.4414429664611816,
          5.776196002960205,
          5.416037082672119,
          -6.514928817749023,
          -7.511730194091797,
          1.4880985021591187,
          -1.6427533626556396,
          -2.8937182426452637,
          -6.828319549560547,
          2.3503947257995605,
          5.227745532989502,
          -3.315735101699829,
          -3.0105655193328857,
          -0.7359749674797058,
          4.488636016845703,
          3.396993637084961,
          5.829629898071289,
          -4.640369892120361,
          -0.8993674516677856,
          -3.9965622425079346,
          -2.6257970333099365,
          -1.8586188554763794,
          5.297365665435791,
          0.7457908391952515,
          6.395696640014648,
          -0.7770709991455078,
          1.8342539072036743,
          -4.956261157989502,
          1.281166434288025,
          -7.506382465362549,
          -0.7029036283493042,
          5.099581718444824,
          4.20601224899292,
          -0.7890312075614929,
          5.62647008895874,
          -0.8821774125099182,
          5.24705696105957,
          -1.749684453010559,
          4.471890449523926,
          4.590931415557861,
          -7.059039115905762,
          1.799917459487915,
          0.5392417907714844,
          -0.012210963293910027,
          -1.798384666442871,
          -0.44184255599975586,
          -5.025312900543213,
          4.310582160949707,
          -0.14269234240055084,
          4.836189270019531,
          3.8649539947509766,
          3.1836018562316895,
          1.84910249710083,
          7.028460502624512,
          5.465274810791016,
          -4.182088375091553,
          0.7504755854606628,
          -2.2793545722961426,
          -1.5589810609817505,
          5.577104091644287,
          0.4282996654510498,
          3.8135814666748047,
          2.579281806945801,
          3.0248332023620605,
          0.31775104999542236,
          3.9195923805236816,
          1.8840898275375366,
          -4.019101619720459,
          -4.475222110748291,
          5.565098762512207,
          -3.4508399963378906,
          2.3805453777313232,
          -1.8316527605056763,
          4.712479591369629,
          3.654442310333252,
          -0.13597378134727478,
          6.0387420654296875,
          -2.6379823684692383,
          -1.2089451551437378,
          0.5040937662124634,
          3.8187825679779053,
          2.4584929943084717,
          -5.226707458496094,
          -4.822869300842285,
          6.089503288269043,
          -3.6748266220092773,
          -0.15039843320846558,
          -4.769258499145508,
          3.4927542209625244,
          1.62314772605896,
          0.21944452822208405,
          -3.425828456878662,
          4.423220634460449,
          0.08174892514944077,
          0.8598024249076843,
          1.1504580974578857,
          -0.24040646851062775,
          -0.12482238560914993,
          1.6890515089035034,
          -4.650684356689453,
          6.525102615356445,
          0.9592202305793762,
          4.840656757354736,
          4.208651065826416,
          4.812545299530029,
          0.5867065191268921,
          -4.183886528015137,
          -1.8111320734024048,
          -4.3572540283203125,
          -2.511216402053833,
          -4.078987121582031,
          1.5118004083633423,
          3.729060411453247,
          3.3596670627593994,
          -1.6128685474395752,
          -2.5506060123443604,
          -2.746579647064209,
          -0.5373218655586243,
          6.469497203826904,
          3.379584789276123,
          6.108954906463623,
          -7.204064846038818,
          1.5163648128509521,
          5.63607931137085,
          2.480860948562622,
          -2.217350721359253,
          1.9953880310058594,
          -6.516652584075928,
          -2.0280306339263916,
          -5.970028400421143,
          -6.592029094696045,
          2.5663528442382812,
          1.122602939605713,
          2.733792781829834,
          3.275550127029419,
          -3.4141898155212402,
          -4.654372215270996,
          -5.86289644241333,
          -4.646737098693848,
          3.8351614475250244,
          -2.677077531814575,
          -0.5755099058151245,
          -2.4493408203125,
          -4.876290321350098,
          4.24589204788208,
          -4.4631829261779785,
          1.0016111135482788,
          -6.533239364624023,
          -0.9409596920013428,
          -6.103650093078613,
          -3.036257266998291,
          -6.878949165344238,
          4.475423812866211,
          -5.1087727546691895,
          -1.3478806018829346,
          2.526923894882202,
          5.672263145446777,
          4.673642158508301,
          4.4944353103637695,
          -6.852053165435791,
          0.7441563606262207,
          -2.76440691947937,
          -2.2094309329986572,
          0.5740318298339844,
          -7.359286785125732,
          6.657351493835449,
          3.975374698638916,
          1.7109510898590088,
          -2.79634952545166,
          3.5226848125457764,
          -0.51442950963974,
          -6.770118236541748,
          -1.667826771736145,
          3.747063159942627,
          -3.6677067279815674,
          -1.116492509841919,
          -1.171173334121704,
          4.83873987197876,
          1.0229508876800537,
          2.9345450401306152,
          -4.169126510620117,
          7.140531539916992,
          3.809974431991577,
          5.54252815246582,
          -3.507638692855835,
          0.4822591543197632,
          1.9101718664169312,
          -1.1843516826629639,
          -4.312310218811035,
          5.040314197540283,
          -0.7350792288780212,
          -5.381945610046387,
          5.714874744415283,
          -5.503195285797119,
          -0.8822227120399475,
          4.305004596710205,
          0.8289384841918945,
          -1.9527159929275513,
          0.5378220677375793,
          -3.0963916778564453,
          -3.8085970878601074,
          -6.825268745422363,
          -6.6807050704956055,
          5.284106254577637,
          -4.868622303009033,
          -4.5957207679748535,
          -4.09968376159668,
          -4.0644211769104,
          -5.888118267059326,
          3.340705633163452,
          4.869406700134277,
          2.760423421859741,
          -4.20225715637207,
          1.2438567876815796,
          -4.27086067199707,
          1.8643712997436523,
          -6.796995639801025,
          -3.16524076461792,
          -5.714115619659424,
          3.4538776874542236,
          -2.2787559032440186,
          -4.739651679992676,
          -0.5815941691398621,
          -1.6792210340499878,
          1.6064878702163696,
          -1.9496468305587769,
          -3.4331278800964355,
          7.278933525085449,
          -3.5971720218658447,
          -2.3597898483276367,
          -3.4061810970306396,
          1.0502138137817383,
          -4.621209144592285,
          -0.3285367488861084,
          6.174008846282959,
          -0.2590293884277344,
          5.224339485168457,
          0.8514255881309509,
          -4.698639869689941,
          -2.439579486846924,
          1.3254903554916382,
          0.1553449034690857,
          3.910734176635742,
          3.789419651031494,
          -0.10943815112113953,
          -1.3575031757354736,
          5.628304481506348,
          -6.324027061462402,
          3.0474400520324707,
          4.522806644439697,
          2.076873540878296,
          4.533402442932129,
          6.489076137542725,
          1.3364218473434448,
          1.7589588165283203,
          3.7351889610290527,
          -1.4481925964355469,
          -3.1043379306793213,
          4.45601749420166,
          1.1198557615280151,
          -3.516216993331909,
          3.7971622943878174,
          -0.2956826090812683,
          4.070225715637207,
          0.08773861080408096,
          5.831028461456299,
          4.657332420349121,
          3.8330111503601074,
          -4.994990348815918,
          -0.6836241483688354,
          -0.744548499584198,
          2.963961601257324,
          1.9432293176651,
          -2.2609469890594482,
          4.227206230163574,
          -0.7507725954055786,
          -0.4190356433391571,
          -1.7172430753707886,
          -0.2621351182460785,
          -5.736793041229248,
          6.9861907958984375,
          6.690088748931885,
          -2.316289186477661,
          -0.8920659422874451,
          -3.131870985031128,
          -3.2331020832061768,
          3.6468393802642822,
          -1.0016067028045654,
          3.9248993396759033,
          0.9386741518974304,
          3.71126651763916,
          2.3795430660247803,
          -1.0704327821731567,
          0.7777779698371887,
          0.4605382978916168,
          3.148801565170288,
          -2.223107099533081,
          -5.540817737579346,
          3.7560184001922607,
          -4.193782806396484,
          3.698018789291382,
          5.358834266662598,
          5.080813407897949,
          0.31212639808654785,
          4.002851963043213,
          6.381319522857666,
          6.213743209838867,
          2.5312225818634033,
          7.165226936340332,
          4.671916484832764,
          1.0578696727752686,
          5.642486095428467,
          5.669548511505127,
          5.154599666595459,
          3.186997413635254,
          -1.3200730085372925,
          -2.638319969177246,
          3.5028648376464844
         ],
         "z": [
          -6.574037075042725,
          -0.8278807997703552,
          -14.400541305541992,
          -7.290042400360107,
          -3.294879198074341,
          -3.5684525966644287,
          -5.953563213348389,
          -8.670065879821777,
          -3.916379690170288,
          -3.1087093353271484,
          -5.360434055328369,
          -13.29400634765625,
          -4.595943927764893,
          2.745197057723999,
          -0.7102831602096558,
          -10.320513725280762,
          -10.785811424255371,
          -7.805607318878174,
          -3.387922763824463,
          0.9411014914512634,
          0.9935281872749329,
          -6.1256585121154785,
          -1.7388479709625244,
          -6.184765338897705,
          -6.419339656829834,
          -1.8157496452331543,
          5.884768009185791,
          -13.235358238220215,
          -6.870622634887695,
          -2.071495294570923,
          -0.7580113410949707,
          -2.2101800441741943,
          -1.7895870208740234,
          -7.099330425262451,
          -1.7108128070831299,
          -13.704825401306152,
          -15.34901237487793,
          -6.227032661437988,
          -11.2885103225708,
          1.5183029174804688,
          -14.011093139648438,
          -9.119359970092773,
          -3.896969795227051,
          3.6471738815307617,
          -3.6173737049102783,
          -0.5524246692657471,
          -1.7189394235610962,
          2.0794854164123535,
          -4.761015892028809,
          -4.760983943939209,
          -4.157314777374268,
          -4.095461368560791,
          -2.9030959606170654,
          -6.498167037963867,
          -6.195920944213867,
          -5.512232303619385,
          -4.592477321624756,
          -7.577349662780762,
          -12.467509269714355,
          -3.5326876640319824,
          1.8394601345062256,
          5.589860439300537,
          -3.8791356086730957,
          -4.700715065002441,
          2.9702308177948,
          -13.325233459472656,
          -1.31122624874115,
          -12.467085838317871,
          -12.851346969604492,
          4.075237274169922,
          -2.0034239292144775,
          -9.05636215209961,
          -7.199027061462402,
          0.591366171836853,
          -11.532898902893066,
          2.6439034938812256,
          -9.141242980957031,
          -5.182012557983398,
          -10.511168479919434,
          -2.7260630130767822,
          -1.2573333978652954,
          -13.286416053771973,
          -13.34013557434082,
          -4.238088607788086,
          0.7327337861061096,
          1.6331433057785034,
          -1.6384494304656982,
          -13.626493453979492,
          0.6519639492034912,
          -2.4393997192382812,
          0.4927460551261902,
          -1.7070000171661377,
          -6.998708724975586,
          1.6898988485336304,
          -13.359086990356445,
          -9.611435890197754,
          -14.697953224182129,
          -8.951722145080566,
          -7.5921783447265625,
          -1.1654713153839111,
          1.1485230922698975,
          -15.19437026977539,
          -13.889220237731934,
          -10.387401580810547,
          -10.499565124511719,
          -13.022710800170898,
          -0.37479472160339355,
          -0.40367087721824646,
          -7.510776042938232,
          -13.27372932434082,
          -11.15467357635498,
          -14.2647705078125,
          -11.991646766662598,
          -10.022470474243164,
          -7.425475597381592,
          -9.760232925415039,
          -3.757822275161743,
          1.0762138366699219,
          -2.1980419158935547,
          -4.846923828125,
          -15.369024276733398,
          -11.73376178741455,
          -10.807004928588867,
          2.731100082397461,
          -12.598712921142578,
          -10.832847595214844,
          6.129146575927734,
          -11.856566429138184,
          2.3534231185913086,
          -10.545377731323242,
          4.140498161315918,
          -6.107143402099609,
          -12.93655014038086,
          -0.18632872402668,
          2.9479198455810547,
          -5.63010835647583,
          -4.076392650604248,
          -0.678278923034668,
          -5.615884304046631,
          -8.03648853302002,
          -6.259305953979492,
          -12.29188060760498,
          -10.85213851928711,
          -5.288870811462402,
          -3.0975217819213867,
          -2.985440492630005,
          -3.8051931858062744,
          -3.1311540603637695,
          -10.805815696716309,
          1.0580464601516724,
          -3.0650806427001953,
          -7.941029071807861,
          -8.755974769592285,
          -5.601095199584961,
          5.012818813323975,
          -0.7144256234169006,
          3.906597137451172,
          -9.030843734741211,
          -6.558019638061523,
          -15.244512557983398,
          -7.50180721282959,
          -12.88100528717041,
          -11.922558784484863,
          -14.108912467956543,
          -3.6205458641052246,
          -6.314205169677734,
          -4.696441173553467,
          -9.35720443725586,
          -7.797610282897949,
          1.3050228357315063,
          -9.027301788330078,
          0.8305152058601379,
          -2.673408031463623,
          5.533085823059082,
          3.3871445655822754,
          -12.212324142456055,
          -4.301486968994141,
          -12.461501121520996,
          -2.73962664604187,
          -14.509234428405762,
          -10.356292724609375,
          -11.251866340637207,
          -6.992323398590088,
          -3.9635627269744873,
          -1.6360337734222412,
          -3.0046348571777344,
          -10.65945816040039,
          -7.235719680786133,
          1.247559905052185,
          -9.9697904586792,
          -8.49938678741455,
          0.8209762573242188,
          -7.113426685333252,
          1.0298713445663452,
          -6.810658931732178,
          -5.02971887588501,
          -1.9145004749298096,
          -4.009495735168457,
          0.5102134346961975,
          -7.488048076629639,
          -13.341184616088867,
          -5.135828018188477,
          -13.404452323913574,
          0.4205626845359802,
          -8.108043670654297,
          -13.24760913848877,
          5.395161151885986,
          -2.906226634979248,
          -2.4646339416503906,
          -13.564932823181152,
          -0.6283464431762695,
          -2.7082865238189697,
          -14.240745544433594,
          -10.1990385055542,
          -12.892316818237305,
          -0.42620742321014404,
          -7.592190265655518,
          -4.198205947875977,
          -1.923744797706604,
          -11.557026863098145,
          -15.208185195922852,
          -5.522327423095703,
          -15.113704681396484,
          -7.864355564117432,
          0.6046983003616333,
          -2.1143076419830322,
          -7.996170520782471,
          -2.2097280025482178,
          -12.039838790893555,
          -3.0622658729553223,
          -8.122714042663574,
          -13.010453224182129,
          5.811591625213623,
          -6.189302444458008,
          -13.27173900604248,
          -15.155597686767578,
          -6.495795249938965,
          5.0602641105651855,
          -12.832976341247559,
          -4.354585647583008,
          -9.400556564331055,
          -7.97675895690918,
          -6.514383792877197,
          -3.1811394691467285,
          -3.96876859664917,
          -7.515013694763184,
          -10.121370315551758,
          -1.9383177757263184,
          -7.847688674926758,
          -4.1798200607299805,
          4.522969722747803,
          -13.084105491638184,
          -8.871319770812988,
          5.427403450012207,
          -9.386014938354492,
          3.9559695720672607,
          -8.848132133483887,
          -6.226442813873291,
          -6.284558296203613,
          -3.2904903888702393,
          -0.7544562220573425,
          2.3095357418060303,
          -14.057343482971191,
          5.702983379364014,
          5.121191024780273,
          -8.384702682495117,
          -13.913707733154297,
          -5.152121543884277,
          -9.821986198425293,
          -9.630257606506348,
          -10.23202896118164,
          -14.414097785949707,
          -15.246171951293945,
          -7.580845355987549,
          -10.138471603393555,
          -5.809765338897705,
          -9.026145935058594,
          -5.756790637969971,
          -3.1673567295074463,
          5.741990089416504,
          -12.851028442382812,
          -13.056818962097168,
          -4.708742141723633,
          -10.489609718322754,
          -6.201501369476318,
          -9.6848726272583,
          -6.625929832458496,
          -7.935348987579346,
          -12.22029972076416,
          2.5475900173187256,
          -11.02826976776123,
          -11.086350440979004,
          -0.3304694592952728,
          -1.5191650390625,
          -14.038947105407715,
          -15.054730415344238,
          5.614160060882568,
          -5.2042999267578125,
          0.48429515957832336,
          -15.057475090026855,
          -9.017791748046875,
          -2.443307638168335,
          -8.691385269165039,
          -3.684887647628784,
          -11.846851348876953,
          -3.6837120056152344,
          -5.2736735343933105,
          0.20819613337516785,
          -10.095913887023926,
          0.43173524737358093,
          -6.594676494598389,
          0.1356152445077896,
          -12.655120849609375,
          -2.2295124530792236,
          -10.603578567504883,
          1.133202075958252,
          -10.383837699890137,
          -6.589436054229736,
          -10.534138679504395,
          -7.112277030944824,
          -15.051121711730957,
          -0.46166014671325684,
          1.961269736289978,
          -4.405631065368652,
          -5.293442249298096,
          -0.9974260926246643,
          5.4352617263793945,
          -1.7228875160217285,
          3.166004180908203,
          -4.353228569030762,
          -4.0962815284729,
          -15.282573699951172,
          -6.025074005126953,
          3.0818982124328613,
          -5.874613285064697,
          -12.733113288879395,
          -10.163990020751953,
          -10.584085464477539,
          -3.147636651992798,
          -11.450855255126953,
          -2.4262747764587402,
          -4.178018569946289,
          -4.5953826904296875,
          -6.550305366516113,
          3.4181840419769287,
          -0.003243454499170184,
          -8.206503868103027,
          -7.941173076629639,
          -11.823458671569824,
          -11.185544967651367,
          -1.3386316299438477,
          5.321304798126221,
          -6.151480674743652,
          5.750941753387451,
          -3.299959659576416,
          5.400412082672119,
          -5.386294364929199,
          -8.175043106079102,
          -13.02440071105957,
          -13.384593963623047,
          0.3002481162548065,
          -12.81688117980957,
          -5.575109958648682,
          -0.7337744832038879,
          -3.563826560974121,
          -0.5014228820800781,
          -2.6108975410461426,
          0.38356509804725647,
          0.14438463747501373,
          -7.296139240264893,
          -8.390005111694336,
          -6.1492533683776855,
          -5.448251724243164,
          -12.635704040527344,
          -13.397193908691406,
          1.1605271100997925,
          -12.891444206237793,
          -10.337678909301758,
          -10.10444450378418,
          -4.195342063903809,
          5.204458713531494,
          2.153761386871338,
          1.3185014724731445,
          4.599268913269043,
          5.347265720367432,
          -0.5935878753662109,
          4.520108222961426,
          -0.43227240443229675,
          -9.480979919433594,
          -8.991352081298828,
          -13.375630378723145,
          2.064863443374634,
          -2.869117498397827,
          -3.3694636821746826,
          -4.943100452423096,
          -3.312194347381592,
          -2.3885953426361084,
          2.4060845375061035,
          -4.29168701171875,
          2.092264175415039,
          3.603334665298462,
          2.6074063777923584,
          -6.717256546020508,
          -3.899587869644165,
          5.248253345489502,
          1.8140032291412354,
          2.629552125930786,
          2.927767753601074,
          -0.39938998222351074,
          2.059232234954834,
          -6.112380027770996,
          1.5589189529418945,
          -15.337241172790527,
          5.319212436676025,
          2.8082528114318848,
          5.213638782501221,
          -0.47267836332321167,
          4.4611711502075195,
          -14.598259925842285,
          -5.096575736999512,
          -14.162277221679688,
          -14.685510635375977,
          -7.778608322143555,
          -7.157522201538086,
          -7.414300441741943,
          -7.506804466247559,
          -4.760093688964844,
          -9.539566040039062,
          -13.672900199890137,
          -13.3876314163208,
          -6.261605262756348,
          1.9311045408248901,
          -10.113348960876465,
          -0.08533263951539993,
          -12.055562019348145,
          -4.876255035400391,
          -13.346924781799316,
          -8.938040733337402,
          -14.406534194946289,
          -0.6239713430404663,
          -13.936490058898926,
          -4.982240200042725,
          -14.909358024597168,
          -4.065736293792725,
          -13.280245780944824,
          6.38727331161499,
          3.6309754848480225,
          -0.8097121715545654,
          -3.637732744216919,
          -4.244891166687012,
          -14.937870025634766,
          -7.9628071784973145,
          0.30357304215431213,
          -12.64896297454834,
          -2.5040013790130615,
          -15.34723949432373,
          1.7119954824447632,
          -4.887411117553711,
          -6.801913261413574,
          0.3364277780056,
          -5.8861083984375,
          0.9250551462173462,
          -14.096137046813965,
          -7.332647800445557,
          -6.362173080444336,
          -12.888185501098633,
          -2.7322885990142822,
          2.2559876441955566,
          -3.0154640674591064,
          4.735709190368652,
          -5.95235538482666,
          -7.298464298248291,
          3.7377805709838867,
          -3.6906442642211914,
          0.5914009213447571,
          1.4570937156677246,
          -5.392968654632568,
          -2.8630194664001465,
          5.98025369644165,
          -7.758475303649902,
          -2.386491537094116,
          -2.5530059337615967,
          -11.427777290344238,
          -0.37548649311065674,
          -13.05832290649414,
          5.429445743560791,
          -4.207354545593262,
          -10.401385307312012,
          -1.2470066547393799,
          -11.002317428588867,
          0.8477932214736938,
          -13.279694557189941,
          -14.892267227172852,
          -14.886358261108398,
          -2.302284002304077,
          -10.341734886169434,
          -9.579469680786133,
          -6.935542583465576,
          -13.07259750366211,
          -13.537364959716797,
          4.0759148597717285,
          -2.3020823001861572,
          -8.467190742492676,
          3.119009494781494,
          -2.894307851791382,
          -7.318909645080566,
          -8.059666633605957,
          -14.83255672454834,
          2.8342318534851074,
          -13.291504859924316,
          -5.066619873046875,
          -12.586828231811523,
          -13.40716552734375,
          -7.312225341796875,
          4.3398613929748535,
          -3.139829635620117,
          -12.353504180908203,
          -5.734736442565918,
          4.066906452178955,
          1.4537084102630615,
          -11.932340621948242,
          -5.494321823120117,
          -5.023186683654785,
          -13.379048347473145,
          -9.830251693725586,
          0.627204954624176,
          -11.55282211303711,
          -1.707274079322815,
          -10.385505676269531,
          -13.345857620239258,
          -11.840986251831055,
          -9.184730529785156,
          5.372507095336914,
          -5.505879878997803,
          0.6974402070045471,
          -1.7154383659362793,
          -11.9906005859375,
          -1.1746702194213867,
          -13.729348182678223,
          -7.990139007568359,
          -4.058441638946533,
          -9.4817533493042,
          -3.945864677429199,
          1.3471673727035522,
          5.3219828605651855,
          -6.4076924324035645,
          -5.858037948608398,
          -5.479846000671387,
          -9.380189895629883,
          -2.8811185359954834,
          -8.622713088989258,
          -12.940797805786133,
          -0.9193602800369263,
          -9.726408004760742,
          -4.944690704345703,
          -9.119843482971191,
          0.18869063258171082,
          -4.044002532958984,
          -5.760866165161133,
          -13.295027732849121,
          4.838378429412842,
          2.3560407161712646,
          5.209314823150635,
          4.078758716583252,
          -11.83730411529541,
          -3.483755588531494,
          -0.9670437574386597,
          -9.8853120803833,
          -12.364523887634277,
          -9.719863891601562,
          -13.335162162780762,
          3.286555767059326,
          3.881887912750244,
          -7.550872802734375,
          -11.922335624694824,
          -3.915323495864868,
          -9.607172966003418,
          -6.402787208557129,
          5.888308048248291,
          -5.3949384689331055,
          -10.125256538391113,
          -5.760224342346191,
          -6.972770690917969,
          -12.037518501281738,
          -0.7238029837608337,
          -8.46590805053711,
          -6.207180023193359,
          -11.819003105163574,
          -13.068140029907227,
          -3.857344150543213,
          -7.103540420532227,
          -1.286767840385437,
          -1.0711473226547241,
          -3.0152816772460938,
          -11.196704864501953,
          -1.0364747047424316,
          1.6207635402679443,
          0.7626429796218872,
          -5.371705532073975,
          3.8044850826263428,
          -3.729332685470581,
          -9.894597053527832,
          -0.6060634255409241,
          -0.7094482183456421,
          -0.609266996383667,
          -7.709465980529785,
          -2.150550365447998,
          -7.883521556854248,
          -4.474493980407715
         ]
        },
        {
         "hoverlabel": {
          "namelength": 0
         },
         "hovertemplate": "Dominant_Topic=Topic 2<br>0=%{x}<br>1=%{y}<br>2=%{z}",
         "legendgroup": "Dominant_Topic=Topic 2",
         "marker": {
          "color": "#00cc96",
          "opacity": 0.7,
          "symbol": "circle"
         },
         "mode": "markers",
         "name": "Dominant_Topic=Topic 2",
         "scene": "scene",
         "showlegend": true,
         "type": "scatter3d",
         "x": [
          1.3324238061904907,
          4.824845314025879,
          4.409365177154541,
          4.87161111831665,
          2.159998893737793,
          4.417579174041748,
          4.132725238800049,
          4.455078601837158,
          4.731531143188477,
          0.5797023773193359,
          4.794522762298584,
          4.059852123260498,
          4.370001316070557,
          2.652510404586792,
          4.853394031524658,
          3.7801287174224854,
          4.761380672454834,
          4.440513610839844,
          4.642263412475586,
          4.1423420906066895,
          4.729550361633301,
          4.229543209075928,
          4.134408473968506,
          4.030814170837402,
          4.578788757324219,
          4.804815292358398,
          4.761650085449219,
          4.630372524261475,
          3.6833138465881348,
          3.954927682876587,
          4.673031330108643,
          4.706456184387207,
          4.9487762451171875,
          4.195175647735596,
          4.671579360961914,
          2.1372296810150146,
          4.868369102478027,
          4.390712261199951,
          3.981093406677246,
          4.384775161743164,
          4.7935028076171875,
          4.8522539138793945,
          4.971575736999512,
          4.625315189361572,
          -0.5355840921401978,
          4.1540069580078125,
          4.446483612060547,
          4.739777565002441,
          4.703568935394287,
          4.384465217590332,
          4.595422744750977,
          0.1712876260280609,
          4.771965503692627,
          3.7695252895355225,
          0.825598955154419,
          -0.5285260081291199,
          -0.33589938282966614,
          2.666290760040283,
          4.76684045791626,
          4.233414173126221,
          1.1522297859191895,
          0.054961398243904114,
          0.9299678206443787,
          4.633220672607422,
          0.4786706864833832,
          2.324756145477295,
          4.677536964416504,
          -0.4068176746368408,
          3.8679890632629395,
          4.494897842407227,
          1.9865840673446655,
          3.8721985816955566,
          2.3733913898468018,
          4.431046962738037,
          1.7005683183670044,
          4.559645652770996,
          2.6121349334716797,
          2.770411491394043,
          4.66898250579834,
          1.8001374006271362,
          4.591668128967285,
          2.705775022506714,
          2.3459386825561523,
          4.060708522796631,
          3.142733335494995,
          3.677582263946533,
          3.6030797958374023,
          1.4970420598983765,
          2.7556309700012207,
          2.0409061908721924,
          4.2091851234436035,
          2.196732997894287,
          4.666257381439209,
          2.332108497619629,
          4.812409400939941,
          2.2298426628112793,
          4.287082672119141,
          4.186959266662598,
          4.131787300109863,
          3.9239892959594727,
          2.608708620071411,
          -0.4972611963748932,
          2.336700916290283,
          1.4267501831054688,
          2.2357594966888428,
          4.058251857757568,
          0.007659160532057285,
          -0.20938342809677124,
          0.7185078263282776,
          2.226269006729126,
          2.691344976425171,
          4.250827789306641
         ],
         "y": [
          6.687108516693115,
          8.693851470947266,
          8.885857582092285,
          9.517011642456055,
          7.054741382598877,
          5.194810390472412,
          8.475200653076172,
          8.932209014892578,
          7.621952056884766,
          6.846775531768799,
          10.400320053100586,
          9.395095825195312,
          6.130938529968262,
          6.175520896911621,
          6.683619976043701,
          8.141960144042969,
          9.35991096496582,
          12.34991455078125,
          6.249958038330078,
          6.708590030670166,
          6.321969032287598,
          4.1081767082214355,
          8.232664108276367,
          7.562305450439453,
          11.020115852355957,
          6.63607931137085,
          10.502557754516602,
          6.252381324768066,
          7.795368671417236,
          5.446588516235352,
          11.41030216217041,
          7.738321781158447,
          8.265315055847168,
          11.506888389587402,
          6.3260602951049805,
          6.741654396057129,
          10.011626243591309,
          8.387475967407227,
          8.561766624450684,
          7.458436489105225,
          6.722318649291992,
          5.9763503074646,
          7.1426215171813965,
          4.661708831787109,
          7.290621757507324,
          10.207058906555176,
          8.06744384765625,
          8.283281326293945,
          9.903485298156738,
          4.578010559082031,
          9.599227905273438,
          7.478188514709473,
          11.237534523010254,
          8.087018013000488,
          6.336891174316406,
          7.307246685028076,
          7.340127944946289,
          2.648716688156128,
          11.47737979888916,
          9.580501556396484,
          6.511355876922607,
          7.234051704406738,
          7.687454700469971,
          12.498682022094727,
          7.152033805847168,
          5.363286972045898,
          12.554051399230957,
          7.337100505828857,
          3.5443499088287354,
          12.08885383605957,
          4.108679294586182,
          7.099923610687256,
          5.571157455444336,
          12.25398063659668,
          4.870649814605713,
          10.91196060180664,
          5.277177333831787,
          5.23660945892334,
          11.208518981933594,
          4.471925735473633,
          12.187581062316895,
          6.463374137878418,
          4.1256561279296875,
          5.344686508178711,
          7.94333553314209,
          3.099339246749878,
          11.729207992553711,
          4.5920867919921875,
          5.20220947265625,
          4.435421466827393,
          4.171756267547607,
          5.282472610473633,
          12.392449378967285,
          3.403505802154541,
          10.741464614868164,
          5.863544940948486,
          11.76618766784668,
          5.022595405578613,
          7.347259998321533,
          11.911163330078125,
          3.8977599143981934,
          7.219910144805908,
          3.150357246398926,
          7.323385715484619,
          4.869965553283691,
          11.919041633605957,
          6.730238437652588,
          7.3923258781433105,
          7.410041809082031,
          5.394437789916992,
          5.778597354888916,
          9.405069351196289
         ],
         "z": [
          5.594168663024902,
          9.606435775756836,
          9.08704948425293,
          9.62761116027832,
          6.451016426086426,
          9.1019868850708,
          8.755196571350098,
          9.143064498901367,
          9.522790908813477,
          5.002867221832275,
          9.490854263305664,
          8.633503913879395,
          9.04515266418457,
          6.778988838195801,
          9.694225311279297,
          8.32187271118164,
          9.499785423278809,
          8.948339462280273,
          9.41547966003418,
          8.766289710998535,
          9.534793853759766,
          8.785840034484863,
          8.764762878417969,
          8.638360977172852,
          9.195696830749512,
          9.631952285766602,
          9.444087982177734,
          9.399604797363281,
          8.201272010803223,
          8.441642761230469,
          9.286949157714844,
          9.489042282104492,
          9.77422046661377,
          8.71025276184082,
          9.456731796264648,
          6.342676162719727,
          9.601466178894043,
          9.080101013183594,
          8.563678741455078,
          9.087740898132324,
          9.615307807922363,
          9.712681770324707,
          9.835901260375977,
          9.491937637329102,
          4.16261100769043,
          8.715862274169922,
          9.156947135925293,
          9.515839576721191,
          9.404642105102539,
          9.069968223571777,
          9.285110473632812,
          4.872068881988525,
          9.416223526000977,
          8.310030937194824,
          5.04030179977417,
          4.171048164367676,
          4.340576648712158,
          5.882087707519531,
          9.395081520080566,
          8.841106414794922,
          5.387203216552734,
          4.384954452514648,
          5.5365729331970215,
          9.165767669677734,
          4.997203826904297,
          0.9191415309906006,
          9.21432876586914,
          3.968059539794922,
          8.041802406311035,
          9.031817436218262,
          5.434329509735107,
          8.426162719726562,
          6.306115627288818,
          8.943952560424805,
          5.283268928527832,
          9.17747688293457,
          6.516699314117432,
          6.714690208435059,
          9.294340133666992,
          5.295865535736084,
          9.139208793640137,
          6.895208835601807,
          5.857040882110596,
          8.583512306213379,
          7.558162212371826,
          7.626769065856934,
          8.007011413574219,
          4.987457275390625,
          6.691823959350586,
          5.570467472076416,
          8.745325088500977,
          1.209894061088562,
          9.21249771118164,
          5.636465072631836,
          9.493175506591797,
          6.233237266540527,
          8.805403709411621,
          8.750107765197754,
          8.765907287597656,
          8.369390487670898,
          6.144257545471191,
          4.256348609924316,
          5.540036201477051,
          4.141445636749268,
          5.933229446411133,
          8.526427268981934,
          4.536563873291016,
          4.420546531677246,
          5.25645112991333,
          0.9996223449707031,
          6.7415056228637695,
          8.869369506835938
         ]
        },
        {
         "hoverlabel": {
          "namelength": 0
         },
         "hovertemplate": "Dominant_Topic=Topic 3<br>0=%{x}<br>1=%{y}<br>2=%{z}",
         "legendgroup": "Dominant_Topic=Topic 3",
         "marker": {
          "color": "#ab63fa",
          "opacity": 0.7,
          "symbol": "circle"
         },
         "mode": "markers",
         "name": "Dominant_Topic=Topic 3",
         "scene": "scene",
         "showlegend": true,
         "type": "scatter3d",
         "x": [
          2.5707385540008545,
          2.522763252258301
         ],
         "y": [
          5.461350440979004,
          5.4181413650512695
         ],
         "z": [
          0.280690461397171,
          0.5471506714820862
         ]
        }
       ],
       "layout": {
        "height": 800,
        "legend": {
         "tracegroupgap": 0
        },
        "scene": {
         "domain": {
          "x": [
           0,
           1
          ],
          "y": [
           0,
           1
          ]
         },
         "xaxis": {
          "title": {
           "text": "0"
          }
         },
         "yaxis": {
          "title": {
           "text": "1"
          }
         },
         "zaxis": {
          "title": {
           "text": "2"
          }
         }
        },
        "template": {
         "data": {
          "bar": [
           {
            "error_x": {
             "color": "#2a3f5f"
            },
            "error_y": {
             "color": "#2a3f5f"
            },
            "marker": {
             "line": {
              "color": "#E5ECF6",
              "width": 0.5
             }
            },
            "type": "bar"
           }
          ],
          "barpolar": [
           {
            "marker": {
             "line": {
              "color": "#E5ECF6",
              "width": 0.5
             }
            },
            "type": "barpolar"
           }
          ],
          "carpet": [
           {
            "aaxis": {
             "endlinecolor": "#2a3f5f",
             "gridcolor": "white",
             "linecolor": "white",
             "minorgridcolor": "white",
             "startlinecolor": "#2a3f5f"
            },
            "baxis": {
             "endlinecolor": "#2a3f5f",
             "gridcolor": "white",
             "linecolor": "white",
             "minorgridcolor": "white",
             "startlinecolor": "#2a3f5f"
            },
            "type": "carpet"
           }
          ],
          "choropleth": [
           {
            "colorbar": {
             "outlinewidth": 0,
             "ticks": ""
            },
            "type": "choropleth"
           }
          ],
          "contour": [
           {
            "colorbar": {
             "outlinewidth": 0,
             "ticks": ""
            },
            "colorscale": [
             [
              0,
              "#0d0887"
             ],
             [
              0.1111111111111111,
              "#46039f"
             ],
             [
              0.2222222222222222,
              "#7201a8"
             ],
             [
              0.3333333333333333,
              "#9c179e"
             ],
             [
              0.4444444444444444,
              "#bd3786"
             ],
             [
              0.5555555555555556,
              "#d8576b"
             ],
             [
              0.6666666666666666,
              "#ed7953"
             ],
             [
              0.7777777777777778,
              "#fb9f3a"
             ],
             [
              0.8888888888888888,
              "#fdca26"
             ],
             [
              1,
              "#f0f921"
             ]
            ],
            "type": "contour"
           }
          ],
          "contourcarpet": [
           {
            "colorbar": {
             "outlinewidth": 0,
             "ticks": ""
            },
            "type": "contourcarpet"
           }
          ],
          "heatmap": [
           {
            "colorbar": {
             "outlinewidth": 0,
             "ticks": ""
            },
            "colorscale": [
             [
              0,
              "#0d0887"
             ],
             [
              0.1111111111111111,
              "#46039f"
             ],
             [
              0.2222222222222222,
              "#7201a8"
             ],
             [
              0.3333333333333333,
              "#9c179e"
             ],
             [
              0.4444444444444444,
              "#bd3786"
             ],
             [
              0.5555555555555556,
              "#d8576b"
             ],
             [
              0.6666666666666666,
              "#ed7953"
             ],
             [
              0.7777777777777778,
              "#fb9f3a"
             ],
             [
              0.8888888888888888,
              "#fdca26"
             ],
             [
              1,
              "#f0f921"
             ]
            ],
            "type": "heatmap"
           }
          ],
          "heatmapgl": [
           {
            "colorbar": {
             "outlinewidth": 0,
             "ticks": ""
            },
            "colorscale": [
             [
              0,
              "#0d0887"
             ],
             [
              0.1111111111111111,
              "#46039f"
             ],
             [
              0.2222222222222222,
              "#7201a8"
             ],
             [
              0.3333333333333333,
              "#9c179e"
             ],
             [
              0.4444444444444444,
              "#bd3786"
             ],
             [
              0.5555555555555556,
              "#d8576b"
             ],
             [
              0.6666666666666666,
              "#ed7953"
             ],
             [
              0.7777777777777778,
              "#fb9f3a"
             ],
             [
              0.8888888888888888,
              "#fdca26"
             ],
             [
              1,
              "#f0f921"
             ]
            ],
            "type": "heatmapgl"
           }
          ],
          "histogram": [
           {
            "marker": {
             "colorbar": {
              "outlinewidth": 0,
              "ticks": ""
             }
            },
            "type": "histogram"
           }
          ],
          "histogram2d": [
           {
            "colorbar": {
             "outlinewidth": 0,
             "ticks": ""
            },
            "colorscale": [
             [
              0,
              "#0d0887"
             ],
             [
              0.1111111111111111,
              "#46039f"
             ],
             [
              0.2222222222222222,
              "#7201a8"
             ],
             [
              0.3333333333333333,
              "#9c179e"
             ],
             [
              0.4444444444444444,
              "#bd3786"
             ],
             [
              0.5555555555555556,
              "#d8576b"
             ],
             [
              0.6666666666666666,
              "#ed7953"
             ],
             [
              0.7777777777777778,
              "#fb9f3a"
             ],
             [
              0.8888888888888888,
              "#fdca26"
             ],
             [
              1,
              "#f0f921"
             ]
            ],
            "type": "histogram2d"
           }
          ],
          "histogram2dcontour": [
           {
            "colorbar": {
             "outlinewidth": 0,
             "ticks": ""
            },
            "colorscale": [
             [
              0,
              "#0d0887"
             ],
             [
              0.1111111111111111,
              "#46039f"
             ],
             [
              0.2222222222222222,
              "#7201a8"
             ],
             [
              0.3333333333333333,
              "#9c179e"
             ],
             [
              0.4444444444444444,
              "#bd3786"
             ],
             [
              0.5555555555555556,
              "#d8576b"
             ],
             [
              0.6666666666666666,
              "#ed7953"
             ],
             [
              0.7777777777777778,
              "#fb9f3a"
             ],
             [
              0.8888888888888888,
              "#fdca26"
             ],
             [
              1,
              "#f0f921"
             ]
            ],
            "type": "histogram2dcontour"
           }
          ],
          "mesh3d": [
           {
            "colorbar": {
             "outlinewidth": 0,
             "ticks": ""
            },
            "type": "mesh3d"
           }
          ],
          "parcoords": [
           {
            "line": {
             "colorbar": {
              "outlinewidth": 0,
              "ticks": ""
             }
            },
            "type": "parcoords"
           }
          ],
          "pie": [
           {
            "automargin": true,
            "type": "pie"
           }
          ],
          "scatter": [
           {
            "marker": {
             "colorbar": {
              "outlinewidth": 0,
              "ticks": ""
             }
            },
            "type": "scatter"
           }
          ],
          "scatter3d": [
           {
            "line": {
             "colorbar": {
              "outlinewidth": 0,
              "ticks": ""
             }
            },
            "marker": {
             "colorbar": {
              "outlinewidth": 0,
              "ticks": ""
             }
            },
            "type": "scatter3d"
           }
          ],
          "scattercarpet": [
           {
            "marker": {
             "colorbar": {
              "outlinewidth": 0,
              "ticks": ""
             }
            },
            "type": "scattercarpet"
           }
          ],
          "scattergeo": [
           {
            "marker": {
             "colorbar": {
              "outlinewidth": 0,
              "ticks": ""
             }
            },
            "type": "scattergeo"
           }
          ],
          "scattergl": [
           {
            "marker": {
             "colorbar": {
              "outlinewidth": 0,
              "ticks": ""
             }
            },
            "type": "scattergl"
           }
          ],
          "scattermapbox": [
           {
            "marker": {
             "colorbar": {
              "outlinewidth": 0,
              "ticks": ""
             }
            },
            "type": "scattermapbox"
           }
          ],
          "scatterpolar": [
           {
            "marker": {
             "colorbar": {
              "outlinewidth": 0,
              "ticks": ""
             }
            },
            "type": "scatterpolar"
           }
          ],
          "scatterpolargl": [
           {
            "marker": {
             "colorbar": {
              "outlinewidth": 0,
              "ticks": ""
             }
            },
            "type": "scatterpolargl"
           }
          ],
          "scatterternary": [
           {
            "marker": {
             "colorbar": {
              "outlinewidth": 0,
              "ticks": ""
             }
            },
            "type": "scatterternary"
           }
          ],
          "surface": [
           {
            "colorbar": {
             "outlinewidth": 0,
             "ticks": ""
            },
            "colorscale": [
             [
              0,
              "#0d0887"
             ],
             [
              0.1111111111111111,
              "#46039f"
             ],
             [
              0.2222222222222222,
              "#7201a8"
             ],
             [
              0.3333333333333333,
              "#9c179e"
             ],
             [
              0.4444444444444444,
              "#bd3786"
             ],
             [
              0.5555555555555556,
              "#d8576b"
             ],
             [
              0.6666666666666666,
              "#ed7953"
             ],
             [
              0.7777777777777778,
              "#fb9f3a"
             ],
             [
              0.8888888888888888,
              "#fdca26"
             ],
             [
              1,
              "#f0f921"
             ]
            ],
            "type": "surface"
           }
          ],
          "table": [
           {
            "cells": {
             "fill": {
              "color": "#EBF0F8"
             },
             "line": {
              "color": "white"
             }
            },
            "header": {
             "fill": {
              "color": "#C8D4E3"
             },
             "line": {
              "color": "white"
             }
            },
            "type": "table"
           }
          ]
         },
         "layout": {
          "annotationdefaults": {
           "arrowcolor": "#2a3f5f",
           "arrowhead": 0,
           "arrowwidth": 1
          },
          "coloraxis": {
           "colorbar": {
            "outlinewidth": 0,
            "ticks": ""
           }
          },
          "colorscale": {
           "diverging": [
            [
             0,
             "#8e0152"
            ],
            [
             0.1,
             "#c51b7d"
            ],
            [
             0.2,
             "#de77ae"
            ],
            [
             0.3,
             "#f1b6da"
            ],
            [
             0.4,
             "#fde0ef"
            ],
            [
             0.5,
             "#f7f7f7"
            ],
            [
             0.6,
             "#e6f5d0"
            ],
            [
             0.7,
             "#b8e186"
            ],
            [
             0.8,
             "#7fbc41"
            ],
            [
             0.9,
             "#4d9221"
            ],
            [
             1,
             "#276419"
            ]
           ],
           "sequential": [
            [
             0,
             "#0d0887"
            ],
            [
             0.1111111111111111,
             "#46039f"
            ],
            [
             0.2222222222222222,
             "#7201a8"
            ],
            [
             0.3333333333333333,
             "#9c179e"
            ],
            [
             0.4444444444444444,
             "#bd3786"
            ],
            [
             0.5555555555555556,
             "#d8576b"
            ],
            [
             0.6666666666666666,
             "#ed7953"
            ],
            [
             0.7777777777777778,
             "#fb9f3a"
            ],
            [
             0.8888888888888888,
             "#fdca26"
            ],
            [
             1,
             "#f0f921"
            ]
           ],
           "sequentialminus": [
            [
             0,
             "#0d0887"
            ],
            [
             0.1111111111111111,
             "#46039f"
            ],
            [
             0.2222222222222222,
             "#7201a8"
            ],
            [
             0.3333333333333333,
             "#9c179e"
            ],
            [
             0.4444444444444444,
             "#bd3786"
            ],
            [
             0.5555555555555556,
             "#d8576b"
            ],
            [
             0.6666666666666666,
             "#ed7953"
            ],
            [
             0.7777777777777778,
             "#fb9f3a"
            ],
            [
             0.8888888888888888,
             "#fdca26"
            ],
            [
             1,
             "#f0f921"
            ]
           ]
          },
          "colorway": [
           "#636efa",
           "#EF553B",
           "#00cc96",
           "#ab63fa",
           "#FFA15A",
           "#19d3f3",
           "#FF6692",
           "#B6E880",
           "#FF97FF",
           "#FECB52"
          ],
          "font": {
           "color": "#2a3f5f"
          },
          "geo": {
           "bgcolor": "white",
           "lakecolor": "white",
           "landcolor": "#E5ECF6",
           "showlakes": true,
           "showland": true,
           "subunitcolor": "white"
          },
          "hoverlabel": {
           "align": "left"
          },
          "hovermode": "closest",
          "mapbox": {
           "style": "light"
          },
          "paper_bgcolor": "white",
          "plot_bgcolor": "#E5ECF6",
          "polar": {
           "angularaxis": {
            "gridcolor": "white",
            "linecolor": "white",
            "ticks": ""
           },
           "bgcolor": "#E5ECF6",
           "radialaxis": {
            "gridcolor": "white",
            "linecolor": "white",
            "ticks": ""
           }
          },
          "scene": {
           "xaxis": {
            "backgroundcolor": "#E5ECF6",
            "gridcolor": "white",
            "gridwidth": 2,
            "linecolor": "white",
            "showbackground": true,
            "ticks": "",
            "zerolinecolor": "white"
           },
           "yaxis": {
            "backgroundcolor": "#E5ECF6",
            "gridcolor": "white",
            "gridwidth": 2,
            "linecolor": "white",
            "showbackground": true,
            "ticks": "",
            "zerolinecolor": "white"
           },
           "zaxis": {
            "backgroundcolor": "#E5ECF6",
            "gridcolor": "white",
            "gridwidth": 2,
            "linecolor": "white",
            "showbackground": true,
            "ticks": "",
            "zerolinecolor": "white"
           }
          },
          "shapedefaults": {
           "line": {
            "color": "#2a3f5f"
           }
          },
          "ternary": {
           "aaxis": {
            "gridcolor": "white",
            "linecolor": "white",
            "ticks": ""
           },
           "baxis": {
            "gridcolor": "white",
            "linecolor": "white",
            "ticks": ""
           },
           "bgcolor": "#E5ECF6",
           "caxis": {
            "gridcolor": "white",
            "linecolor": "white",
            "ticks": ""
           }
          },
          "title": {
           "x": 0.05
          },
          "xaxis": {
           "automargin": true,
           "gridcolor": "white",
           "linecolor": "white",
           "ticks": "",
           "title": {
            "standoff": 15
           },
           "zerolinecolor": "white",
           "zerolinewidth": 2
          },
          "yaxis": {
           "automargin": true,
           "gridcolor": "white",
           "linecolor": "white",
           "ticks": "",
           "title": {
            "standoff": 15
           },
           "zerolinecolor": "white",
           "zerolinewidth": 2
          }
         }
        },
        "title": {
         "text": "3d TSNE Plot for Topic Model"
        },
        "width": 900
       }
      },
      "text/html": [
       "<div>\n",
       "        \n",
       "        \n",
       "            <div id=\"fd7f2584-267e-4f99-bf3a-f0ac58e77492\" class=\"plotly-graph-div\" style=\"height:800px; width:900px;\"></div>\n",
       "            <script type=\"text/javascript\">\n",
       "                require([\"plotly\"], function(Plotly) {\n",
       "                    window.PLOTLYENV=window.PLOTLYENV || {};\n",
       "                    \n",
       "                if (document.getElementById(\"fd7f2584-267e-4f99-bf3a-f0ac58e77492\")) {\n",
       "                    Plotly.newPlot(\n",
       "                        'fd7f2584-267e-4f99-bf3a-f0ac58e77492',\n",
       "                        [{\"hoverlabel\": {\"namelength\": 0}, \"hovertemplate\": \"Dominant_Topic=Topic 0<br>0=%{x}<br>1=%{y}<br>2=%{z}\", \"legendgroup\": \"Dominant_Topic=Topic 0\", \"marker\": {\"color\": \"#636efa\", \"opacity\": 0.7, \"symbol\": \"circle\"}, \"mode\": \"markers\", \"name\": \"Dominant_Topic=Topic 0\", \"scene\": \"scene\", \"showlegend\": true, \"type\": \"scatter3d\", \"x\": [3.633030652999878, 4.5877156257629395, 4.026887893676758, 4.610044956207275, 4.203318119049072, 4.5110859870910645, 1.771423578262329, 2.3697023391723633, 2.2599337100982666, 2.015852928161621, 0.9851871728897095, 4.404328346252441, 3.089796543121338, 3.7014410495758057, 4.285826683044434, 3.563509941101074, 3.252544403076172, 2.5785999298095703, 3.0727901458740234, 3.2282638549804688, 3.9584481716156006, 4.3556976318359375, 4.205493450164795, 4.448802471160889, 3.715348243713379, 4.2741804122924805, 3.439340591430664, 4.115922927856445, 3.2559545040130615, 3.8067898750305176, 3.6700518131256104, 4.603335857391357, 4.469904899597168, 3.3254103660583496, 4.274874210357666, 4.769059181213379, 3.399991750717163, 2.8003907203674316, 3.915013551712036, 3.0825374126434326, 3.9223132133483887, 3.55310320854187, 4.0289306640625, 3.7275161743164062, 4.837360858917236, 4.5381951332092285, 4.363478660583496, 4.148050308227539, 1.0228506326675415, 3.5407614707946777, 4.526616096496582, 3.6123502254486084, 3.5074758529663086, 3.4247114658355713, 3.927950382232666, 3.9472098350524902, 1.050352931022644, 3.63435697555542, 4.528196811676025, 3.351391553878784, 3.4563047885894775, 4.497661590576172, 3.766307830810547, 4.434914588928223, 1.3517372608184814, 3.769338369369507, 4.538406848907471, 4.530595779418945, 4.342264652252197, 3.1037940979003906, 3.500969648361206, 3.514958381652832, 4.442852973937988, 3.4797277450561523, 2.0297276973724365, 4.429032325744629, 4.5049357414245605, 4.373819828033447, 4.3505144119262695, 4.094708442687988, 4.605403900146484, 3.2997653484344482, 4.521525859832764, 4.100284576416016, 3.3019280433654785, 4.3406829833984375, 4.961934566497803, 4.582396984100342, 3.907895565032959, 2.4066929817199707, 4.517980575561523, 4.260502815246582, 3.912025213241577, 4.440996170043945, 3.9061646461486816, 3.768892526626587, 4.696418762207031, 4.478221893310547, 4.259644985198975, 3.7406208515167236, 3.0639660358428955, 4.81693696975708, 4.492465019226074, 4.862962245941162, 3.9810917377471924, 3.901702642440796, 4.603203296661377, 3.1820223331451416, 4.555078506469727, 3.2758219242095947, 4.34433650970459, 4.558772563934326, 3.903721809387207, 4.467946529388428, 3.8257641792297363, 3.9619479179382324, 0.9384871125221252, 3.805917739868164, 4.045799255371094, 4.760965347290039, 3.4756758213043213, 4.4210991859436035, 4.1833086013793945, 3.7648205757141113, 3.130129098892212, 3.1146152019500732, 4.865078449249268, 4.636302471160889, 4.495794773101807, 3.906928062438965, 3.8640944957733154, 3.385080099105835, 4.678890228271484, 2.57216739654541, 3.7947521209716797, 4.5326056480407715, 4.517561912536621, 2.962507963180542, 4.612117290496826, 4.565192699432373, 1.8653985261917114, 3.811758041381836, 3.131052255630493, 4.535893440246582, 4.641035079956055, 2.4148647785186768, 3.811044931411743, 3.499514102935791, 4.085568904876709, 4.417851448059082, 1.1344337463378906, 4.353203296661377, 3.9073617458343506, 4.50230598449707, 4.631473064422607, 3.9285061359405518, 3.848017454147339, 4.241478443145752, 4.130663871765137, 3.919649362564087, 4.404086589813232, 3.1844422817230225, 3.3990800380706787, 4.388549327850342, 3.1241836547851562, 4.467556953430176, 3.0298213958740234, 2.5736992359161377, 3.9028522968292236, 4.380202770233154, 4.912912368774414, 2.6414616107940674, 3.1570277214050293, 2.0387914180755615, 3.2200400829315186, 3.7681679725646973, 4.08086633682251, 4.227034091949463, 3.998941421508789, 4.2645368576049805, 2.4300150871276855, 2.6183626651763916, 3.5562400817871094, 0.38521841168403625, 3.53442120552063, 3.4956467151641846, 3.2367899417877197, 3.895205020904541, 2.6264522075653076, 4.441183567047119, 4.134150981903076, 2.2184958457946777, 4.102872371673584, 4.595625400543213, 2.243201971054077, 4.78275728225708, 2.6992030143737793, 4.445952892303467, 3.938136100769043, 4.115927219390869, 4.3139824867248535, 4.6564249992370605, 4.5344648361206055, 2.2460837364196777, 3.9237747192382812, 4.3585920333862305, 3.7400176525115967, 3.815169095993042, 3.9084794521331787, 2.7077088356018066, 0.4891713261604309, 3.500269651412964, 4.4571099281311035, 3.637338638305664, 3.9924771785736084, 4.4669318199157715, 3.4781954288482666, 3.5156757831573486, 2.9605300426483154, 1.9641002416610718, 4.632818698883057, 4.734249114990234, 4.045670509338379, 1.3997360467910767, 3.732619524002075, 3.621734619140625, 4.512710094451904, 4.664770603179932, 3.816941261291504, 3.810417652130127, 4.499192237854004, 4.370839595794678, 2.524847984313965, 4.51970911026001, 4.616907119750977, 4.538954734802246, 4.223537921905518, 4.427907466888428, 1.053989291191101, 4.763553142547607, 3.535738468170166, 3.23209285736084, 3.6229984760284424, 1.4847512245178223, 4.080257892608643, 3.1702938079833984, 4.545665740966797, 4.424469470977783, 3.0084006786346436, 4.850257873535156, 4.290288925170898, 3.9467685222625732, 4.714505672454834, 3.25211238861084, 3.9286770820617676, 4.566307067871094, 4.286698341369629, 4.3515825271606445, 2.932400703430176, 3.519605875015259, 3.354093551635742, 3.9625282287597656, 3.567819595336914, 4.547379493713379, 3.9194676876068115, 4.5668439865112305, 4.640253067016602, 4.113763809204102, 3.996137857437134, 3.8928887844085693, 4.361504077911377, 3.6307106018066406, 1.0477378368377686, 4.526384353637695, 2.740320920944214, 3.290184736251831, 3.832904577255249], \"y\": [1.1935052871704102, -3.4764204025268555, -4.819556713104248, 1.4705301523208618, -4.6394500732421875, -3.0577824115753174, -5.759902477264404, -0.8908705115318298, -5.685483455657959, -3.8971099853515625, -1.6300734281539917, -3.9341604709625244, 0.8065187931060791, 2.7007482051849365, -0.6742854118347168, -8.09962272644043, -5.756162166595459, -4.192139625549316, -2.8542263507843018, -3.938746213912964, -7.438798427581787, -5.929706573486328, -5.837709903717041, -0.5270401835441589, 2.3046364784240723, -5.516120433807373, 1.4971425533294678, -6.519749164581299, -3.2813730239868164, -4.430037498474121, -6.939429759979248, -3.5953547954559326, -2.5973730087280273, -3.8335511684417725, -6.526931285858154, -1.229296326637268, -5.259902477264404, -6.186009883880615, -7.859436988830566, -3.76623797416687, -8.052313804626465, -8.019165992736816, -1.4751102924346924, -5.528846263885498, -1.0676002502441406, -3.16491436958313, -3.546966314315796, -6.13244104385376, -2.454350471496582, -7.959017753601074, -2.979956865310669, -3.6045234203338623, -8.022775650024414, -7.747598648071289, -7.384477138519287, -7.613505840301514, -2.503208875656128, -7.15864896774292, -3.12780499458313, -7.575618267059326, -2.3313546180725098, -3.301515817642212, -6.189948081970215, -4.396973133087158, -2.1387689113616943, -4.169722557067871, -3.91936993598938, -3.5585596561431885, -4.0417399406433105, -1.2529546022415161, -6.194797515869141, -7.863248348236084, -1.084816813468933, 0.6286503672599792, -5.953190803527832, -5.353242874145508, -3.0380702018737793, -4.5448808670043945, -4.070339202880859, -6.31475830078125, -2.375622510910034, 0.36063629388809204, -3.1690948009490967, -3.029041051864624, -1.951759696006775, -0.5199472904205322, -1.3286055326461792, -3.6871163845062256, -7.949777603149414, -5.9328107833862305, -1.1693668365478516, -5.1478271484375, -7.919449329376221, -3.066385507583618, -8.01836109161377, 1.383144497871399, -0.4250833988189697, -2.4545159339904785, -6.515751838684082, -8.269025802612305, -1.3533964157104492, -0.7267882227897644, 0.42752155661582947, -0.706298828125, -7.22654914855957, -7.961958408355713, -3.593778610229492, 2.5163397789001465, -1.1395864486694336, -7.6150312423706055, -2.8236031532287598, -0.7565431594848633, -8.103326797485352, -4.207028865814209, -2.2572340965270996, -7.367326259613037, 0.6327845454216003, -4.9740071296691895, -6.89409065246582, -0.36788758635520935, -2.7349393367767334, -2.5595040321350098, -1.1935256719589233, -4.462949752807617, -1.6650534868240356, 1.8912394046783447, -0.7073594331741333, 0.6351293325424194, -3.0049259662628174, -8.062003135681152, -8.306374549865723, 1.7448114156723022, -3.120450258255005, -5.489016056060791, -8.288748741149902, -3.156660318374634, -3.8228602409362793, -5.957282543182373, -0.17349472641944885, -0.618450939655304, -3.7247297763824463, 2.2393953800201416, -0.9458828568458557, 0.7217066884040833, -2.9938502311706543, -5.989746570587158, -8.28213119506836, -7.633681774139404, -3.6708672046661377, -3.5501365661621094, -1.2175027132034302, -3.9936680793762207, -5.151581287384033, -2.943025827407837, 0.6792973875999451, -7.715454578399658, -5.250784873962402, -0.503050684928894, -6.416252613067627, -7.8443074226379395, -4.714033126831055, -3.3143911361694336, -7.4918437004089355, -3.2789220809936523, -6.918787479400635, -2.668224811553955, -3.103215456008911, -0.6599587798118591, -5.126096248626709, -4.847569942474365, -0.94456547498703, -5.724832534790039, -6.952584743499756, -3.8694868087768555, -2.3544957637786865, -6.779916286468506, -6.792394638061523, -5.506895065307617, -7.192601680755615, -5.588471412658691, -5.17758321762085, -5.691593647003174, -7.797787189483643, -2.0735113620758057, -1.1461706161499023, 2.483304500579834, -0.33049020171165466, -7.996728420257568, -0.6549510955810547, -2.778372287750244, -3.8542771339416504, -6.123738765716553, -4.32885217666626, -0.43854206800460815, -5.943263530731201, -3.034393787384033, -5.965975761413574, -3.4712841510772705, -7.623683452606201, -6.535823345184326, -6.220619201660156, -0.016472600400447845, -2.8160784244537354, -5.201671600341797, -7.865895748138428, -3.6529459953308105, -6.711511611938477, -5.105963230133057, -7.893490314483643, -5.917086601257324, -2.1379947662353516, -7.8378119468688965, -4.391177654266357, -5.582389831542969, -7.135681629180908, -3.918776035308838, -7.794037818908691, -7.844252586364746, -6.4806413650512695, -2.9605071544647217, -3.731701612472534, -0.68434077501297, -7.183065414428711, -3.5547680854797363, -8.23297119140625, -8.176803588867188, -2.6620068550109863, -3.6147563457489014, -8.180107116699219, -8.300458908081055, -4.535255432128906, -5.919744491577148, -5.219430923461914, -3.5798416137695312, -2.834669828414917, -2.4710402488708496, -6.693687438964844, -4.244922637939453, -2.50657057762146, -2.7786314487457275, -7.5088372230529785, 1.4880754947662354, -4.5108513832092285, -3.6214683055877686, -6.73694372177124, -3.4540369510650635, -2.8061161041259766, -4.477425575256348, -6.593926429748535, -0.570366621017456, -6.006331443786621, -7.534555435180664, -1.3671385049819946, -6.561718940734863, -7.7157158851623535, -0.981300950050354, -4.54286527633667, -4.275012969970703, -6.435556888580322, -7.9100751876831055, -3.562631607055664, -7.894437313079834, -8.013543128967285, 4.289221286773682, -8.003339767456055, -1.588019847869873, 0.530701756477356, -6.581701278686523, -0.9335688948631287, -8.237817764282227, -3.741241693496704, -7.786627292633057, -2.512539863586426, -4.184864044189453, -6.043788909912109, -7.104207515716553, -8.294357299804688], \"z\": [7.323667049407959, 8.272290229797363, 7.675723075866699, 10.986906051635742, 15.90895938873291, 12.398472785949707, 5.9451823234558105, 6.116261005401611, 13.080557823181152, 9.649827003479004, 6.886312484741211, 7.636171340942383, 5.548168659210205, 7.601561546325684, 9.269105911254883, 8.021293640136719, 4.950440406799316, 9.248543739318848, 3.9402966499328613, 12.859328269958496, 14.769875526428223, 10.55593490600586, 16.264406204223633, 9.366401672363281, 7.5523152351379395, 16.570171356201172, 6.593927383422852, 15.958064079284668, 4.149232387542725, 5.441511631011963, 14.30583381652832, 17.72700309753418, 14.428363800048828, 13.375704765319824, 11.098061561584473, 8.561714172363281, 4.9335174560546875, 4.085893154144287, 13.80400276184082, 3.8331077098846436, 11.36909008026123, 7.913136959075928, 7.789040565490723, 5.9734673500061035, 9.32983684539795, 16.300838470458984, 14.352356910705566, 15.960875511169434, 9.488469123840332, 7.794779300689697, 15.858314514160156, 12.414105415344238, 7.588744163513184, 6.994480133056641, 14.473566055297852, 14.604815483093262, 9.7510986328125, 7.667034149169922, 12.124032974243164, 6.5810651779174805, 7.974481105804443, 16.059080123901367, 6.875601291656494, 16.877931594848633, 7.780400276184082, 9.021576881408691, 9.145695686340332, 11.45002555847168, 7.408530235290527, 12.429790496826172, 8.355325698852539, 9.50133228302002, 12.81302261352539, 6.2739973068237305, 5.776832103729248, 10.549476623535156, 12.50401782989502, 16.522411346435547, 13.818497657775879, 15.633199691772461, 7.847570896148682, 5.8599138259887695, 16.09432601928711, 7.911869049072266, 4.789751052856445, 9.522358894348145, 9.507909774780273, 17.6118221282959, 13.204336166381836, 5.472253799438477, 13.011706352233887, 13.697436332702637, 12.984682083129883, 14.846213340759277, 11.921562194824219, 7.627588272094727, 11.348411560058594, 13.8860445022583, 10.723898887634277, 9.348559379577637, 8.928438186645508, 8.998617172241211, 9.90691089630127, 9.404498100280762, 14.790205001831055, 12.963520050048828, 17.7231502532959, 6.60326623916626, 13.882994651794434, 9.7598237991333, 13.055815696716309, 12.453856468200684, 11.353143692016602, 9.241241455078125, 8.01743221282959, 14.866613388061523, 6.496701240539551, 5.75274133682251, 15.557329177856445, 10.63528823852539, 4.763638973236084, 12.8643159866333, 7.123221397399902, 5.359480381011963, 4.619505882263184, 6.458924293518066, 10.129952430725098, 11.16877555847168, 15.501585006713867, 11.301491737365723, 10.754310607910156, 6.773447036743164, 8.459052085876465, 3.334599018096924, 9.889695167541504, 7.5770769119262695, 11.488715171813965, 4.492454528808594, 11.453146934509277, 8.160937309265137, 9.060450553894043, 7.742079734802246, 5.097280502319336, 10.203104019165039, 8.202422142028809, 4.585999965667725, 10.058503150939941, 13.125713348388672, 11.361021041870117, 15.443449974060059, 6.445940971374512, 10.24649429321289, 8.031667709350586, 12.717516899108887, 11.112154960632324, 14.211996078491211, 6.1121320724487305, 9.34912109375, 14.021347045898438, 10.733054161071777, 16.943227767944336, 4.018111228942871, 6.699841022491455, 14.32535457611084, 5.400308609008789, 13.643266677856445, 3.7989418506622314, 6.072290897369385, 6.190200328826904, 16.87082290649414, 9.400177001953125, 3.5586142539978027, 5.552334785461426, 9.96919059753418, 4.403380870819092, 8.009391784667969, 15.802179336547852, 16.189697265625, 15.272998809814453, 16.54706573486328, 3.071397066116333, 3.4856386184692383, 7.797245502471924, 7.16265869140625, 12.547222137451172, 7.274522304534912, 5.570249080657959, 12.503011703491211, 5.694952964782715, 14.457327842712402, 6.209073543548584, 12.913412094116211, 6.3198676109313965, 12.461036682128906, 13.07153034210205, 9.129528999328613, 3.758244752883911, 12.972919464111328, 14.445069313049316, 15.96299934387207, 12.559282302856445, 11.46151351928711, 7.604009628295898, 3.3000082969665527, 13.900233268737793, 14.482428550720215, 7.755063533782959, 5.87105655670166, 13.541248321533203, 3.780836582183838, 7.184179306030273, 7.429356575012207, 17.09827995300293, 5.773654937744141, 15.201776504516602, 16.572114944458008, 7.259141445159912, 7.528663635253906, 4.679620265960693, 8.294161796569824, 9.629294395446777, 8.592690467834473, 13.785690307617188, 8.523311614990234, 9.376143455505371, 8.479059219360352, 15.149524688720703, 9.621124267578125, 10.161907196044922, 10.06696605682373, 10.385392189025879, 10.714201927185059, 3.169978380203247, 11.601831436157227, 11.823251724243164, 7.502366065979004, 12.509315490722656, 16.626562118530273, 9.832738876342773, 8.6626558303833, 7.3024468421936035, 6.434606552124023, 5.066463947296143, 8.655978202819824, 15.78138256072998, 3.9767367839813232, 7.515073299407959, 16.975439071655273, 4.889312744140625, 9.580912590026855, 13.101822853088379, 14.74626350402832, 8.346695899963379, 8.575583457946777, 14.212370872497559, 13.476008415222168, 13.280949592590332, 8.074482917785645, 4.577138900756836, 9.156362533569336, 4.326426982879639, 11.108046531677246, 9.01455307006836, 9.422484397888184, 11.340970039367676, 12.474142074584961, 11.184164047241211, 15.970528602600098, 6.845922470092773, 11.585693359375, 14.841667175292969, 11.213762283325195, 9.644566535949707, 10.518474578857422, 3.8942182064056396, 14.088743209838867, 10.3822660446167]}, {\"hoverlabel\": {\"namelength\": 0}, \"hovertemplate\": \"Dominant_Topic=Topic 1<br>0=%{x}<br>1=%{y}<br>2=%{z}\", \"legendgroup\": \"Dominant_Topic=Topic 1\", \"marker\": {\"color\": \"#EF553B\", \"opacity\": 0.7, \"symbol\": \"circle\"}, \"mode\": \"markers\", \"name\": \"Dominant_Topic=Topic 1\", \"scene\": \"scene\", \"showlegend\": true, \"type\": \"scatter3d\", \"x\": [-7.94115686416626, -0.0052117956802248955, 2.5846121311187744, -3.642270803451538, 1.2706029415130615, -4.25941801071167, -5.890722274780273, 0.36300113797187805, -1.3338645696640015, -4.22210168838501, -5.194832801818848, -3.3071117401123047, -1.4556809663772583, -1.4632346630096436, -1.2218166589736938, -6.844659328460693, -7.55720853805542, -3.8139560222625732, 2.122553825378418, -2.6891255378723145, -1.1932085752487183, -3.5620174407958984, -5.50067138671875, 0.3529263138771057, -7.904808044433594, 1.014156460762024, -0.38149186968803406, -5.8329949378967285, -1.995658278465271, -1.1701765060424805, 0.4219805598258972, -1.8528562784194946, -6.100635528564453, -3.7527883052825928, -1.5070351362228394, 1.9017046689987183, 4.797907829284668, -1.9627559185028076, -7.3174357414245605, 0.8717753887176514, 1.7003947496414185, -5.013935565948486, 0.8851441740989685, 0.9892637133598328, -4.277068614959717, 0.7482582330703735, -0.9006216526031494, -2.253842353820801, 2.3236351013183594, 2.3236405849456787, -0.8945019245147705, -0.6015254855155945, -1.5808026790618896, -7.890764236450195, 1.608237862586975, -3.4689059257507324, -2.8525400161743164, -2.472317695617676, -6.4090094566345215, -4.02437686920166, -2.1850149631500244, 0.2176450937986374, -6.7906904220581055, -1.6775777339935303, 2.342298746109009, -5.178661823272705, -5.159592151641846, 0.17155829071998596, -6.038234710693359, -0.7529803514480591, 0.3032575249671936, -2.885758876800537, -3.920633316040039, 1.2103545665740967, -7.027923107147217, -1.8783844709396362, -3.42689847946167, -3.4668519496917725, -1.0610963106155396, -1.432357668876648, 1.0966870784759521, -5.6151275634765625, -5.054836273193359, -2.5114452838897705, -3.836683750152588, -3.070274591445923, -5.3010711669921875, 1.7534255981445312, -1.1008363962173462, 0.5779191255569458, -4.067863464355469, -1.705134391784668, -3.717066764831543, -2.9721410274505615, -3.6231842041015625, -7.772497177124023, 3.4191370010375977, -2.52647066116333, 0.5981011390686035, -5.578208923339844, -3.4991538524627686, 5.02239465713501, 1.7498128414154053, -6.532235145568848, -7.454747200012207, -0.053691472858190536, -1.174300193786621, -3.7708868980407715, -7.919919490814209, -5.262755870819092, -0.4804970920085907, 2.3717548847198486, -0.16041681170463562, -0.252291202545166, -3.269989490509033, -0.2903868854045868, -1.4323941469192505, 1.5749410390853882, 0.3153418302536011, -1.6525394916534424, 4.627086162567139, -0.2202160358428955, -7.637465953826904, 0.7008758783340454, 0.1163966953754425, -7.511300086975098, -0.30294540524482727, -0.18624091148376465, -2.033473253250122, -1.6084154844284058, -0.2837614417076111, -7.773268699645996, 0.029705408960580826, 0.900288462638855, 2.355499267578125, -7.798259258270264, -2.096674680709839, 0.3248460292816162, 1.947871446609497, -3.609416961669922, -3.1242189407348633, 0.0797487273812294, -1.1205666065216064, -2.379213809967041, -6.204397201538086, -1.9133005142211914, -6.177272319793701, -7.099005222320557, -7.5468525886535645, -1.758091688156128, -0.9470146894454956, 0.7388126850128174, -3.2955050468444824, -6.0786237716674805, 1.650296926498413, -5.548341751098633, 1.895316243171692, -2.9239790439605713, 1.4906764030456543, 4.201179027557373, 0.9369388818740845, -5.825854778289795, -6.873534202575684, 2.677424907684326, 1.3934298753738403, 0.10886023193597794, -1.5456593036651611, 0.009445242583751678, -3.7074077129364014, 1.6042795181274414, -2.3564088344573975, -1.2759952545166016, -6.810418128967285, -0.9540477991104126, 1.8111963272094727, -0.004239524714648724, -1.5862047672271729, -6.37697696685791, -1.450144648551941, 3.0879275798797607, -7.802783966064453, -0.5453720688819885, -7.774062156677246, 2.502497911453247, 0.6254749298095703, -3.7922370433807373, -0.35720545053482056, -2.004547119140625, 1.5432409048080444, -1.583992838859558, -3.430098533630371, -1.3775862455368042, -4.212108135223389, 1.4532817602157593, -6.916723728179932, -3.509124994277954, 0.8364763259887695, -1.9295989274978638, 0.01810934767127037, -7.989025115966797, 0.8761128187179565, -0.8756198287010193, -4.298381328582764, -2.6666665077209473, 0.5706425905227661, -5.3693718910217285, 2.0680298805236816, -0.9234884977340698, -6.617949485778809, 1.3442646265029907, -5.2915472984313965, -1.7716418504714966, 2.7445297241210938, -0.2144322395324707, -0.03343389183282852, -3.6578569412231445, -3.729799509048462, -7.371612548828125, -0.7398534417152405, -1.6230863332748413, 5.076948165893555, -3.973231077194214, 4.712535858154297, -7.959299087524414, 0.9829570651054382, -4.85247278213501, -3.667795181274414, -0.2124834507703781, -0.07432789355516434, -2.4523050785064697, -1.7573421001434326, -5.216527462005615, 0.8708016276359558, -6.393150329589844, 0.6887660026550293, 4.429017066955566, -8.051741600036621, 2.9166128635406494, -5.539758682250977, -7.478091239929199, -1.92009437084198, 0.738267719745636, -4.594978332519531, -5.612751007080078, 2.5561935901641846, -2.066476821899414, -8.00947093963623, -1.5147842168807983, -3.311366319656372, -1.5463593006134033, 1.1959247589111328, -6.076839447021484, -8.066908836364746, -1.4110602140426636, 0.03605631738901138, 1.0896108150482178, -4.654140472412109, -6.691844940185547, 1.557117223739624, -1.9299944639205933, 0.750689685344696, 1.3761991262435913, 2.4188883304595947, -0.5291486978530884, 2.968320369720459, -6.095461845397949, 2.356435775756836, -1.155807614326477, -1.4061247110366821, -0.05561928078532219, -0.3023096024990082, 2.5364644527435303, 5.095938205718994, -3.9647533893585205, -0.26705607771873474, -5.004394054412842, -1.8564436435699463, -3.816493272781372, -7.149764537811279, -0.7653424143791199, -5.91257381439209, -5.108837127685547, -3.3835668563842773, -2.1869943141937256, -5.304196834564209, -1.6068739891052246, 0.37309530377388, -7.982397556304932, -6.609567642211914, 1.0279165506362915, -0.33793479204177856, -7.455438613891602, -4.160484790802002, -4.8327484130859375, 2.600865602493286, 5.384870529174805, 0.5734357833862305, -0.7177938222885132, 1.150478720664978, 4.228313446044922, -0.20894594490528107, -0.5236900448799133, -3.334023952484131, -1.4191303253173828, -0.1858479529619217, -5.717112064361572, -5.875542640686035, -4.022218227386475, -1.5373929738998413, 0.40910422801971436, -2.0095317363739014, 0.9443697929382324, -5.7448506355285645, -0.21856912970542908, -1.8541041612625122, -1.849294662475586, -7.8390727043151855, -7.328514099121094, -1.1018345355987549, -8.11056900024414, 5.386256217956543, -0.3537448048591614, -2.1801908016204834, 1.2453391551971436, -4.4001145362854, -0.514562726020813, -1.4280500411987305, -6.065094947814941, 2.314746141433716, -2.468411684036255, -2.352874755859375, 4.904620170593262, -7.577846527099609, 1.6161878108978271, -5.764609336853027, -5.579220771789551, -7.604083061218262, -0.985474169254303, -7.076655864715576, -0.4826882779598236, -6.683858394622803, -6.495422840118408, -7.5364251136779785, -4.690825462341309, -1.0714539289474487, -0.4684319496154785, -2.1026647090911865, -7.995482921600342, -7.049113750457764, -7.44102144241333, -1.357479214668274, -1.2829101085662842, 0.6019086241722107, 2.419942855834961, -6.804116725921631, -0.8274224400520325, 1.5154950618743896, -3.616450309753418, -5.784093379974365, -4.682799816131592, 1.7169225215911865, -5.942267417907715, -7.8427605628967285, 0.5211363434791565, -1.427366852760315, -5.420969486236572, -1.9087762832641602, -3.0961101055145264, 0.9507864117622375, -3.5578255653381348, -7.850866317749023, 0.5900917053222656, -7.722838878631592, -0.3957502841949463, -3.9361929893493652, -2.860241174697876, -6.2184858322143555, -6.507040977478027, -1.3843653202056885, -7.3948893547058105, 0.5004039406776428, 0.9211189150810242, 1.5987274646759033, 1.2055786848068237, -1.4255075454711914, -1.2223385572433472, 2.4168431758880615, -0.7541971802711487, -8.000190734863281, -2.8003671169281006, -4.166458606719971, -2.5985684394836426, -0.5954615473747253, -4.928678035736084, -3.0819308757781982, -0.7806898355484009, 0.5619514584541321, 2.0546774864196777, -2.0918571949005127, 2.0113253593444824, 2.7877495288848877, 2.064082384109497, -7.984109878540039, -7.3207244873046875, 1.9593889713287354, 1.438759446144104, 2.165118455886841, 2.3923370838165283, -0.4708884358406067, -2.556135416030884, -4.0255208015441895, -3.0375781059265137, 4.25789213180542, 0.32028928399086, -1.6406160593032837, 2.3355438709259033, 0.5905222296714783, 2.032834529876709, 3.2467281818389893, -1.0341863632202148, 2.1554174423217773, 3.4646570682525635, -3.012996196746826, -7.846585273742676, -3.315073251724243, 0.8687478303909302, -1.6909233331680298, -1.5533899068832397, 1.6727421283721924, -4.206707954406738, 0.09270701557397842, 1.79008150100708, -7.975950717926025, 0.8106106519699097, -1.5967586040496826, -2.5985875129699707, -5.001524925231934, -5.132509708404541, 2.492025136947632, 0.02443554624915123, 1.603334903717041, -2.0245330333709717, 3.703939199447632, -5.031228065490723, -2.999823808670044, 0.0011020253878086805, 1.1559373140335083, -0.4317418038845062, 2.3253047466278076, -2.2430622577667236, 3.8277523517608643, -8.071430206298828, 1.047020435333252, 0.3194659650325775, 0.5900223851203918, 4.7707319259643555, -1.1874090433120728, 1.5671168565750122, -6.708011150360107, 1.0679466724395752, -4.08048152923584, 0.504455029964447, 2.0777134895324707, -3.3953943252563477, 0.6367282867431641, -6.264145851135254, -1.9221512079238892, 1.5649560689926147, 1.4298418760299683, 2.587348699569702, -5.620098114013672, -2.0902504920959473, -0.9784575700759888, -7.152744293212891, 1.2496075630187988, 1.6663707494735718, -5.827499866485596, -0.9821258783340454, -0.28208136558532715, -1.993998646736145, 1.1220946311950684, -2.034247875213623, -0.2643822729587555, -4.553980827331543, 0.31449612975120544, -1.4631836414337158, 0.8414658904075623, -2.2981815338134766, 0.14387786388397217, -0.597418487071991, 1.3449532985687256, -5.4750590324401855, 3.751575231552124, 3.9495418071746826, -0.47344970703125, -1.2376571893692017, -1.5972881317138672, -2.052428722381592, -5.523507595062256, 1.2636806964874268, 1.1731956005096436, -6.534177303314209, 0.4145025908946991, 2.6022796630859375, 0.6791552901268005, -2.0040762424468994, -3.854678153991699, 3.6421523094177246, 2.2292089462280273, 0.8105750679969788, -6.147249698638916, 0.2417965680360794, -4.144539833068848, -3.583522319793701, 2.9854578971862793, 0.7624030709266663, 0.08484659343957901, -2.064807176589966, -0.735037088394165, 1.674838662147522, -6.82301139831543, -1.9533298015594482, -6.175493240356445, -4.227785587310791, -7.921395778656006, -0.9336737990379333, -0.35956302285194397, -6.025592803955078, -2.2491848468780518, -3.986821413040161, -0.3102686405181885, -3.33687686920166, -1.2919137477874756, 1.9685618877410889, -1.0492266416549683, 0.342111200094223, -0.16108247637748718, -1.8720375299453735, 1.8327304124832153, 0.6723163723945618, -1.8171604871749878, -0.028504956513643265, 2.2882070541381836, -1.7129448652267456, 2.8383748531341553, -8.030563354492188, -3.1243627071380615, -0.5873113870620728, -4.304234981536865, -6.881873607635498, -5.026500225067139, -6.058558464050293, -5.788866996765137, -8.029451370239258, 0.8392442464828491, -8.028926849365234, -4.32347297668457, -2.7349514961242676, 1.86882746219635, -3.2962591648101807, 2.980835199356079, 1.4986859560012817, 1.7945971488952637, 1.7763068675994873, -6.959832191467285, -6.795751571655273, 0.3051127791404724, -8.05399227142334, 0.12620675563812256, -7.948602676391602, 0.8742343187332153, -1.2632725238800049, -0.7349844574928284, -3.3998639583587646, -0.14718110859394073, -1.4763540029525757, -1.6543495655059814, 1.5893539190292358, -0.4895651340484619, 1.316701889038086, -2.5976648330688477, -3.5975654125213623, -4.589390754699707, -0.07239207625389099, -1.2001885175704956, -8.06086540222168, -4.460102558135986, -6.916287422180176, 0.3858813941478729, -7.287796497344971, -2.025165319442749, -6.05615758895874, 1.239048957824707, -4.407906532287598, -0.4597324728965759, -5.8251800537109375, -2.874159336090088, -1.9825396537780762, -7.743002414703369, -0.820894718170166, -1.7697699069976807, -2.682981014251709, -4.6867289543151855, -0.1672631949186325, -5.154219150543213, 0.845292329788208, -0.8700017333030701, -3.7477262020111084, -7.014155387878418], \"y\": [1.6048942804336548, 5.634375095367432, -6.333885669708252, 2.646899938583374, 4.612203121185303, 4.881326675415039, 0.037226077169179916, 2.6412367820739746, -2.776383638381958, 5.0671067237854, 3.2495062351226807, -4.319432258605957, -2.7725753784179688, 4.950099468231201, 0.8432828187942505, -0.25993481278419495, -1.1075712442398071, -2.5537214279174805, 4.756935119628906, 6.207127094268799, 6.388759136199951, 3.503926992416382, 5.315451145172119, 3.8333029747009277, 1.7099326848983765, 5.251338481903076, -1.0180320739746094, -3.7559144496917725, -4.149151802062988, 5.370054721832275, -2.0657670497894287, 5.2499775886535645, 5.179879665374756, -0.6185063123703003, -0.5108699798583984, -6.294671058654785, -7.044851303100586, -3.8650548458099365, -1.6561079025268555, -0.4887283742427826, -6.169528007507324, 0.9526365995407104, 4.432450771331787, 2.7836601734161377, 4.856365203857422, 5.546537399291992, 5.475883960723877, 5.437049388885498, 4.213347434997559, 4.213352680206299, -2.0481011867523193, -1.6293326616287231, -1.756954312324524, 1.646939992904663, 3.7108395099639893, -1.6613857746124268, 4.380621433258057, -3.824476957321167, -2.997429132461548, 4.913206100463867, 6.5356669425964355, 1.0276294946670532, 2.500957727432251, -3.3860526084899902, -2.3490381240844727, -4.08280611038208, 5.462953567504883, -2.0575411319732666, -3.431525230407715, 7.317548751831055, -0.8526188135147095, 1.5896854400634766, -0.05971762537956238, -2.9739081859588623, -1.9212359189987183, 6.3646769523620605, 1.0641429424285889, -1.4931660890579224, -4.983367443084717, -1.0071669816970825, 5.426451683044434, -3.8007078170776367, -4.183852195739746, 4.537739276885986, 5.9835734367370605, 6.355161190032959, 5.361293315887451, -5.908812999725342, 4.612371921539307, 0.5073885321617126, 5.793890953063965, 5.367893695831299, -0.6674498319625854, 6.3563103675842285, -4.905021667480469, -0.1210712119936943, -6.670551776885986, -3.871722459793091, 3.246645927429199, 5.498786449432373, 6.158041954040527, -7.190803527832031, -5.877399921417236, -0.19715189933776855, -0.710940957069397, -5.361755847930908, 0.44623997807502747, 5.808590888977051, 0.9798926115036011, -4.188933372497559, 0.36719444394111633, -6.0104756355285645, -1.3384448289871216, 1.6266523599624634, 2.745206117630005, 1.8298932313919067, -3.0716769695281982, 5.109371185302734, -0.6768160462379456, -3.2531161308288574, -7.264143943786621, -0.49522894620895386, -1.1648361682891846, 2.0671005249023438, -5.459291458129883, -1.1469417810440063, -0.3643692433834076, -0.781116783618927, 5.515554428100586, -4.738039493560791, 6.262175559997559, 1.9191834926605225, -5.386004447937012, 5.560806751251221, -2.8185603618621826, 2.3246278762817383, 4.565112590789795, -1.7822520732879639, 3.879521608352661, -2.825840711593628, -2.425722360610962, -1.5739572048187256, 0.5984491109848022, -2.2630155086517334, 4.608112812042236, -1.4125157594680786, 4.27639627456665, 4.343809604644775, -1.126922607421875, 6.388171195983887, 1.732835054397583, 3.0771427154541016, 1.608399748802185, 3.0503149032592773, 2.5096817016601562, 4.0941853523254395, 1.4064654111862183, 1.552944302558899, 3.600043773651123, -7.099283695220947, 3.275130271911621, -3.470280647277832, -2.3696956634521484, -6.229058742523193, 4.478718280792236, 3.817322254180908, -2.8382694721221924, 2.1666767597198486, -2.59613037109375, -3.5450239181518555, -3.9777677059173584, 4.035320281982422, 4.6415534019470215, -0.575015664100647, 0.6450613141059875, -1.6850427389144897, -3.2443902492523193, -2.9726364612579346, 0.4182160794734955, -6.5630083084106445, -0.732330322265625, 0.1923922598361969, 1.2398301362991333, 4.550955295562744, 0.5264581441879272, 5.135415077209473, 0.9953106641769409, -4.254118919372559, -3.382704019546509, -4.627348899841309, 1.7551865577697754, 4.3073649406433105, 0.7406690716743469, -3.2839231491088867, 1.0658942461013794, -1.371559977531433, 5.284963130950928, 4.543212413787842, 5.70839262008667, 1.0014595985412598, -5.736133575439453, -1.7995213270187378, -4.657936096191406, 6.0911359786987305, 2.9744372367858887, -4.118776321411133, 3.1176488399505615, 1.5339808464050293, 3.851928234100342, -6.011099338531494, 4.451236724853516, -0.19690342247486115, -6.311753273010254, 1.4776073694229126, -5.362045764923096, 5.81594705581665, 2.296886682510376, 3.4811418056488037, 5.4162726402282715, -4.853693962097168, -7.327854156494141, -1.1901094913482666, -6.919710159301758, 0.7875940799713135, 5.56117582321167, 5.29853630065918, -2.756045341491699, -1.5880060195922852, -1.0918992757797241, -0.7571255564689636, 2.6315526962280273, -1.9437999725341797, 1.496115803718567, 2.4622960090637207, -5.656060695648193, -6.865517616271973, 1.7052967548370361, 0.3660206198692322, -1.980002522468567, 3.3879244327545166, -3.2279281616210938, 3.0599286556243896, 2.8179445266723633, 4.719938278198242, 4.564695358276367, -4.228947639465332, -0.5925777554512024, -0.8768152594566345, 2.3465731143951416, -3.2362279891967773, 4.274595260620117, -4.028392314910889, 0.22825047373771667, -1.0652987957000732, 2.153352975845337, 2.872410535812378, 1.153241515159607, 2.3603763580322266, 3.684659719467163, 4.903537273406982, 5.574448108673096, -0.4512181878089905, -6.574646949768066, -0.5798860192298889, 0.13190416991710663, 0.9975466132164001, -6.01923131942749, -2.208554744720459, -4.766476154327393, 1.9677040576934814, 1.4297627210617065, -6.458621025085449, -7.424330711364746, 2.239374876022339, 1.5216608047485352, 3.26627254486084, -4.3728485107421875, -1.3983181715011597, 4.336909294128418, -1.02830970287323, -3.5537595748901367, -1.9059345722198486, -1.275890588760376, 0.7885149121284485, 1.6106477975845337, -4.029604434967041, 3.684765100479126, 0.752414345741272, -2.7142908573150635, 0.8021315336227417, 0.5823180675506592, -1.4414429664611816, 5.776196002960205, 5.416037082672119, -6.514928817749023, -7.511730194091797, 1.4880985021591187, -1.6427533626556396, -2.8937182426452637, -6.828319549560547, 2.3503947257995605, 5.227745532989502, -3.315735101699829, -3.0105655193328857, -0.7359749674797058, 4.488636016845703, 3.396993637084961, 5.829629898071289, -4.640369892120361, -0.8993674516677856, -3.9965622425079346, -2.6257970333099365, -1.8586188554763794, 5.297365665435791, 0.7457908391952515, 6.395696640014648, -0.7770709991455078, 1.8342539072036743, -4.956261157989502, 1.281166434288025, -7.506382465362549, -0.7029036283493042, 5.099581718444824, 4.20601224899292, -0.7890312075614929, 5.62647008895874, -0.8821774125099182, 5.24705696105957, -1.749684453010559, 4.471890449523926, 4.590931415557861, -7.059039115905762, 1.799917459487915, 0.5392417907714844, -0.012210963293910027, -1.798384666442871, -0.44184255599975586, -5.025312900543213, 4.310582160949707, -0.14269234240055084, 4.836189270019531, 3.8649539947509766, 3.1836018562316895, 1.84910249710083, 7.028460502624512, 5.465274810791016, -4.182088375091553, 0.7504755854606628, -2.2793545722961426, -1.5589810609817505, 5.577104091644287, 0.4282996654510498, 3.8135814666748047, 2.579281806945801, 3.0248332023620605, 0.31775104999542236, 3.9195923805236816, 1.8840898275375366, -4.019101619720459, -4.475222110748291, 5.565098762512207, -3.4508399963378906, 2.3805453777313232, -1.8316527605056763, 4.712479591369629, 3.654442310333252, -0.13597378134727478, 6.0387420654296875, -2.6379823684692383, -1.2089451551437378, 0.5040937662124634, 3.8187825679779053, 2.4584929943084717, -5.226707458496094, -4.822869300842285, 6.089503288269043, -3.6748266220092773, -0.15039843320846558, -4.769258499145508, 3.4927542209625244, 1.62314772605896, 0.21944452822208405, -3.425828456878662, 4.423220634460449, 0.08174892514944077, 0.8598024249076843, 1.1504580974578857, -0.24040646851062775, -0.12482238560914993, 1.6890515089035034, -4.650684356689453, 6.525102615356445, 0.9592202305793762, 4.840656757354736, 4.208651065826416, 4.812545299530029, 0.5867065191268921, -4.183886528015137, -1.8111320734024048, -4.3572540283203125, -2.511216402053833, -4.078987121582031, 1.5118004083633423, 3.729060411453247, 3.3596670627593994, -1.6128685474395752, -2.5506060123443604, -2.746579647064209, -0.5373218655586243, 6.469497203826904, 3.379584789276123, 6.108954906463623, -7.204064846038818, 1.5163648128509521, 5.63607931137085, 2.480860948562622, -2.217350721359253, 1.9953880310058594, -6.516652584075928, -2.0280306339263916, -5.970028400421143, -6.592029094696045, 2.5663528442382812, 1.122602939605713, 2.733792781829834, 3.275550127029419, -3.4141898155212402, -4.654372215270996, -5.86289644241333, -4.646737098693848, 3.8351614475250244, -2.677077531814575, -0.5755099058151245, -2.4493408203125, -4.876290321350098, 4.24589204788208, -4.4631829261779785, 1.0016111135482788, -6.533239364624023, -0.9409596920013428, -6.103650093078613, -3.036257266998291, -6.878949165344238, 4.475423812866211, -5.1087727546691895, -1.3478806018829346, 2.526923894882202, 5.672263145446777, 4.673642158508301, 4.4944353103637695, -6.852053165435791, 0.7441563606262207, -2.76440691947937, -2.2094309329986572, 0.5740318298339844, -7.359286785125732, 6.657351493835449, 3.975374698638916, 1.7109510898590088, -2.79634952545166, 3.5226848125457764, -0.51442950963974, -6.770118236541748, -1.667826771736145, 3.747063159942627, -3.6677067279815674, -1.116492509841919, -1.171173334121704, 4.83873987197876, 1.0229508876800537, 2.9345450401306152, -4.169126510620117, 7.140531539916992, 3.809974431991577, 5.54252815246582, -3.507638692855835, 0.4822591543197632, 1.9101718664169312, -1.1843516826629639, -4.312310218811035, 5.040314197540283, -0.7350792288780212, -5.381945610046387, 5.714874744415283, -5.503195285797119, -0.8822227120399475, 4.305004596710205, 0.8289384841918945, -1.9527159929275513, 0.5378220677375793, -3.0963916778564453, -3.8085970878601074, -6.825268745422363, -6.6807050704956055, 5.284106254577637, -4.868622303009033, -4.5957207679748535, -4.09968376159668, -4.0644211769104, -5.888118267059326, 3.340705633163452, 4.869406700134277, 2.760423421859741, -4.20225715637207, 1.2438567876815796, -4.27086067199707, 1.8643712997436523, -6.796995639801025, -3.16524076461792, -5.714115619659424, 3.4538776874542236, -2.2787559032440186, -4.739651679992676, -0.5815941691398621, -1.6792210340499878, 1.6064878702163696, -1.9496468305587769, -3.4331278800964355, 7.278933525085449, -3.5971720218658447, -2.3597898483276367, -3.4061810970306396, 1.0502138137817383, -4.621209144592285, -0.3285367488861084, 6.174008846282959, -0.2590293884277344, 5.224339485168457, 0.8514255881309509, -4.698639869689941, -2.439579486846924, 1.3254903554916382, 0.1553449034690857, 3.910734176635742, 3.789419651031494, -0.10943815112113953, -1.3575031757354736, 5.628304481506348, -6.324027061462402, 3.0474400520324707, 4.522806644439697, 2.076873540878296, 4.533402442932129, 6.489076137542725, 1.3364218473434448, 1.7589588165283203, 3.7351889610290527, -1.4481925964355469, -3.1043379306793213, 4.45601749420166, 1.1198557615280151, -3.516216993331909, 3.7971622943878174, -0.2956826090812683, 4.070225715637207, 0.08773861080408096, 5.831028461456299, 4.657332420349121, 3.8330111503601074, -4.994990348815918, -0.6836241483688354, -0.744548499584198, 2.963961601257324, 1.9432293176651, -2.2609469890594482, 4.227206230163574, -0.7507725954055786, -0.4190356433391571, -1.7172430753707886, -0.2621351182460785, -5.736793041229248, 6.9861907958984375, 6.690088748931885, -2.316289186477661, -0.8920659422874451, -3.131870985031128, -3.2331020832061768, 3.6468393802642822, -1.0016067028045654, 3.9248993396759033, 0.9386741518974304, 3.71126651763916, 2.3795430660247803, -1.0704327821731567, 0.7777779698371887, 0.4605382978916168, 3.148801565170288, -2.223107099533081, -5.540817737579346, 3.7560184001922607, -4.193782806396484, 3.698018789291382, 5.358834266662598, 5.080813407897949, 0.31212639808654785, 4.002851963043213, 6.381319522857666, 6.213743209838867, 2.5312225818634033, 7.165226936340332, 4.671916484832764, 1.0578696727752686, 5.642486095428467, 5.669548511505127, 5.154599666595459, 3.186997413635254, -1.3200730085372925, -2.638319969177246, 3.5028648376464844], \"z\": [-6.574037075042725, -0.8278807997703552, -14.400541305541992, -7.290042400360107, -3.294879198074341, -3.5684525966644287, -5.953563213348389, -8.670065879821777, -3.916379690170288, -3.1087093353271484, -5.360434055328369, -13.29400634765625, -4.595943927764893, 2.745197057723999, -0.7102831602096558, -10.320513725280762, -10.785811424255371, -7.805607318878174, -3.387922763824463, 0.9411014914512634, 0.9935281872749329, -6.1256585121154785, -1.7388479709625244, -6.184765338897705, -6.419339656829834, -1.8157496452331543, 5.884768009185791, -13.235358238220215, -6.870622634887695, -2.071495294570923, -0.7580113410949707, -2.2101800441741943, -1.7895870208740234, -7.099330425262451, -1.7108128070831299, -13.704825401306152, -15.34901237487793, -6.227032661437988, -11.2885103225708, 1.5183029174804688, -14.011093139648438, -9.119359970092773, -3.896969795227051, 3.6471738815307617, -3.6173737049102783, -0.5524246692657471, -1.7189394235610962, 2.0794854164123535, -4.761015892028809, -4.760983943939209, -4.157314777374268, -4.095461368560791, -2.9030959606170654, -6.498167037963867, -6.195920944213867, -5.512232303619385, -4.592477321624756, -7.577349662780762, -12.467509269714355, -3.5326876640319824, 1.8394601345062256, 5.589860439300537, -3.8791356086730957, -4.700715065002441, 2.9702308177948, -13.325233459472656, -1.31122624874115, -12.467085838317871, -12.851346969604492, 4.075237274169922, -2.0034239292144775, -9.05636215209961, -7.199027061462402, 0.591366171836853, -11.532898902893066, 2.6439034938812256, -9.141242980957031, -5.182012557983398, -10.511168479919434, -2.7260630130767822, -1.2573333978652954, -13.286416053771973, -13.34013557434082, -4.238088607788086, 0.7327337861061096, 1.6331433057785034, -1.6384494304656982, -13.626493453979492, 0.6519639492034912, -2.4393997192382812, 0.4927460551261902, -1.7070000171661377, -6.998708724975586, 1.6898988485336304, -13.359086990356445, -9.611435890197754, -14.697953224182129, -8.951722145080566, -7.5921783447265625, -1.1654713153839111, 1.1485230922698975, -15.19437026977539, -13.889220237731934, -10.387401580810547, -10.499565124511719, -13.022710800170898, -0.37479472160339355, -0.40367087721824646, -7.510776042938232, -13.27372932434082, -11.15467357635498, -14.2647705078125, -11.991646766662598, -10.022470474243164, -7.425475597381592, -9.760232925415039, -3.757822275161743, 1.0762138366699219, -2.1980419158935547, -4.846923828125, -15.369024276733398, -11.73376178741455, -10.807004928588867, 2.731100082397461, -12.598712921142578, -10.832847595214844, 6.129146575927734, -11.856566429138184, 2.3534231185913086, -10.545377731323242, 4.140498161315918, -6.107143402099609, -12.93655014038086, -0.18632872402668, 2.9479198455810547, -5.63010835647583, -4.076392650604248, -0.678278923034668, -5.615884304046631, -8.03648853302002, -6.259305953979492, -12.29188060760498, -10.85213851928711, -5.288870811462402, -3.0975217819213867, -2.985440492630005, -3.8051931858062744, -3.1311540603637695, -10.805815696716309, 1.0580464601516724, -3.0650806427001953, -7.941029071807861, -8.755974769592285, -5.601095199584961, 5.012818813323975, -0.7144256234169006, 3.906597137451172, -9.030843734741211, -6.558019638061523, -15.244512557983398, -7.50180721282959, -12.88100528717041, -11.922558784484863, -14.108912467956543, -3.6205458641052246, -6.314205169677734, -4.696441173553467, -9.35720443725586, -7.797610282897949, 1.3050228357315063, -9.027301788330078, 0.8305152058601379, -2.673408031463623, 5.533085823059082, 3.3871445655822754, -12.212324142456055, -4.301486968994141, -12.461501121520996, -2.73962664604187, -14.509234428405762, -10.356292724609375, -11.251866340637207, -6.992323398590088, -3.9635627269744873, -1.6360337734222412, -3.0046348571777344, -10.65945816040039, -7.235719680786133, 1.247559905052185, -9.9697904586792, -8.49938678741455, 0.8209762573242188, -7.113426685333252, 1.0298713445663452, -6.810658931732178, -5.02971887588501, -1.9145004749298096, -4.009495735168457, 0.5102134346961975, -7.488048076629639, -13.341184616088867, -5.135828018188477, -13.404452323913574, 0.4205626845359802, -8.108043670654297, -13.24760913848877, 5.395161151885986, -2.906226634979248, -2.4646339416503906, -13.564932823181152, -0.6283464431762695, -2.7082865238189697, -14.240745544433594, -10.1990385055542, -12.892316818237305, -0.42620742321014404, -7.592190265655518, -4.198205947875977, -1.923744797706604, -11.557026863098145, -15.208185195922852, -5.522327423095703, -15.113704681396484, -7.864355564117432, 0.6046983003616333, -2.1143076419830322, -7.996170520782471, -2.2097280025482178, -12.039838790893555, -3.0622658729553223, -8.122714042663574, -13.010453224182129, 5.811591625213623, -6.189302444458008, -13.27173900604248, -15.155597686767578, -6.495795249938965, 5.0602641105651855, -12.832976341247559, -4.354585647583008, -9.400556564331055, -7.97675895690918, -6.514383792877197, -3.1811394691467285, -3.96876859664917, -7.515013694763184, -10.121370315551758, -1.9383177757263184, -7.847688674926758, -4.1798200607299805, 4.522969722747803, -13.084105491638184, -8.871319770812988, 5.427403450012207, -9.386014938354492, 3.9559695720672607, -8.848132133483887, -6.226442813873291, -6.284558296203613, -3.2904903888702393, -0.7544562220573425, 2.3095357418060303, -14.057343482971191, 5.702983379364014, 5.121191024780273, -8.384702682495117, -13.913707733154297, -5.152121543884277, -9.821986198425293, -9.630257606506348, -10.23202896118164, -14.414097785949707, -15.246171951293945, -7.580845355987549, -10.138471603393555, -5.809765338897705, -9.026145935058594, -5.756790637969971, -3.1673567295074463, 5.741990089416504, -12.851028442382812, -13.056818962097168, -4.708742141723633, -10.489609718322754, -6.201501369476318, -9.6848726272583, -6.625929832458496, -7.935348987579346, -12.22029972076416, 2.5475900173187256, -11.02826976776123, -11.086350440979004, -0.3304694592952728, -1.5191650390625, -14.038947105407715, -15.054730415344238, 5.614160060882568, -5.2042999267578125, 0.48429515957832336, -15.057475090026855, -9.017791748046875, -2.443307638168335, -8.691385269165039, -3.684887647628784, -11.846851348876953, -3.6837120056152344, -5.2736735343933105, 0.20819613337516785, -10.095913887023926, 0.43173524737358093, -6.594676494598389, 0.1356152445077896, -12.655120849609375, -2.2295124530792236, -10.603578567504883, 1.133202075958252, -10.383837699890137, -6.589436054229736, -10.534138679504395, -7.112277030944824, -15.051121711730957, -0.46166014671325684, 1.961269736289978, -4.405631065368652, -5.293442249298096, -0.9974260926246643, 5.4352617263793945, -1.7228875160217285, 3.166004180908203, -4.353228569030762, -4.0962815284729, -15.282573699951172, -6.025074005126953, 3.0818982124328613, -5.874613285064697, -12.733113288879395, -10.163990020751953, -10.584085464477539, -3.147636651992798, -11.450855255126953, -2.4262747764587402, -4.178018569946289, -4.5953826904296875, -6.550305366516113, 3.4181840419769287, -0.003243454499170184, -8.206503868103027, -7.941173076629639, -11.823458671569824, -11.185544967651367, -1.3386316299438477, 5.321304798126221, -6.151480674743652, 5.750941753387451, -3.299959659576416, 5.400412082672119, -5.386294364929199, -8.175043106079102, -13.02440071105957, -13.384593963623047, 0.3002481162548065, -12.81688117980957, -5.575109958648682, -0.7337744832038879, -3.563826560974121, -0.5014228820800781, -2.6108975410461426, 0.38356509804725647, 0.14438463747501373, -7.296139240264893, -8.390005111694336, -6.1492533683776855, -5.448251724243164, -12.635704040527344, -13.397193908691406, 1.1605271100997925, -12.891444206237793, -10.337678909301758, -10.10444450378418, -4.195342063903809, 5.204458713531494, 2.153761386871338, 1.3185014724731445, 4.599268913269043, 5.347265720367432, -0.5935878753662109, 4.520108222961426, -0.43227240443229675, -9.480979919433594, -8.991352081298828, -13.375630378723145, 2.064863443374634, -2.869117498397827, -3.3694636821746826, -4.943100452423096, -3.312194347381592, -2.3885953426361084, 2.4060845375061035, -4.29168701171875, 2.092264175415039, 3.603334665298462, 2.6074063777923584, -6.717256546020508, -3.899587869644165, 5.248253345489502, 1.8140032291412354, 2.629552125930786, 2.927767753601074, -0.39938998222351074, 2.059232234954834, -6.112380027770996, 1.5589189529418945, -15.337241172790527, 5.319212436676025, 2.8082528114318848, 5.213638782501221, -0.47267836332321167, 4.4611711502075195, -14.598259925842285, -5.096575736999512, -14.162277221679688, -14.685510635375977, -7.778608322143555, -7.157522201538086, -7.414300441741943, -7.506804466247559, -4.760093688964844, -9.539566040039062, -13.672900199890137, -13.3876314163208, -6.261605262756348, 1.9311045408248901, -10.113348960876465, -0.08533263951539993, -12.055562019348145, -4.876255035400391, -13.346924781799316, -8.938040733337402, -14.406534194946289, -0.6239713430404663, -13.936490058898926, -4.982240200042725, -14.909358024597168, -4.065736293792725, -13.280245780944824, 6.38727331161499, 3.6309754848480225, -0.8097121715545654, -3.637732744216919, -4.244891166687012, -14.937870025634766, -7.9628071784973145, 0.30357304215431213, -12.64896297454834, -2.5040013790130615, -15.34723949432373, 1.7119954824447632, -4.887411117553711, -6.801913261413574, 0.3364277780056, -5.8861083984375, 0.9250551462173462, -14.096137046813965, -7.332647800445557, -6.362173080444336, -12.888185501098633, -2.7322885990142822, 2.2559876441955566, -3.0154640674591064, 4.735709190368652, -5.95235538482666, -7.298464298248291, 3.7377805709838867, -3.6906442642211914, 0.5914009213447571, 1.4570937156677246, -5.392968654632568, -2.8630194664001465, 5.98025369644165, -7.758475303649902, -2.386491537094116, -2.5530059337615967, -11.427777290344238, -0.37548649311065674, -13.05832290649414, 5.429445743560791, -4.207354545593262, -10.401385307312012, -1.2470066547393799, -11.002317428588867, 0.8477932214736938, -13.279694557189941, -14.892267227172852, -14.886358261108398, -2.302284002304077, -10.341734886169434, -9.579469680786133, -6.935542583465576, -13.07259750366211, -13.537364959716797, 4.0759148597717285, -2.3020823001861572, -8.467190742492676, 3.119009494781494, -2.894307851791382, -7.318909645080566, -8.059666633605957, -14.83255672454834, 2.8342318534851074, -13.291504859924316, -5.066619873046875, -12.586828231811523, -13.40716552734375, -7.312225341796875, 4.3398613929748535, -3.139829635620117, -12.353504180908203, -5.734736442565918, 4.066906452178955, 1.4537084102630615, -11.932340621948242, -5.494321823120117, -5.023186683654785, -13.379048347473145, -9.830251693725586, 0.627204954624176, -11.55282211303711, -1.707274079322815, -10.385505676269531, -13.345857620239258, -11.840986251831055, -9.184730529785156, 5.372507095336914, -5.505879878997803, 0.6974402070045471, -1.7154383659362793, -11.9906005859375, -1.1746702194213867, -13.729348182678223, -7.990139007568359, -4.058441638946533, -9.4817533493042, -3.945864677429199, 1.3471673727035522, 5.3219828605651855, -6.4076924324035645, -5.858037948608398, -5.479846000671387, -9.380189895629883, -2.8811185359954834, -8.622713088989258, -12.940797805786133, -0.9193602800369263, -9.726408004760742, -4.944690704345703, -9.119843482971191, 0.18869063258171082, -4.044002532958984, -5.760866165161133, -13.295027732849121, 4.838378429412842, 2.3560407161712646, 5.209314823150635, 4.078758716583252, -11.83730411529541, -3.483755588531494, -0.9670437574386597, -9.8853120803833, -12.364523887634277, -9.719863891601562, -13.335162162780762, 3.286555767059326, 3.881887912750244, -7.550872802734375, -11.922335624694824, -3.915323495864868, -9.607172966003418, -6.402787208557129, 5.888308048248291, -5.3949384689331055, -10.125256538391113, -5.760224342346191, -6.972770690917969, -12.037518501281738, -0.7238029837608337, -8.46590805053711, -6.207180023193359, -11.819003105163574, -13.068140029907227, -3.857344150543213, -7.103540420532227, -1.286767840385437, -1.0711473226547241, -3.0152816772460938, -11.196704864501953, -1.0364747047424316, 1.6207635402679443, 0.7626429796218872, -5.371705532073975, 3.8044850826263428, -3.729332685470581, -9.894597053527832, -0.6060634255409241, -0.7094482183456421, -0.609266996383667, -7.709465980529785, -2.150550365447998, -7.883521556854248, -4.474493980407715]}, {\"hoverlabel\": {\"namelength\": 0}, \"hovertemplate\": \"Dominant_Topic=Topic 2<br>0=%{x}<br>1=%{y}<br>2=%{z}\", \"legendgroup\": \"Dominant_Topic=Topic 2\", \"marker\": {\"color\": \"#00cc96\", \"opacity\": 0.7, \"symbol\": \"circle\"}, \"mode\": \"markers\", \"name\": \"Dominant_Topic=Topic 2\", \"scene\": \"scene\", \"showlegend\": true, \"type\": \"scatter3d\", \"x\": [1.3324238061904907, 4.824845314025879, 4.409365177154541, 4.87161111831665, 2.159998893737793, 4.417579174041748, 4.132725238800049, 4.455078601837158, 4.731531143188477, 0.5797023773193359, 4.794522762298584, 4.059852123260498, 4.370001316070557, 2.652510404586792, 4.853394031524658, 3.7801287174224854, 4.761380672454834, 4.440513610839844, 4.642263412475586, 4.1423420906066895, 4.729550361633301, 4.229543209075928, 4.134408473968506, 4.030814170837402, 4.578788757324219, 4.804815292358398, 4.761650085449219, 4.630372524261475, 3.6833138465881348, 3.954927682876587, 4.673031330108643, 4.706456184387207, 4.9487762451171875, 4.195175647735596, 4.671579360961914, 2.1372296810150146, 4.868369102478027, 4.390712261199951, 3.981093406677246, 4.384775161743164, 4.7935028076171875, 4.8522539138793945, 4.971575736999512, 4.625315189361572, -0.5355840921401978, 4.1540069580078125, 4.446483612060547, 4.739777565002441, 4.703568935394287, 4.384465217590332, 4.595422744750977, 0.1712876260280609, 4.771965503692627, 3.7695252895355225, 0.825598955154419, -0.5285260081291199, -0.33589938282966614, 2.666290760040283, 4.76684045791626, 4.233414173126221, 1.1522297859191895, 0.054961398243904114, 0.9299678206443787, 4.633220672607422, 0.4786706864833832, 2.324756145477295, 4.677536964416504, -0.4068176746368408, 3.8679890632629395, 4.494897842407227, 1.9865840673446655, 3.8721985816955566, 2.3733913898468018, 4.431046962738037, 1.7005683183670044, 4.559645652770996, 2.6121349334716797, 2.770411491394043, 4.66898250579834, 1.8001374006271362, 4.591668128967285, 2.705775022506714, 2.3459386825561523, 4.060708522796631, 3.142733335494995, 3.677582263946533, 3.6030797958374023, 1.4970420598983765, 2.7556309700012207, 2.0409061908721924, 4.2091851234436035, 2.196732997894287, 4.666257381439209, 2.332108497619629, 4.812409400939941, 2.2298426628112793, 4.287082672119141, 4.186959266662598, 4.131787300109863, 3.9239892959594727, 2.608708620071411, -0.4972611963748932, 2.336700916290283, 1.4267501831054688, 2.2357594966888428, 4.058251857757568, 0.007659160532057285, -0.20938342809677124, 0.7185078263282776, 2.226269006729126, 2.691344976425171, 4.250827789306641], \"y\": [6.687108516693115, 8.693851470947266, 8.885857582092285, 9.517011642456055, 7.054741382598877, 5.194810390472412, 8.475200653076172, 8.932209014892578, 7.621952056884766, 6.846775531768799, 10.400320053100586, 9.395095825195312, 6.130938529968262, 6.175520896911621, 6.683619976043701, 8.141960144042969, 9.35991096496582, 12.34991455078125, 6.249958038330078, 6.708590030670166, 6.321969032287598, 4.1081767082214355, 8.232664108276367, 7.562305450439453, 11.020115852355957, 6.63607931137085, 10.502557754516602, 6.252381324768066, 7.795368671417236, 5.446588516235352, 11.41030216217041, 7.738321781158447, 8.265315055847168, 11.506888389587402, 6.3260602951049805, 6.741654396057129, 10.011626243591309, 8.387475967407227, 8.561766624450684, 7.458436489105225, 6.722318649291992, 5.9763503074646, 7.1426215171813965, 4.661708831787109, 7.290621757507324, 10.207058906555176, 8.06744384765625, 8.283281326293945, 9.903485298156738, 4.578010559082031, 9.599227905273438, 7.478188514709473, 11.237534523010254, 8.087018013000488, 6.336891174316406, 7.307246685028076, 7.340127944946289, 2.648716688156128, 11.47737979888916, 9.580501556396484, 6.511355876922607, 7.234051704406738, 7.687454700469971, 12.498682022094727, 7.152033805847168, 5.363286972045898, 12.554051399230957, 7.337100505828857, 3.5443499088287354, 12.08885383605957, 4.108679294586182, 7.099923610687256, 5.571157455444336, 12.25398063659668, 4.870649814605713, 10.91196060180664, 5.277177333831787, 5.23660945892334, 11.208518981933594, 4.471925735473633, 12.187581062316895, 6.463374137878418, 4.1256561279296875, 5.344686508178711, 7.94333553314209, 3.099339246749878, 11.729207992553711, 4.5920867919921875, 5.20220947265625, 4.435421466827393, 4.171756267547607, 5.282472610473633, 12.392449378967285, 3.403505802154541, 10.741464614868164, 5.863544940948486, 11.76618766784668, 5.022595405578613, 7.347259998321533, 11.911163330078125, 3.8977599143981934, 7.219910144805908, 3.150357246398926, 7.323385715484619, 4.869965553283691, 11.919041633605957, 6.730238437652588, 7.3923258781433105, 7.410041809082031, 5.394437789916992, 5.778597354888916, 9.405069351196289], \"z\": [5.594168663024902, 9.606435775756836, 9.08704948425293, 9.62761116027832, 6.451016426086426, 9.1019868850708, 8.755196571350098, 9.143064498901367, 9.522790908813477, 5.002867221832275, 9.490854263305664, 8.633503913879395, 9.04515266418457, 6.778988838195801, 9.694225311279297, 8.32187271118164, 9.499785423278809, 8.948339462280273, 9.41547966003418, 8.766289710998535, 9.534793853759766, 8.785840034484863, 8.764762878417969, 8.638360977172852, 9.195696830749512, 9.631952285766602, 9.444087982177734, 9.399604797363281, 8.201272010803223, 8.441642761230469, 9.286949157714844, 9.489042282104492, 9.77422046661377, 8.71025276184082, 9.456731796264648, 6.342676162719727, 9.601466178894043, 9.080101013183594, 8.563678741455078, 9.087740898132324, 9.615307807922363, 9.712681770324707, 9.835901260375977, 9.491937637329102, 4.16261100769043, 8.715862274169922, 9.156947135925293, 9.515839576721191, 9.404642105102539, 9.069968223571777, 9.285110473632812, 4.872068881988525, 9.416223526000977, 8.310030937194824, 5.04030179977417, 4.171048164367676, 4.340576648712158, 5.882087707519531, 9.395081520080566, 8.841106414794922, 5.387203216552734, 4.384954452514648, 5.5365729331970215, 9.165767669677734, 4.997203826904297, 0.9191415309906006, 9.21432876586914, 3.968059539794922, 8.041802406311035, 9.031817436218262, 5.434329509735107, 8.426162719726562, 6.306115627288818, 8.943952560424805, 5.283268928527832, 9.17747688293457, 6.516699314117432, 6.714690208435059, 9.294340133666992, 5.295865535736084, 9.139208793640137, 6.895208835601807, 5.857040882110596, 8.583512306213379, 7.558162212371826, 7.626769065856934, 8.007011413574219, 4.987457275390625, 6.691823959350586, 5.570467472076416, 8.745325088500977, 1.209894061088562, 9.21249771118164, 5.636465072631836, 9.493175506591797, 6.233237266540527, 8.805403709411621, 8.750107765197754, 8.765907287597656, 8.369390487670898, 6.144257545471191, 4.256348609924316, 5.540036201477051, 4.141445636749268, 5.933229446411133, 8.526427268981934, 4.536563873291016, 4.420546531677246, 5.25645112991333, 0.9996223449707031, 6.7415056228637695, 8.869369506835938]}, {\"hoverlabel\": {\"namelength\": 0}, \"hovertemplate\": \"Dominant_Topic=Topic 3<br>0=%{x}<br>1=%{y}<br>2=%{z}\", \"legendgroup\": \"Dominant_Topic=Topic 3\", \"marker\": {\"color\": \"#ab63fa\", \"opacity\": 0.7, \"symbol\": \"circle\"}, \"mode\": \"markers\", \"name\": \"Dominant_Topic=Topic 3\", \"scene\": \"scene\", \"showlegend\": true, \"type\": \"scatter3d\", \"x\": [2.5707385540008545, 2.522763252258301], \"y\": [5.461350440979004, 5.4181413650512695], \"z\": [0.280690461397171, 0.5471506714820862]}],\n",
       "                        {\"height\": 800, \"legend\": {\"tracegroupgap\": 0}, \"scene\": {\"domain\": {\"x\": [0.0, 1.0], \"y\": [0.0, 1.0]}, \"xaxis\": {\"title\": {\"text\": \"0\"}}, \"yaxis\": {\"title\": {\"text\": \"1\"}}, \"zaxis\": {\"title\": {\"text\": \"2\"}}}, \"template\": {\"data\": {\"bar\": [{\"error_x\": {\"color\": \"#2a3f5f\"}, \"error_y\": {\"color\": \"#2a3f5f\"}, \"marker\": {\"line\": {\"color\": \"#E5ECF6\", \"width\": 0.5}}, \"type\": \"bar\"}], \"barpolar\": [{\"marker\": {\"line\": {\"color\": \"#E5ECF6\", \"width\": 0.5}}, \"type\": \"barpolar\"}], \"carpet\": [{\"aaxis\": {\"endlinecolor\": \"#2a3f5f\", \"gridcolor\": \"white\", \"linecolor\": \"white\", \"minorgridcolor\": \"white\", \"startlinecolor\": \"#2a3f5f\"}, \"baxis\": {\"endlinecolor\": \"#2a3f5f\", \"gridcolor\": \"white\", \"linecolor\": \"white\", \"minorgridcolor\": \"white\", \"startlinecolor\": \"#2a3f5f\"}, \"type\": \"carpet\"}], \"choropleth\": [{\"colorbar\": {\"outlinewidth\": 0, \"ticks\": \"\"}, \"type\": \"choropleth\"}], \"contour\": [{\"colorbar\": {\"outlinewidth\": 0, \"ticks\": \"\"}, \"colorscale\": [[0.0, \"#0d0887\"], [0.1111111111111111, \"#46039f\"], [0.2222222222222222, \"#7201a8\"], [0.3333333333333333, \"#9c179e\"], [0.4444444444444444, \"#bd3786\"], [0.5555555555555556, \"#d8576b\"], [0.6666666666666666, \"#ed7953\"], [0.7777777777777778, \"#fb9f3a\"], [0.8888888888888888, \"#fdca26\"], [1.0, \"#f0f921\"]], \"type\": \"contour\"}], \"contourcarpet\": [{\"colorbar\": {\"outlinewidth\": 0, \"ticks\": \"\"}, \"type\": \"contourcarpet\"}], \"heatmap\": [{\"colorbar\": {\"outlinewidth\": 0, \"ticks\": \"\"}, \"colorscale\": [[0.0, \"#0d0887\"], [0.1111111111111111, \"#46039f\"], [0.2222222222222222, \"#7201a8\"], [0.3333333333333333, \"#9c179e\"], [0.4444444444444444, \"#bd3786\"], [0.5555555555555556, \"#d8576b\"], [0.6666666666666666, \"#ed7953\"], [0.7777777777777778, \"#fb9f3a\"], [0.8888888888888888, \"#fdca26\"], [1.0, \"#f0f921\"]], \"type\": \"heatmap\"}], \"heatmapgl\": [{\"colorbar\": {\"outlinewidth\": 0, \"ticks\": \"\"}, \"colorscale\": [[0.0, \"#0d0887\"], [0.1111111111111111, \"#46039f\"], [0.2222222222222222, \"#7201a8\"], [0.3333333333333333, \"#9c179e\"], [0.4444444444444444, \"#bd3786\"], [0.5555555555555556, \"#d8576b\"], [0.6666666666666666, \"#ed7953\"], [0.7777777777777778, \"#fb9f3a\"], [0.8888888888888888, \"#fdca26\"], [1.0, \"#f0f921\"]], \"type\": \"heatmapgl\"}], \"histogram\": [{\"marker\": {\"colorbar\": {\"outlinewidth\": 0, \"ticks\": \"\"}}, \"type\": \"histogram\"}], \"histogram2d\": [{\"colorbar\": {\"outlinewidth\": 0, \"ticks\": \"\"}, \"colorscale\": [[0.0, \"#0d0887\"], [0.1111111111111111, \"#46039f\"], [0.2222222222222222, \"#7201a8\"], [0.3333333333333333, \"#9c179e\"], [0.4444444444444444, \"#bd3786\"], [0.5555555555555556, \"#d8576b\"], [0.6666666666666666, \"#ed7953\"], [0.7777777777777778, \"#fb9f3a\"], [0.8888888888888888, \"#fdca26\"], [1.0, \"#f0f921\"]], \"type\": \"histogram2d\"}], \"histogram2dcontour\": [{\"colorbar\": {\"outlinewidth\": 0, \"ticks\": \"\"}, \"colorscale\": [[0.0, \"#0d0887\"], [0.1111111111111111, \"#46039f\"], [0.2222222222222222, \"#7201a8\"], [0.3333333333333333, \"#9c179e\"], [0.4444444444444444, \"#bd3786\"], [0.5555555555555556, \"#d8576b\"], [0.6666666666666666, \"#ed7953\"], [0.7777777777777778, \"#fb9f3a\"], [0.8888888888888888, \"#fdca26\"], [1.0, \"#f0f921\"]], \"type\": \"histogram2dcontour\"}], \"mesh3d\": [{\"colorbar\": {\"outlinewidth\": 0, \"ticks\": \"\"}, \"type\": \"mesh3d\"}], \"parcoords\": [{\"line\": {\"colorbar\": {\"outlinewidth\": 0, \"ticks\": \"\"}}, \"type\": \"parcoords\"}], \"pie\": [{\"automargin\": true, \"type\": \"pie\"}], \"scatter\": [{\"marker\": {\"colorbar\": {\"outlinewidth\": 0, \"ticks\": \"\"}}, \"type\": \"scatter\"}], \"scatter3d\": [{\"line\": {\"colorbar\": {\"outlinewidth\": 0, \"ticks\": \"\"}}, \"marker\": {\"colorbar\": {\"outlinewidth\": 0, \"ticks\": \"\"}}, \"type\": \"scatter3d\"}], \"scattercarpet\": [{\"marker\": {\"colorbar\": {\"outlinewidth\": 0, \"ticks\": \"\"}}, \"type\": \"scattercarpet\"}], \"scattergeo\": [{\"marker\": {\"colorbar\": {\"outlinewidth\": 0, \"ticks\": \"\"}}, \"type\": \"scattergeo\"}], \"scattergl\": [{\"marker\": {\"colorbar\": {\"outlinewidth\": 0, \"ticks\": \"\"}}, \"type\": \"scattergl\"}], \"scattermapbox\": [{\"marker\": {\"colorbar\": {\"outlinewidth\": 0, \"ticks\": \"\"}}, \"type\": \"scattermapbox\"}], \"scatterpolar\": [{\"marker\": {\"colorbar\": {\"outlinewidth\": 0, \"ticks\": \"\"}}, \"type\": \"scatterpolar\"}], \"scatterpolargl\": [{\"marker\": {\"colorbar\": {\"outlinewidth\": 0, \"ticks\": \"\"}}, \"type\": \"scatterpolargl\"}], \"scatterternary\": [{\"marker\": {\"colorbar\": {\"outlinewidth\": 0, \"ticks\": \"\"}}, \"type\": \"scatterternary\"}], \"surface\": [{\"colorbar\": {\"outlinewidth\": 0, \"ticks\": \"\"}, \"colorscale\": [[0.0, \"#0d0887\"], [0.1111111111111111, \"#46039f\"], [0.2222222222222222, \"#7201a8\"], [0.3333333333333333, \"#9c179e\"], [0.4444444444444444, \"#bd3786\"], [0.5555555555555556, \"#d8576b\"], [0.6666666666666666, \"#ed7953\"], [0.7777777777777778, \"#fb9f3a\"], [0.8888888888888888, \"#fdca26\"], [1.0, \"#f0f921\"]], \"type\": \"surface\"}], \"table\": [{\"cells\": {\"fill\": {\"color\": \"#EBF0F8\"}, \"line\": {\"color\": \"white\"}}, \"header\": {\"fill\": {\"color\": \"#C8D4E3\"}, \"line\": {\"color\": \"white\"}}, \"type\": \"table\"}]}, \"layout\": {\"annotationdefaults\": {\"arrowcolor\": \"#2a3f5f\", \"arrowhead\": 0, \"arrowwidth\": 1}, \"coloraxis\": {\"colorbar\": {\"outlinewidth\": 0, \"ticks\": \"\"}}, \"colorscale\": {\"diverging\": [[0, \"#8e0152\"], [0.1, \"#c51b7d\"], [0.2, \"#de77ae\"], [0.3, \"#f1b6da\"], [0.4, \"#fde0ef\"], [0.5, \"#f7f7f7\"], [0.6, \"#e6f5d0\"], [0.7, \"#b8e186\"], [0.8, \"#7fbc41\"], [0.9, \"#4d9221\"], [1, \"#276419\"]], \"sequential\": [[0.0, \"#0d0887\"], [0.1111111111111111, \"#46039f\"], [0.2222222222222222, \"#7201a8\"], [0.3333333333333333, \"#9c179e\"], [0.4444444444444444, \"#bd3786\"], [0.5555555555555556, \"#d8576b\"], [0.6666666666666666, \"#ed7953\"], [0.7777777777777778, \"#fb9f3a\"], [0.8888888888888888, \"#fdca26\"], [1.0, \"#f0f921\"]], \"sequentialminus\": [[0.0, \"#0d0887\"], [0.1111111111111111, \"#46039f\"], [0.2222222222222222, \"#7201a8\"], [0.3333333333333333, \"#9c179e\"], [0.4444444444444444, \"#bd3786\"], [0.5555555555555556, \"#d8576b\"], [0.6666666666666666, \"#ed7953\"], [0.7777777777777778, \"#fb9f3a\"], [0.8888888888888888, \"#fdca26\"], [1.0, \"#f0f921\"]]}, \"colorway\": [\"#636efa\", \"#EF553B\", \"#00cc96\", \"#ab63fa\", \"#FFA15A\", \"#19d3f3\", \"#FF6692\", \"#B6E880\", \"#FF97FF\", \"#FECB52\"], \"font\": {\"color\": \"#2a3f5f\"}, \"geo\": {\"bgcolor\": \"white\", \"lakecolor\": \"white\", \"landcolor\": \"#E5ECF6\", \"showlakes\": true, \"showland\": true, \"subunitcolor\": \"white\"}, \"hoverlabel\": {\"align\": \"left\"}, \"hovermode\": \"closest\", \"mapbox\": {\"style\": \"light\"}, \"paper_bgcolor\": \"white\", \"plot_bgcolor\": \"#E5ECF6\", \"polar\": {\"angularaxis\": {\"gridcolor\": \"white\", \"linecolor\": \"white\", \"ticks\": \"\"}, \"bgcolor\": \"#E5ECF6\", \"radialaxis\": {\"gridcolor\": \"white\", \"linecolor\": \"white\", \"ticks\": \"\"}}, \"scene\": {\"xaxis\": {\"backgroundcolor\": \"#E5ECF6\", \"gridcolor\": \"white\", \"gridwidth\": 2, \"linecolor\": \"white\", \"showbackground\": true, \"ticks\": \"\", \"zerolinecolor\": \"white\"}, \"yaxis\": {\"backgroundcolor\": \"#E5ECF6\", \"gridcolor\": \"white\", \"gridwidth\": 2, \"linecolor\": \"white\", \"showbackground\": true, \"ticks\": \"\", \"zerolinecolor\": \"white\"}, \"zaxis\": {\"backgroundcolor\": \"#E5ECF6\", \"gridcolor\": \"white\", \"gridwidth\": 2, \"linecolor\": \"white\", \"showbackground\": true, \"ticks\": \"\", \"zerolinecolor\": \"white\"}}, \"shapedefaults\": {\"line\": {\"color\": \"#2a3f5f\"}}, \"ternary\": {\"aaxis\": {\"gridcolor\": \"white\", \"linecolor\": \"white\", \"ticks\": \"\"}, \"baxis\": {\"gridcolor\": \"white\", \"linecolor\": \"white\", \"ticks\": \"\"}, \"bgcolor\": \"#E5ECF6\", \"caxis\": {\"gridcolor\": \"white\", \"linecolor\": \"white\", \"ticks\": \"\"}}, \"title\": {\"x\": 0.05}, \"xaxis\": {\"automargin\": true, \"gridcolor\": \"white\", \"linecolor\": \"white\", \"ticks\": \"\", \"title\": {\"standoff\": 15}, \"zerolinecolor\": \"white\", \"zerolinewidth\": 2}, \"yaxis\": {\"automargin\": true, \"gridcolor\": \"white\", \"linecolor\": \"white\", \"ticks\": \"\", \"title\": {\"standoff\": 15}, \"zerolinecolor\": \"white\", \"zerolinewidth\": 2}}}, \"title\": {\"text\": \"3d TSNE Plot for Topic Model\"}, \"width\": 900},\n",
       "                        {\"responsive\": true}\n",
       "                    ).then(function(){\n",
       "                            \n",
       "var gd = document.getElementById('fd7f2584-267e-4f99-bf3a-f0ac58e77492');\n",
       "var x = new MutationObserver(function (mutations, observer) {{\n",
       "        var display = window.getComputedStyle(gd).display;\n",
       "        if (!display || display === 'none') {{\n",
       "            console.log([gd, 'removed!']);\n",
       "            Plotly.purge(gd);\n",
       "            observer.disconnect();\n",
       "        }}\n",
       "}});\n",
       "\n",
       "// Listen for the removal of the full notebook cells\n",
       "var notebookContainer = gd.closest('#notebook-container');\n",
       "if (notebookContainer) {{\n",
       "    x.observe(notebookContainer, {childList: true});\n",
       "}}\n",
       "\n",
       "// Listen for the clearing of the current output cell\n",
       "var outputEl = gd.closest('.output');\n",
       "if (outputEl) {{\n",
       "    x.observe(outputEl, {childList: true});\n",
       "}}\n",
       "\n",
       "                        })\n",
       "                };\n",
       "                });\n",
       "            </script>\n",
       "        </div>"
      ]
     },
     "metadata": {},
     "output_type": "display_data"
    }
   ],
   "source": [
    "plot_model(lda, plot = 'tsne')"
   ]
  },
  {
   "cell_type": "code",
   "execution_count": 17,
   "metadata": {},
   "outputs": [
    {
     "data": {
      "text/html": [
       "        <script type=\"text/javascript\">\n",
       "        window.PlotlyConfig = {MathJaxConfig: 'local'};\n",
       "        if (window.MathJax) {MathJax.Hub.Config({SVG: {font: \"STIX-Web\"}});}\n",
       "        if (typeof require !== 'undefined') {\n",
       "        require.undef(\"plotly\");\n",
       "        requirejs.config({\n",
       "            paths: {\n",
       "                'plotly': ['https://cdn.plot.ly/plotly-latest.min']\n",
       "            }\n",
       "        });\n",
       "        require(['plotly'], function(Plotly) {\n",
       "            window._Plotly = Plotly;\n",
       "        });\n",
       "        }\n",
       "        </script>\n",
       "        "
      ]
     },
     "metadata": {},
     "output_type": "display_data"
    },
    {
     "data": {
      "application/vnd.plotly.v1+json": {
       "config": {
        "plotlyServerURL": "https://plot.ly"
       },
       "data": [
        {
         "hoverlabel": {
          "namelength": 0
         },
         "hovertemplate": "Dominant_Topic=Topic 0<br>0=%{x}<br>1=%{y}<br>2=%{z}",
         "legendgroup": "Dominant_Topic=Topic 0",
         "marker": {
          "color": "#636efa",
          "opacity": 0.7,
          "symbol": "circle"
         },
         "mode": "markers",
         "name": "Dominant_Topic=Topic 0",
         "scene": "scene",
         "showlegend": true,
         "type": "scatter3d",
         "x": [
          4.678551197052002,
          7.686282157897949,
          5.0929341316223145,
          2.2797439098358154,
          0.6176125407218933,
          5.12026834487915,
          3.570204973220825,
          2.9040944576263428,
          2.5025060176849365,
          2.6181507110595703,
          2.669346809387207,
          6.28704309463501,
          7.727880001068115,
          -1.2330853939056396,
          3.80180025100708,
          5.7092814445495605,
          -0.11487214267253876,
          5.5159831047058105,
          2.6050310134887695,
          2.6753125190734863,
          1.1597137451171875,
          2.384815216064453,
          7.766259670257568,
          -1.1828572750091553,
          -1.871050477027893,
          3.088585615158081,
          5.116037368774414,
          6.246005535125732,
          -1.2509645223617554,
          3.31644344329834,
          8.023695945739746,
          0.2714388072490692,
          2.7053558826446533,
          7.042141437530518,
          3.900358200073242,
          -0.5720574855804443,
          3.564434051513672,
          0.3673606514930725,
          2.0042834281921387,
          7.442571640014648,
          -1.2857744693756104,
          1.979746699333191,
          -1.6841930150985718,
          4.249786853790283,
          1.0770540237426758,
          0.5303843021392822,
          2.1917316913604736,
          1.9516597986221313,
          3.079040050506592,
          5.3372297286987305,
          2.0571165084838867,
          2.802903652191162,
          2.204231023788452,
          2.385427474975586,
          0.09082292765378952,
          8.478699684143066,
          6.421298503875732,
          1.6638141870498657,
          8.323538780212402,
          2.3323974609375,
          3.8015620708465576,
          4.25394344329834,
          1.400617241859436,
          4.135761737823486,
          3.4184534549713135,
          3.6236069202423096,
          0.9006907343864441,
          5.017003059387207,
          -0.8031759858131409,
          3.2216475009918213,
          0.408420205116272,
          0.1675352305173874,
          1.6414854526519775,
          5.859431743621826,
          7.320832252502441,
          0.240314319729805,
          7.620396137237549,
          4.001068592071533,
          1.8439620733261108,
          -2.2781291007995605,
          -1.4395296573638916,
          6.602181911468506,
          1.9800946712493896,
          6.498229503631592,
          4.213759899139404,
          2.2019965648651123,
          0.2845781445503235,
          0.15605546534061432,
          1.3162111043930054,
          5.481605529785156,
          6.977099895477295,
          -0.5308451652526855,
          0.22139695286750793,
          5.26397705078125,
          -0.9459061026573181,
          2.0916707515716553,
          4.232929706573486,
          3.353382110595703,
          -0.979367733001709,
          0.603605329990387,
          4.1856560707092285,
          -0.6938731074333191,
          2.7673299312591553,
          2.520753860473633,
          6.010017395019531,
          3.872626304626465,
          3.317392587661743,
          7.065619945526123,
          2.438929319381714,
          5.156033039093018,
          1.470292091369629,
          -1.1780157089233398,
          7.321991443634033,
          -0.624493420124054,
          3.9473164081573486,
          -1.8315346240997314,
          -1.3139369487762451,
          3.1073172092437744,
          0.17320936918258667,
          5.484736442565918,
          -2.108412981033325,
          -1.6608930826187134,
          6.183760166168213,
          0.5656629800796509,
          6.30598258972168,
          6.588603973388672,
          3.3138206005096436,
          0.692264199256897,
          3.388737440109253,
          4.729787826538086,
          3.993931293487549,
          3.8253138065338135,
          -0.7720119953155518,
          -1.0086169242858887,
          4.382188320159912,
          4.827243804931641,
          4.3597540855407715,
          -0.5192052721977234,
          2.1372392177581787,
          1.667134165763855,
          1.3127772808074951,
          3.048898220062256,
          -0.31724968552589417,
          2.2408995628356934,
          -0.9147241711616516,
          7.717985153198242,
          -0.22042736411094666,
          6.5126423835754395,
          4.7966437339782715,
          6.476011276245117,
          -0.9633771777153015,
          0.07177715003490448,
          -2.0085127353668213,
          -1.241389274597168,
          0.8119928240776062,
          6.301107883453369,
          7.635578155517578,
          4.226404666900635,
          1.0799614191055298,
          2.296048641204834,
          5.6487956047058105,
          2.3420796394348145,
          -2.531764030456543,
          1.7461199760437012,
          3.3854076862335205,
          -0.08851491659879684,
          6.660331726074219,
          3.1747994422912598,
          4.530385971069336,
          -0.1420179307460785,
          -0.14795172214508057,
          6.954939365386963,
          6.092860221862793,
          -0.8316337466239929,
          7.751508712768555,
          1.7987711429595947,
          7.317819595336914,
          2.6620349884033203,
          2.687162160873413,
          -2.4197819232940674,
          0.3352385461330414,
          6.418604373931885,
          6.6951117515563965,
          -1.2905458211898804,
          5.413422107696533,
          3.6337127685546875,
          2.2575252056121826,
          -1.2313092947006226,
          8.232095718383789,
          6.323768138885498,
          2.818586826324463,
          4.508594036102295,
          1.308441400527954,
          1.680772066116333,
          0.9757052063941956,
          1.8637465238571167,
          3.4827587604522705,
          3.7818803787231445,
          0.3324802815914154,
          6.836770534515381,
          8.143972396850586,
          3.197404146194458,
          -0.7823571562767029,
          -0.4190289080142975,
          8.105611801147461,
          3.2066454887390137,
          2.055670976638794,
          1.0434012413024902,
          8.022933959960938,
          6.70174503326416,
          3.464202642440796,
          -1.1544439792633057,
          5.454443454742432,
          4.619489669799805,
          7.009751319885254,
          3.0457828044891357,
          3.3885297775268555,
          3.732393264770508,
          -0.9951713681221008,
          0.7058731913566589,
          0.8760018944740295,
          3.746196746826172,
          7.947951793670654,
          1.3820931911468506,
          1.1931827068328857,
          3.9459011554718018,
          7.524786949157715,
          -1.511627435684204,
          4.846255779266357,
          0.4393272399902344,
          -2.216412305831909,
          7.302369594573975,
          6.830442905426025,
          -0.11667419970035553,
          6.375193119049072,
          2.465306043624878,
          2.9729321002960205,
          -1.4622122049331665,
          1.4906865358352661,
          3.421523094177246,
          1.2680569887161255,
          -0.45271334052085876,
          1.0663789510726929,
          2.357194185256958,
          6.0578532218933105,
          8.939321517944336,
          7.137797832489014,
          6.201581001281738,
          6.793851852416992,
          4.73646879196167,
          4.838862419128418,
          0.24418772757053375,
          5.18609094619751,
          2.601503610610962,
          5.384521961212158,
          -2.1180953979492188,
          3.9833548069000244,
          -1.255428671836853,
          1.860879898071289,
          1.3430079221725464,
          -0.5773331522941589,
          -0.278099924325943,
          8.125057220458984,
          7.355593681335449,
          7.107933521270752,
          5.395604133605957,
          -4.012864589691162,
          5.444922924041748,
          -1.5713236331939697,
          7.25250244140625,
          1.8548063039779663,
          3.9157261848449707,
          -1.222485899925232,
          7.655243396759033,
          2.19626784324646,
          0.13295380771160126,
          -1.2694416046142578,
          0.9389212727546692,
          7.104620933532715,
          1.210127592086792,
          1.1510365009307861,
          2.5168333053588867,
          1.8298910856246948,
          1.6335982084274292,
          -0.7611563205718994,
          1.3517444133758545,
          0.5097282528877258,
          8.519866943359375,
          5.781560897827148,
          1.0378878116607666,
          2.9613053798675537,
          5.215412139892578,
          5.756443023681641,
          8.120097160339355,
          0.7637200951576233,
          3.81482195854187,
          -0.24340370297431946,
          6.865346908569336,
          -1.188989281654358,
          -1.7532740831375122,
          -0.6807015538215637,
          -1.4729708433151245,
          7.820217609405518,
          8.088199615478516,
          3.423954725265503,
          -1.845567226409912,
          7.015651702880859,
          3.565128803253174,
          0.7812352180480957,
          3.2667272090911865,
          8.122448921203613,
          3.548978805541992,
          3.6699352264404297,
          -0.7511321306228638,
          0.0226180050522089,
          -4.057583808898926,
          3.9080965518951416,
          6.875733852386475,
          0.3828096091747284,
          -0.7496134042739868,
          0.6742177605628967,
          -2.159367561340332,
          8.206700325012207,
          -1.815622329711914,
          -1.575863242149353,
          4.9700093269348145,
          0.4530142545700073,
          -3.3737919330596924,
          2.950268030166626,
          7.7543840408325195,
          6.908522605895996,
          -3.8572208881378174,
          6.798246383666992,
          7.262374401092529,
          4.047945022583008,
          -2.115142822265625,
          3.2838430404663086,
          3.748765468597412,
          1.554459571838379,
          2.2620151042938232,
          -1.3435232639312744,
          0.7369446754455566,
          2.9235146045684814,
          5.3719916343688965,
          -1.7957000732421875,
          3.3326663970947266,
          -2.2895660400390625,
          2.8948240280151367,
          1.9578793048858643,
          0.8475694060325623,
          6.7401909828186035,
          1.7287211418151855,
          5.604773998260498,
          7.550141334533691,
          6.418715476989746,
          3.2327752113342285,
          7.002635478973389,
          7.833686351776123,
          2.270404100418091,
          -3.059668779373169,
          -1.6572271585464478,
          3.7760870456695557,
          4.447159290313721,
          -0.9263745546340942,
          7.7156453132629395,
          7.088738441467285,
          4.733667850494385,
          1.9916661977767944,
          6.294183731079102,
          5.520980358123779,
          8.021106719970703,
          8.78573989868164,
          2.8329877853393555,
          1.6118539571762085,
          1.7059996128082275,
          7.4742608070373535,
          0.8318613171577454,
          1.8000609874725342,
          1.9866923093795776,
          -2.265085220336914,
          2.3067245483398438,
          0.49737831950187683,
          4.510138511657715,
          -0.8135383725166321,
          1.8694669008255005,
          2.8834550380706787,
          7.04992151260376,
          -0.13596197962760925,
          1.2056692838668823,
          -0.054889220744371414,
          5.529242992401123,
          -1.337860107421875,
          0.4758545458316803,
          -0.953689455986023,
          3.510002374649048,
          -1.7667865753173828,
          5.688500881195068,
          -0.396736204624176,
          3.6660313606262207,
          -1.0076767206192017,
          1.4700827598571777,
          1.5749988555908203,
          3.2046470642089844,
          1.2366797924041748,
          -1.885455846786499,
          2.6609508991241455,
          0.9255551099777222,
          2.76619029045105,
          5.634331226348877,
          3.317544460296631,
          -0.3121439218521118,
          -0.5797975659370422,
          -3.190861940383911,
          1.6118496656417847,
          2.4330568313598633,
          3.542179584503174,
          1.4855084419250488,
          -3.2258217334747314,
          5.8101630210876465,
          -0.9691672921180725,
          4.432608604431152,
          -1.119422435760498,
          -1.413792371749878,
          4.117260932922363,
          5.371525764465332,
          7.798489093780518,
          5.5156073570251465,
          -1.2925771474838257,
          -0.8706760406494141,
          5.610116481781006,
          1.3992067575454712,
          -3.1382970809936523,
          6.454596042633057,
          -1.013783574104309,
          -1.58131742477417,
          3.691481113433838,
          -1.608581781387329,
          -0.4287462532520294,
          5.606592655181885,
          8.001935005187988,
          0.11940273642539978,
          1.2838730812072754,
          4.218184471130371,
          6.783137798309326,
          2.2908456325531006,
          3.102609634399414,
          4.0181565284729,
          1.553728699684143,
          3.1762192249298096,
          6.928997993469238,
          4.1367974281311035,
          3.9281389713287354
         ],
         "y": [
          4.033076763153076,
          2.4814226627349854,
          4.103811740875244,
          -0.7145271897315979,
          6.29329252243042,
          3.589805841445923,
          1.3371315002441406,
          4.215475082397461,
          4.524273872375488,
          0.8126976490020752,
          0.28914961218833923,
          1.238997459411621,
          1.4400711059570312,
          2.8377797603607178,
          2.9300644397735596,
          -1.1604280471801758,
          3.731019973754883,
          3.5806167125701904,
          3.8292768001556396,
          3.740321397781372,
          1.24847412109375,
          -1.3574013710021973,
          0.8583601713180542,
          3.278707265853882,
          -0.18767201900482178,
          3.7102067470550537,
          -0.08770452439785004,
          2.671976327896118,
          -3.581909418106079,
          5.331246376037598,
          -1.6992783546447754,
          6.29358434677124,
          3.436598300933838,
          2.1375861167907715,
          5.57928991317749,
          0.1713370829820633,
          1.3045963048934937,
          4.527176856994629,
          2.0600509643554688,
          1.2100529670715332,
          3.175880193710327,
          4.10242223739624,
          -0.26562580466270447,
          1.2699248790740967,
          1.6464006900787354,
          7.760342121124268,
          -1.3214982748031616,
          1.919358491897583,
          4.535706520080566,
          0.39835572242736816,
          -2.0082955360412598,
          4.158211708068848,
          4.097286224365234,
          -1.500261902809143,
          6.283555507659912,
          2.078594923019409,
          -1.1599032878875732,
          -0.5426082611083984,
          2.3175511360168457,
          3.803278684616089,
          5.285403251647949,
          2.785167932510376,
          -0.09259685128927231,
          4.425215244293213,
          4.642704963684082,
          3.9851315021514893,
          4.321939945220947,
          1.865044355392456,
          3.414992332458496,
          -0.6992374658584595,
          -0.1898510903120041,
          4.306624889373779,
          4.208704948425293,
          3.208820343017578,
          0.5712112188339233,
          -2.3077914714813232,
          -2.57831072807312,
          -1.6146433353424072,
          4.794665336608887,
          8.577865600585938,
          0.789639413356781,
          2.8234267234802246,
          3.1693782806396484,
          0.8059812188148499,
          -1.2619612216949463,
          2.805220127105713,
          -0.9210785031318665,
          -2.4398787021636963,
          2.7796733379364014,
          1.7028220891952515,
          3.33858585357666,
          1.3432022333145142,
          3.339505910873413,
          -2.185797929763794,
          0.324741005897522,
          4.044710159301758,
          5.140981197357178,
          1.2689100503921509,
          6.835348606109619,
          6.233091354370117,
          0.8902068734169006,
          0.36036062240600586,
          3.096745729446411,
          -0.7441619038581848,
          3.6463069915771484,
          -0.3802507519721985,
          3.3617804050445557,
          0.18089400231838226,
          4.265252590179443,
          3.88110613822937,
          -1.5115420818328857,
          7.561259746551514,
          3.28881573677063,
          -0.964621365070343,
          -1.4318135976791382,
          9.235089302062988,
          3.3667309284210205,
          -0.5752167701721191,
          3.4246041774749756,
          3.3158891201019287,
          8.68760871887207,
          2.118879556655884,
          1.895777940750122,
          6.042356491088867,
          2.0345945358276367,
          2.8653995990753174,
          4.514009952545166,
          4.7552924156188965,
          5.614008903503418,
          3.471940755844116,
          4.623273849487305,
          1.1703633069992065,
          1.4133868217468262,
          3.1102724075317383,
          1.5806220769882202,
          1.9895660877227783,
          -1.281461238861084,
          2.5107014179229736,
          4.594616413116455,
          2.368403911590576,
          -2.6853408813476562,
          5.420039653778076,
          4.296392917633057,
          2.0754966735839844,
          2.8742876052856445,
          1.6301065683364868,
          -2.683838367462158,
          3.525785446166992,
          0.0658131092786789,
          3.4991955757141113,
          0.8083037734031677,
          4.8710222244262695,
          8.588881492614746,
          3.3571269512176514,
          -0.8845712542533875,
          1.408191204071045,
          1.0125380754470825,
          2.407681703567505,
          -0.9207836985588074,
          3.8326220512390137,
          -2.2563564777374268,
          -1.1514232158660889,
          9.002716064453125,
          3.2649922370910645,
          1.1160918474197388,
          3.7879183292388916,
          0.1750209927558899,
          4.766686916351318,
          2.1883106231689453,
          -0.9672942161560059,
          3.899852752685547,
          3.2440497875213623,
          3.147822141647339,
          -2.7144224643707275,
          1.0312683582305908,
          -0.7120360732078552,
          2.282986879348755,
          4.667145729064941,
          3.7896316051483154,
          1.4784291982650757,
          3.193763494491577,
          3.002915620803833,
          2.765106678009033,
          1.2218399047851562,
          3.6246016025543213,
          1.5532671213150024,
          2.8770792484283447,
          3.372875213623047,
          -2.1722512245178223,
          0.5540987253189087,
          -0.831748902797699,
          -1.8834149837493896,
          4.427669525146484,
          0.8410311341285706,
          4.781068801879883,
          -1.1421362161636353,
          4.663629055023193,
          4.789206504821777,
          -0.7398450970649719,
          2.6822926998138428,
          -2.1810126304626465,
          5.166398525238037,
          3.200584888458252,
          6.542273998260498,
          1.57646644115448,
          5.610076904296875,
          4.442470073699951,
          -0.9351480603218079,
          -1.6972675323486328,
          4.156003475189209,
          2.385011911392212,
          7.887747287750244,
          -0.4038599729537964,
          3.42093825340271,
          3.3327646255493164,
          1.9104253053665161,
          0.5824779868125916,
          4.39463996887207,
          2.895916223526001,
          -0.3454502522945404,
          -0.6633418798446655,
          5.5590314865112305,
          -0.6811392307281494,
          5.007432460784912,
          4.345104694366455,
          4.478901386260986,
          2.2910168170928955,
          -3.0909359455108643,
          4.08861780166626,
          4.418628692626953,
          -0.6628603339195251,
          -0.22830109298229218,
          -1.2591291666030884,
          3.7601640224456787,
          1.173751950263977,
          -1.5764164924621582,
          -0.052624985575675964,
          1.9522578716278076,
          2.209873676300049,
          5.386570930480957,
          -1.112060785293579,
          -2.8409082889556885,
          4.355836868286133,
          -0.0946364626288414,
          1.157375693321228,
          1.5912984609603882,
          2.0082082748413086,
          -1.12081778049469,
          2.7391202449798584,
          3.9592947959899902,
          -0.06893813610076904,
          4.390316009521484,
          3.2012224197387695,
          3.5878725051879883,
          1.715917944908142,
          8.03184700012207,
          3.129180431365967,
          1.2300702333450317,
          2.3466856479644775,
          0.30472320318222046,
          3.2158422470092773,
          2.831576108932495,
          -2.239434003829956,
          0.8300333619117737,
          2.341294288635254,
          2.6623694896698,
          4.734947681427002,
          3.4691622257232666,
          0.21368621289730072,
          0.31840333342552185,
          4.792443752288818,
          0.41184744238853455,
          7.399285793304443,
          -0.9529949426651001,
          3.0654420852661133,
          5.495850563049316,
          3.7516283988952637,
          4.2438740730285645,
          1.9013450145721436,
          2.921367883682251,
          -1.0186032056808472,
          2.744929313659668,
          -1.6127650737762451,
          -1.6141492128372192,
          3.792109966278076,
          3.614611864089966,
          -0.17527200281620026,
          1.5699818134307861,
          -2.3985207080841064,
          2.2432608604431152,
          2.787792921066284,
          3.8687596321105957,
          3.0874557495117188,
          -2.157289743423462,
          5.345334053039551,
          5.074312686920166,
          -2.638765811920166,
          1.801460862159729,
          -3.500718832015991,
          3.4950544834136963,
          -3.019231081008911,
          -1.1948522329330444,
          2.233854055404663,
          -1.9220606088638306,
          5.755180835723877,
          7.168525695800781,
          2.649770975112915,
          4.622470378875732,
          6.035542011260986,
          3.7036354541778564,
          -2.188042163848877,
          -2.8620171546936035,
          1.1404476165771484,
          7.86823034286499,
          6.271385669708252,
          4.698907375335693,
          5.602514743804932,
          3.428910970687866,
          1.5354098081588745,
          5.617629051208496,
          4.891463279724121,
          3.7433295249938965,
          1.4728790521621704,
          3.0529136657714844,
          7.8484601974487305,
          4.530670166015625,
          3.5811824798583984,
          2.5606861114501953,
          3.4490392208099365,
          -0.09069560468196869,
          3.431756019592285,
          4.417988300323486,
          0.5176536440849304,
          2.2965753078460693,
          2.545104503631592,
          8.720001220703125,
          -3.2422118186950684,
          -2.597217559814453,
          3.317308187484741,
          5.283413410186768,
          3.389413595199585,
          7.583684921264648,
          3.248445987701416,
          3.511073589324951,
          3.9160773754119873,
          1.2421584129333496,
          8.683136940002441,
          3.88553524017334,
          1.8257266283035278,
          7.618277549743652,
          0.5785991549491882,
          -1.2782458066940308,
          3.3441028594970703,
          1.2647501230239868,
          0.9503268599510193,
          4.678186893463135,
          3.2437636852264404,
          2.226224899291992,
          1.490440845489502,
          3.7597594261169434,
          7.391645431518555,
          1.5379598140716553,
          -0.12842684984207153,
          -3.2895007133483887,
          1.8649091720581055,
          3.182814359664917,
          1.94454824924469,
          4.514651298522949,
          2.915424346923828,
          2.0916502475738525,
          1.5101829767227173,
          1.8509669303894043,
          -1.0720725059509277,
          4.181087017059326,
          4.894498825073242,
          1.7817769050598145,
          4.275896072387695,
          4.690998554229736,
          3.959311008453369,
          8.500645637512207,
          4.734494209289551,
          4.254998207092285,
          1.2969937324523926,
          1.869307041168213,
          3.659461259841919,
          4.690688133239746,
          3.1050403118133545,
          -0.9998356103897095,
          0.14533765614032745,
          5.655661582946777,
          2.1888582706451416,
          1.1358275413513184,
          5.117921352386475,
          6.691812038421631,
          0.45629560947418213,
          7.8644700050354,
          3.628138780593872,
          -2.4857776165008545,
          5.323389053344727,
          -3.287689685821533,
          1.4149816036224365,
          4.289222240447998,
          -0.7571911215782166,
          -1.6535141468048096,
          3.2599265575408936,
          1.6301045417785645,
          5.670941352844238,
          3.9113762378692627,
          1.4693554639816284,
          4.5875163078308105,
          -2.74823260307312,
          1.9054096937179565,
          2.7240805625915527,
          4.18115234375,
          1.3801124095916748,
          -0.9129186868667603,
          -1.3516499996185303,
          7.9792609214782715,
          3.0741679668426514,
          2.7552618980407715,
          3.4888815879821777,
          3.1873092651367188,
          1.6220927238464355,
          2.2941627502441406,
          -0.6543687582015991,
          -1.2125176191329956,
          3.5637083053588867,
          0.8215988874435425,
          2.899278402328491,
          3.372542142868042,
          1.932910680770874,
          3.8896327018737793,
          0.8426417708396912,
          -3.3117129802703857,
          0.8432987332344055,
          4.309429168701172,
          0.9711237549781799,
          0.347882479429245,
          2.866255283355713,
          -1.2990210056304932,
          -0.8770074844360352,
          2.980443000793457,
          3.589108943939209,
          3.1905198097229004,
          2.833178758621216,
          1.4111385345458984,
          4.285985469818115,
          1.5511376857757568,
          4.299623012542725,
          2.6279919147491455,
          2.4752299785614014,
          0.21790741384029388
         ],
         "z": [
          -3.68485426902771,
          -6.302684307098389,
          -5.253050327301025,
          -9.888733863830566,
          -5.0431365966796875,
          -0.3012641966342926,
          -3.737457513809204,
          -4.100730895996094,
          -0.23936009407043457,
          -5.8800368309021,
          -6.078732490539551,
          -12.369481086730957,
          -8.31728744506836,
          -4.671494007110596,
          -1.956486701965332,
          -11.57296085357666,
          -8.061373710632324,
          -4.272640705108643,
          -1.2855732440948486,
          -2.3674545288085938,
          -2.8175840377807617,
          -3.4789392948150635,
          -10.804006576538086,
          -0.5766522288322449,
          -6.911756992340088,
          -8.91423511505127,
          -11.515349388122559,
          -8.954829216003418,
          -4.985711097717285,
          -11.325754165649414,
          -12.394896507263184,
          -2.325946569442749,
          -10.895241737365723,
          -2.0960826873779297,
          -11.553278923034668,
          -8.065032958984375,
          -11.166510581970215,
          -8.179741859436035,
          -4.911443710327148,
          -7.196071147918701,
          1.6396960020065308,
          -10.126032829284668,
          -6.805527210235596,
          -11.33867073059082,
          -3.815293788909912,
          -3.1549766063690186,
          -3.409590721130371,
          -4.431049823760986,
          -5.247459888458252,
          -11.804489135742188,
          -2.5541744232177734,
          -3.5432498455047607,
          -9.09624195098877,
          -3.4835968017578125,
          -2.393918991088867,
          -6.455824375152588,
          -11.856717109680176,
          -6.056002616882324,
          -5.397015571594238,
          -10.64871883392334,
          -9.86757755279541,
          -11.611513137817383,
          -3.3800415992736816,
          -5.509350776672363,
          -6.236225605010986,
          -8.745914459228516,
          -6.067564964294434,
          -12.137158393859863,
          1.794992446899414,
          -5.656988620758057,
          -4.399414539337158,
          -8.292893409729004,
          -4.907851696014404,
          -0.8574018478393555,
          -8.210707664489746,
          -6.06398344039917,
          -12.194535255432129,
          -10.499051094055176,
          -2.1049859523773193,
          -4.635491847991943,
          -5.908863544464111,
          -9.143044471740723,
          -8.18519115447998,
          -12.347530364990234,
          -10.69904899597168,
          -1.4527106285095215,
          -6.682653427124023,
          -5.7805986404418945,
          -1.9013253450393677,
          -6.355373859405518,
          -1.448180079460144,
          -6.287853717803955,
          -8.126752853393555,
          -11.157903671264648,
          -7.449291706085205,
          -3.675758123397827,
          -11.888544082641602,
          -3.7117531299591064,
          -3.840955972671509,
          -4.863266468048096,
          -3.617403745651245,
          -7.235808849334717,
          -2.0287461280822754,
          -9.961413383483887,
          -3.478609323501587,
          -10.67855167388916,
          -1.9149969816207886,
          -12.26006031036377,
          -8.278618812561035,
          -4.914971351623535,
          -0.6946084499359131,
          -4.158075332641602,
          -1.9274928569793701,
          -2.300217628479004,
          -10.496161460876465,
          -5.196470260620117,
          -0.5940254330635071,
          -10.14255142211914,
          -8.436321258544922,
          -0.6150084137916565,
          -4.998694896697998,
          -4.826046943664551,
          -6.58439302444458,
          -4.429785251617432,
          -5.617504596710205,
          -8.871793746948242,
          -8.088719367980957,
          -6.466973781585693,
          -11.401180267333984,
          -0.1337980329990387,
          -4.726765155792236,
          -11.29493522644043,
          -6.730032920837402,
          -1.7519657611846924,
          -11.744620323181152,
          -12.084482192993164,
          -10.78901195526123,
          -7.4734344482421875,
          -7.2142653465271,
          -4.782222747802734,
          -2.3580434322357178,
          -11.179193496704102,
          -6.6252007484436035,
          0.5813146233558655,
          -5.448432445526123,
          -10.16623306274414,
          -5.527743339538574,
          -2.959876775741577,
          -10.153285026550293,
          -3.6192104816436768,
          -7.012012004852295,
          -7.333719253540039,
          -4.928158760070801,
          -0.6876964569091797,
          -6.304980278015137,
          -11.95430850982666,
          -10.767096519470215,
          -11.813308715820312,
          -6.899212837219238,
          -10.433485984802246,
          -11.35279655456543,
          -3.4817395210266113,
          -5.492211818695068,
          0.4008327126502991,
          -6.810781955718994,
          -4.922274589538574,
          -12.162224769592285,
          -6.04724645614624,
          -11.972066879272461,
          -3.6798720359802246,
          -7.954265594482422,
          -4.34252405166626,
          -6.969574928283691,
          -5.959104061126709,
          -10.639080047607422,
          -6.142210960388184,
          -3.3071200847625732,
          -7.745280742645264,
          -0.9691799283027649,
          -6.045724391937256,
          -8.55949592590332,
          -8.309476852416992,
          -9.170547485351562,
          -5.6921257972717285,
          -6.367051124572754,
          -11.281925201416016,
          -1.6916166543960571,
          -4.5348429679870605,
          -12.417848587036133,
          -12.211708068847656,
          -9.986747741699219,
          -10.776066780090332,
          -5.989119052886963,
          -3.512053966522217,
          -0.5110558867454529,
          -7.039206504821777,
          -6.9835405349731445,
          -10.018035888671875,
          -2.429753303527832,
          -9.07117748260498,
          -12.412732124328613,
          -4.9834818840026855,
          -0.8249713182449341,
          -3.0236480236053467,
          -9.01587963104248,
          -11.291621208190918,
          -8.941319465637207,
          -6.788345813751221,
          -12.394857406616211,
          -5.287164688110352,
          -2.5175490379333496,
          -4.066079616546631,
          -11.60689926147461,
          -9.916961669921875,
          -1.3411532640457153,
          -10.788505554199219,
          -10.793050765991211,
          -7.801187038421631,
          -5.201244354248047,
          -4.881445407867432,
          -5.228243827819824,
          -11.609318733215332,
          -12.46218490600586,
          -1.2244216203689575,
          -9.593935012817383,
          -7.1953511238098145,
          -7.996622085571289,
          -5.738553047180176,
          -5.30798864364624,
          -7.997531414031982,
          -6.8149590492248535,
          -12.24201774597168,
          -11.99020767211914,
          -8.051513671875,
          -12.108424186706543,
          -1.1326028108596802,
          -5.948877811431885,
          -4.105410099029541,
          -0.0294441320002079,
          -11.398526191711426,
          -7.045846939086914,
          -4.9735589027404785,
          -9.449941635131836,
          -6.114766597747803,
          -12.335101127624512,
          -7.89446496963501,
          -2.2327821254730225,
          -11.783345222473145,
          -8.780989646911621,
          -3.4103946685791016,
          -9.795594215393066,
          -8.22265625,
          -4.310855865478516,
          0.709862470626831,
          -6.53023624420166,
          -4.312077522277832,
          -10.821084022521973,
          -3.7680869102478027,
          -1.4428436756134033,
          -1.2705647945404053,
          -0.42714759707450867,
          -2.216855764389038,
          -12.415946960449219,
          -7.853602886199951,
          -1.9051169157028198,
          -5.682126045227051,
          2.2054052352905273,
          -0.8133750557899475,
          -2.9849138259887695,
          -12.069296836853027,
          -1.6653903722763062,
          -6.416575908660889,
          -3.7547171115875244,
          -12.299291610717773,
          -0.2795897424221039,
          -1.1892436742782593,
          2.255417585372925,
          -5.245697021484375,
          -8.002610206604004,
          -9.114821434020996,
          -6.93199348449707,
          -2.267538070678711,
          -2.6750149726867676,
          -0.4049732983112335,
          -5.617133140563965,
          -4.624717712402344,
          -2.384676933288574,
          -8.39551067352295,
          -11.396041870117188,
          -2.7869625091552734,
          -9.468062400817871,
          -5.50611686706543,
          -11.504024505615234,
          -12.416465759277344,
          -1.1569631099700928,
          -9.512861251831055,
          -5.236504077911377,
          -5.974969863891602,
          -3.9836761951446533,
          -0.06870630383491516,
          -4.664763450622559,
          -6.625112056732178,
          -7.2086334228515625,
          -12.411567687988281,
          -11.440749168395996,
          -3.6810555458068848,
          -7.407492160797119,
          -6.376389026641846,
          -4.268092632293701,
          -8.962495803833008,
          -12.416289329528809,
          -9.896071434020996,
          -3.9807803630828857,
          -3.6373050212860107,
          -2.2513840198516846,
          2.1600027084350586,
          -9.79300308227539,
          -2.3695733547210693,
          -5.006362438201904,
          -1.4758176803588867,
          -6.677189350128174,
          2.2734296321868896,
          -9.134906768798828,
          1.041167140007019,
          -4.370173454284668,
          -11.999874114990234,
          -8.741334915161133,
          0.7423006296157837,
          -2.3523502349853516,
          -12.427218437194824,
          -4.536731719970703,
          2.345315933227539,
          -12.307747840881348,
          -8.607942581176758,
          -11.697931289672852,
          -5.149458885192871,
          -9.623907089233398,
          -10.106173515319824,
          -4.680264949798584,
          -10.850719451904297,
          -0.7877985239028931,
          -3.205105781555176,
          -8.7933988571167,
          -0.7096361517906189,
          3.057137966156006,
          -3.7968480587005615,
          -5.0394768714904785,
          -1.7677196264266968,
          -4.408298969268799,
          -2.9768543243408203,
          -12.317514419555664,
          -0.4418310225009918,
          -0.7479082345962524,
          -12.490730285644531,
          -12.35372257232666,
          -7.364099025726318,
          -4.811047077178955,
          -7.20529317855835,
          0.6261263489723206,
          1.3312745094299316,
          -3.9867429733276367,
          -11.378524780273438,
          -10.936323165893555,
          -4.633636951446533,
          -2.761309862136841,
          -4.2159271240234375,
          -12.020417213439941,
          -5.806950569152832,
          -11.36514949798584,
          -6.119080543518066,
          -9.384387969970703,
          -7.022815704345703,
          -1.0898334980010986,
          -10.026378631591797,
          -6.664453029632568,
          -10.322526931762695,
          -4.906638145446777,
          -7.15241003036499,
          -10.389158248901367,
          -4.841624736785889,
          -0.19234541058540344,
          -8.768463134765625,
          -5.694082736968994,
          -4.360591888427734,
          -4.0197248458862305,
          -7.525688648223877,
          -5.005993366241455,
          -2.815581798553467,
          -3.803304433822632,
          -1.470084547996521,
          -5.858303546905518,
          -3.590418815612793,
          -6.906581401824951,
          -3.6948602199554443,
          -5.8849029541015625,
          -4.362308502197266,
          -5.395699501037598,
          -4.617406368255615,
          -11.637320518493652,
          -4.265872955322266,
          -3.2114596366882324,
          -10.009401321411133,
          -7.446699142456055,
          -1.160480260848999,
          -0.05569403991103172,
          -3.4000163078308105,
          -3.966844320297241,
          -1.8011943101882935,
          -12.265857696533203,
          -7.682307243347168,
          -5.291296482086182,
          -7.6287617683410645,
          1.295450210571289,
          -10.02628231048584,
          0.7381407022476196,
          -10.171300888061523,
          -0.6982789635658264,
          -3.9027116298675537,
          -11.920394897460938,
          -4.841741561889648,
          -0.039293695241212845,
          -1.2435332536697388,
          -4.883634090423584,
          -11.721978187561035,
          -11.513465881347656,
          -12.334753036499023,
          -4.742891311645508,
          -3.9178531169891357,
          -2.1622791290283203,
          -4.635188579559326,
          -2.6652936935424805,
          0.9413273334503174,
          -12.350558280944824,
          -4.455651760101318,
          -5.975738525390625,
          -9.506978034973145,
          -6.434638500213623,
          -3.4744765758514404,
          -4.0226922035217285,
          -12.25760269165039,
          -2.086963176727295,
          -4.480083465576172,
          0.021994037553668022,
          -5.208373069763184,
          -0.7460806965827942,
          -10.764296531677246,
          -4.248146057128906,
          -2.6934940814971924,
          -4.240977764129639,
          -8.932914733886719,
          -11.758551597595215,
          -6.714287281036377
         ]
        },
        {
         "hoverlabel": {
          "namelength": 0
         },
         "hovertemplate": "Dominant_Topic=Topic 1<br>0=%{x}<br>1=%{y}<br>2=%{z}",
         "legendgroup": "Dominant_Topic=Topic 1",
         "marker": {
          "color": "#EF553B",
          "opacity": 0.7,
          "symbol": "circle"
         },
         "mode": "markers",
         "name": "Dominant_Topic=Topic 1",
         "scene": "scene",
         "showlegend": true,
         "type": "scatter3d",
         "x": [
          -0.43738627433776855,
          4.239975929260254,
          0.5801379680633545,
          -0.304500937461853,
          -0.18832693994045258,
          1.191590428352356,
          0.16241873800754547,
          -1.0148512125015259,
          3.6042215824127197,
          -1.6739048957824707,
          6.718044757843018,
          1.713259220123291,
          1.8883554935455322,
          4.280345916748047,
          3.944498300552368,
          0.6228187084197998,
          0.43243515491485596,
          0.1736333668231964,
          1.675527572631836,
          0.3288154900074005,
          1.7092164754867554,
          -1.915704607963562,
          1.0991414785385132,
          0.16635505855083466,
          -0.7614825963973999,
          3.183415412902832,
          4.584836006164551,
          3.548597574234009,
          4.158100605010986,
          3.7791452407836914,
          -2.436251640319824,
          0.7019805908203125,
          0.14565248787403107,
          0.39938870072364807,
          3.945704698562622,
          -1.2482975721359253,
          1.18803071975708,
          -1.0244126319885254,
          -0.5545359253883362,
          3.743295431137085,
          0.15042023360729218,
          3.0945441722869873,
          -0.9555867314338684,
          2.537928819656372,
          -1.9412550926208496,
          1.3338284492492676,
          4.187830924987793,
          1.0817947387695312,
          -0.41722580790519714,
          2.495851993560791,
          3.1791837215423584,
          4.063079833984375,
          1.064102292060852,
          3.7536935806274414,
          -2.59090518951416,
          1.3759331703186035,
          -2.50917911529541,
          3.2524397373199463,
          2.4181101322174072,
          2.5451056957244873,
          6.809689521789551,
          1.9793797731399536,
          2.5142099857330322,
          1.5192360877990723,
          3.6202173233032227,
          -1.2803865671157837,
          0.3035730719566345,
          -2.0975427627563477,
          2.192903995513916,
          -1.629242181777954,
          -0.7411701679229736,
          3.6907007694244385,
          -2.8234457969665527,
          -2.4117307662963867,
          0.8593595623970032,
          1.9055038690567017,
          1.6598420143127441,
          4.206284999847412,
          0.37409114837646484,
          2.182184934616089,
          2.478949785232544,
          -1.4007855653762817,
          2.418656826019287,
          -0.32187750935554504,
          -2.2506179809570312,
          3.9857583045959473,
          3.425105571746826,
          -0.9087026119232178,
          3.5519843101501465,
          -0.6222260594367981,
          1.1402158737182617,
          7.967623233795166,
          3.2433547973632812,
          3.5502874851226807,
          1.714337944984436,
          -0.3470417857170105,
          3.2666335105895996,
          0.20515228807926178,
          1.288415789604187,
          6.510312557220459,
          0.5497516989707947,
          0.10169602185487747,
          1.553207278251648,
          2.2615981101989746,
          2.369206666946411,
          4.1688714027404785,
          4.418147563934326,
          3.3902506828308105,
          4.3244194984436035,
          3.5256707668304443,
          -1.2856593132019043,
          1.2328649759292603,
          1.4633567333221436,
          3.8415191173553467,
          3.562612533569336,
          1.2767300605773926,
          -2.1846678256988525,
          -0.37188437581062317,
          -0.9236401319503784,
          -2.273833990097046,
          2.431650161743164,
          3.55694317817688,
          2.923151969909668,
          3.670990228652954,
          3.185204267501831,
          2.7556498050689697,
          2.628685235977173,
          1.8773715496063232,
          2.4131720066070557,
          4.088356971740723,
          1.6436084508895874,
          -0.9208845496177673,
          4.2213215827941895,
          -2.6916449069976807,
          -1.1305983066558838,
          -0.6423431038856506,
          6.218108177185059,
          0.1806073635816574,
          1.8517582416534424,
          -2.1502978801727295,
          -0.527907133102417,
          2.711782932281494,
          2.104635000228882,
          2.6995608806610107,
          -0.4651731550693512,
          0.9938886761665344,
          3.474292516708374,
          3.958524465560913,
          2.715416431427002,
          -0.9034797549247742,
          0.39530935883522034,
          3.082943916320801,
          1.243425726890564,
          2.714628219604492,
          4.2752180099487305,
          3.925849199295044,
          3.9807186126708984,
          0.5357019305229187,
          -0.5448408722877502,
          3.0795235633850098,
          4.746317386627197,
          -0.8222922086715698,
          3.112821102142334,
          3.6317944526672363,
          3.267735242843628,
          0.12154120206832886,
          5.912423610687256,
          2.715970993041992,
          -1.954503059387207,
          1.5424548387527466,
          -1.0244560241699219,
          2.5437684059143066,
          2.6984283924102783,
          3.6803741455078125,
          3.0837888717651367,
          2.475353956222534,
          2.7528977394104004,
          -0.4601312279701233,
          -0.2515372037887573,
          2.3677103519439697,
          -1.2633825540542603,
          2.884674072265625,
          -0.3335818946361542,
          -0.41619250178337097,
          1.4888322353363037,
          3.2169907093048096,
          3.707399606704712,
          4.009603977203369,
          2.4467642307281494,
          6.038972854614258,
          3.6099836826324463,
          4.3180108070373535,
          4.051151752471924,
          0.030672971159219742,
          2.715961456298828,
          0.1351701319217682,
          2.4398744106292725,
          4.002594470977783,
          3.963996410369873,
          2.1785006523132324,
          -0.22390633821487427,
          1.9550378322601318,
          0.9837567210197449,
          3.7493069171905518,
          0.14862413704395294,
          1.7656943798065186,
          7.861832618713379,
          3.070483446121216,
          0.06174251437187195,
          2.11672306060791,
          3.9084556102752686,
          3.012399196624756,
          0.5446671843528748,
          4.240431308746338,
          2.8397786617279053,
          3.3914318084716797,
          2.4564054012298584,
          2.702989101409912,
          3.044530153274536,
          0.6228103637695312,
          3.081940174102783,
          3.913058042526245,
          3.878326177597046,
          0.5414308309555054,
          2.6672401428222656,
          0.7916271090507507,
          1.468326449394226,
          3.0438363552093506,
          3.3624863624572754,
          3.3437294960021973,
          3.1694328784942627,
          1.5534785985946655,
          2.9192888736724854,
          3.896430492401123
         ],
         "y": [
          2.1481974124908447,
          1.1761349439620972,
          3.010038375854492,
          1.8850535154342651,
          2.62957763671875,
          2.583889961242676,
          -0.358063668012619,
          1.6825982332229614,
          -1.9843922853469849,
          3.934231758117676,
          2.239168405532837,
          -0.5090813040733337,
          3.521975517272949,
          1.2624707221984863,
          1.4713692665100098,
          0.27268174290657043,
          3.161665916442871,
          3.23340106010437,
          2.5672667026519775,
          0.32987481355667114,
          2.145700454711914,
          0.910760223865509,
          1.8144404888153076,
          3.3242249488830566,
          1.522444725036621,
          -2.2992584705352783,
          1.5131179094314575,
          -1.0213950872421265,
          0.9879727959632874,
          1.3757225275039673,
          0.8659881353378296,
          2.1027286052703857,
          0.4927996098995209,
          0.4054121971130371,
          0.7382795214653015,
          3.99272084236145,
          -3.0191855430603027,
          1.3889245986938477,
          1.6940808296203613,
          0.09992869198322296,
          2.281900405883789,
          0.7455501556396484,
          4.387269496917725,
          3.1982176303863525,
          3.37475848197937,
          -2.5634894371032715,
          1.4898488521575928,
          2.2898037433624268,
          -1.6989459991455078,
          2.5945165157318115,
          2.701002359390259,
          0.8249015808105469,
          3.181495189666748,
          0.28161293268203735,
          3.3013737201690674,
          2.043729305267334,
          1.1975094079971313,
          1.455643653869629,
          2.030629873275757,
          3.4265425205230713,
          3.340465784072876,
          2.900552272796631,
          1.892514705657959,
          2.758275270462036,
          2.4777939319610596,
          3.8175618648529053,
          2.2868611812591553,
          3.6748006343841553,
          -0.060511503368616104,
          0.39755183458328247,
          2.98028302192688,
          -2.091712236404419,
          0.1666610687971115,
          0.6470702886581421,
          -1.2392510175704956,
          1.2616872787475586,
          1.0154331922531128,
          0.7077176570892334,
          3.2388577461242676,
          1.2629616260528564,
          2.881582736968994,
          2.9243509769439697,
          2.290283203125,
          1.687095284461975,
          4.159273147583008,
          1.5528321266174316,
          0.17729492485523224,
          1.657008409500122,
          0.2263876348733902,
          3.025773048400879,
          3.6059062480926514,
          3.7093396186828613,
          0.5159685611724854,
          2.342310905456543,
          3.3178818225860596,
          2.9150991439819336,
          0.5311773419380188,
          -0.24199186265468597,
          0.8088876008987427,
          2.554123640060425,
          3.448345184326172,
          2.3491108417510986,
          -1.8102781772613525,
          -0.28859731554985046,
          1.7774574756622314,
          -1.2877724170684814,
          0.7540083527565002,
          2.6674933433532715,
          1.3340115547180176,
          0.03618866950273514,
          3.970876455307007,
          -3.09004282951355,
          -0.09694643318653107,
          0.7318930625915527,
          -2.270331621170044,
          0.07221483439207077,
          0.6381090879440308,
          2.735380172729492,
          -1.2661149501800537,
          4.15587043762207,
          0.3782599866390228,
          1.226327657699585,
          0.14820340275764465,
          2.109344959259033,
          0.1701662838459015,
          0.030237343162298203,
          -0.8919327259063721,
          1.1997119188308716,
          1.6125408411026,
          1.009521245956421,
          2.9198803901672363,
          -0.22082778811454773,
          1.5036461353302002,
          0.2824902832508087,
          1.349471092224121,
          -4.3031463623046875,
          3.1571195125579834,
          0.24835141003131866,
          -0.02461429312825203,
          3.8272109031677246,
          2.296238422393799,
          -1.9466460943222046,
          0.13691386580467224,
          2.0248210430145264,
          1.4164361953735352,
          -1.095837950706482,
          0.22024928033351898,
          2.068159341812134,
          -0.6796655058860779,
          -1.2835237979888916,
          2.2009360790252686,
          0.06825409084558487,
          0.8050893545150757,
          -0.218245267868042,
          0.597177267074585,
          1.2421784400939941,
          0.9030020236968994,
          -0.1913396120071411,
          2.5873122215270996,
          0.2084692418575287,
          1.5673847198486328,
          2.3707594871520996,
          0.20564375817775726,
          0.38005396723747253,
          2.1140964031219482,
          2.5806162357330322,
          3.427640914916992,
          0.10024616122245789,
          3.597771406173706,
          -0.0614958293735981,
          4.206553936004639,
          -0.010543333366513252,
          0.14653748273849487,
          1.4369200468063354,
          0.2045825570821762,
          -0.010925152339041233,
          0.06180033087730408,
          -0.3348608613014221,
          -0.2686655521392822,
          0.15880128741264343,
          -0.24971045553684235,
          3.599796772003174,
          -0.2696627676486969,
          1.4417712688446045,
          -0.0990847498178482,
          0.1983412802219391,
          2.3520612716674805,
          0.9307944774627686,
          1.9568085670471191,
          2.0771589279174805,
          0.9909839630126953,
          0.8117189407348633,
          1.0407899618148804,
          0.24268193542957306,
          0.16735072433948517,
          3.0732157230377197,
          -0.024372978135943413,
          1.3795703649520874,
          -0.20074838399887085,
          -0.2568000853061676,
          -1.158888578414917,
          2.70914888381958,
          -0.09291958808898926,
          1.0766602754592896,
          2.265321731567383,
          -0.04389132186770439,
          3.6718804836273193,
          0.10050594061613083,
          -1.0216374397277832,
          1.3175718784332275,
          0.5127944946289062,
          0.20182140171527863,
          -0.538661777973175,
          1.1222996711730957,
          -0.3751770257949829,
          -1.7446831464767456,
          0.22579583525657654,
          0.6739740371704102,
          0.19352346658706665,
          -0.19687828421592712,
          0.17711517214775085,
          -1.2452383041381836,
          0.34798380732536316,
          -0.17938260734081268,
          0.8022752404212952,
          -0.4269573390483856,
          1.3226865530014038,
          0.12330016493797302,
          0.17828288674354553,
          0.1675807684659958,
          -0.8884873390197754,
          -0.06570093333721161,
          -1.8603501319885254,
          0.6644353866577148
         ],
         "z": [
          6.04790735244751,
          5.469716548919678,
          4.739096641540527,
          6.28546667098999,
          5.3054022789001465,
          5.042206287384033,
          12.24025821685791,
          4.786115646362305,
          12.08065414428711,
          6.015856742858887,
          -1.0099290609359741,
          6.0503435134887695,
          1.2758800983428955,
          10.19234848022461,
          8.483113288879395,
          5.818131446838379,
          3.6042380332946777,
          1.5000296831130981,
          2.761934518814087,
          5.644869804382324,
          5.645644664764404,
          8.119218826293945,
          8.266647338867188,
          2.162726879119873,
          8.60822868347168,
          11.576177597045898,
          9.9717378616333,
          12.58278751373291,
          10.656607627868652,
          8.34123706817627,
          7.90203857421875,
          3.3354082107543945,
          9.358603477478027,
          9.581109046936035,
          11.743279457092285,
          3.715306282043457,
          1.3078405857086182,
          4.3879804611206055,
          6.096574783325195,
          12.153944969177246,
          7.789610385894775,
          6.019146919250488,
          6.316227436065674,
          1.9131852388381958,
          5.02427339553833,
          0.9358919858932495,
          5.667026996612549,
          5.1139068603515625,
          11.673212051391602,
          5.349581718444824,
          5.520049571990967,
          11.598531723022461,
          1.4900269508361816,
          12.979772567749023,
          2.3634414672851562,
          7.56170654296875,
          2.268557071685791,
          6.24646520614624,
          1.0997520685195923,
          1.5834732055664062,
          -0.9828651547431946,
          5.518953800201416,
          8.528794288635254,
          5.135185718536377,
          6.646862030029297,
          5.277925968170166,
          2.8850340843200684,
          5.315677165985107,
          5.742161273956299,
          8.272215843200684,
          2.033798933029175,
          12.244059562683105,
          9.594952583312988,
          7.787574291229248,
          -0.5045168995857239,
          8.711954116821289,
          8.375738143920898,
          5.915059566497803,
          1.9181674718856812,
          9.223989486694336,
          2.5167012214660645,
          3.608502149581909,
          6.596766948699951,
          7.883744239807129,
          7.0606560707092285,
          8.464105606079102,
          14.967536926269531,
          8.524985313415527,
          13.815218925476074,
          2.9189999103546143,
          1.636000633239746,
          0.34630778431892395,
          6.012469291687012,
          6.805835247039795,
          2.3370699882507324,
          0.8924190402030945,
          10.876734733581543,
          12.604146003723145,
          8.795443534851074,
          -0.8554508090019226,
          5.052305221557617,
          7.775130271911621,
          0.0592392273247242,
          5.905364990234375,
          6.936124801635742,
          12.873671531677246,
          5.837060451507568,
          6.107919692993164,
          5.246406555175781,
          14.53178596496582,
          3.143052101135254,
          1.3749693632125854,
          15.3328857421875,
          10.977804183959961,
          11.913628578186035,
          11.927282333374023,
          8.153491973876953,
          5.723613739013672,
          0.9021247625350952,
          6.969385623931885,
          11.754234313964844,
          8.555538177490234,
          15.923508644104004,
          6.3188862800598145,
          15.657833099365234,
          13.972972869873047,
          12.550093650817871,
          9.263422966003418,
          0.9996002912521362,
          10.959725379943848,
          2.485023260116577,
          11.66522216796875,
          9.155827522277832,
          9.400712966918945,
          4.161713600158691,
          2.9122366905212402,
          -0.773086667060852,
          9.318764686584473,
          15.61060905456543,
          7.372586250305176,
          4.811309337615967,
          11.510713577270508,
          12.184426307678223,
          1.7349985837936401,
          6.966677665710449,
          6.63244104385376,
          15.778268814086914,
          5.805775165557861,
          6.3038482666015625,
          0.8208653926849365,
          3.266385793685913,
          14.473217010498047,
          8.658212661743164,
          6.492596626281738,
          12.345974922180176,
          9.482808113098145,
          9.107027053833008,
          12.500859260559082,
          4.933685302734375,
          16.939287185668945,
          10.12866497039795,
          4.925857067108154,
          17.056001663208008,
          12.936491012573242,
          5.953170299530029,
          5.630492687225342,
          -0.60592120885849,
          6.011778831481934,
          4.610499382019043,
          15.69350814819336,
          6.207458019256592,
          14.76889419555664,
          16.538541793823242,
          9.593406677246094,
          16.640270233154297,
          5.623602867126465,
          15.132824897766113,
          12.25864315032959,
          12.336463928222656,
          12.531868934631348,
          11.701745986938477,
          0.8299928307533264,
          12.302166938781738,
          7.415745258331299,
          15.249112129211426,
          16.145835876464844,
          6.88490629196167,
          9.073493003845215,
          1.4594175815582275,
          -0.4028124511241913,
          7.828012943267822,
          12.016234397888184,
          10.568881034851074,
          9.297586441040039,
          17.107547760009766,
          1.0003052949905396,
          13.848204612731934,
          8.7935791015625,
          12.852493286132812,
          13.678614616394043,
          11.972997665405273,
          2.6497952938079834,
          12.344385147094727,
          10.892327308654785,
          7.696499347686768,
          15.513540267944336,
          0.18864546716213226,
          14.2659912109375,
          12.148395538330078,
          7.1859588623046875,
          11.667380332946777,
          16.856061935424805,
          13.327496528625488,
          10.592788696289062,
          12.986945152282715,
          12.426554679870605,
          5.5019917488098145,
          10.619264602661133,
          16.495548248291016,
          12.787891387939453,
          16.087371826171875,
          12.365732192993164,
          13.36918830871582,
          12.413715362548828,
          5.611136436462402,
          12.363151550292969,
          8.638758659362793,
          15.183821678161621,
          15.319106101989746,
          15.488856315612793,
          6.012394905090332,
          15.612482070922852,
          11.926959037780762,
          11.973029136657715
         ]
        },
        {
         "hoverlabel": {
          "namelength": 0
         },
         "hovertemplate": "Dominant_Topic=Topic 2<br>0=%{x}<br>1=%{y}<br>2=%{z}",
         "legendgroup": "Dominant_Topic=Topic 2",
         "marker": {
          "color": "#00cc96",
          "opacity": 0.7,
          "symbol": "circle"
         },
         "mode": "markers",
         "name": "Dominant_Topic=Topic 2",
         "scene": "scene",
         "showlegend": true,
         "type": "scatter3d",
         "x": [
          -2.48805570602417,
          -11.998672485351562,
          -10.793787002563477,
          -12.609373092651367,
          -9.885735511779785,
          -7.529395580291748,
          -5.60910701751709,
          -9.706561088562012,
          -5.537904262542725,
          -7.292654037475586,
          -10.323537826538086,
          -3.5590198040008545,
          -2.960130214691162,
          -12.253595352172852,
          -2.8694000244140625,
          -3.641605854034424,
          -4.166051864624023,
          -5.676494121551514,
          -6.983379364013672,
          -5.3081865310668945,
          -12.579684257507324,
          -12.097159385681152,
          -10.638252258300781,
          -2.237105369567871,
          -5.269809722900391,
          -8.104730606079102,
          -3.363754987716675,
          -11.385476112365723,
          -10.815070152282715,
          -9.750231742858887,
          -6.169708728790283,
          -7.027517795562744,
          -8.303726196289062,
          -10.792463302612305,
          -6.34653377532959,
          -7.428630828857422,
          -7.666882514953613,
          -12.475560188293457,
          -9.227948188781738,
          -6.584395885467529,
          -9.842276573181152,
          -8.417529106140137,
          -7.285219192504883,
          -12.929646492004395,
          -7.202885627746582,
          -2.9497437477111816,
          -10.999098777770996,
          -4.542749881744385,
          -8.698168754577637,
          -12.687355995178223,
          -10.556679725646973,
          -9.85008430480957,
          -12.901528358459473,
          -7.19612455368042,
          -5.196807384490967,
          -2.9307522773742676,
          -7.357139587402344,
          -10.219545364379883,
          -5.452876091003418,
          -5.363809585571289,
          -2.3587043285369873,
          -6.881722450256348,
          -9.456023216247559,
          -3.718214988708496,
          -5.68478536605835,
          -4.6031174659729,
          -4.716375827789307,
          -6.25826358795166,
          -5.299082279205322,
          -7.141789436340332,
          -8.136201858520508,
          -10.303630828857422,
          -11.824052810668945,
          -4.749222278594971,
          -7.258790493011475,
          -4.350776195526123,
          -10.630622863769531,
          -6.455404758453369,
          -3.7758584022521973,
          -8.762480735778809,
          -4.412282466888428,
          -7.060131072998047,
          -12.246452331542969,
          -4.795095443725586,
          -12.579852104187012,
          -12.943166732788086,
          -4.8041157722473145,
          -9.675911903381348,
          -5.467358112335205,
          -7.905208110809326,
          -9.13596248626709,
          -4.51313591003418,
          -6.663656234741211,
          -5.278751373291016,
          -7.267694473266602,
          -5.269974231719971,
          -2.623168468475342,
          -7.680190086364746,
          -10.563897132873535,
          -3.673445224761963,
          -8.168513298034668,
          -7.432308673858643,
          -11.541363716125488,
          -12.080004692077637,
          -3.0481932163238525,
          -6.8309173583984375,
          -6.015092372894287,
          -7.979392051696777,
          -4.661253929138184,
          -5.484697341918945,
          -3.194920301437378,
          -12.692911148071289,
          -8.859399795532227,
          -8.547499656677246,
          -4.906089782714844,
          -3.9258878231048584,
          -4.602419853210449,
          -3.804326295852661,
          -3.714493989944458,
          -3.8089678287506104,
          -10.739063262939453,
          -5.429243564605713,
          -10.582478523254395,
          -2.8931221961975098,
          -1.4208765029907227,
          -6.645322799682617,
          -7.258981704711914,
          -4.663355350494385,
          -3.441359758377075,
          -3.1253607273101807,
          -8.73580265045166,
          -4.247701644897461,
          -10.040481567382812,
          -10.044577598571777,
          -4.93783712387085,
          -3.4214885234832764,
          -7.1343817710876465,
          -8.738490104675293,
          -3.322702407836914,
          -4.620360851287842,
          -3.329106330871582,
          -10.410948753356934,
          -4.740445137023926,
          -2.568901300430298,
          -5.726877689361572,
          -3.0378453731536865,
          -9.084542274475098,
          -10.765229225158691,
          -3.754180908203125,
          -5.184489727020264,
          -7.788115978240967,
          -3.986837148666382,
          -8.378771781921387,
          -3.847125768661499,
          -7.064032077789307,
          -2.984198808670044,
          -10.723891258239746,
          -1.792928695678711,
          -8.638089179992676,
          -3.63867449760437,
          -4.571486949920654,
          -6.283771514892578,
          -3.9737954139709473,
          -11.457603454589844,
          -10.253329277038574,
          -10.720711708068848,
          -2.9857475757598877,
          -4.924347400665283,
          -9.459563255310059,
          -4.215193271636963,
          -11.398748397827148,
          -11.439105033874512,
          -2.2184741497039795,
          -8.71388053894043,
          -5.485043525695801,
          -8.996562004089355,
          -3.8559157848358154,
          -4.731738090515137,
          -4.543215274810791,
          -10.430767059326172,
          -7.086778163909912,
          -13.0744047164917
         ],
         "y": [
          3.3929266929626465,
          -4.863773822784424,
          -3.1797549724578857,
          -4.76516580581665,
          -1.7209445238113403,
          -3.792179822921753,
          2.314735174179077,
          -3.515733242034912,
          2.5080718994140625,
          0.8211944699287415,
          -2.3513717651367188,
          3.1809375286102295,
          0.1195419579744339,
          -4.277595043182373,
          4.035834312438965,
          3.7324297428131104,
          2.887439250946045,
          -1.7295678853988647,
          1.1586661338806152,
          -1.3764923810958862,
          -5.177531719207764,
          -4.102264404296875,
          -2.018507242202759,
          3.330883026123047,
          -2.015012741088867,
          1.7581007480621338,
          2.2024118900299072,
          -3.2644970417022705,
          -3.4980852603912354,
          -3.7800557613372803,
          2.1592233180999756,
          1.2622427940368652,
          0.2121676206588745,
          -3.2818267345428467,
          1.6594188213348389,
          0.9148032069206238,
          -0.3752778470516205,
          -4.535085201263428,
          -1.4788682460784912,
          -3.223513126373291,
          -1.4351738691329956,
          -0.18076495826244354,
          -0.4572314918041229,
          -5.082007884979248,
          -1.9427820444107056,
          1.4270715713500977,
          -3.6134512424468994,
          2.0999722480773926,
          -0.7169681787490845,
          -4.79591178894043,
          -3.7402169704437256,
          -2.4123048782348633,
          -5.097667217254639,
          1.4446078538894653,
          2.8094325065612793,
          0.552452564239502,
          -2.9952471256256104,
          -3.9014430046081543,
          -1.4013407230377197,
          1.432974934577942,
          2.6737823486328125,
          0.9204636812210083,
          -0.8505842685699463,
          1.316139817237854,
          -1.2027833461761475,
          2.4400835037231445,
          0.18080338835716248,
          1.0026750564575195,
          -0.9861114025115967,
          -1.5026681423187256,
          -2.747418165206909,
          -1.557627558708191,
          -4.25746488571167,
          3.0140340328216553,
          -3.6849472522735596,
          1.9360910654067993,
          -2.330845355987549,
          1.592799425125122,
          1.6797442436218262,
          -0.09243509918451309,
          -0.3316527307033539,
          2.0103116035461426,
          -4.232792854309082,
          1.4243024587631226,
          -4.794741153717041,
          -5.3741607666015625,
          0.580283522605896,
          -1.2059094905853271,
          -1.0915809869766235,
          0.43880483508110046,
          -0.8900337815284729,
          3.1824448108673096,
          1.383433222770691,
          -1.034964680671692,
          -3.577279567718506,
          2.769634962081909,
          1.977027177810669,
          -1.2869863510131836,
          -2.224344253540039,
          -0.1488688886165619,
          0.2934761047363281,
          -2.8527657985687256,
          -3.999162197113037,
          -4.432661056518555,
          3.255751132965088,
          1.0370622873306274,
          0.9023457765579224,
          2.0794012546539307,
          1.4789085388183594,
          3.4712953567504883,
          3.8523263931274414,
          -4.803006649017334,
          -1.091284990310669,
          2.1511969566345215,
          -1.508838176727295,
          2.1362080574035645,
          2.465545892715454,
          2.7331225872039795,
          2.960261583328247,
          -0.7284852862358093,
          -3.240919589996338,
          -1.5044156312942505,
          -0.0572885200381279,
          2.648691177368164,
          3.499112129211426,
          1.7823469638824463,
          -3.684941053390503,
          2.1591639518737793,
          0.5099276900291443,
          -0.10256929695606232,
          2.723435401916504,
          3.286116361618042,
          -1.4940119981765747,
          -3.6072797775268555,
          2.2508037090301514,
          0.7096311450004578,
          1.2336835861206055,
          2.804081916809082,
          3.557189702987671,
          1.6147874593734741,
          2.5794777870178223,
          -2.058525800704956,
          3.1174750328063965,
          0.7161285281181335,
          -1.558305263519287,
          0.4467076063156128,
          -1.2901722192764282,
          -2.94545316696167,
          -0.2017587423324585,
          -1.1241750717163086,
          -2.512006998062134,
          1.4553383588790894,
          0.0008809174178168178,
          0.5749764442443848,
          1.1228680610656738,
          -0.15751975774765015,
          -3.4377334117889404,
          2.6915712356567383,
          -1.253981590270996,
          3.2087674140930176,
          -0.2618922293186188,
          -1.4114725589752197,
          -0.6726388931274414,
          -3.527545690536499,
          -1.662503957748413,
          -3.016000509262085,
          1.850127100944519,
          -0.8104305863380432,
          -1.1428877115249634,
          0.07487576454877853,
          -2.606165647506714,
          -3.219001054763794,
          2.142857551574707,
          2.7834622859954834,
          3.6412863731384277,
          0.6691387295722961,
          1.47785484790802,
          1.0583401918411255,
          -0.34896495938301086,
          -1.7532440423965454,
          1.1990649700164795,
          -5.296802997589111
         ],
         "z": [
          5.23717737197876,
          5.819456577301025,
          6.313943386077881,
          6.030375957489014,
          5.987543106079102,
          3.9596076011657715,
          7.469792366027832,
          5.443305492401123,
          7.459540843963623,
          6.262770652770996,
          6.269361972808838,
          2.4939072132110596,
          9.668180465698242,
          5.890814304351807,
          5.641703128814697,
          4.5701375007629395,
          6.059571266174316,
          5.012763023376465,
          6.499370574951172,
          5.466109275817871,
          5.734714031219482,
          5.902061462402344,
          6.468714714050293,
          4.875527858734131,
          3.1040501594543457,
          5.544003009796143,
          4.217010021209717,
          6.135985851287842,
          8.013801574707031,
          5.27606725692749,
          4.213438034057617,
          5.464319705963135,
          5.6644463539123535,
          7.591324806213379,
          7.08703088760376,
          5.339979648590088,
          4.884906768798828,
          5.892050743103027,
          6.7097673416137695,
          3.650414228439331,
          7.155630588531494,
          5.792831897735596,
          4.643415451049805,
          5.869114875793457,
          5.731173038482666,
          1.9267981052398682,
          7.875033855438232,
          4.812173843383789,
          5.954404354095459,
          5.8884148597717285,
          6.055445671081543,
          5.7423810958862305,
          6.004047393798828,
          4.970815181732178,
          7.2678542137146,
          8.094376564025879,
          4.464748382568359,
          5.440457344055176,
          5.765232563018799,
          6.57545804977417,
          5.506097316741943,
          6.6246771812438965,
          6.177639961242676,
          7.23781156539917,
          6.457448959350586,
          4.989382266998291,
          8.436155319213867,
          7.1493239402771,
          6.561025619506836,
          6.024572372436523,
          5.131916046142578,
          7.1117634773254395,
          6.916437149047852,
          3.9967942237854004,
          3.8600480556488037,
          5.077805042266846,
          5.961386203765869,
          4.254720211029053,
          5.369968414306641,
          5.678964614868164,
          2.505768060684204,
          4.516726016998291,
          5.874162673950195,
          6.291994571685791,
          6.204954624176025,
          5.782272815704346,
          8.173303604125977,
          6.129678249359131,
          3.3769752979278564,
          6.004512310028076,
          6.253292560577393,
          6.969117641448975,
          4.477789402008057,
          6.708363056182861,
          3.9443955421447754,
          5.256229877471924,
          5.614264011383057,
          5.3485107421875,
          5.982298851013184,
          7.659858226776123,
          6.0398054122924805,
          4.635838031768799,
          7.320099830627441,
          5.855630397796631,
          6.096377372741699,
          6.531047821044922,
          3.880236864089966,
          5.369440078735352,
          6.751322269439697,
          3.9423632621765137,
          6.812121391296387,
          5.888410568237305,
          6.393682956695557,
          5.596816539764404,
          4.369692325592041,
          5.732226371765137,
          4.349955081939697,
          8.015374183654785,
          2.3034474849700928,
          4.675759315490723,
          7.700777053833008,
          3.3543004989624023,
          6.016625881195068,
          1.2460047006607056,
          2.5719029903411865,
          4.255183219909668,
          3.860062837600708,
          5.913960933685303,
          8.336653709411621,
          10.051642417907715,
          5.505825996398926,
          4.435275554656982,
          6.587167263031006,
          6.934613227844238,
          7.759710311889648,
          7.678213119506836,
          6.47884464263916,
          5.493319511413574,
          7.163156509399414,
          6.568915367126465,
          0.5685908198356628,
          6.318376064300537,
          4.25477409362793,
          7.924077033996582,
          4.179211139678955,
          7.878889083862305,
          7.109003067016602,
          6.213230609893799,
          5.7225847244262695,
          6.2079291343688965,
          5.224769592285156,
          4.3321099281311035,
          6.224759101867676,
          4.477798938751221,
          5.711132526397705,
          10.245250701904297,
          8.126306533813477,
          0.56719571352005,
          5.902778625488281,
          2.157243490219116,
          8.291096687316895,
          5.772462844848633,
          6.3101372718811035,
          5.886499404907227,
          6.970812797546387,
          7.27539587020874,
          5.797549247741699,
          6.745707035064697,
          6.602517127990723,
          3.1666200160980225,
          6.898432731628418,
          5.957306861877441,
          5.410068511962891,
          5.484151840209961,
          3.6954753398895264,
          5.819800853729248,
          7.306206703186035,
          8.119762420654297,
          2.8931310176849365,
          6.126576900482178,
          6.8081440925598145,
          5.859564781188965
         ]
        },
        {
         "hoverlabel": {
          "namelength": 0
         },
         "hovertemplate": "Dominant_Topic=Topic 3<br>0=%{x}<br>1=%{y}<br>2=%{z}",
         "legendgroup": "Dominant_Topic=Topic 3",
         "marker": {
          "color": "#ab63fa",
          "opacity": 0.7,
          "symbol": "circle"
         },
         "mode": "markers",
         "name": "Dominant_Topic=Topic 3",
         "scene": "scene",
         "showlegend": true,
         "type": "scatter3d",
         "x": [
          -4.269798278808594,
          -3.9750592708587646,
          -3.5176191329956055,
          -3.5940091609954834,
          -7.393887519836426,
          -2.0286147594451904,
          -7.451859951019287,
          -2.0638766288757324,
          -1.4660000801086426,
          -0.9997847080230713,
          -1.0570344924926758,
          -2.563790798187256,
          -6.104248046875,
          -3.0277230739593506,
          0.38950395584106445,
          -1.0713797807693481,
          -4.696116924285889,
          -1.7624552249908447,
          -1.3465828895568848,
          -1.472859501838684,
          -4.251223564147949,
          -0.9133819341659546,
          -1.3686721324920654,
          -5.3022356033325195,
          -0.33186075091362,
          -6.413775444030762,
          -3.591083526611328,
          -5.387350559234619,
          -6.378430366516113,
          -4.33772611618042,
          -3.3777875900268555,
          -1.5989201068878174,
          -5.160933017730713,
          -3.3822269439697266,
          -1.7444829940795898,
          -1.98699951171875,
          -6.930262088775635,
          -7.179343223571777,
          -4.697666168212891,
          -3.2132368087768555,
          -0.8641499280929565,
          -2.7560274600982666,
          -4.906477451324463,
          -3.4391028881073,
          -2.140928268432617,
          -5.088418483734131,
          -7.600082874298096,
          -5.970874309539795,
          -4.257359504699707,
          -1.0816247463226318,
          -3.6741347312927246,
          -2.4689242839813232,
          -1.1457276344299316,
          -3.7535500526428223,
          -1.7847208976745605,
          -6.024153232574463,
          -0.9641785621643066,
          -2.6034328937530518,
          -5.07478141784668,
          -4.904136657714844,
          -4.047088146209717,
          -2.84285044670105,
          -1.9060704708099365,
          -1.2033647298812866,
          -5.0568671226501465,
          -5.091370582580566,
          -5.12801456451416,
          -5.812722682952881,
          -3.0275580883026123,
          -5.341562747955322,
          -0.9221248626708984,
          -3.921574354171753,
          -1.0406674146652222,
          -4.679111003875732,
          -6.579550266265869,
          -1.820815086364746,
          -2.8667263984680176,
          -1.2408405542373657,
          -4.842512607574463,
          -5.119161128997803,
          -4.7947096824646,
          -5.874307155609131,
          -1.6041889190673828,
          -1.2967982292175293,
          -1.4884064197540283,
          -5.156973838806152,
          -3.097296714782715,
          -6.205289840698242,
          -5.289270877838135,
          -6.808906555175781,
          -6.97598934173584,
          -5.798467636108398,
          -4.8861799240112305,
          -2.2194976806640625,
          -2.719022035598755,
          -4.66300630569458,
          -6.342584609985352,
          -2.727783203125,
          -2.637737512588501,
          -6.042275905609131,
          -1.6519906520843506,
          -4.84902286529541,
          -3.3507049083709717,
          -0.8019446730613708,
          -1.8931941986083984,
          -4.497578144073486,
          0.2359558641910553,
          -5.611628532409668,
          -3.431948184967041,
          -2.4287874698638916,
          -3.9963796138763428,
          -5.9100470542907715,
          -0.3925628066062927,
          -1.6262187957763672,
          -6.376674175262451,
          -1.1329450607299805,
          -4.0879106521606445,
          -5.501533031463623,
          -4.634030342102051,
          -1.5252256393432617,
          -5.141111373901367,
          -1.7637685537338257,
          -1.7006419897079468,
          -5.447269439697266,
          -1.5723209381103516,
          -2.4022011756896973,
          -6.6862359046936035,
          -1.1650781631469727,
          -2.4774763584136963,
          -3.66153621673584,
          -1.5588103532791138,
          -0.9099208116531372
         ],
         "y": [
          -4.485382556915283,
          -4.133195877075195,
          -5.480494499206543,
          -5.933675289154053,
          -9.790316581726074,
          -2.2254953384399414,
          -9.848876953125,
          -4.311925888061523,
          -3.5263562202453613,
          -3.336869478225708,
          -0.793609082698822,
          -4.529228210449219,
          -8.1633882522583,
          -2.214409589767456,
          -3.2020721435546875,
          -2.2708590030670166,
          -7.372591972351074,
          -4.045468807220459,
          -4.461042881011963,
          -4.458549499511719,
          -4.345052242279053,
          -1.9358153343200684,
          -3.9192261695861816,
          -6.963532447814941,
          -3.125826358795166,
          -8.684422492980957,
          -6.211305618286133,
          -7.804224014282227,
          -5.851922988891602,
          -7.119080066680908,
          -5.9845452308654785,
          -3.6307315826416016,
          -2.112739324569702,
          -5.91304874420166,
          -3.5371758937835693,
          -4.014577388763428,
          -9.37028980255127,
          -9.55766773223877,
          -9.232166290283203,
          -5.910663604736328,
          -2.8179452419281006,
          -4.383918285369873,
          -2.981633424758911,
          -5.329539775848389,
          -5.150612831115723,
          -7.833746433258057,
          -9.997851371765137,
          -8.227962493896484,
          -6.6127028465271,
          -5.332770824432373,
          -6.223031997680664,
          -2.6440844535827637,
          -5.578920364379883,
          -5.9955735206604,
          -3.794747829437256,
          -9.125341415405273,
          -1.2663474082946777,
          -0.5331149697303772,
          -7.276147365570068,
          -7.3589701652526855,
          -6.537985324859619,
          -4.937764644622803,
          -4.176630973815918,
          -4.317867755889893,
          -7.687403678894043,
          -3.0964646339416504,
          -7.053627967834473,
          -5.840946197509766,
          -2.007622241973877,
          -7.5240325927734375,
          -3.533515691757202,
          -6.406221866607666,
          -4.09119176864624,
          -7.2956624031066895,
          -9.039079666137695,
          -0.3034111261367798,
          1.7376888990402222,
          -3.198399782180786,
          -2.9591286182403564,
          -8.226226806640625,
          -6.456037521362305,
          -8.51966381072998,
          -4.4820380210876465,
          -1.6318951845169067,
          -0.7060819268226624,
          -2.7901954650878906,
          -2.179872989654541,
          -5.530142784118652,
          -7.28887414932251,
          -9.114620208740234,
          -9.40770435333252,
          -8.03665542602539,
          -7.78682804107666,
          -3.2936716079711914,
          1.7531917095184326,
          -4.898895740509033,
          -8.700859069824219,
          -0.5159767270088196,
          -4.759037971496582,
          -8.245794296264648,
          -3.96140193939209,
          -8.81472396850586,
          -6.12303352355957,
          -3.229614019393921,
          -4.383622646331787,
          -5.261030673980713,
          -1.7013170719146729,
          -3.4509782791137695,
          -5.901100158691406,
          -4.22857141494751,
          -6.750155925750732,
          -8.96059799194336,
          -1.6661972999572754,
          -4.089537620544434,
          -8.758990287780762,
          -4.773752212524414,
          -4.4597296714782715,
          -7.95328950881958,
          -5.150191783905029,
          -4.023349761962891,
          -7.493493556976318,
          -4.2152557373046875,
          -4.514869689941406,
          -8.995230674743652,
          -2.228476047515869,
          -4.737885475158691,
          -8.987573623657227,
          -3.5258312225341797,
          -2.835468292236328,
          -6.100680828094482,
          -1.8317592144012451,
          -4.382264614105225
         ],
         "z": [
          -2.010270833969116,
          -1.2080140113830566,
          -0.5893993973731995,
          -0.7941033840179443,
          1.0170116424560547,
          -0.4019935429096222,
          1.0501737594604492,
          -2.2599854469299316,
          -3.4638772010803223,
          2.0961711406707764,
          -2.079251766204834,
          -1.6827470064163208,
          0.258049339056015,
          -0.4563501477241516,
          1.5607796907424927,
          -1.0561378002166748,
          0.9649675488471985,
          -2.9556357860565186,
          -0.22002391517162323,
          0.3923327624797821,
          -1.7815600633621216,
          -1.161597490310669,
          2.1834042072296143,
          0.4477408230304718,
          1.9717909097671509,
          0.2162407636642456,
          -2.300875425338745,
          -0.5959594249725342,
          1.9765503406524658,
          -0.0402325764298439,
          -0.7813600897789001,
          -3.145019769668579,
          3.017927646636963,
          -1.332055687904358,
          2.388965129852295,
          -2.414043426513672,
          0.7965086698532104,
          0.8822510838508606,
          0.5360040068626404,
          -2.840075731277466,
          -0.8367843627929688,
          -0.2922886610031128,
          2.728825569152832,
          -3.033189058303833,
          -2.7724483013153076,
          -0.6776798367500305,
          1.1266282796859741,
          -0.12004527449607849,
          1.0012179613113403,
          -0.7266842722892761,
          -1.0960251092910767,
          0.8411216735839844,
          -0.7742838263511658,
          -0.4105861783027649,
          -2.4173390865325928,
          0.21913139522075653,
          -1.4716823101043701,
          -1.6757066249847412,
          0.34199604392051697,
          -1.3653348684310913,
          -0.21807053685188293,
          -1.5197594165802002,
          -2.755772113800049,
          0.07135341316461563,
          -0.5195539593696594,
          2.63097882270813,
          -0.0975257083773613,
          1.552785038948059,
          1.378124475479126,
          -0.49075156450271606,
          2.0916123390197754,
          -0.5487944483757019,
          1.8436022996902466,
          -1.4714171886444092,
          0.05619204789400101,
          -2.5018577575683594,
          1.7815489768981934,
          -3.7166061401367188,
          2.711264133453369,
          0.46061334013938904,
          -1.7546653747558594,
          0.537257194519043,
          1.9718514680862427,
          0.29589900374412537,
          -2.690333366394043,
          2.732059955596924,
          1.0161890983581543,
          2.010129451751709,
          0.3203215003013611,
          0.6444457769393921,
          0.8967246413230896,
          0.6048394441604614,
          0.3649020195007324,
          1.3760676383972168,
          1.7488797903060913,
          -2.1677358150482178,
          0.0033436319790780544,
          -1.579238772392273,
          -1.8766034841537476,
          -0.005780340638011694,
          -3.555541753768921,
          -0.16283802688121796,
          -2.8356266021728516,
          2.0938656330108643,
          -3.5439453125,
          1.2398009300231934,
          -1.2096335887908936,
          2.645693302154541,
          -1.1564574241638184,
          -1.0924283266067505,
          -2.176312208175659,
          0.7756907939910889,
          -1.2416666746139526,
          -3.8078160285949707,
          0.7504363059997559,
          -0.3739587664604187,
          -2.3164401054382324,
          -0.19055704772472382,
          1.3319964408874512,
          -4.183251857757568,
          0.6077171564102173,
          -3.6056902408599854,
          2.123960018157959,
          0.8657454252243042,
          -0.4769648313522339,
          -2.8279666900634766,
          0.49681591987609863,
          2.0841095447540283,
          0.7057421803474426,
          -0.8073179125785828,
          -0.8029250502586365,
          -0.5015541911125183
         ]
        }
       ],
       "layout": {
        "height": 800,
        "legend": {
         "tracegroupgap": 0
        },
        "scene": {
         "domain": {
          "x": [
           0,
           1
          ],
          "y": [
           0,
           1
          ]
         },
         "xaxis": {
          "title": {
           "text": "0"
          }
         },
         "yaxis": {
          "title": {
           "text": "1"
          }
         },
         "zaxis": {
          "title": {
           "text": "2"
          }
         }
        },
        "template": {
         "data": {
          "bar": [
           {
            "error_x": {
             "color": "#2a3f5f"
            },
            "error_y": {
             "color": "#2a3f5f"
            },
            "marker": {
             "line": {
              "color": "#E5ECF6",
              "width": 0.5
             }
            },
            "type": "bar"
           }
          ],
          "barpolar": [
           {
            "marker": {
             "line": {
              "color": "#E5ECF6",
              "width": 0.5
             }
            },
            "type": "barpolar"
           }
          ],
          "carpet": [
           {
            "aaxis": {
             "endlinecolor": "#2a3f5f",
             "gridcolor": "white",
             "linecolor": "white",
             "minorgridcolor": "white",
             "startlinecolor": "#2a3f5f"
            },
            "baxis": {
             "endlinecolor": "#2a3f5f",
             "gridcolor": "white",
             "linecolor": "white",
             "minorgridcolor": "white",
             "startlinecolor": "#2a3f5f"
            },
            "type": "carpet"
           }
          ],
          "choropleth": [
           {
            "colorbar": {
             "outlinewidth": 0,
             "ticks": ""
            },
            "type": "choropleth"
           }
          ],
          "contour": [
           {
            "colorbar": {
             "outlinewidth": 0,
             "ticks": ""
            },
            "colorscale": [
             [
              0,
              "#0d0887"
             ],
             [
              0.1111111111111111,
              "#46039f"
             ],
             [
              0.2222222222222222,
              "#7201a8"
             ],
             [
              0.3333333333333333,
              "#9c179e"
             ],
             [
              0.4444444444444444,
              "#bd3786"
             ],
             [
              0.5555555555555556,
              "#d8576b"
             ],
             [
              0.6666666666666666,
              "#ed7953"
             ],
             [
              0.7777777777777778,
              "#fb9f3a"
             ],
             [
              0.8888888888888888,
              "#fdca26"
             ],
             [
              1,
              "#f0f921"
             ]
            ],
            "type": "contour"
           }
          ],
          "contourcarpet": [
           {
            "colorbar": {
             "outlinewidth": 0,
             "ticks": ""
            },
            "type": "contourcarpet"
           }
          ],
          "heatmap": [
           {
            "colorbar": {
             "outlinewidth": 0,
             "ticks": ""
            },
            "colorscale": [
             [
              0,
              "#0d0887"
             ],
             [
              0.1111111111111111,
              "#46039f"
             ],
             [
              0.2222222222222222,
              "#7201a8"
             ],
             [
              0.3333333333333333,
              "#9c179e"
             ],
             [
              0.4444444444444444,
              "#bd3786"
             ],
             [
              0.5555555555555556,
              "#d8576b"
             ],
             [
              0.6666666666666666,
              "#ed7953"
             ],
             [
              0.7777777777777778,
              "#fb9f3a"
             ],
             [
              0.8888888888888888,
              "#fdca26"
             ],
             [
              1,
              "#f0f921"
             ]
            ],
            "type": "heatmap"
           }
          ],
          "heatmapgl": [
           {
            "colorbar": {
             "outlinewidth": 0,
             "ticks": ""
            },
            "colorscale": [
             [
              0,
              "#0d0887"
             ],
             [
              0.1111111111111111,
              "#46039f"
             ],
             [
              0.2222222222222222,
              "#7201a8"
             ],
             [
              0.3333333333333333,
              "#9c179e"
             ],
             [
              0.4444444444444444,
              "#bd3786"
             ],
             [
              0.5555555555555556,
              "#d8576b"
             ],
             [
              0.6666666666666666,
              "#ed7953"
             ],
             [
              0.7777777777777778,
              "#fb9f3a"
             ],
             [
              0.8888888888888888,
              "#fdca26"
             ],
             [
              1,
              "#f0f921"
             ]
            ],
            "type": "heatmapgl"
           }
          ],
          "histogram": [
           {
            "marker": {
             "colorbar": {
              "outlinewidth": 0,
              "ticks": ""
             }
            },
            "type": "histogram"
           }
          ],
          "histogram2d": [
           {
            "colorbar": {
             "outlinewidth": 0,
             "ticks": ""
            },
            "colorscale": [
             [
              0,
              "#0d0887"
             ],
             [
              0.1111111111111111,
              "#46039f"
             ],
             [
              0.2222222222222222,
              "#7201a8"
             ],
             [
              0.3333333333333333,
              "#9c179e"
             ],
             [
              0.4444444444444444,
              "#bd3786"
             ],
             [
              0.5555555555555556,
              "#d8576b"
             ],
             [
              0.6666666666666666,
              "#ed7953"
             ],
             [
              0.7777777777777778,
              "#fb9f3a"
             ],
             [
              0.8888888888888888,
              "#fdca26"
             ],
             [
              1,
              "#f0f921"
             ]
            ],
            "type": "histogram2d"
           }
          ],
          "histogram2dcontour": [
           {
            "colorbar": {
             "outlinewidth": 0,
             "ticks": ""
            },
            "colorscale": [
             [
              0,
              "#0d0887"
             ],
             [
              0.1111111111111111,
              "#46039f"
             ],
             [
              0.2222222222222222,
              "#7201a8"
             ],
             [
              0.3333333333333333,
              "#9c179e"
             ],
             [
              0.4444444444444444,
              "#bd3786"
             ],
             [
              0.5555555555555556,
              "#d8576b"
             ],
             [
              0.6666666666666666,
              "#ed7953"
             ],
             [
              0.7777777777777778,
              "#fb9f3a"
             ],
             [
              0.8888888888888888,
              "#fdca26"
             ],
             [
              1,
              "#f0f921"
             ]
            ],
            "type": "histogram2dcontour"
           }
          ],
          "mesh3d": [
           {
            "colorbar": {
             "outlinewidth": 0,
             "ticks": ""
            },
            "type": "mesh3d"
           }
          ],
          "parcoords": [
           {
            "line": {
             "colorbar": {
              "outlinewidth": 0,
              "ticks": ""
             }
            },
            "type": "parcoords"
           }
          ],
          "pie": [
           {
            "automargin": true,
            "type": "pie"
           }
          ],
          "scatter": [
           {
            "marker": {
             "colorbar": {
              "outlinewidth": 0,
              "ticks": ""
             }
            },
            "type": "scatter"
           }
          ],
          "scatter3d": [
           {
            "line": {
             "colorbar": {
              "outlinewidth": 0,
              "ticks": ""
             }
            },
            "marker": {
             "colorbar": {
              "outlinewidth": 0,
              "ticks": ""
             }
            },
            "type": "scatter3d"
           }
          ],
          "scattercarpet": [
           {
            "marker": {
             "colorbar": {
              "outlinewidth": 0,
              "ticks": ""
             }
            },
            "type": "scattercarpet"
           }
          ],
          "scattergeo": [
           {
            "marker": {
             "colorbar": {
              "outlinewidth": 0,
              "ticks": ""
             }
            },
            "type": "scattergeo"
           }
          ],
          "scattergl": [
           {
            "marker": {
             "colorbar": {
              "outlinewidth": 0,
              "ticks": ""
             }
            },
            "type": "scattergl"
           }
          ],
          "scattermapbox": [
           {
            "marker": {
             "colorbar": {
              "outlinewidth": 0,
              "ticks": ""
             }
            },
            "type": "scattermapbox"
           }
          ],
          "scatterpolar": [
           {
            "marker": {
             "colorbar": {
              "outlinewidth": 0,
              "ticks": ""
             }
            },
            "type": "scatterpolar"
           }
          ],
          "scatterpolargl": [
           {
            "marker": {
             "colorbar": {
              "outlinewidth": 0,
              "ticks": ""
             }
            },
            "type": "scatterpolargl"
           }
          ],
          "scatterternary": [
           {
            "marker": {
             "colorbar": {
              "outlinewidth": 0,
              "ticks": ""
             }
            },
            "type": "scatterternary"
           }
          ],
          "surface": [
           {
            "colorbar": {
             "outlinewidth": 0,
             "ticks": ""
            },
            "colorscale": [
             [
              0,
              "#0d0887"
             ],
             [
              0.1111111111111111,
              "#46039f"
             ],
             [
              0.2222222222222222,
              "#7201a8"
             ],
             [
              0.3333333333333333,
              "#9c179e"
             ],
             [
              0.4444444444444444,
              "#bd3786"
             ],
             [
              0.5555555555555556,
              "#d8576b"
             ],
             [
              0.6666666666666666,
              "#ed7953"
             ],
             [
              0.7777777777777778,
              "#fb9f3a"
             ],
             [
              0.8888888888888888,
              "#fdca26"
             ],
             [
              1,
              "#f0f921"
             ]
            ],
            "type": "surface"
           }
          ],
          "table": [
           {
            "cells": {
             "fill": {
              "color": "#EBF0F8"
             },
             "line": {
              "color": "white"
             }
            },
            "header": {
             "fill": {
              "color": "#C8D4E3"
             },
             "line": {
              "color": "white"
             }
            },
            "type": "table"
           }
          ]
         },
         "layout": {
          "annotationdefaults": {
           "arrowcolor": "#2a3f5f",
           "arrowhead": 0,
           "arrowwidth": 1
          },
          "coloraxis": {
           "colorbar": {
            "outlinewidth": 0,
            "ticks": ""
           }
          },
          "colorscale": {
           "diverging": [
            [
             0,
             "#8e0152"
            ],
            [
             0.1,
             "#c51b7d"
            ],
            [
             0.2,
             "#de77ae"
            ],
            [
             0.3,
             "#f1b6da"
            ],
            [
             0.4,
             "#fde0ef"
            ],
            [
             0.5,
             "#f7f7f7"
            ],
            [
             0.6,
             "#e6f5d0"
            ],
            [
             0.7,
             "#b8e186"
            ],
            [
             0.8,
             "#7fbc41"
            ],
            [
             0.9,
             "#4d9221"
            ],
            [
             1,
             "#276419"
            ]
           ],
           "sequential": [
            [
             0,
             "#0d0887"
            ],
            [
             0.1111111111111111,
             "#46039f"
            ],
            [
             0.2222222222222222,
             "#7201a8"
            ],
            [
             0.3333333333333333,
             "#9c179e"
            ],
            [
             0.4444444444444444,
             "#bd3786"
            ],
            [
             0.5555555555555556,
             "#d8576b"
            ],
            [
             0.6666666666666666,
             "#ed7953"
            ],
            [
             0.7777777777777778,
             "#fb9f3a"
            ],
            [
             0.8888888888888888,
             "#fdca26"
            ],
            [
             1,
             "#f0f921"
            ]
           ],
           "sequentialminus": [
            [
             0,
             "#0d0887"
            ],
            [
             0.1111111111111111,
             "#46039f"
            ],
            [
             0.2222222222222222,
             "#7201a8"
            ],
            [
             0.3333333333333333,
             "#9c179e"
            ],
            [
             0.4444444444444444,
             "#bd3786"
            ],
            [
             0.5555555555555556,
             "#d8576b"
            ],
            [
             0.6666666666666666,
             "#ed7953"
            ],
            [
             0.7777777777777778,
             "#fb9f3a"
            ],
            [
             0.8888888888888888,
             "#fdca26"
            ],
            [
             1,
             "#f0f921"
            ]
           ]
          },
          "colorway": [
           "#636efa",
           "#EF553B",
           "#00cc96",
           "#ab63fa",
           "#FFA15A",
           "#19d3f3",
           "#FF6692",
           "#B6E880",
           "#FF97FF",
           "#FECB52"
          ],
          "font": {
           "color": "#2a3f5f"
          },
          "geo": {
           "bgcolor": "white",
           "lakecolor": "white",
           "landcolor": "#E5ECF6",
           "showlakes": true,
           "showland": true,
           "subunitcolor": "white"
          },
          "hoverlabel": {
           "align": "left"
          },
          "hovermode": "closest",
          "mapbox": {
           "style": "light"
          },
          "paper_bgcolor": "white",
          "plot_bgcolor": "#E5ECF6",
          "polar": {
           "angularaxis": {
            "gridcolor": "white",
            "linecolor": "white",
            "ticks": ""
           },
           "bgcolor": "#E5ECF6",
           "radialaxis": {
            "gridcolor": "white",
            "linecolor": "white",
            "ticks": ""
           }
          },
          "scene": {
           "xaxis": {
            "backgroundcolor": "#E5ECF6",
            "gridcolor": "white",
            "gridwidth": 2,
            "linecolor": "white",
            "showbackground": true,
            "ticks": "",
            "zerolinecolor": "white"
           },
           "yaxis": {
            "backgroundcolor": "#E5ECF6",
            "gridcolor": "white",
            "gridwidth": 2,
            "linecolor": "white",
            "showbackground": true,
            "ticks": "",
            "zerolinecolor": "white"
           },
           "zaxis": {
            "backgroundcolor": "#E5ECF6",
            "gridcolor": "white",
            "gridwidth": 2,
            "linecolor": "white",
            "showbackground": true,
            "ticks": "",
            "zerolinecolor": "white"
           }
          },
          "shapedefaults": {
           "line": {
            "color": "#2a3f5f"
           }
          },
          "ternary": {
           "aaxis": {
            "gridcolor": "white",
            "linecolor": "white",
            "ticks": ""
           },
           "baxis": {
            "gridcolor": "white",
            "linecolor": "white",
            "ticks": ""
           },
           "bgcolor": "#E5ECF6",
           "caxis": {
            "gridcolor": "white",
            "linecolor": "white",
            "ticks": ""
           }
          },
          "title": {
           "x": 0.05
          },
          "xaxis": {
           "automargin": true,
           "gridcolor": "white",
           "linecolor": "white",
           "ticks": "",
           "title": {
            "standoff": 15
           },
           "zerolinecolor": "white",
           "zerolinewidth": 2
          },
          "yaxis": {
           "automargin": true,
           "gridcolor": "white",
           "linecolor": "white",
           "ticks": "",
           "title": {
            "standoff": 15
           },
           "zerolinecolor": "white",
           "zerolinewidth": 2
          }
         }
        },
        "title": {
         "text": "3d TSNE Plot for Topic Model"
        },
        "width": 900
       }
      },
      "text/html": [
       "<div>\n",
       "        \n",
       "        \n",
       "            <div id=\"eddf92b4-8c0d-4686-94a7-7efa075ccc7b\" class=\"plotly-graph-div\" style=\"height:800px; width:900px;\"></div>\n",
       "            <script type=\"text/javascript\">\n",
       "                require([\"plotly\"], function(Plotly) {\n",
       "                    window.PLOTLYENV=window.PLOTLYENV || {};\n",
       "                    \n",
       "                if (document.getElementById(\"eddf92b4-8c0d-4686-94a7-7efa075ccc7b\")) {\n",
       "                    Plotly.newPlot(\n",
       "                        'eddf92b4-8c0d-4686-94a7-7efa075ccc7b',\n",
       "                        [{\"hoverlabel\": {\"namelength\": 0}, \"hovertemplate\": \"Dominant_Topic=Topic 0<br>0=%{x}<br>1=%{y}<br>2=%{z}\", \"legendgroup\": \"Dominant_Topic=Topic 0\", \"marker\": {\"color\": \"#636efa\", \"opacity\": 0.7, \"symbol\": \"circle\"}, \"mode\": \"markers\", \"name\": \"Dominant_Topic=Topic 0\", \"scene\": \"scene\", \"showlegend\": true, \"type\": \"scatter3d\", \"x\": [4.678551197052002, 7.686282157897949, 5.0929341316223145, 2.2797439098358154, 0.6176125407218933, 5.12026834487915, 3.570204973220825, 2.9040944576263428, 2.5025060176849365, 2.6181507110595703, 2.669346809387207, 6.28704309463501, 7.727880001068115, -1.2330853939056396, 3.80180025100708, 5.7092814445495605, -0.11487214267253876, 5.5159831047058105, 2.6050310134887695, 2.6753125190734863, 1.1597137451171875, 2.384815216064453, 7.766259670257568, -1.1828572750091553, -1.871050477027893, 3.088585615158081, 5.116037368774414, 6.246005535125732, -1.2509645223617554, 3.31644344329834, 8.023695945739746, 0.2714388072490692, 2.7053558826446533, 7.042141437530518, 3.900358200073242, -0.5720574855804443, 3.564434051513672, 0.3673606514930725, 2.0042834281921387, 7.442571640014648, -1.2857744693756104, 1.979746699333191, -1.6841930150985718, 4.249786853790283, 1.0770540237426758, 0.5303843021392822, 2.1917316913604736, 1.9516597986221313, 3.079040050506592, 5.3372297286987305, 2.0571165084838867, 2.802903652191162, 2.204231023788452, 2.385427474975586, 0.09082292765378952, 8.478699684143066, 6.421298503875732, 1.6638141870498657, 8.323538780212402, 2.3323974609375, 3.8015620708465576, 4.25394344329834, 1.400617241859436, 4.135761737823486, 3.4184534549713135, 3.6236069202423096, 0.9006907343864441, 5.017003059387207, -0.8031759858131409, 3.2216475009918213, 0.408420205116272, 0.1675352305173874, 1.6414854526519775, 5.859431743621826, 7.320832252502441, 0.240314319729805, 7.620396137237549, 4.001068592071533, 1.8439620733261108, -2.2781291007995605, -1.4395296573638916, 6.602181911468506, 1.9800946712493896, 6.498229503631592, 4.213759899139404, 2.2019965648651123, 0.2845781445503235, 0.15605546534061432, 1.3162111043930054, 5.481605529785156, 6.977099895477295, -0.5308451652526855, 0.22139695286750793, 5.26397705078125, -0.9459061026573181, 2.0916707515716553, 4.232929706573486, 3.353382110595703, -0.979367733001709, 0.603605329990387, 4.1856560707092285, -0.6938731074333191, 2.7673299312591553, 2.520753860473633, 6.010017395019531, 3.872626304626465, 3.317392587661743, 7.065619945526123, 2.438929319381714, 5.156033039093018, 1.470292091369629, -1.1780157089233398, 7.321991443634033, -0.624493420124054, 3.9473164081573486, -1.8315346240997314, -1.3139369487762451, 3.1073172092437744, 0.17320936918258667, 5.484736442565918, -2.108412981033325, -1.6608930826187134, 6.183760166168213, 0.5656629800796509, 6.30598258972168, 6.588603973388672, 3.3138206005096436, 0.692264199256897, 3.388737440109253, 4.729787826538086, 3.993931293487549, 3.8253138065338135, -0.7720119953155518, -1.0086169242858887, 4.382188320159912, 4.827243804931641, 4.3597540855407715, -0.5192052721977234, 2.1372392177581787, 1.667134165763855, 1.3127772808074951, 3.048898220062256, -0.31724968552589417, 2.2408995628356934, -0.9147241711616516, 7.717985153198242, -0.22042736411094666, 6.5126423835754395, 4.7966437339782715, 6.476011276245117, -0.9633771777153015, 0.07177715003490448, -2.0085127353668213, -1.241389274597168, 0.8119928240776062, 6.301107883453369, 7.635578155517578, 4.226404666900635, 1.0799614191055298, 2.296048641204834, 5.6487956047058105, 2.3420796394348145, -2.531764030456543, 1.7461199760437012, 3.3854076862335205, -0.08851491659879684, 6.660331726074219, 3.1747994422912598, 4.530385971069336, -0.1420179307460785, -0.14795172214508057, 6.954939365386963, 6.092860221862793, -0.8316337466239929, 7.751508712768555, 1.7987711429595947, 7.317819595336914, 2.6620349884033203, 2.687162160873413, -2.4197819232940674, 0.3352385461330414, 6.418604373931885, 6.6951117515563965, -1.2905458211898804, 5.413422107696533, 3.6337127685546875, 2.2575252056121826, -1.2313092947006226, 8.232095718383789, 6.323768138885498, 2.818586826324463, 4.508594036102295, 1.308441400527954, 1.680772066116333, 0.9757052063941956, 1.8637465238571167, 3.4827587604522705, 3.7818803787231445, 0.3324802815914154, 6.836770534515381, 8.143972396850586, 3.197404146194458, -0.7823571562767029, -0.4190289080142975, 8.105611801147461, 3.2066454887390137, 2.055670976638794, 1.0434012413024902, 8.022933959960938, 6.70174503326416, 3.464202642440796, -1.1544439792633057, 5.454443454742432, 4.619489669799805, 7.009751319885254, 3.0457828044891357, 3.3885297775268555, 3.732393264770508, -0.9951713681221008, 0.7058731913566589, 0.8760018944740295, 3.746196746826172, 7.947951793670654, 1.3820931911468506, 1.1931827068328857, 3.9459011554718018, 7.524786949157715, -1.511627435684204, 4.846255779266357, 0.4393272399902344, -2.216412305831909, 7.302369594573975, 6.830442905426025, -0.11667419970035553, 6.375193119049072, 2.465306043624878, 2.9729321002960205, -1.4622122049331665, 1.4906865358352661, 3.421523094177246, 1.2680569887161255, -0.45271334052085876, 1.0663789510726929, 2.357194185256958, 6.0578532218933105, 8.939321517944336, 7.137797832489014, 6.201581001281738, 6.793851852416992, 4.73646879196167, 4.838862419128418, 0.24418772757053375, 5.18609094619751, 2.601503610610962, 5.384521961212158, -2.1180953979492188, 3.9833548069000244, -1.255428671836853, 1.860879898071289, 1.3430079221725464, -0.5773331522941589, -0.278099924325943, 8.125057220458984, 7.355593681335449, 7.107933521270752, 5.395604133605957, -4.012864589691162, 5.444922924041748, -1.5713236331939697, 7.25250244140625, 1.8548063039779663, 3.9157261848449707, -1.222485899925232, 7.655243396759033, 2.19626784324646, 0.13295380771160126, -1.2694416046142578, 0.9389212727546692, 7.104620933532715, 1.210127592086792, 1.1510365009307861, 2.5168333053588867, 1.8298910856246948, 1.6335982084274292, -0.7611563205718994, 1.3517444133758545, 0.5097282528877258, 8.519866943359375, 5.781560897827148, 1.0378878116607666, 2.9613053798675537, 5.215412139892578, 5.756443023681641, 8.120097160339355, 0.7637200951576233, 3.81482195854187, -0.24340370297431946, 6.865346908569336, -1.188989281654358, -1.7532740831375122, -0.6807015538215637, -1.4729708433151245, 7.820217609405518, 8.088199615478516, 3.423954725265503, -1.845567226409912, 7.015651702880859, 3.565128803253174, 0.7812352180480957, 3.2667272090911865, 8.122448921203613, 3.548978805541992, 3.6699352264404297, -0.7511321306228638, 0.0226180050522089, -4.057583808898926, 3.9080965518951416, 6.875733852386475, 0.3828096091747284, -0.7496134042739868, 0.6742177605628967, -2.159367561340332, 8.206700325012207, -1.815622329711914, -1.575863242149353, 4.9700093269348145, 0.4530142545700073, -3.3737919330596924, 2.950268030166626, 7.7543840408325195, 6.908522605895996, -3.8572208881378174, 6.798246383666992, 7.262374401092529, 4.047945022583008, -2.115142822265625, 3.2838430404663086, 3.748765468597412, 1.554459571838379, 2.2620151042938232, -1.3435232639312744, 0.7369446754455566, 2.9235146045684814, 5.3719916343688965, -1.7957000732421875, 3.3326663970947266, -2.2895660400390625, 2.8948240280151367, 1.9578793048858643, 0.8475694060325623, 6.7401909828186035, 1.7287211418151855, 5.604773998260498, 7.550141334533691, 6.418715476989746, 3.2327752113342285, 7.002635478973389, 7.833686351776123, 2.270404100418091, -3.059668779373169, -1.6572271585464478, 3.7760870456695557, 4.447159290313721, -0.9263745546340942, 7.7156453132629395, 7.088738441467285, 4.733667850494385, 1.9916661977767944, 6.294183731079102, 5.520980358123779, 8.021106719970703, 8.78573989868164, 2.8329877853393555, 1.6118539571762085, 1.7059996128082275, 7.4742608070373535, 0.8318613171577454, 1.8000609874725342, 1.9866923093795776, -2.265085220336914, 2.3067245483398438, 0.49737831950187683, 4.510138511657715, -0.8135383725166321, 1.8694669008255005, 2.8834550380706787, 7.04992151260376, -0.13596197962760925, 1.2056692838668823, -0.054889220744371414, 5.529242992401123, -1.337860107421875, 0.4758545458316803, -0.953689455986023, 3.510002374649048, -1.7667865753173828, 5.688500881195068, -0.396736204624176, 3.6660313606262207, -1.0076767206192017, 1.4700827598571777, 1.5749988555908203, 3.2046470642089844, 1.2366797924041748, -1.885455846786499, 2.6609508991241455, 0.9255551099777222, 2.76619029045105, 5.634331226348877, 3.317544460296631, -0.3121439218521118, -0.5797975659370422, -3.190861940383911, 1.6118496656417847, 2.4330568313598633, 3.542179584503174, 1.4855084419250488, -3.2258217334747314, 5.8101630210876465, -0.9691672921180725, 4.432608604431152, -1.119422435760498, -1.413792371749878, 4.117260932922363, 5.371525764465332, 7.798489093780518, 5.5156073570251465, -1.2925771474838257, -0.8706760406494141, 5.610116481781006, 1.3992067575454712, -3.1382970809936523, 6.454596042633057, -1.013783574104309, -1.58131742477417, 3.691481113433838, -1.608581781387329, -0.4287462532520294, 5.606592655181885, 8.001935005187988, 0.11940273642539978, 1.2838730812072754, 4.218184471130371, 6.783137798309326, 2.2908456325531006, 3.102609634399414, 4.0181565284729, 1.553728699684143, 3.1762192249298096, 6.928997993469238, 4.1367974281311035, 3.9281389713287354], \"y\": [4.033076763153076, 2.4814226627349854, 4.103811740875244, -0.7145271897315979, 6.29329252243042, 3.589805841445923, 1.3371315002441406, 4.215475082397461, 4.524273872375488, 0.8126976490020752, 0.28914961218833923, 1.238997459411621, 1.4400711059570312, 2.8377797603607178, 2.9300644397735596, -1.1604280471801758, 3.731019973754883, 3.5806167125701904, 3.8292768001556396, 3.740321397781372, 1.24847412109375, -1.3574013710021973, 0.8583601713180542, 3.278707265853882, -0.18767201900482178, 3.7102067470550537, -0.08770452439785004, 2.671976327896118, -3.581909418106079, 5.331246376037598, -1.6992783546447754, 6.29358434677124, 3.436598300933838, 2.1375861167907715, 5.57928991317749, 0.1713370829820633, 1.3045963048934937, 4.527176856994629, 2.0600509643554688, 1.2100529670715332, 3.175880193710327, 4.10242223739624, -0.26562580466270447, 1.2699248790740967, 1.6464006900787354, 7.760342121124268, -1.3214982748031616, 1.919358491897583, 4.535706520080566, 0.39835572242736816, -2.0082955360412598, 4.158211708068848, 4.097286224365234, -1.500261902809143, 6.283555507659912, 2.078594923019409, -1.1599032878875732, -0.5426082611083984, 2.3175511360168457, 3.803278684616089, 5.285403251647949, 2.785167932510376, -0.09259685128927231, 4.425215244293213, 4.642704963684082, 3.9851315021514893, 4.321939945220947, 1.865044355392456, 3.414992332458496, -0.6992374658584595, -0.1898510903120041, 4.306624889373779, 4.208704948425293, 3.208820343017578, 0.5712112188339233, -2.3077914714813232, -2.57831072807312, -1.6146433353424072, 4.794665336608887, 8.577865600585938, 0.789639413356781, 2.8234267234802246, 3.1693782806396484, 0.8059812188148499, -1.2619612216949463, 2.805220127105713, -0.9210785031318665, -2.4398787021636963, 2.7796733379364014, 1.7028220891952515, 3.33858585357666, 1.3432022333145142, 3.339505910873413, -2.185797929763794, 0.324741005897522, 4.044710159301758, 5.140981197357178, 1.2689100503921509, 6.835348606109619, 6.233091354370117, 0.8902068734169006, 0.36036062240600586, 3.096745729446411, -0.7441619038581848, 3.6463069915771484, -0.3802507519721985, 3.3617804050445557, 0.18089400231838226, 4.265252590179443, 3.88110613822937, -1.5115420818328857, 7.561259746551514, 3.28881573677063, -0.964621365070343, -1.4318135976791382, 9.235089302062988, 3.3667309284210205, -0.5752167701721191, 3.4246041774749756, 3.3158891201019287, 8.68760871887207, 2.118879556655884, 1.895777940750122, 6.042356491088867, 2.0345945358276367, 2.8653995990753174, 4.514009952545166, 4.7552924156188965, 5.614008903503418, 3.471940755844116, 4.623273849487305, 1.1703633069992065, 1.4133868217468262, 3.1102724075317383, 1.5806220769882202, 1.9895660877227783, -1.281461238861084, 2.5107014179229736, 4.594616413116455, 2.368403911590576, -2.6853408813476562, 5.420039653778076, 4.296392917633057, 2.0754966735839844, 2.8742876052856445, 1.6301065683364868, -2.683838367462158, 3.525785446166992, 0.0658131092786789, 3.4991955757141113, 0.8083037734031677, 4.8710222244262695, 8.588881492614746, 3.3571269512176514, -0.8845712542533875, 1.408191204071045, 1.0125380754470825, 2.407681703567505, -0.9207836985588074, 3.8326220512390137, -2.2563564777374268, -1.1514232158660889, 9.002716064453125, 3.2649922370910645, 1.1160918474197388, 3.7879183292388916, 0.1750209927558899, 4.766686916351318, 2.1883106231689453, -0.9672942161560059, 3.899852752685547, 3.2440497875213623, 3.147822141647339, -2.7144224643707275, 1.0312683582305908, -0.7120360732078552, 2.282986879348755, 4.667145729064941, 3.7896316051483154, 1.4784291982650757, 3.193763494491577, 3.002915620803833, 2.765106678009033, 1.2218399047851562, 3.6246016025543213, 1.5532671213150024, 2.8770792484283447, 3.372875213623047, -2.1722512245178223, 0.5540987253189087, -0.831748902797699, -1.8834149837493896, 4.427669525146484, 0.8410311341285706, 4.781068801879883, -1.1421362161636353, 4.663629055023193, 4.789206504821777, -0.7398450970649719, 2.6822926998138428, -2.1810126304626465, 5.166398525238037, 3.200584888458252, 6.542273998260498, 1.57646644115448, 5.610076904296875, 4.442470073699951, -0.9351480603218079, -1.6972675323486328, 4.156003475189209, 2.385011911392212, 7.887747287750244, -0.4038599729537964, 3.42093825340271, 3.3327646255493164, 1.9104253053665161, 0.5824779868125916, 4.39463996887207, 2.895916223526001, -0.3454502522945404, -0.6633418798446655, 5.5590314865112305, -0.6811392307281494, 5.007432460784912, 4.345104694366455, 4.478901386260986, 2.2910168170928955, -3.0909359455108643, 4.08861780166626, 4.418628692626953, -0.6628603339195251, -0.22830109298229218, -1.2591291666030884, 3.7601640224456787, 1.173751950263977, -1.5764164924621582, -0.052624985575675964, 1.9522578716278076, 2.209873676300049, 5.386570930480957, -1.112060785293579, -2.8409082889556885, 4.355836868286133, -0.0946364626288414, 1.157375693321228, 1.5912984609603882, 2.0082082748413086, -1.12081778049469, 2.7391202449798584, 3.9592947959899902, -0.06893813610076904, 4.390316009521484, 3.2012224197387695, 3.5878725051879883, 1.715917944908142, 8.03184700012207, 3.129180431365967, 1.2300702333450317, 2.3466856479644775, 0.30472320318222046, 3.2158422470092773, 2.831576108932495, -2.239434003829956, 0.8300333619117737, 2.341294288635254, 2.6623694896698, 4.734947681427002, 3.4691622257232666, 0.21368621289730072, 0.31840333342552185, 4.792443752288818, 0.41184744238853455, 7.399285793304443, -0.9529949426651001, 3.0654420852661133, 5.495850563049316, 3.7516283988952637, 4.2438740730285645, 1.9013450145721436, 2.921367883682251, -1.0186032056808472, 2.744929313659668, -1.6127650737762451, -1.6141492128372192, 3.792109966278076, 3.614611864089966, -0.17527200281620026, 1.5699818134307861, -2.3985207080841064, 2.2432608604431152, 2.787792921066284, 3.8687596321105957, 3.0874557495117188, -2.157289743423462, 5.345334053039551, 5.074312686920166, -2.638765811920166, 1.801460862159729, -3.500718832015991, 3.4950544834136963, -3.019231081008911, -1.1948522329330444, 2.233854055404663, -1.9220606088638306, 5.755180835723877, 7.168525695800781, 2.649770975112915, 4.622470378875732, 6.035542011260986, 3.7036354541778564, -2.188042163848877, -2.8620171546936035, 1.1404476165771484, 7.86823034286499, 6.271385669708252, 4.698907375335693, 5.602514743804932, 3.428910970687866, 1.5354098081588745, 5.617629051208496, 4.891463279724121, 3.7433295249938965, 1.4728790521621704, 3.0529136657714844, 7.8484601974487305, 4.530670166015625, 3.5811824798583984, 2.5606861114501953, 3.4490392208099365, -0.09069560468196869, 3.431756019592285, 4.417988300323486, 0.5176536440849304, 2.2965753078460693, 2.545104503631592, 8.720001220703125, -3.2422118186950684, -2.597217559814453, 3.317308187484741, 5.283413410186768, 3.389413595199585, 7.583684921264648, 3.248445987701416, 3.511073589324951, 3.9160773754119873, 1.2421584129333496, 8.683136940002441, 3.88553524017334, 1.8257266283035278, 7.618277549743652, 0.5785991549491882, -1.2782458066940308, 3.3441028594970703, 1.2647501230239868, 0.9503268599510193, 4.678186893463135, 3.2437636852264404, 2.226224899291992, 1.490440845489502, 3.7597594261169434, 7.391645431518555, 1.5379598140716553, -0.12842684984207153, -3.2895007133483887, 1.8649091720581055, 3.182814359664917, 1.94454824924469, 4.514651298522949, 2.915424346923828, 2.0916502475738525, 1.5101829767227173, 1.8509669303894043, -1.0720725059509277, 4.181087017059326, 4.894498825073242, 1.7817769050598145, 4.275896072387695, 4.690998554229736, 3.959311008453369, 8.500645637512207, 4.734494209289551, 4.254998207092285, 1.2969937324523926, 1.869307041168213, 3.659461259841919, 4.690688133239746, 3.1050403118133545, -0.9998356103897095, 0.14533765614032745, 5.655661582946777, 2.1888582706451416, 1.1358275413513184, 5.117921352386475, 6.691812038421631, 0.45629560947418213, 7.8644700050354, 3.628138780593872, -2.4857776165008545, 5.323389053344727, -3.287689685821533, 1.4149816036224365, 4.289222240447998, -0.7571911215782166, -1.6535141468048096, 3.2599265575408936, 1.6301045417785645, 5.670941352844238, 3.9113762378692627, 1.4693554639816284, 4.5875163078308105, -2.74823260307312, 1.9054096937179565, 2.7240805625915527, 4.18115234375, 1.3801124095916748, -0.9129186868667603, -1.3516499996185303, 7.9792609214782715, 3.0741679668426514, 2.7552618980407715, 3.4888815879821777, 3.1873092651367188, 1.6220927238464355, 2.2941627502441406, -0.6543687582015991, -1.2125176191329956, 3.5637083053588867, 0.8215988874435425, 2.899278402328491, 3.372542142868042, 1.932910680770874, 3.8896327018737793, 0.8426417708396912, -3.3117129802703857, 0.8432987332344055, 4.309429168701172, 0.9711237549781799, 0.347882479429245, 2.866255283355713, -1.2990210056304932, -0.8770074844360352, 2.980443000793457, 3.589108943939209, 3.1905198097229004, 2.833178758621216, 1.4111385345458984, 4.285985469818115, 1.5511376857757568, 4.299623012542725, 2.6279919147491455, 2.4752299785614014, 0.21790741384029388], \"z\": [-3.68485426902771, -6.302684307098389, -5.253050327301025, -9.888733863830566, -5.0431365966796875, -0.3012641966342926, -3.737457513809204, -4.100730895996094, -0.23936009407043457, -5.8800368309021, -6.078732490539551, -12.369481086730957, -8.31728744506836, -4.671494007110596, -1.956486701965332, -11.57296085357666, -8.061373710632324, -4.272640705108643, -1.2855732440948486, -2.3674545288085938, -2.8175840377807617, -3.4789392948150635, -10.804006576538086, -0.5766522288322449, -6.911756992340088, -8.91423511505127, -11.515349388122559, -8.954829216003418, -4.985711097717285, -11.325754165649414, -12.394896507263184, -2.325946569442749, -10.895241737365723, -2.0960826873779297, -11.553278923034668, -8.065032958984375, -11.166510581970215, -8.179741859436035, -4.911443710327148, -7.196071147918701, 1.6396960020065308, -10.126032829284668, -6.805527210235596, -11.33867073059082, -3.815293788909912, -3.1549766063690186, -3.409590721130371, -4.431049823760986, -5.247459888458252, -11.804489135742188, -2.5541744232177734, -3.5432498455047607, -9.09624195098877, -3.4835968017578125, -2.393918991088867, -6.455824375152588, -11.856717109680176, -6.056002616882324, -5.397015571594238, -10.64871883392334, -9.86757755279541, -11.611513137817383, -3.3800415992736816, -5.509350776672363, -6.236225605010986, -8.745914459228516, -6.067564964294434, -12.137158393859863, 1.794992446899414, -5.656988620758057, -4.399414539337158, -8.292893409729004, -4.907851696014404, -0.8574018478393555, -8.210707664489746, -6.06398344039917, -12.194535255432129, -10.499051094055176, -2.1049859523773193, -4.635491847991943, -5.908863544464111, -9.143044471740723, -8.18519115447998, -12.347530364990234, -10.69904899597168, -1.4527106285095215, -6.682653427124023, -5.7805986404418945, -1.9013253450393677, -6.355373859405518, -1.448180079460144, -6.287853717803955, -8.126752853393555, -11.157903671264648, -7.449291706085205, -3.675758123397827, -11.888544082641602, -3.7117531299591064, -3.840955972671509, -4.863266468048096, -3.617403745651245, -7.235808849334717, -2.0287461280822754, -9.961413383483887, -3.478609323501587, -10.67855167388916, -1.9149969816207886, -12.26006031036377, -8.278618812561035, -4.914971351623535, -0.6946084499359131, -4.158075332641602, -1.9274928569793701, -2.300217628479004, -10.496161460876465, -5.196470260620117, -0.5940254330635071, -10.14255142211914, -8.436321258544922, -0.6150084137916565, -4.998694896697998, -4.826046943664551, -6.58439302444458, -4.429785251617432, -5.617504596710205, -8.871793746948242, -8.088719367980957, -6.466973781585693, -11.401180267333984, -0.1337980329990387, -4.726765155792236, -11.29493522644043, -6.730032920837402, -1.7519657611846924, -11.744620323181152, -12.084482192993164, -10.78901195526123, -7.4734344482421875, -7.2142653465271, -4.782222747802734, -2.3580434322357178, -11.179193496704102, -6.6252007484436035, 0.5813146233558655, -5.448432445526123, -10.16623306274414, -5.527743339538574, -2.959876775741577, -10.153285026550293, -3.6192104816436768, -7.012012004852295, -7.333719253540039, -4.928158760070801, -0.6876964569091797, -6.304980278015137, -11.95430850982666, -10.767096519470215, -11.813308715820312, -6.899212837219238, -10.433485984802246, -11.35279655456543, -3.4817395210266113, -5.492211818695068, 0.4008327126502991, -6.810781955718994, -4.922274589538574, -12.162224769592285, -6.04724645614624, -11.972066879272461, -3.6798720359802246, -7.954265594482422, -4.34252405166626, -6.969574928283691, -5.959104061126709, -10.639080047607422, -6.142210960388184, -3.3071200847625732, -7.745280742645264, -0.9691799283027649, -6.045724391937256, -8.55949592590332, -8.309476852416992, -9.170547485351562, -5.6921257972717285, -6.367051124572754, -11.281925201416016, -1.6916166543960571, -4.5348429679870605, -12.417848587036133, -12.211708068847656, -9.986747741699219, -10.776066780090332, -5.989119052886963, -3.512053966522217, -0.5110558867454529, -7.039206504821777, -6.9835405349731445, -10.018035888671875, -2.429753303527832, -9.07117748260498, -12.412732124328613, -4.9834818840026855, -0.8249713182449341, -3.0236480236053467, -9.01587963104248, -11.291621208190918, -8.941319465637207, -6.788345813751221, -12.394857406616211, -5.287164688110352, -2.5175490379333496, -4.066079616546631, -11.60689926147461, -9.916961669921875, -1.3411532640457153, -10.788505554199219, -10.793050765991211, -7.801187038421631, -5.201244354248047, -4.881445407867432, -5.228243827819824, -11.609318733215332, -12.46218490600586, -1.2244216203689575, -9.593935012817383, -7.1953511238098145, -7.996622085571289, -5.738553047180176, -5.30798864364624, -7.997531414031982, -6.8149590492248535, -12.24201774597168, -11.99020767211914, -8.051513671875, -12.108424186706543, -1.1326028108596802, -5.948877811431885, -4.105410099029541, -0.0294441320002079, -11.398526191711426, -7.045846939086914, -4.9735589027404785, -9.449941635131836, -6.114766597747803, -12.335101127624512, -7.89446496963501, -2.2327821254730225, -11.783345222473145, -8.780989646911621, -3.4103946685791016, -9.795594215393066, -8.22265625, -4.310855865478516, 0.709862470626831, -6.53023624420166, -4.312077522277832, -10.821084022521973, -3.7680869102478027, -1.4428436756134033, -1.2705647945404053, -0.42714759707450867, -2.216855764389038, -12.415946960449219, -7.853602886199951, -1.9051169157028198, -5.682126045227051, 2.2054052352905273, -0.8133750557899475, -2.9849138259887695, -12.069296836853027, -1.6653903722763062, -6.416575908660889, -3.7547171115875244, -12.299291610717773, -0.2795897424221039, -1.1892436742782593, 2.255417585372925, -5.245697021484375, -8.002610206604004, -9.114821434020996, -6.93199348449707, -2.267538070678711, -2.6750149726867676, -0.4049732983112335, -5.617133140563965, -4.624717712402344, -2.384676933288574, -8.39551067352295, -11.396041870117188, -2.7869625091552734, -9.468062400817871, -5.50611686706543, -11.504024505615234, -12.416465759277344, -1.1569631099700928, -9.512861251831055, -5.236504077911377, -5.974969863891602, -3.9836761951446533, -0.06870630383491516, -4.664763450622559, -6.625112056732178, -7.2086334228515625, -12.411567687988281, -11.440749168395996, -3.6810555458068848, -7.407492160797119, -6.376389026641846, -4.268092632293701, -8.962495803833008, -12.416289329528809, -9.896071434020996, -3.9807803630828857, -3.6373050212860107, -2.2513840198516846, 2.1600027084350586, -9.79300308227539, -2.3695733547210693, -5.006362438201904, -1.4758176803588867, -6.677189350128174, 2.2734296321868896, -9.134906768798828, 1.041167140007019, -4.370173454284668, -11.999874114990234, -8.741334915161133, 0.7423006296157837, -2.3523502349853516, -12.427218437194824, -4.536731719970703, 2.345315933227539, -12.307747840881348, -8.607942581176758, -11.697931289672852, -5.149458885192871, -9.623907089233398, -10.106173515319824, -4.680264949798584, -10.850719451904297, -0.7877985239028931, -3.205105781555176, -8.7933988571167, -0.7096361517906189, 3.057137966156006, -3.7968480587005615, -5.0394768714904785, -1.7677196264266968, -4.408298969268799, -2.9768543243408203, -12.317514419555664, -0.4418310225009918, -0.7479082345962524, -12.490730285644531, -12.35372257232666, -7.364099025726318, -4.811047077178955, -7.20529317855835, 0.6261263489723206, 1.3312745094299316, -3.9867429733276367, -11.378524780273438, -10.936323165893555, -4.633636951446533, -2.761309862136841, -4.2159271240234375, -12.020417213439941, -5.806950569152832, -11.36514949798584, -6.119080543518066, -9.384387969970703, -7.022815704345703, -1.0898334980010986, -10.026378631591797, -6.664453029632568, -10.322526931762695, -4.906638145446777, -7.15241003036499, -10.389158248901367, -4.841624736785889, -0.19234541058540344, -8.768463134765625, -5.694082736968994, -4.360591888427734, -4.0197248458862305, -7.525688648223877, -5.005993366241455, -2.815581798553467, -3.803304433822632, -1.470084547996521, -5.858303546905518, -3.590418815612793, -6.906581401824951, -3.6948602199554443, -5.8849029541015625, -4.362308502197266, -5.395699501037598, -4.617406368255615, -11.637320518493652, -4.265872955322266, -3.2114596366882324, -10.009401321411133, -7.446699142456055, -1.160480260848999, -0.05569403991103172, -3.4000163078308105, -3.966844320297241, -1.8011943101882935, -12.265857696533203, -7.682307243347168, -5.291296482086182, -7.6287617683410645, 1.295450210571289, -10.02628231048584, 0.7381407022476196, -10.171300888061523, -0.6982789635658264, -3.9027116298675537, -11.920394897460938, -4.841741561889648, -0.039293695241212845, -1.2435332536697388, -4.883634090423584, -11.721978187561035, -11.513465881347656, -12.334753036499023, -4.742891311645508, -3.9178531169891357, -2.1622791290283203, -4.635188579559326, -2.6652936935424805, 0.9413273334503174, -12.350558280944824, -4.455651760101318, -5.975738525390625, -9.506978034973145, -6.434638500213623, -3.4744765758514404, -4.0226922035217285, -12.25760269165039, -2.086963176727295, -4.480083465576172, 0.021994037553668022, -5.208373069763184, -0.7460806965827942, -10.764296531677246, -4.248146057128906, -2.6934940814971924, -4.240977764129639, -8.932914733886719, -11.758551597595215, -6.714287281036377]}, {\"hoverlabel\": {\"namelength\": 0}, \"hovertemplate\": \"Dominant_Topic=Topic 1<br>0=%{x}<br>1=%{y}<br>2=%{z}\", \"legendgroup\": \"Dominant_Topic=Topic 1\", \"marker\": {\"color\": \"#EF553B\", \"opacity\": 0.7, \"symbol\": \"circle\"}, \"mode\": \"markers\", \"name\": \"Dominant_Topic=Topic 1\", \"scene\": \"scene\", \"showlegend\": true, \"type\": \"scatter3d\", \"x\": [-0.43738627433776855, 4.239975929260254, 0.5801379680633545, -0.304500937461853, -0.18832693994045258, 1.191590428352356, 0.16241873800754547, -1.0148512125015259, 3.6042215824127197, -1.6739048957824707, 6.718044757843018, 1.713259220123291, 1.8883554935455322, 4.280345916748047, 3.944498300552368, 0.6228187084197998, 0.43243515491485596, 0.1736333668231964, 1.675527572631836, 0.3288154900074005, 1.7092164754867554, -1.915704607963562, 1.0991414785385132, 0.16635505855083466, -0.7614825963973999, 3.183415412902832, 4.584836006164551, 3.548597574234009, 4.158100605010986, 3.7791452407836914, -2.436251640319824, 0.7019805908203125, 0.14565248787403107, 0.39938870072364807, 3.945704698562622, -1.2482975721359253, 1.18803071975708, -1.0244126319885254, -0.5545359253883362, 3.743295431137085, 0.15042023360729218, 3.0945441722869873, -0.9555867314338684, 2.537928819656372, -1.9412550926208496, 1.3338284492492676, 4.187830924987793, 1.0817947387695312, -0.41722580790519714, 2.495851993560791, 3.1791837215423584, 4.063079833984375, 1.064102292060852, 3.7536935806274414, -2.59090518951416, 1.3759331703186035, -2.50917911529541, 3.2524397373199463, 2.4181101322174072, 2.5451056957244873, 6.809689521789551, 1.9793797731399536, 2.5142099857330322, 1.5192360877990723, 3.6202173233032227, -1.2803865671157837, 0.3035730719566345, -2.0975427627563477, 2.192903995513916, -1.629242181777954, -0.7411701679229736, 3.6907007694244385, -2.8234457969665527, -2.4117307662963867, 0.8593595623970032, 1.9055038690567017, 1.6598420143127441, 4.206284999847412, 0.37409114837646484, 2.182184934616089, 2.478949785232544, -1.4007855653762817, 2.418656826019287, -0.32187750935554504, -2.2506179809570312, 3.9857583045959473, 3.425105571746826, -0.9087026119232178, 3.5519843101501465, -0.6222260594367981, 1.1402158737182617, 7.967623233795166, 3.2433547973632812, 3.5502874851226807, 1.714337944984436, -0.3470417857170105, 3.2666335105895996, 0.20515228807926178, 1.288415789604187, 6.510312557220459, 0.5497516989707947, 0.10169602185487747, 1.553207278251648, 2.2615981101989746, 2.369206666946411, 4.1688714027404785, 4.418147563934326, 3.3902506828308105, 4.3244194984436035, 3.5256707668304443, -1.2856593132019043, 1.2328649759292603, 1.4633567333221436, 3.8415191173553467, 3.562612533569336, 1.2767300605773926, -2.1846678256988525, -0.37188437581062317, -0.9236401319503784, -2.273833990097046, 2.431650161743164, 3.55694317817688, 2.923151969909668, 3.670990228652954, 3.185204267501831, 2.7556498050689697, 2.628685235977173, 1.8773715496063232, 2.4131720066070557, 4.088356971740723, 1.6436084508895874, -0.9208845496177673, 4.2213215827941895, -2.6916449069976807, -1.1305983066558838, -0.6423431038856506, 6.218108177185059, 0.1806073635816574, 1.8517582416534424, -2.1502978801727295, -0.527907133102417, 2.711782932281494, 2.104635000228882, 2.6995608806610107, -0.4651731550693512, 0.9938886761665344, 3.474292516708374, 3.958524465560913, 2.715416431427002, -0.9034797549247742, 0.39530935883522034, 3.082943916320801, 1.243425726890564, 2.714628219604492, 4.2752180099487305, 3.925849199295044, 3.9807186126708984, 0.5357019305229187, -0.5448408722877502, 3.0795235633850098, 4.746317386627197, -0.8222922086715698, 3.112821102142334, 3.6317944526672363, 3.267735242843628, 0.12154120206832886, 5.912423610687256, 2.715970993041992, -1.954503059387207, 1.5424548387527466, -1.0244560241699219, 2.5437684059143066, 2.6984283924102783, 3.6803741455078125, 3.0837888717651367, 2.475353956222534, 2.7528977394104004, -0.4601312279701233, -0.2515372037887573, 2.3677103519439697, -1.2633825540542603, 2.884674072265625, -0.3335818946361542, -0.41619250178337097, 1.4888322353363037, 3.2169907093048096, 3.707399606704712, 4.009603977203369, 2.4467642307281494, 6.038972854614258, 3.6099836826324463, 4.3180108070373535, 4.051151752471924, 0.030672971159219742, 2.715961456298828, 0.1351701319217682, 2.4398744106292725, 4.002594470977783, 3.963996410369873, 2.1785006523132324, -0.22390633821487427, 1.9550378322601318, 0.9837567210197449, 3.7493069171905518, 0.14862413704395294, 1.7656943798065186, 7.861832618713379, 3.070483446121216, 0.06174251437187195, 2.11672306060791, 3.9084556102752686, 3.012399196624756, 0.5446671843528748, 4.240431308746338, 2.8397786617279053, 3.3914318084716797, 2.4564054012298584, 2.702989101409912, 3.044530153274536, 0.6228103637695312, 3.081940174102783, 3.913058042526245, 3.878326177597046, 0.5414308309555054, 2.6672401428222656, 0.7916271090507507, 1.468326449394226, 3.0438363552093506, 3.3624863624572754, 3.3437294960021973, 3.1694328784942627, 1.5534785985946655, 2.9192888736724854, 3.896430492401123], \"y\": [2.1481974124908447, 1.1761349439620972, 3.010038375854492, 1.8850535154342651, 2.62957763671875, 2.583889961242676, -0.358063668012619, 1.6825982332229614, -1.9843922853469849, 3.934231758117676, 2.239168405532837, -0.5090813040733337, 3.521975517272949, 1.2624707221984863, 1.4713692665100098, 0.27268174290657043, 3.161665916442871, 3.23340106010437, 2.5672667026519775, 0.32987481355667114, 2.145700454711914, 0.910760223865509, 1.8144404888153076, 3.3242249488830566, 1.522444725036621, -2.2992584705352783, 1.5131179094314575, -1.0213950872421265, 0.9879727959632874, 1.3757225275039673, 0.8659881353378296, 2.1027286052703857, 0.4927996098995209, 0.4054121971130371, 0.7382795214653015, 3.99272084236145, -3.0191855430603027, 1.3889245986938477, 1.6940808296203613, 0.09992869198322296, 2.281900405883789, 0.7455501556396484, 4.387269496917725, 3.1982176303863525, 3.37475848197937, -2.5634894371032715, 1.4898488521575928, 2.2898037433624268, -1.6989459991455078, 2.5945165157318115, 2.701002359390259, 0.8249015808105469, 3.181495189666748, 0.28161293268203735, 3.3013737201690674, 2.043729305267334, 1.1975094079971313, 1.455643653869629, 2.030629873275757, 3.4265425205230713, 3.340465784072876, 2.900552272796631, 1.892514705657959, 2.758275270462036, 2.4777939319610596, 3.8175618648529053, 2.2868611812591553, 3.6748006343841553, -0.060511503368616104, 0.39755183458328247, 2.98028302192688, -2.091712236404419, 0.1666610687971115, 0.6470702886581421, -1.2392510175704956, 1.2616872787475586, 1.0154331922531128, 0.7077176570892334, 3.2388577461242676, 1.2629616260528564, 2.881582736968994, 2.9243509769439697, 2.290283203125, 1.687095284461975, 4.159273147583008, 1.5528321266174316, 0.17729492485523224, 1.657008409500122, 0.2263876348733902, 3.025773048400879, 3.6059062480926514, 3.7093396186828613, 0.5159685611724854, 2.342310905456543, 3.3178818225860596, 2.9150991439819336, 0.5311773419380188, -0.24199186265468597, 0.8088876008987427, 2.554123640060425, 3.448345184326172, 2.3491108417510986, -1.8102781772613525, -0.28859731554985046, 1.7774574756622314, -1.2877724170684814, 0.7540083527565002, 2.6674933433532715, 1.3340115547180176, 0.03618866950273514, 3.970876455307007, -3.09004282951355, -0.09694643318653107, 0.7318930625915527, -2.270331621170044, 0.07221483439207077, 0.6381090879440308, 2.735380172729492, -1.2661149501800537, 4.15587043762207, 0.3782599866390228, 1.226327657699585, 0.14820340275764465, 2.109344959259033, 0.1701662838459015, 0.030237343162298203, -0.8919327259063721, 1.1997119188308716, 1.6125408411026, 1.009521245956421, 2.9198803901672363, -0.22082778811454773, 1.5036461353302002, 0.2824902832508087, 1.349471092224121, -4.3031463623046875, 3.1571195125579834, 0.24835141003131866, -0.02461429312825203, 3.8272109031677246, 2.296238422393799, -1.9466460943222046, 0.13691386580467224, 2.0248210430145264, 1.4164361953735352, -1.095837950706482, 0.22024928033351898, 2.068159341812134, -0.6796655058860779, -1.2835237979888916, 2.2009360790252686, 0.06825409084558487, 0.8050893545150757, -0.218245267868042, 0.597177267074585, 1.2421784400939941, 0.9030020236968994, -0.1913396120071411, 2.5873122215270996, 0.2084692418575287, 1.5673847198486328, 2.3707594871520996, 0.20564375817775726, 0.38005396723747253, 2.1140964031219482, 2.5806162357330322, 3.427640914916992, 0.10024616122245789, 3.597771406173706, -0.0614958293735981, 4.206553936004639, -0.010543333366513252, 0.14653748273849487, 1.4369200468063354, 0.2045825570821762, -0.010925152339041233, 0.06180033087730408, -0.3348608613014221, -0.2686655521392822, 0.15880128741264343, -0.24971045553684235, 3.599796772003174, -0.2696627676486969, 1.4417712688446045, -0.0990847498178482, 0.1983412802219391, 2.3520612716674805, 0.9307944774627686, 1.9568085670471191, 2.0771589279174805, 0.9909839630126953, 0.8117189407348633, 1.0407899618148804, 0.24268193542957306, 0.16735072433948517, 3.0732157230377197, -0.024372978135943413, 1.3795703649520874, -0.20074838399887085, -0.2568000853061676, -1.158888578414917, 2.70914888381958, -0.09291958808898926, 1.0766602754592896, 2.265321731567383, -0.04389132186770439, 3.6718804836273193, 0.10050594061613083, -1.0216374397277832, 1.3175718784332275, 0.5127944946289062, 0.20182140171527863, -0.538661777973175, 1.1222996711730957, -0.3751770257949829, -1.7446831464767456, 0.22579583525657654, 0.6739740371704102, 0.19352346658706665, -0.19687828421592712, 0.17711517214775085, -1.2452383041381836, 0.34798380732536316, -0.17938260734081268, 0.8022752404212952, -0.4269573390483856, 1.3226865530014038, 0.12330016493797302, 0.17828288674354553, 0.1675807684659958, -0.8884873390197754, -0.06570093333721161, -1.8603501319885254, 0.6644353866577148], \"z\": [6.04790735244751, 5.469716548919678, 4.739096641540527, 6.28546667098999, 5.3054022789001465, 5.042206287384033, 12.24025821685791, 4.786115646362305, 12.08065414428711, 6.015856742858887, -1.0099290609359741, 6.0503435134887695, 1.2758800983428955, 10.19234848022461, 8.483113288879395, 5.818131446838379, 3.6042380332946777, 1.5000296831130981, 2.761934518814087, 5.644869804382324, 5.645644664764404, 8.119218826293945, 8.266647338867188, 2.162726879119873, 8.60822868347168, 11.576177597045898, 9.9717378616333, 12.58278751373291, 10.656607627868652, 8.34123706817627, 7.90203857421875, 3.3354082107543945, 9.358603477478027, 9.581109046936035, 11.743279457092285, 3.715306282043457, 1.3078405857086182, 4.3879804611206055, 6.096574783325195, 12.153944969177246, 7.789610385894775, 6.019146919250488, 6.316227436065674, 1.9131852388381958, 5.02427339553833, 0.9358919858932495, 5.667026996612549, 5.1139068603515625, 11.673212051391602, 5.349581718444824, 5.520049571990967, 11.598531723022461, 1.4900269508361816, 12.979772567749023, 2.3634414672851562, 7.56170654296875, 2.268557071685791, 6.24646520614624, 1.0997520685195923, 1.5834732055664062, -0.9828651547431946, 5.518953800201416, 8.528794288635254, 5.135185718536377, 6.646862030029297, 5.277925968170166, 2.8850340843200684, 5.315677165985107, 5.742161273956299, 8.272215843200684, 2.033798933029175, 12.244059562683105, 9.594952583312988, 7.787574291229248, -0.5045168995857239, 8.711954116821289, 8.375738143920898, 5.915059566497803, 1.9181674718856812, 9.223989486694336, 2.5167012214660645, 3.608502149581909, 6.596766948699951, 7.883744239807129, 7.0606560707092285, 8.464105606079102, 14.967536926269531, 8.524985313415527, 13.815218925476074, 2.9189999103546143, 1.636000633239746, 0.34630778431892395, 6.012469291687012, 6.805835247039795, 2.3370699882507324, 0.8924190402030945, 10.876734733581543, 12.604146003723145, 8.795443534851074, -0.8554508090019226, 5.052305221557617, 7.775130271911621, 0.0592392273247242, 5.905364990234375, 6.936124801635742, 12.873671531677246, 5.837060451507568, 6.107919692993164, 5.246406555175781, 14.53178596496582, 3.143052101135254, 1.3749693632125854, 15.3328857421875, 10.977804183959961, 11.913628578186035, 11.927282333374023, 8.153491973876953, 5.723613739013672, 0.9021247625350952, 6.969385623931885, 11.754234313964844, 8.555538177490234, 15.923508644104004, 6.3188862800598145, 15.657833099365234, 13.972972869873047, 12.550093650817871, 9.263422966003418, 0.9996002912521362, 10.959725379943848, 2.485023260116577, 11.66522216796875, 9.155827522277832, 9.400712966918945, 4.161713600158691, 2.9122366905212402, -0.773086667060852, 9.318764686584473, 15.61060905456543, 7.372586250305176, 4.811309337615967, 11.510713577270508, 12.184426307678223, 1.7349985837936401, 6.966677665710449, 6.63244104385376, 15.778268814086914, 5.805775165557861, 6.3038482666015625, 0.8208653926849365, 3.266385793685913, 14.473217010498047, 8.658212661743164, 6.492596626281738, 12.345974922180176, 9.482808113098145, 9.107027053833008, 12.500859260559082, 4.933685302734375, 16.939287185668945, 10.12866497039795, 4.925857067108154, 17.056001663208008, 12.936491012573242, 5.953170299530029, 5.630492687225342, -0.60592120885849, 6.011778831481934, 4.610499382019043, 15.69350814819336, 6.207458019256592, 14.76889419555664, 16.538541793823242, 9.593406677246094, 16.640270233154297, 5.623602867126465, 15.132824897766113, 12.25864315032959, 12.336463928222656, 12.531868934631348, 11.701745986938477, 0.8299928307533264, 12.302166938781738, 7.415745258331299, 15.249112129211426, 16.145835876464844, 6.88490629196167, 9.073493003845215, 1.4594175815582275, -0.4028124511241913, 7.828012943267822, 12.016234397888184, 10.568881034851074, 9.297586441040039, 17.107547760009766, 1.0003052949905396, 13.848204612731934, 8.7935791015625, 12.852493286132812, 13.678614616394043, 11.972997665405273, 2.6497952938079834, 12.344385147094727, 10.892327308654785, 7.696499347686768, 15.513540267944336, 0.18864546716213226, 14.2659912109375, 12.148395538330078, 7.1859588623046875, 11.667380332946777, 16.856061935424805, 13.327496528625488, 10.592788696289062, 12.986945152282715, 12.426554679870605, 5.5019917488098145, 10.619264602661133, 16.495548248291016, 12.787891387939453, 16.087371826171875, 12.365732192993164, 13.36918830871582, 12.413715362548828, 5.611136436462402, 12.363151550292969, 8.638758659362793, 15.183821678161621, 15.319106101989746, 15.488856315612793, 6.012394905090332, 15.612482070922852, 11.926959037780762, 11.973029136657715]}, {\"hoverlabel\": {\"namelength\": 0}, \"hovertemplate\": \"Dominant_Topic=Topic 2<br>0=%{x}<br>1=%{y}<br>2=%{z}\", \"legendgroup\": \"Dominant_Topic=Topic 2\", \"marker\": {\"color\": \"#00cc96\", \"opacity\": 0.7, \"symbol\": \"circle\"}, \"mode\": \"markers\", \"name\": \"Dominant_Topic=Topic 2\", \"scene\": \"scene\", \"showlegend\": true, \"type\": \"scatter3d\", \"x\": [-2.48805570602417, -11.998672485351562, -10.793787002563477, -12.609373092651367, -9.885735511779785, -7.529395580291748, -5.60910701751709, -9.706561088562012, -5.537904262542725, -7.292654037475586, -10.323537826538086, -3.5590198040008545, -2.960130214691162, -12.253595352172852, -2.8694000244140625, -3.641605854034424, -4.166051864624023, -5.676494121551514, -6.983379364013672, -5.3081865310668945, -12.579684257507324, -12.097159385681152, -10.638252258300781, -2.237105369567871, -5.269809722900391, -8.104730606079102, -3.363754987716675, -11.385476112365723, -10.815070152282715, -9.750231742858887, -6.169708728790283, -7.027517795562744, -8.303726196289062, -10.792463302612305, -6.34653377532959, -7.428630828857422, -7.666882514953613, -12.475560188293457, -9.227948188781738, -6.584395885467529, -9.842276573181152, -8.417529106140137, -7.285219192504883, -12.929646492004395, -7.202885627746582, -2.9497437477111816, -10.999098777770996, -4.542749881744385, -8.698168754577637, -12.687355995178223, -10.556679725646973, -9.85008430480957, -12.901528358459473, -7.19612455368042, -5.196807384490967, -2.9307522773742676, -7.357139587402344, -10.219545364379883, -5.452876091003418, -5.363809585571289, -2.3587043285369873, -6.881722450256348, -9.456023216247559, -3.718214988708496, -5.68478536605835, -4.6031174659729, -4.716375827789307, -6.25826358795166, -5.299082279205322, -7.141789436340332, -8.136201858520508, -10.303630828857422, -11.824052810668945, -4.749222278594971, -7.258790493011475, -4.350776195526123, -10.630622863769531, -6.455404758453369, -3.7758584022521973, -8.762480735778809, -4.412282466888428, -7.060131072998047, -12.246452331542969, -4.795095443725586, -12.579852104187012, -12.943166732788086, -4.8041157722473145, -9.675911903381348, -5.467358112335205, -7.905208110809326, -9.13596248626709, -4.51313591003418, -6.663656234741211, -5.278751373291016, -7.267694473266602, -5.269974231719971, -2.623168468475342, -7.680190086364746, -10.563897132873535, -3.673445224761963, -8.168513298034668, -7.432308673858643, -11.541363716125488, -12.080004692077637, -3.0481932163238525, -6.8309173583984375, -6.015092372894287, -7.979392051696777, -4.661253929138184, -5.484697341918945, -3.194920301437378, -12.692911148071289, -8.859399795532227, -8.547499656677246, -4.906089782714844, -3.9258878231048584, -4.602419853210449, -3.804326295852661, -3.714493989944458, -3.8089678287506104, -10.739063262939453, -5.429243564605713, -10.582478523254395, -2.8931221961975098, -1.4208765029907227, -6.645322799682617, -7.258981704711914, -4.663355350494385, -3.441359758377075, -3.1253607273101807, -8.73580265045166, -4.247701644897461, -10.040481567382812, -10.044577598571777, -4.93783712387085, -3.4214885234832764, -7.1343817710876465, -8.738490104675293, -3.322702407836914, -4.620360851287842, -3.329106330871582, -10.410948753356934, -4.740445137023926, -2.568901300430298, -5.726877689361572, -3.0378453731536865, -9.084542274475098, -10.765229225158691, -3.754180908203125, -5.184489727020264, -7.788115978240967, -3.986837148666382, -8.378771781921387, -3.847125768661499, -7.064032077789307, -2.984198808670044, -10.723891258239746, -1.792928695678711, -8.638089179992676, -3.63867449760437, -4.571486949920654, -6.283771514892578, -3.9737954139709473, -11.457603454589844, -10.253329277038574, -10.720711708068848, -2.9857475757598877, -4.924347400665283, -9.459563255310059, -4.215193271636963, -11.398748397827148, -11.439105033874512, -2.2184741497039795, -8.71388053894043, -5.485043525695801, -8.996562004089355, -3.8559157848358154, -4.731738090515137, -4.543215274810791, -10.430767059326172, -7.086778163909912, -13.0744047164917], \"y\": [3.3929266929626465, -4.863773822784424, -3.1797549724578857, -4.76516580581665, -1.7209445238113403, -3.792179822921753, 2.314735174179077, -3.515733242034912, 2.5080718994140625, 0.8211944699287415, -2.3513717651367188, 3.1809375286102295, 0.1195419579744339, -4.277595043182373, 4.035834312438965, 3.7324297428131104, 2.887439250946045, -1.7295678853988647, 1.1586661338806152, -1.3764923810958862, -5.177531719207764, -4.102264404296875, -2.018507242202759, 3.330883026123047, -2.015012741088867, 1.7581007480621338, 2.2024118900299072, -3.2644970417022705, -3.4980852603912354, -3.7800557613372803, 2.1592233180999756, 1.2622427940368652, 0.2121676206588745, -3.2818267345428467, 1.6594188213348389, 0.9148032069206238, -0.3752778470516205, -4.535085201263428, -1.4788682460784912, -3.223513126373291, -1.4351738691329956, -0.18076495826244354, -0.4572314918041229, -5.082007884979248, -1.9427820444107056, 1.4270715713500977, -3.6134512424468994, 2.0999722480773926, -0.7169681787490845, -4.79591178894043, -3.7402169704437256, -2.4123048782348633, -5.097667217254639, 1.4446078538894653, 2.8094325065612793, 0.552452564239502, -2.9952471256256104, -3.9014430046081543, -1.4013407230377197, 1.432974934577942, 2.6737823486328125, 0.9204636812210083, -0.8505842685699463, 1.316139817237854, -1.2027833461761475, 2.4400835037231445, 0.18080338835716248, 1.0026750564575195, -0.9861114025115967, -1.5026681423187256, -2.747418165206909, -1.557627558708191, -4.25746488571167, 3.0140340328216553, -3.6849472522735596, 1.9360910654067993, -2.330845355987549, 1.592799425125122, 1.6797442436218262, -0.09243509918451309, -0.3316527307033539, 2.0103116035461426, -4.232792854309082, 1.4243024587631226, -4.794741153717041, -5.3741607666015625, 0.580283522605896, -1.2059094905853271, -1.0915809869766235, 0.43880483508110046, -0.8900337815284729, 3.1824448108673096, 1.383433222770691, -1.034964680671692, -3.577279567718506, 2.769634962081909, 1.977027177810669, -1.2869863510131836, -2.224344253540039, -0.1488688886165619, 0.2934761047363281, -2.8527657985687256, -3.999162197113037, -4.432661056518555, 3.255751132965088, 1.0370622873306274, 0.9023457765579224, 2.0794012546539307, 1.4789085388183594, 3.4712953567504883, 3.8523263931274414, -4.803006649017334, -1.091284990310669, 2.1511969566345215, -1.508838176727295, 2.1362080574035645, 2.465545892715454, 2.7331225872039795, 2.960261583328247, -0.7284852862358093, -3.240919589996338, -1.5044156312942505, -0.0572885200381279, 2.648691177368164, 3.499112129211426, 1.7823469638824463, -3.684941053390503, 2.1591639518737793, 0.5099276900291443, -0.10256929695606232, 2.723435401916504, 3.286116361618042, -1.4940119981765747, -3.6072797775268555, 2.2508037090301514, 0.7096311450004578, 1.2336835861206055, 2.804081916809082, 3.557189702987671, 1.6147874593734741, 2.5794777870178223, -2.058525800704956, 3.1174750328063965, 0.7161285281181335, -1.558305263519287, 0.4467076063156128, -1.2901722192764282, -2.94545316696167, -0.2017587423324585, -1.1241750717163086, -2.512006998062134, 1.4553383588790894, 0.0008809174178168178, 0.5749764442443848, 1.1228680610656738, -0.15751975774765015, -3.4377334117889404, 2.6915712356567383, -1.253981590270996, 3.2087674140930176, -0.2618922293186188, -1.4114725589752197, -0.6726388931274414, -3.527545690536499, -1.662503957748413, -3.016000509262085, 1.850127100944519, -0.8104305863380432, -1.1428877115249634, 0.07487576454877853, -2.606165647506714, -3.219001054763794, 2.142857551574707, 2.7834622859954834, 3.6412863731384277, 0.6691387295722961, 1.47785484790802, 1.0583401918411255, -0.34896495938301086, -1.7532440423965454, 1.1990649700164795, -5.296802997589111], \"z\": [5.23717737197876, 5.819456577301025, 6.313943386077881, 6.030375957489014, 5.987543106079102, 3.9596076011657715, 7.469792366027832, 5.443305492401123, 7.459540843963623, 6.262770652770996, 6.269361972808838, 2.4939072132110596, 9.668180465698242, 5.890814304351807, 5.641703128814697, 4.5701375007629395, 6.059571266174316, 5.012763023376465, 6.499370574951172, 5.466109275817871, 5.734714031219482, 5.902061462402344, 6.468714714050293, 4.875527858734131, 3.1040501594543457, 5.544003009796143, 4.217010021209717, 6.135985851287842, 8.013801574707031, 5.27606725692749, 4.213438034057617, 5.464319705963135, 5.6644463539123535, 7.591324806213379, 7.08703088760376, 5.339979648590088, 4.884906768798828, 5.892050743103027, 6.7097673416137695, 3.650414228439331, 7.155630588531494, 5.792831897735596, 4.643415451049805, 5.869114875793457, 5.731173038482666, 1.9267981052398682, 7.875033855438232, 4.812173843383789, 5.954404354095459, 5.8884148597717285, 6.055445671081543, 5.7423810958862305, 6.004047393798828, 4.970815181732178, 7.2678542137146, 8.094376564025879, 4.464748382568359, 5.440457344055176, 5.765232563018799, 6.57545804977417, 5.506097316741943, 6.6246771812438965, 6.177639961242676, 7.23781156539917, 6.457448959350586, 4.989382266998291, 8.436155319213867, 7.1493239402771, 6.561025619506836, 6.024572372436523, 5.131916046142578, 7.1117634773254395, 6.916437149047852, 3.9967942237854004, 3.8600480556488037, 5.077805042266846, 5.961386203765869, 4.254720211029053, 5.369968414306641, 5.678964614868164, 2.505768060684204, 4.516726016998291, 5.874162673950195, 6.291994571685791, 6.204954624176025, 5.782272815704346, 8.173303604125977, 6.129678249359131, 3.3769752979278564, 6.004512310028076, 6.253292560577393, 6.969117641448975, 4.477789402008057, 6.708363056182861, 3.9443955421447754, 5.256229877471924, 5.614264011383057, 5.3485107421875, 5.982298851013184, 7.659858226776123, 6.0398054122924805, 4.635838031768799, 7.320099830627441, 5.855630397796631, 6.096377372741699, 6.531047821044922, 3.880236864089966, 5.369440078735352, 6.751322269439697, 3.9423632621765137, 6.812121391296387, 5.888410568237305, 6.393682956695557, 5.596816539764404, 4.369692325592041, 5.732226371765137, 4.349955081939697, 8.015374183654785, 2.3034474849700928, 4.675759315490723, 7.700777053833008, 3.3543004989624023, 6.016625881195068, 1.2460047006607056, 2.5719029903411865, 4.255183219909668, 3.860062837600708, 5.913960933685303, 8.336653709411621, 10.051642417907715, 5.505825996398926, 4.435275554656982, 6.587167263031006, 6.934613227844238, 7.759710311889648, 7.678213119506836, 6.47884464263916, 5.493319511413574, 7.163156509399414, 6.568915367126465, 0.5685908198356628, 6.318376064300537, 4.25477409362793, 7.924077033996582, 4.179211139678955, 7.878889083862305, 7.109003067016602, 6.213230609893799, 5.7225847244262695, 6.2079291343688965, 5.224769592285156, 4.3321099281311035, 6.224759101867676, 4.477798938751221, 5.711132526397705, 10.245250701904297, 8.126306533813477, 0.56719571352005, 5.902778625488281, 2.157243490219116, 8.291096687316895, 5.772462844848633, 6.3101372718811035, 5.886499404907227, 6.970812797546387, 7.27539587020874, 5.797549247741699, 6.745707035064697, 6.602517127990723, 3.1666200160980225, 6.898432731628418, 5.957306861877441, 5.410068511962891, 5.484151840209961, 3.6954753398895264, 5.819800853729248, 7.306206703186035, 8.119762420654297, 2.8931310176849365, 6.126576900482178, 6.8081440925598145, 5.859564781188965]}, {\"hoverlabel\": {\"namelength\": 0}, \"hovertemplate\": \"Dominant_Topic=Topic 3<br>0=%{x}<br>1=%{y}<br>2=%{z}\", \"legendgroup\": \"Dominant_Topic=Topic 3\", \"marker\": {\"color\": \"#ab63fa\", \"opacity\": 0.7, \"symbol\": \"circle\"}, \"mode\": \"markers\", \"name\": \"Dominant_Topic=Topic 3\", \"scene\": \"scene\", \"showlegend\": true, \"type\": \"scatter3d\", \"x\": [-4.269798278808594, -3.9750592708587646, -3.5176191329956055, -3.5940091609954834, -7.393887519836426, -2.0286147594451904, -7.451859951019287, -2.0638766288757324, -1.4660000801086426, -0.9997847080230713, -1.0570344924926758, -2.563790798187256, -6.104248046875, -3.0277230739593506, 0.38950395584106445, -1.0713797807693481, -4.696116924285889, -1.7624552249908447, -1.3465828895568848, -1.472859501838684, -4.251223564147949, -0.9133819341659546, -1.3686721324920654, -5.3022356033325195, -0.33186075091362, -6.413775444030762, -3.591083526611328, -5.387350559234619, -6.378430366516113, -4.33772611618042, -3.3777875900268555, -1.5989201068878174, -5.160933017730713, -3.3822269439697266, -1.7444829940795898, -1.98699951171875, -6.930262088775635, -7.179343223571777, -4.697666168212891, -3.2132368087768555, -0.8641499280929565, -2.7560274600982666, -4.906477451324463, -3.4391028881073, -2.140928268432617, -5.088418483734131, -7.600082874298096, -5.970874309539795, -4.257359504699707, -1.0816247463226318, -3.6741347312927246, -2.4689242839813232, -1.1457276344299316, -3.7535500526428223, -1.7847208976745605, -6.024153232574463, -0.9641785621643066, -2.6034328937530518, -5.07478141784668, -4.904136657714844, -4.047088146209717, -2.84285044670105, -1.9060704708099365, -1.2033647298812866, -5.0568671226501465, -5.091370582580566, -5.12801456451416, -5.812722682952881, -3.0275580883026123, -5.341562747955322, -0.9221248626708984, -3.921574354171753, -1.0406674146652222, -4.679111003875732, -6.579550266265869, -1.820815086364746, -2.8667263984680176, -1.2408405542373657, -4.842512607574463, -5.119161128997803, -4.7947096824646, -5.874307155609131, -1.6041889190673828, -1.2967982292175293, -1.4884064197540283, -5.156973838806152, -3.097296714782715, -6.205289840698242, -5.289270877838135, -6.808906555175781, -6.97598934173584, -5.798467636108398, -4.8861799240112305, -2.2194976806640625, -2.719022035598755, -4.66300630569458, -6.342584609985352, -2.727783203125, -2.637737512588501, -6.042275905609131, -1.6519906520843506, -4.84902286529541, -3.3507049083709717, -0.8019446730613708, -1.8931941986083984, -4.497578144073486, 0.2359558641910553, -5.611628532409668, -3.431948184967041, -2.4287874698638916, -3.9963796138763428, -5.9100470542907715, -0.3925628066062927, -1.6262187957763672, -6.376674175262451, -1.1329450607299805, -4.0879106521606445, -5.501533031463623, -4.634030342102051, -1.5252256393432617, -5.141111373901367, -1.7637685537338257, -1.7006419897079468, -5.447269439697266, -1.5723209381103516, -2.4022011756896973, -6.6862359046936035, -1.1650781631469727, -2.4774763584136963, -3.66153621673584, -1.5588103532791138, -0.9099208116531372], \"y\": [-4.485382556915283, -4.133195877075195, -5.480494499206543, -5.933675289154053, -9.790316581726074, -2.2254953384399414, -9.848876953125, -4.311925888061523, -3.5263562202453613, -3.336869478225708, -0.793609082698822, -4.529228210449219, -8.1633882522583, -2.214409589767456, -3.2020721435546875, -2.2708590030670166, -7.372591972351074, -4.045468807220459, -4.461042881011963, -4.458549499511719, -4.345052242279053, -1.9358153343200684, -3.9192261695861816, -6.963532447814941, -3.125826358795166, -8.684422492980957, -6.211305618286133, -7.804224014282227, -5.851922988891602, -7.119080066680908, -5.9845452308654785, -3.6307315826416016, -2.112739324569702, -5.91304874420166, -3.5371758937835693, -4.014577388763428, -9.37028980255127, -9.55766773223877, -9.232166290283203, -5.910663604736328, -2.8179452419281006, -4.383918285369873, -2.981633424758911, -5.329539775848389, -5.150612831115723, -7.833746433258057, -9.997851371765137, -8.227962493896484, -6.6127028465271, -5.332770824432373, -6.223031997680664, -2.6440844535827637, -5.578920364379883, -5.9955735206604, -3.794747829437256, -9.125341415405273, -1.2663474082946777, -0.5331149697303772, -7.276147365570068, -7.3589701652526855, -6.537985324859619, -4.937764644622803, -4.176630973815918, -4.317867755889893, -7.687403678894043, -3.0964646339416504, -7.053627967834473, -5.840946197509766, -2.007622241973877, -7.5240325927734375, -3.533515691757202, -6.406221866607666, -4.09119176864624, -7.2956624031066895, -9.039079666137695, -0.3034111261367798, 1.7376888990402222, -3.198399782180786, -2.9591286182403564, -8.226226806640625, -6.456037521362305, -8.51966381072998, -4.4820380210876465, -1.6318951845169067, -0.7060819268226624, -2.7901954650878906, -2.179872989654541, -5.530142784118652, -7.28887414932251, -9.114620208740234, -9.40770435333252, -8.03665542602539, -7.78682804107666, -3.2936716079711914, 1.7531917095184326, -4.898895740509033, -8.700859069824219, -0.5159767270088196, -4.759037971496582, -8.245794296264648, -3.96140193939209, -8.81472396850586, -6.12303352355957, -3.229614019393921, -4.383622646331787, -5.261030673980713, -1.7013170719146729, -3.4509782791137695, -5.901100158691406, -4.22857141494751, -6.750155925750732, -8.96059799194336, -1.6661972999572754, -4.089537620544434, -8.758990287780762, -4.773752212524414, -4.4597296714782715, -7.95328950881958, -5.150191783905029, -4.023349761962891, -7.493493556976318, -4.2152557373046875, -4.514869689941406, -8.995230674743652, -2.228476047515869, -4.737885475158691, -8.987573623657227, -3.5258312225341797, -2.835468292236328, -6.100680828094482, -1.8317592144012451, -4.382264614105225], \"z\": [-2.010270833969116, -1.2080140113830566, -0.5893993973731995, -0.7941033840179443, 1.0170116424560547, -0.4019935429096222, 1.0501737594604492, -2.2599854469299316, -3.4638772010803223, 2.0961711406707764, -2.079251766204834, -1.6827470064163208, 0.258049339056015, -0.4563501477241516, 1.5607796907424927, -1.0561378002166748, 0.9649675488471985, -2.9556357860565186, -0.22002391517162323, 0.3923327624797821, -1.7815600633621216, -1.161597490310669, 2.1834042072296143, 0.4477408230304718, 1.9717909097671509, 0.2162407636642456, -2.300875425338745, -0.5959594249725342, 1.9765503406524658, -0.0402325764298439, -0.7813600897789001, -3.145019769668579, 3.017927646636963, -1.332055687904358, 2.388965129852295, -2.414043426513672, 0.7965086698532104, 0.8822510838508606, 0.5360040068626404, -2.840075731277466, -0.8367843627929688, -0.2922886610031128, 2.728825569152832, -3.033189058303833, -2.7724483013153076, -0.6776798367500305, 1.1266282796859741, -0.12004527449607849, 1.0012179613113403, -0.7266842722892761, -1.0960251092910767, 0.8411216735839844, -0.7742838263511658, -0.4105861783027649, -2.4173390865325928, 0.21913139522075653, -1.4716823101043701, -1.6757066249847412, 0.34199604392051697, -1.3653348684310913, -0.21807053685188293, -1.5197594165802002, -2.755772113800049, 0.07135341316461563, -0.5195539593696594, 2.63097882270813, -0.0975257083773613, 1.552785038948059, 1.378124475479126, -0.49075156450271606, 2.0916123390197754, -0.5487944483757019, 1.8436022996902466, -1.4714171886444092, 0.05619204789400101, -2.5018577575683594, 1.7815489768981934, -3.7166061401367188, 2.711264133453369, 0.46061334013938904, -1.7546653747558594, 0.537257194519043, 1.9718514680862427, 0.29589900374412537, -2.690333366394043, 2.732059955596924, 1.0161890983581543, 2.010129451751709, 0.3203215003013611, 0.6444457769393921, 0.8967246413230896, 0.6048394441604614, 0.3649020195007324, 1.3760676383972168, 1.7488797903060913, -2.1677358150482178, 0.0033436319790780544, -1.579238772392273, -1.8766034841537476, -0.005780340638011694, -3.555541753768921, -0.16283802688121796, -2.8356266021728516, 2.0938656330108643, -3.5439453125, 1.2398009300231934, -1.2096335887908936, 2.645693302154541, -1.1564574241638184, -1.0924283266067505, -2.176312208175659, 0.7756907939910889, -1.2416666746139526, -3.8078160285949707, 0.7504363059997559, -0.3739587664604187, -2.3164401054382324, -0.19055704772472382, 1.3319964408874512, -4.183251857757568, 0.6077171564102173, -3.6056902408599854, 2.123960018157959, 0.8657454252243042, -0.4769648313522339, -2.8279666900634766, 0.49681591987609863, 2.0841095447540283, 0.7057421803474426, -0.8073179125785828, -0.8029250502586365, -0.5015541911125183]}],\n",
       "                        {\"height\": 800, \"legend\": {\"tracegroupgap\": 0}, \"scene\": {\"domain\": {\"x\": [0.0, 1.0], \"y\": [0.0, 1.0]}, \"xaxis\": {\"title\": {\"text\": \"0\"}}, \"yaxis\": {\"title\": {\"text\": \"1\"}}, \"zaxis\": {\"title\": {\"text\": \"2\"}}}, \"template\": {\"data\": {\"bar\": [{\"error_x\": {\"color\": \"#2a3f5f\"}, \"error_y\": {\"color\": \"#2a3f5f\"}, \"marker\": {\"line\": {\"color\": \"#E5ECF6\", \"width\": 0.5}}, \"type\": \"bar\"}], \"barpolar\": [{\"marker\": {\"line\": {\"color\": \"#E5ECF6\", \"width\": 0.5}}, \"type\": \"barpolar\"}], \"carpet\": [{\"aaxis\": {\"endlinecolor\": \"#2a3f5f\", \"gridcolor\": \"white\", \"linecolor\": \"white\", \"minorgridcolor\": \"white\", \"startlinecolor\": \"#2a3f5f\"}, \"baxis\": {\"endlinecolor\": \"#2a3f5f\", \"gridcolor\": \"white\", \"linecolor\": \"white\", \"minorgridcolor\": \"white\", \"startlinecolor\": \"#2a3f5f\"}, \"type\": \"carpet\"}], \"choropleth\": [{\"colorbar\": {\"outlinewidth\": 0, \"ticks\": \"\"}, \"type\": \"choropleth\"}], \"contour\": [{\"colorbar\": {\"outlinewidth\": 0, \"ticks\": \"\"}, \"colorscale\": [[0.0, \"#0d0887\"], [0.1111111111111111, \"#46039f\"], [0.2222222222222222, \"#7201a8\"], [0.3333333333333333, \"#9c179e\"], [0.4444444444444444, \"#bd3786\"], [0.5555555555555556, \"#d8576b\"], [0.6666666666666666, \"#ed7953\"], [0.7777777777777778, \"#fb9f3a\"], [0.8888888888888888, \"#fdca26\"], [1.0, \"#f0f921\"]], \"type\": \"contour\"}], \"contourcarpet\": [{\"colorbar\": {\"outlinewidth\": 0, \"ticks\": \"\"}, \"type\": \"contourcarpet\"}], \"heatmap\": [{\"colorbar\": {\"outlinewidth\": 0, \"ticks\": \"\"}, \"colorscale\": [[0.0, \"#0d0887\"], [0.1111111111111111, \"#46039f\"], [0.2222222222222222, \"#7201a8\"], [0.3333333333333333, \"#9c179e\"], [0.4444444444444444, \"#bd3786\"], [0.5555555555555556, \"#d8576b\"], [0.6666666666666666, \"#ed7953\"], [0.7777777777777778, \"#fb9f3a\"], [0.8888888888888888, \"#fdca26\"], [1.0, \"#f0f921\"]], \"type\": \"heatmap\"}], \"heatmapgl\": [{\"colorbar\": {\"outlinewidth\": 0, \"ticks\": \"\"}, \"colorscale\": [[0.0, \"#0d0887\"], [0.1111111111111111, \"#46039f\"], [0.2222222222222222, \"#7201a8\"], [0.3333333333333333, \"#9c179e\"], [0.4444444444444444, \"#bd3786\"], [0.5555555555555556, \"#d8576b\"], [0.6666666666666666, \"#ed7953\"], [0.7777777777777778, \"#fb9f3a\"], [0.8888888888888888, \"#fdca26\"], [1.0, \"#f0f921\"]], \"type\": \"heatmapgl\"}], \"histogram\": [{\"marker\": {\"colorbar\": {\"outlinewidth\": 0, \"ticks\": \"\"}}, \"type\": \"histogram\"}], \"histogram2d\": [{\"colorbar\": {\"outlinewidth\": 0, \"ticks\": \"\"}, \"colorscale\": [[0.0, \"#0d0887\"], [0.1111111111111111, \"#46039f\"], [0.2222222222222222, \"#7201a8\"], [0.3333333333333333, \"#9c179e\"], [0.4444444444444444, \"#bd3786\"], [0.5555555555555556, \"#d8576b\"], [0.6666666666666666, \"#ed7953\"], [0.7777777777777778, \"#fb9f3a\"], [0.8888888888888888, \"#fdca26\"], [1.0, \"#f0f921\"]], \"type\": \"histogram2d\"}], \"histogram2dcontour\": [{\"colorbar\": {\"outlinewidth\": 0, \"ticks\": \"\"}, \"colorscale\": [[0.0, \"#0d0887\"], [0.1111111111111111, \"#46039f\"], [0.2222222222222222, \"#7201a8\"], [0.3333333333333333, \"#9c179e\"], [0.4444444444444444, \"#bd3786\"], [0.5555555555555556, \"#d8576b\"], [0.6666666666666666, \"#ed7953\"], [0.7777777777777778, \"#fb9f3a\"], [0.8888888888888888, \"#fdca26\"], [1.0, \"#f0f921\"]], \"type\": \"histogram2dcontour\"}], \"mesh3d\": [{\"colorbar\": {\"outlinewidth\": 0, \"ticks\": \"\"}, \"type\": \"mesh3d\"}], \"parcoords\": [{\"line\": {\"colorbar\": {\"outlinewidth\": 0, \"ticks\": \"\"}}, \"type\": \"parcoords\"}], \"pie\": [{\"automargin\": true, \"type\": \"pie\"}], \"scatter\": [{\"marker\": {\"colorbar\": {\"outlinewidth\": 0, \"ticks\": \"\"}}, \"type\": \"scatter\"}], \"scatter3d\": [{\"line\": {\"colorbar\": {\"outlinewidth\": 0, \"ticks\": \"\"}}, \"marker\": {\"colorbar\": {\"outlinewidth\": 0, \"ticks\": \"\"}}, \"type\": \"scatter3d\"}], \"scattercarpet\": [{\"marker\": {\"colorbar\": {\"outlinewidth\": 0, \"ticks\": \"\"}}, \"type\": \"scattercarpet\"}], \"scattergeo\": [{\"marker\": {\"colorbar\": {\"outlinewidth\": 0, \"ticks\": \"\"}}, \"type\": \"scattergeo\"}], \"scattergl\": [{\"marker\": {\"colorbar\": {\"outlinewidth\": 0, \"ticks\": \"\"}}, \"type\": \"scattergl\"}], \"scattermapbox\": [{\"marker\": {\"colorbar\": {\"outlinewidth\": 0, \"ticks\": \"\"}}, \"type\": \"scattermapbox\"}], \"scatterpolar\": [{\"marker\": {\"colorbar\": {\"outlinewidth\": 0, \"ticks\": \"\"}}, \"type\": \"scatterpolar\"}], \"scatterpolargl\": [{\"marker\": {\"colorbar\": {\"outlinewidth\": 0, \"ticks\": \"\"}}, \"type\": \"scatterpolargl\"}], \"scatterternary\": [{\"marker\": {\"colorbar\": {\"outlinewidth\": 0, \"ticks\": \"\"}}, \"type\": \"scatterternary\"}], \"surface\": [{\"colorbar\": {\"outlinewidth\": 0, \"ticks\": \"\"}, \"colorscale\": [[0.0, \"#0d0887\"], [0.1111111111111111, \"#46039f\"], [0.2222222222222222, \"#7201a8\"], [0.3333333333333333, \"#9c179e\"], [0.4444444444444444, \"#bd3786\"], [0.5555555555555556, \"#d8576b\"], [0.6666666666666666, \"#ed7953\"], [0.7777777777777778, \"#fb9f3a\"], [0.8888888888888888, \"#fdca26\"], [1.0, \"#f0f921\"]], \"type\": \"surface\"}], \"table\": [{\"cells\": {\"fill\": {\"color\": \"#EBF0F8\"}, \"line\": {\"color\": \"white\"}}, \"header\": {\"fill\": {\"color\": \"#C8D4E3\"}, \"line\": {\"color\": \"white\"}}, \"type\": \"table\"}]}, \"layout\": {\"annotationdefaults\": {\"arrowcolor\": \"#2a3f5f\", \"arrowhead\": 0, \"arrowwidth\": 1}, \"coloraxis\": {\"colorbar\": {\"outlinewidth\": 0, \"ticks\": \"\"}}, \"colorscale\": {\"diverging\": [[0, \"#8e0152\"], [0.1, \"#c51b7d\"], [0.2, \"#de77ae\"], [0.3, \"#f1b6da\"], [0.4, \"#fde0ef\"], [0.5, \"#f7f7f7\"], [0.6, \"#e6f5d0\"], [0.7, \"#b8e186\"], [0.8, \"#7fbc41\"], [0.9, \"#4d9221\"], [1, \"#276419\"]], \"sequential\": [[0.0, \"#0d0887\"], [0.1111111111111111, \"#46039f\"], [0.2222222222222222, \"#7201a8\"], [0.3333333333333333, \"#9c179e\"], [0.4444444444444444, \"#bd3786\"], [0.5555555555555556, \"#d8576b\"], [0.6666666666666666, \"#ed7953\"], [0.7777777777777778, \"#fb9f3a\"], [0.8888888888888888, \"#fdca26\"], [1.0, \"#f0f921\"]], \"sequentialminus\": [[0.0, \"#0d0887\"], [0.1111111111111111, \"#46039f\"], [0.2222222222222222, \"#7201a8\"], [0.3333333333333333, \"#9c179e\"], [0.4444444444444444, \"#bd3786\"], [0.5555555555555556, \"#d8576b\"], [0.6666666666666666, \"#ed7953\"], [0.7777777777777778, \"#fb9f3a\"], [0.8888888888888888, \"#fdca26\"], [1.0, \"#f0f921\"]]}, \"colorway\": [\"#636efa\", \"#EF553B\", \"#00cc96\", \"#ab63fa\", \"#FFA15A\", \"#19d3f3\", \"#FF6692\", \"#B6E880\", \"#FF97FF\", \"#FECB52\"], \"font\": {\"color\": \"#2a3f5f\"}, \"geo\": {\"bgcolor\": \"white\", \"lakecolor\": \"white\", \"landcolor\": \"#E5ECF6\", \"showlakes\": true, \"showland\": true, \"subunitcolor\": \"white\"}, \"hoverlabel\": {\"align\": \"left\"}, \"hovermode\": \"closest\", \"mapbox\": {\"style\": \"light\"}, \"paper_bgcolor\": \"white\", \"plot_bgcolor\": \"#E5ECF6\", \"polar\": {\"angularaxis\": {\"gridcolor\": \"white\", \"linecolor\": \"white\", \"ticks\": \"\"}, \"bgcolor\": \"#E5ECF6\", \"radialaxis\": {\"gridcolor\": \"white\", \"linecolor\": \"white\", \"ticks\": \"\"}}, \"scene\": {\"xaxis\": {\"backgroundcolor\": \"#E5ECF6\", \"gridcolor\": \"white\", \"gridwidth\": 2, \"linecolor\": \"white\", \"showbackground\": true, \"ticks\": \"\", \"zerolinecolor\": \"white\"}, \"yaxis\": {\"backgroundcolor\": \"#E5ECF6\", \"gridcolor\": \"white\", \"gridwidth\": 2, \"linecolor\": \"white\", \"showbackground\": true, \"ticks\": \"\", \"zerolinecolor\": \"white\"}, \"zaxis\": {\"backgroundcolor\": \"#E5ECF6\", \"gridcolor\": \"white\", \"gridwidth\": 2, \"linecolor\": \"white\", \"showbackground\": true, \"ticks\": \"\", \"zerolinecolor\": \"white\"}}, \"shapedefaults\": {\"line\": {\"color\": \"#2a3f5f\"}}, \"ternary\": {\"aaxis\": {\"gridcolor\": \"white\", \"linecolor\": \"white\", \"ticks\": \"\"}, \"baxis\": {\"gridcolor\": \"white\", \"linecolor\": \"white\", \"ticks\": \"\"}, \"bgcolor\": \"#E5ECF6\", \"caxis\": {\"gridcolor\": \"white\", \"linecolor\": \"white\", \"ticks\": \"\"}}, \"title\": {\"x\": 0.05}, \"xaxis\": {\"automargin\": true, \"gridcolor\": \"white\", \"linecolor\": \"white\", \"ticks\": \"\", \"title\": {\"standoff\": 15}, \"zerolinecolor\": \"white\", \"zerolinewidth\": 2}, \"yaxis\": {\"automargin\": true, \"gridcolor\": \"white\", \"linecolor\": \"white\", \"ticks\": \"\", \"title\": {\"standoff\": 15}, \"zerolinecolor\": \"white\", \"zerolinewidth\": 2}}}, \"title\": {\"text\": \"3d TSNE Plot for Topic Model\"}, \"width\": 900},\n",
       "                        {\"responsive\": true}\n",
       "                    ).then(function(){\n",
       "                            \n",
       "var gd = document.getElementById('eddf92b4-8c0d-4686-94a7-7efa075ccc7b');\n",
       "var x = new MutationObserver(function (mutations, observer) {{\n",
       "        var display = window.getComputedStyle(gd).display;\n",
       "        if (!display || display === 'none') {{\n",
       "            console.log([gd, 'removed!']);\n",
       "            Plotly.purge(gd);\n",
       "            observer.disconnect();\n",
       "        }}\n",
       "}});\n",
       "\n",
       "// Listen for the removal of the full notebook cells\n",
       "var notebookContainer = gd.closest('#notebook-container');\n",
       "if (notebookContainer) {{\n",
       "    x.observe(notebookContainer, {childList: true});\n",
       "}}\n",
       "\n",
       "// Listen for the clearing of the current output cell\n",
       "var outputEl = gd.closest('.output');\n",
       "if (outputEl) {{\n",
       "    x.observe(outputEl, {childList: true});\n",
       "}}\n",
       "\n",
       "                        })\n",
       "                };\n",
       "                });\n",
       "            </script>\n",
       "        </div>"
      ]
     },
     "metadata": {},
     "output_type": "display_data"
    }
   ],
   "source": [
    "plot_model(nmf, plot = 'tsne')"
   ]
  },
  {
   "cell_type": "code",
   "execution_count": 18,
   "metadata": {},
   "outputs": [
    {
     "data": {
      "application/vnd.jupyter.widget-view+json": {
       "model_id": "c2a81d2c3824470eb56b102f20ad2624",
       "version_major": 2,
       "version_minor": 0
      },
      "text/plain": [
       "interactive(children=(ToggleButtons(description='Plot Type:', icons=('',), options=(('Frequency Plot', 'freque…"
      ]
     },
     "metadata": {},
     "output_type": "display_data"
    }
   ],
   "source": [
    "evaluate_model(lda)"
   ]
  },
  {
   "cell_type": "markdown",
   "metadata": {},
   "source": [
    "# 5. Assign Labels / Predict on new data"
   ]
  },
  {
   "cell_type": "code",
   "execution_count": 19,
   "metadata": {},
   "outputs": [
    {
     "data": {
      "text/html": [
       "<div>\n",
       "<style scoped>\n",
       "    .dataframe tbody tr th:only-of-type {\n",
       "        vertical-align: middle;\n",
       "    }\n",
       "\n",
       "    .dataframe tbody tr th {\n",
       "        vertical-align: top;\n",
       "    }\n",
       "\n",
       "    .dataframe thead th {\n",
       "        text-align: right;\n",
       "    }\n",
       "</style>\n",
       "<table border=\"1\" class=\"dataframe\">\n",
       "  <thead>\n",
       "    <tr style=\"text-align: right;\">\n",
       "      <th></th>\n",
       "      <th>country</th>\n",
       "      <th>en</th>\n",
       "      <th>gender</th>\n",
       "      <th>loan_amount</th>\n",
       "      <th>nonpayment</th>\n",
       "      <th>sector</th>\n",
       "      <th>status</th>\n",
       "      <th>Topic_0</th>\n",
       "      <th>Topic_1</th>\n",
       "      <th>Topic_2</th>\n",
       "      <th>Topic_3</th>\n",
       "      <th>Dominant_Topic</th>\n",
       "      <th>Perc_Dominant_Topic</th>\n",
       "    </tr>\n",
       "  </thead>\n",
       "  <tbody>\n",
       "    <tr>\n",
       "      <th>0</th>\n",
       "      <td>Dominican Republic</td>\n",
       "      <td>group woman look receive small loan take small...</td>\n",
       "      <td>F</td>\n",
       "      <td>1225</td>\n",
       "      <td>partner</td>\n",
       "      <td>Retail</td>\n",
       "      <td>0</td>\n",
       "      <td>0.255102</td>\n",
       "      <td>0.114688</td>\n",
       "      <td>0.627853</td>\n",
       "      <td>0.002357</td>\n",
       "      <td>Topic 2</td>\n",
       "      <td>0.63</td>\n",
       "    </tr>\n",
       "    <tr>\n",
       "      <th>1</th>\n",
       "      <td>Dominican Republic</td>\n",
       "      <td>walk forward group entrepreneur seek second lo...</td>\n",
       "      <td>F</td>\n",
       "      <td>1975</td>\n",
       "      <td>lender</td>\n",
       "      <td>Clothing</td>\n",
       "      <td>0</td>\n",
       "      <td>0.570880</td>\n",
       "      <td>0.332298</td>\n",
       "      <td>0.094765</td>\n",
       "      <td>0.002057</td>\n",
       "      <td>Topic 0</td>\n",
       "      <td>0.57</td>\n",
       "    </tr>\n",
       "    <tr>\n",
       "      <th>2</th>\n",
       "      <td>Dominican Republic</td>\n",
       "      <td>group people hope start business group look re...</td>\n",
       "      <td>F</td>\n",
       "      <td>2175</td>\n",
       "      <td>partner</td>\n",
       "      <td>Clothing</td>\n",
       "      <td>0</td>\n",
       "      <td>0.165148</td>\n",
       "      <td>0.044879</td>\n",
       "      <td>0.786944</td>\n",
       "      <td>0.003029</td>\n",
       "      <td>Topic 2</td>\n",
       "      <td>0.79</td>\n",
       "    </tr>\n",
       "    <tr>\n",
       "      <th>3</th>\n",
       "      <td>Dominican Republic</td>\n",
       "      <td>live group woman look receive first loan young...</td>\n",
       "      <td>F</td>\n",
       "      <td>1425</td>\n",
       "      <td>partner</td>\n",
       "      <td>Clothing</td>\n",
       "      <td>0</td>\n",
       "      <td>0.324298</td>\n",
       "      <td>0.075029</td>\n",
       "      <td>0.598386</td>\n",
       "      <td>0.002287</td>\n",
       "      <td>Topic 2</td>\n",
       "      <td>0.60</td>\n",
       "    </tr>\n",
       "    <tr>\n",
       "      <th>4</th>\n",
       "      <td>Dominican Republic</td>\n",
       "      <td>vive large group people hope take loan many se...</td>\n",
       "      <td>F</td>\n",
       "      <td>4025</td>\n",
       "      <td>partner</td>\n",
       "      <td>Food</td>\n",
       "      <td>0</td>\n",
       "      <td>0.212560</td>\n",
       "      <td>0.152464</td>\n",
       "      <td>0.632607</td>\n",
       "      <td>0.002369</td>\n",
       "      <td>Topic 2</td>\n",
       "      <td>0.63</td>\n",
       "    </tr>\n",
       "  </tbody>\n",
       "</table>\n",
       "</div>"
      ],
      "text/plain": [
       "              country                                                 en  \\\n",
       "0  Dominican Republic  group woman look receive small loan take small...   \n",
       "1  Dominican Republic  walk forward group entrepreneur seek second lo...   \n",
       "2  Dominican Republic  group people hope start business group look re...   \n",
       "3  Dominican Republic  live group woman look receive first loan young...   \n",
       "4  Dominican Republic  vive large group people hope take loan many se...   \n",
       "\n",
       "  gender  loan_amount nonpayment    sector  status   Topic_0   Topic_1  \\\n",
       "0      F         1225    partner    Retail       0  0.255102  0.114688   \n",
       "1      F         1975     lender  Clothing       0  0.570880  0.332298   \n",
       "2      F         2175    partner  Clothing       0  0.165148  0.044879   \n",
       "3      F         1425    partner  Clothing       0  0.324298  0.075029   \n",
       "4      F         4025    partner      Food       0  0.212560  0.152464   \n",
       "\n",
       "    Topic_2   Topic_3 Dominant_Topic  Perc_Dominant_Topic  \n",
       "0  0.627853  0.002357        Topic 2                 0.63  \n",
       "1  0.094765  0.002057        Topic 0                 0.57  \n",
       "2  0.786944  0.003029        Topic 2                 0.79  \n",
       "3  0.598386  0.002287        Topic 2                 0.60  \n",
       "4  0.632607  0.002369        Topic 2                 0.63  "
      ]
     },
     "execution_count": 19,
     "metadata": {},
     "output_type": "execute_result"
    }
   ],
   "source": [
    "results = assign_model(lda)\n",
    "results.head()"
   ]
  },
  {
   "cell_type": "markdown",
   "metadata": {},
   "source": [
    "# Learning Resources:\n",
    "- PyCaret NLP Module : https://www.pycaret.org/nlp\n",
    "- NLP Tutorial (Level Beginner) : https://www.pycaret.org/nlp101\n",
    "- NLP Tutorial (Level Intermediate) : https://www.pycaret.org/nlp102\n",
    "- Topic Modeling in PyCaret (Video Tutorial) : https://www.youtube.com/watch?v=G6ShuoM3T1M"
   ]
  }
 ],
 "metadata": {
  "kernelspec": {
   "display_name": "Python 3",
   "language": "python",
   "name": "python3"
  },
  "language_info": {
   "codemirror_mode": {
    "name": "ipython",
    "version": 3
   },
   "file_extension": ".py",
   "mimetype": "text/x-python",
   "name": "python",
   "nbconvert_exporter": "python",
   "pygments_lexer": "ipython3",
   "version": "3.7.4"
  }
 },
 "nbformat": 4,
 "nbformat_minor": 2
}
